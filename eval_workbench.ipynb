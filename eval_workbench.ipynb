{
 "cells": [
  {
   "cell_type": "code",
   "outputs": [
    {
     "name": "stdout",
     "output_type": "stream",
     "text": [
      "/Users/dcampbel/Nextcloud/Repositories/masterclassRetrieval\n"
     ]
    }
   ],
   "source": [
    "import pandas as pd\n",
    "import os\n",
    "\n",
    "print(os.getcwd())"
   ],
   "metadata": {
    "collapsed": false,
    "ExecuteTime": {
     "end_time": "2024-06-18T21:25:19.419978Z",
     "start_time": "2024-06-18T21:25:19.416527Z"
    }
   },
   "id": "200714f621cf8183",
   "execution_count": 6
  },
  {
   "cell_type": "markdown",
   "source": [],
   "metadata": {
    "collapsed": false
   },
   "id": "f7197c811a9f3dfb"
  },
  {
   "cell_type": "markdown",
   "source": [
    "**Eval Chain Testing - Generation of Eval Dataset (reduced to 10)**"
   ],
   "metadata": {
    "collapsed": false
   },
   "id": "de0523981168e1c5"
  },
  {
   "cell_type": "code",
   "outputs": [
    {
     "ename": "RuntimeError",
     "evalue": "Error loading util/live_dataset.csv",
     "output_type": "error",
     "traceback": [
      "\u001B[0;31m---------------------------------------------------------------------------\u001B[0m",
      "\u001B[0;31mError\u001B[0m                                     Traceback (most recent call last)",
      "File \u001B[0;32m~/Nextcloud/Repositories/masterclassRetrieval/.venv/lib/python3.11/site-packages/langchain_community/document_loaders/csv_loader.py:68\u001B[0m, in \u001B[0;36mCSVLoader.lazy_load\u001B[0;34m(self)\u001B[0m\n\u001B[1;32m     67\u001B[0m     \u001B[38;5;28;01mwith\u001B[39;00m \u001B[38;5;28mopen\u001B[39m(\u001B[38;5;28mself\u001B[39m\u001B[38;5;241m.\u001B[39mfile_path, newline\u001B[38;5;241m=\u001B[39m\u001B[38;5;124m\"\u001B[39m\u001B[38;5;124m\"\u001B[39m, encoding\u001B[38;5;241m=\u001B[39m\u001B[38;5;28mself\u001B[39m\u001B[38;5;241m.\u001B[39mencoding) \u001B[38;5;28;01mas\u001B[39;00m csvfile:\n\u001B[0;32m---> 68\u001B[0m         \u001B[38;5;28;01myield from\u001B[39;00m \u001B[38;5;28mself\u001B[39m\u001B[38;5;241m.\u001B[39m__read_file(csvfile)\n\u001B[1;32m     69\u001B[0m \u001B[38;5;28;01mexcept\u001B[39;00m \u001B[38;5;167;01mUnicodeDecodeError\u001B[39;00m \u001B[38;5;28;01mas\u001B[39;00m e:\n",
      "File \u001B[0;32m~/Nextcloud/Repositories/masterclassRetrieval/.venv/lib/python3.11/site-packages/langchain_community/document_loaders/csv_loader.py:88\u001B[0m, in \u001B[0;36mCSVLoader.__read_file\u001B[0;34m(self, csvfile)\u001B[0m\n\u001B[1;32m     87\u001B[0m csv_reader \u001B[38;5;241m=\u001B[39m csv\u001B[38;5;241m.\u001B[39mDictReader(csvfile, \u001B[38;5;241m*\u001B[39m\u001B[38;5;241m*\u001B[39m\u001B[38;5;28mself\u001B[39m\u001B[38;5;241m.\u001B[39mcsv_args)\n\u001B[0;32m---> 88\u001B[0m \u001B[43m\u001B[49m\u001B[38;5;28;43;01mfor\u001B[39;49;00m\u001B[43m \u001B[49m\u001B[43mi\u001B[49m\u001B[43m,\u001B[49m\u001B[43m \u001B[49m\u001B[43mrow\u001B[49m\u001B[43m \u001B[49m\u001B[38;5;129;43;01min\u001B[39;49;00m\u001B[43m \u001B[49m\u001B[38;5;28;43menumerate\u001B[39;49m\u001B[43m(\u001B[49m\u001B[43mcsv_reader\u001B[49m\u001B[43m)\u001B[49m\u001B[43m:\u001B[49m\n\u001B[1;32m     89\u001B[0m \u001B[43m    \u001B[49m\u001B[38;5;28;43;01mtry\u001B[39;49;00m\u001B[43m:\u001B[49m\n",
      "File \u001B[0;32m/Library/Frameworks/Python.framework/Versions/3.11/lib/python3.11/csv.py:111\u001B[0m, in \u001B[0;36mDictReader.__next__\u001B[0;34m(self)\u001B[0m\n\u001B[1;32m    110\u001B[0m     \u001B[38;5;28mself\u001B[39m\u001B[38;5;241m.\u001B[39mfieldnames\n\u001B[0;32m--> 111\u001B[0m row \u001B[38;5;241m=\u001B[39m \u001B[38;5;28mnext\u001B[39m(\u001B[38;5;28mself\u001B[39m\u001B[38;5;241m.\u001B[39mreader)\n\u001B[1;32m    112\u001B[0m \u001B[38;5;28mself\u001B[39m\u001B[38;5;241m.\u001B[39mline_num \u001B[38;5;241m=\u001B[39m \u001B[38;5;28mself\u001B[39m\u001B[38;5;241m.\u001B[39mreader\u001B[38;5;241m.\u001B[39mline_num\n",
      "\u001B[0;31mError\u001B[0m: field larger than field limit (131072)",
      "\nThe above exception was the direct cause of the following exception:\n",
      "\u001B[0;31mRuntimeError\u001B[0m                              Traceback (most recent call last)",
      "Cell \u001B[0;32mIn[4], line 3\u001B[0m\n\u001B[1;32m      1\u001B[0m \u001B[38;5;28;01mfrom\u001B[39;00m \u001B[38;5;21;01mapp\u001B[39;00m\u001B[38;5;21;01m.\u001B[39;00m\u001B[38;5;21;01meval\u001B[39;00m \u001B[38;5;28;01mimport\u001B[39;00m build_synthetic_template\n\u001B[0;32m----> 3\u001B[0m test_dataset \u001B[38;5;241m=\u001B[39m \u001B[43mbuild_synthetic_template\u001B[49m\u001B[43m(\u001B[49m\u001B[38;5;124;43m\"\u001B[39;49m\u001B[38;5;124;43mlive\u001B[39;49m\u001B[38;5;124;43m\"\u001B[39;49m\u001B[43m)\u001B[49m\n",
      "File \u001B[0;32m~/Nextcloud/Repositories/masterclassRetrieval/app/eval.py:29\u001B[0m, in \u001B[0;36mbuild_synthetic_template\u001B[0;34m(index_name, use_existing)\u001B[0m\n\u001B[1;32m     25\u001B[0m     print(f\"Eval template set for {index_name} already exists. Skipping...\")\n\u001B[1;32m     27\u001B[0m     return Dataset.from_json(f'util/{index_name}_template_eval.json')\n\u001B[1;32m     28\u001B[0m else:\n\u001B[0;32m---> 29\u001B[0m     # Load the contents from the dataset\n\u001B[1;32m     30\u001B[0m     loader = CSVLoader(f\"util/{index_name}_dataset.csv\", metadata_columns=['int_id', 'title', 'kind'])\n\u001B[1;32m     31\u001B[0m     documents = loader.load()\n",
      "File \u001B[0;32m~/Nextcloud/Repositories/masterclassRetrieval/.venv/lib/python3.11/site-packages/langchain_core/document_loaders/base.py:29\u001B[0m, in \u001B[0;36mBaseLoader.load\u001B[0;34m(self)\u001B[0m\n\u001B[1;32m     27\u001B[0m \u001B[38;5;28;01mdef\u001B[39;00m \u001B[38;5;21mload\u001B[39m(\u001B[38;5;28mself\u001B[39m) \u001B[38;5;241m-\u001B[39m\u001B[38;5;241m>\u001B[39m List[Document]:\n\u001B[1;32m     28\u001B[0m \u001B[38;5;250m    \u001B[39m\u001B[38;5;124;03m\"\"\"Load data into Document objects.\"\"\"\u001B[39;00m\n\u001B[0;32m---> 29\u001B[0m     \u001B[38;5;28;01mreturn\u001B[39;00m \u001B[38;5;28;43mlist\u001B[39;49m\u001B[43m(\u001B[49m\u001B[38;5;28;43mself\u001B[39;49m\u001B[38;5;241;43m.\u001B[39;49m\u001B[43mlazy_load\u001B[49m\u001B[43m(\u001B[49m\u001B[43m)\u001B[49m\u001B[43m)\u001B[49m\n",
      "File \u001B[0;32m~/Nextcloud/Repositories/masterclassRetrieval/.venv/lib/python3.11/site-packages/langchain_community/document_loaders/csv_loader.py:84\u001B[0m, in \u001B[0;36mCSVLoader.lazy_load\u001B[0;34m(self)\u001B[0m\n\u001B[1;32m     82\u001B[0m         \u001B[38;5;28;01mraise\u001B[39;00m \u001B[38;5;167;01mRuntimeError\u001B[39;00m(\u001B[38;5;124mf\u001B[39m\u001B[38;5;124m\"\u001B[39m\u001B[38;5;124mError loading \u001B[39m\u001B[38;5;132;01m{\u001B[39;00m\u001B[38;5;28mself\u001B[39m\u001B[38;5;241m.\u001B[39mfile_path\u001B[38;5;132;01m}\u001B[39;00m\u001B[38;5;124m\"\u001B[39m) \u001B[38;5;28;01mfrom\u001B[39;00m \u001B[38;5;21;01me\u001B[39;00m\n\u001B[1;32m     83\u001B[0m \u001B[38;5;28;01mexcept\u001B[39;00m \u001B[38;5;167;01mException\u001B[39;00m \u001B[38;5;28;01mas\u001B[39;00m e:\n\u001B[0;32m---> 84\u001B[0m     \u001B[38;5;28;01mraise\u001B[39;00m \u001B[38;5;167;01mRuntimeError\u001B[39;00m(\u001B[38;5;124mf\u001B[39m\u001B[38;5;124m\"\u001B[39m\u001B[38;5;124mError loading \u001B[39m\u001B[38;5;132;01m{\u001B[39;00m\u001B[38;5;28mself\u001B[39m\u001B[38;5;241m.\u001B[39mfile_path\u001B[38;5;132;01m}\u001B[39;00m\u001B[38;5;124m\"\u001B[39m) \u001B[38;5;28;01mfrom\u001B[39;00m \u001B[38;5;21;01me\u001B[39;00m\n",
      "\u001B[0;31mRuntimeError\u001B[0m: Error loading util/live_dataset.csv"
     ]
    }
   ],
   "source": [
    "from app.eval import build_synthetic_template\n",
    "\n",
    "test_dataset = build_synthetic_template(\"live\")"
   ],
   "metadata": {
    "collapsed": false,
    "ExecuteTime": {
     "end_time": "2024-06-18T23:24:57.276864Z",
     "start_time": "2024-06-18T23:24:57.048009Z"
    }
   },
   "id": "9d2f24a9e5ccb888",
   "execution_count": 4
  },
  {
   "cell_type": "code",
   "outputs": [],
   "source": [
    "dataframe = test_dataset.to_pandas()"
   ],
   "metadata": {
    "collapsed": false,
    "ExecuteTime": {
     "end_time": "2024-06-18T21:24:49.066306Z",
     "start_time": "2024-06-18T21:24:49.059123Z"
    }
   },
   "id": "f63146cb7455c8e6",
   "execution_count": 3
  },
  {
   "cell_type": "code",
   "outputs": [
    {
     "data": {
      "text/plain": "                                            question  \\\n0  What is the role of Vox Media in the productio...   \n1  Who hosts the weekly public radio show \"This A...   \n2  How is the melting of polar ice affecting sea ...   \n3  How does Freakonomics explore the hidden side ...   \n4  How does George Orwell's '1984' explore the th...   \n\n                                            contexts  \\\n0  [content: Explained is a fascinating docuserie...   \n1  [content: This American Life is a weekly publi...   \n2  [content: This comprehensive article published...   \n3  [content: Freakonomics, a groundbreaking colla...   \n4  [content: George Orwell’s '1984', published in...   \n\n                                        ground_truth evolution_type  \\\n0     Vox Media produced the docuseries 'Explained'.         simple   \n1  The weekly public radio show 'This American Li...         simple   \n2  The melting of polar ice is causing sea levels...         simple   \n3  Freakonomics explores the hidden side of every...         simple   \n4  George Orwell's '1984' explores the themes of ...         simple   \n\n                                            metadata  episode_done  \n0  [{'int_id': '108', 'kind': 'TV Show', 'row': 7...          True  \n1  [{'int_id': '109', 'kind': 'Podcast', 'row': 8...          True  \n2  [{'int_id': '105', 'kind': 'Article', 'row': 4...          True  \n3  [{'int_id': '107', 'kind': 'Book', 'row': 6, '...          True  \n4  [{'int_id': '103', 'kind': 'Book', 'row': 2, '...          True  ",
      "text/html": "<div>\n<style scoped>\n    .dataframe tbody tr th:only-of-type {\n        vertical-align: middle;\n    }\n\n    .dataframe tbody tr th {\n        vertical-align: top;\n    }\n\n    .dataframe thead th {\n        text-align: right;\n    }\n</style>\n<table border=\"1\" class=\"dataframe\">\n  <thead>\n    <tr style=\"text-align: right;\">\n      <th></th>\n      <th>question</th>\n      <th>contexts</th>\n      <th>ground_truth</th>\n      <th>evolution_type</th>\n      <th>metadata</th>\n      <th>episode_done</th>\n    </tr>\n  </thead>\n  <tbody>\n    <tr>\n      <th>0</th>\n      <td>What is the role of Vox Media in the productio...</td>\n      <td>[content: Explained is a fascinating docuserie...</td>\n      <td>Vox Media produced the docuseries 'Explained'.</td>\n      <td>simple</td>\n      <td>[{'int_id': '108', 'kind': 'TV Show', 'row': 7...</td>\n      <td>True</td>\n    </tr>\n    <tr>\n      <th>1</th>\n      <td>Who hosts the weekly public radio show \"This A...</td>\n      <td>[content: This American Life is a weekly publi...</td>\n      <td>The weekly public radio show 'This American Li...</td>\n      <td>simple</td>\n      <td>[{'int_id': '109', 'kind': 'Podcast', 'row': 8...</td>\n      <td>True</td>\n    </tr>\n    <tr>\n      <th>2</th>\n      <td>How is the melting of polar ice affecting sea ...</td>\n      <td>[content: This comprehensive article published...</td>\n      <td>The melting of polar ice is causing sea levels...</td>\n      <td>simple</td>\n      <td>[{'int_id': '105', 'kind': 'Article', 'row': 4...</td>\n      <td>True</td>\n    </tr>\n    <tr>\n      <th>3</th>\n      <td>How does Freakonomics explore the hidden side ...</td>\n      <td>[content: Freakonomics, a groundbreaking colla...</td>\n      <td>Freakonomics explores the hidden side of every...</td>\n      <td>simple</td>\n      <td>[{'int_id': '107', 'kind': 'Book', 'row': 6, '...</td>\n      <td>True</td>\n    </tr>\n    <tr>\n      <th>4</th>\n      <td>How does George Orwell's '1984' explore the th...</td>\n      <td>[content: George Orwell’s '1984', published in...</td>\n      <td>George Orwell's '1984' explores the themes of ...</td>\n      <td>simple</td>\n      <td>[{'int_id': '103', 'kind': 'Book', 'row': 2, '...</td>\n      <td>True</td>\n    </tr>\n  </tbody>\n</table>\n</div>"
     },
     "execution_count": 4,
     "metadata": {},
     "output_type": "execute_result"
    }
   ],
   "source": [
    "dataframe.head()"
   ],
   "metadata": {
    "collapsed": false,
    "ExecuteTime": {
     "end_time": "2024-06-18T21:24:51.393175Z",
     "start_time": "2024-06-18T21:24:51.360998Z"
    }
   },
   "id": "65d937bdcbfef857",
   "execution_count": 4
  },
  {
   "cell_type": "markdown",
   "source": [
    "**Eval Chain Testing - Generation of Answers to Eval Dataset**"
   ],
   "metadata": {
    "collapsed": false
   },
   "id": "615e74c4c4a7ccd7"
  },
  {
   "cell_type": "code",
   "outputs": [
    {
     "data": {
      "text/plain": "                                            question  \\\n0  What is the role of Vox Media in the productio...   \n1  Who hosts the weekly public radio show \"This A...   \n2  How is the melting of polar ice affecting sea ...   \n3  How does Freakonomics explore the hidden side ...   \n4  How does George Orwell's '1984' explore the th...   \n\n                                            contexts  \\\n0  ['content: Explained is a fascinating docuseri...   \n1  [\"content: This American Life is a weekly publ...   \n2  [\"content: This comprehensive article publishe...   \n3  ['content: Freakonomics, a groundbreaking coll...   \n4  [\"content: George Orwell’s '1984', published i...   \n\n                                        ground_truth evolution_type  \\\n0     Vox Media produced the docuseries 'Explained'.         simple   \n1  The weekly public radio show 'This American Li...         simple   \n2  The melting of polar ice is causing sea levels...         simple   \n3  Freakonomics explores the hidden side of every...         simple   \n4  George Orwell's '1984' explores the themes of ...         simple   \n\n                                            metadata  episode_done  \n0  [{'int_id': '108', 'kind': 'TV Show', 'row': 7...          True  \n1  [{'int_id': '109', 'kind': 'Podcast', 'row': 8...          True  \n2  [{'int_id': '105', 'kind': 'Article', 'row': 4...          True  \n3  [{'int_id': '107', 'kind': 'Book', 'row': 6, '...          True  \n4  [{'int_id': '103', 'kind': 'Book', 'row': 2, '...          True  ",
      "text/html": "<div>\n<style scoped>\n    .dataframe tbody tr th:only-of-type {\n        vertical-align: middle;\n    }\n\n    .dataframe tbody tr th {\n        vertical-align: top;\n    }\n\n    .dataframe thead th {\n        text-align: right;\n    }\n</style>\n<table border=\"1\" class=\"dataframe\">\n  <thead>\n    <tr style=\"text-align: right;\">\n      <th></th>\n      <th>question</th>\n      <th>contexts</th>\n      <th>ground_truth</th>\n      <th>evolution_type</th>\n      <th>metadata</th>\n      <th>episode_done</th>\n    </tr>\n  </thead>\n  <tbody>\n    <tr>\n      <th>0</th>\n      <td>What is the role of Vox Media in the productio...</td>\n      <td>['content: Explained is a fascinating docuseri...</td>\n      <td>Vox Media produced the docuseries 'Explained'.</td>\n      <td>simple</td>\n      <td>[{'int_id': '108', 'kind': 'TV Show', 'row': 7...</td>\n      <td>True</td>\n    </tr>\n    <tr>\n      <th>1</th>\n      <td>Who hosts the weekly public radio show \"This A...</td>\n      <td>[\"content: This American Life is a weekly publ...</td>\n      <td>The weekly public radio show 'This American Li...</td>\n      <td>simple</td>\n      <td>[{'int_id': '109', 'kind': 'Podcast', 'row': 8...</td>\n      <td>True</td>\n    </tr>\n    <tr>\n      <th>2</th>\n      <td>How is the melting of polar ice affecting sea ...</td>\n      <td>[\"content: This comprehensive article publishe...</td>\n      <td>The melting of polar ice is causing sea levels...</td>\n      <td>simple</td>\n      <td>[{'int_id': '105', 'kind': 'Article', 'row': 4...</td>\n      <td>True</td>\n    </tr>\n    <tr>\n      <th>3</th>\n      <td>How does Freakonomics explore the hidden side ...</td>\n      <td>['content: Freakonomics, a groundbreaking coll...</td>\n      <td>Freakonomics explores the hidden side of every...</td>\n      <td>simple</td>\n      <td>[{'int_id': '107', 'kind': 'Book', 'row': 6, '...</td>\n      <td>True</td>\n    </tr>\n    <tr>\n      <th>4</th>\n      <td>How does George Orwell's '1984' explore the th...</td>\n      <td>[\"content: George Orwell’s '1984', published i...</td>\n      <td>George Orwell's '1984' explores the themes of ...</td>\n      <td>simple</td>\n      <td>[{'int_id': '103', 'kind': 'Book', 'row': 2, '...</td>\n      <td>True</td>\n    </tr>\n  </tbody>\n</table>\n</div>"
     },
     "execution_count": 10,
     "metadata": {},
     "output_type": "execute_result"
    }
   ],
   "source": [
    "# restructure the dataframe to not have \n",
    "eval_template_dataframe = pd.read_csv('util/test_template_eval.csv')\n",
    "eval_template_dataframe.head()\n"
   ],
   "metadata": {
    "collapsed": false,
    "ExecuteTime": {
     "end_time": "2024-06-18T21:34:48.458948Z",
     "start_time": "2024-06-18T21:34:48.449630Z"
    }
   },
   "id": "297815012f4dee2e",
   "execution_count": 10
  },
  {
   "cell_type": "code",
   "outputs": [
    {
     "name": "stdout",
     "output_type": "stream",
     "text": [
      "['What is the role of Vox Media in the production of the docuseries \"Explained\"?', 'Who hosts the weekly public radio show \"This American Life\"?', 'How is the melting of polar ice affecting sea levels and global climate patterns?', 'How does Freakonomics explore the hidden side of everything?', \"How does George Orwell's '1984' explore the themes of surveillance, truth manipulation, and state control?\", 'How does global warming raise sea levels?', \"Who's the host of Vox Media's Netflix docuseries?\", \"What's the danger in '1984' from Winston's rebellion and Big Brother's surveillance?\", \"How does Walter White's illegal biz impact his family life?\", 'How do storytelling and themes in \"This American Life\" and \"Serial\" boost their acclaim?']\n"
     ]
    }
   ],
   "source": [
    "questions = eval_template_dataframe['question'].tolist()\n",
    "\n",
    "input_dataframe = pd.DataFrame({\"input\": questions})\n",
    "input_dataframe.head()"
   ],
   "metadata": {
    "collapsed": false,
    "ExecuteTime": {
     "end_time": "2024-06-18T21:37:36.986173Z",
     "start_time": "2024-06-18T21:37:36.981791Z"
    }
   },
   "id": "3f810f4ce3a3d502",
   "execution_count": 15
  },
  {
   "cell_type": "markdown",
   "source": [
    "*Generating Responses*"
   ],
   "metadata": {
    "collapsed": false
   },
   "id": "3d183f6221c9f0fa"
  },
  {
   "cell_type": "code",
   "outputs": [
    {
     "name": "stdout",
     "output_type": "stream",
     "text": [
      "                                               input  \\\n",
      "0  What is the role of Vox Media in the productio...   \n",
      "1  Who hosts the weekly public radio show \"This A...   \n",
      "2  How is the melting of polar ice affecting sea ...   \n",
      "3  How does Freakonomics explore the hidden side ...   \n",
      "4  How does George Orwell's '1984' explore the th...   \n",
      "\n",
      "                                              output  \n",
      "0  [page_content='Explained is a fascinating docu...  \n",
      "1  [page_content='This American Life is a weekly ...  \n",
      "2  [page_content='Featuring insights from leading...  \n",
      "3  [page_content='Freakonomics, a groundbreaking ...  \n",
      "4  [page_content=\"Living under rigid control, Win...  \n"
     ]
    }
   ],
   "source": [
    "from app.generateResponses import create_response_dataframe\n",
    "\n",
    "output_dataframe = create_response_dataframe(\"test\",input_dataframe)\n",
    "\n",
    "output_dataframe.head()"
   ],
   "metadata": {
    "collapsed": false,
    "ExecuteTime": {
     "end_time": "2024-06-18T21:37:47.922952Z",
     "start_time": "2024-06-18T21:37:43.269568Z"
    }
   },
   "id": "4f9f3ea07d70c112",
   "execution_count": 16
  },
  {
   "cell_type": "markdown",
   "source": [
    "**Eval Chain Testing - Format Final Dataset**"
   ],
   "metadata": {
    "collapsed": false
   },
   "id": "9111135eeb775cbd"
  },
  {
   "cell_type": "code",
   "outputs": [],
   "source": [
    "answers = output_dataframe[\"output\"].tolist()"
   ],
   "metadata": {
    "collapsed": false,
    "ExecuteTime": {
     "end_time": "2024-06-18T22:18:02.425696Z",
     "start_time": "2024-06-18T22:18:02.422371Z"
    }
   },
   "id": "13df17d6ef3fab7b",
   "execution_count": 48
  },
  {
   "cell_type": "code",
   "outputs": [
    {
     "data": {
      "text/plain": "                                            question  \\\n0  What is the role of Vox Media in the productio...   \n1  Who hosts the weekly public radio show \"This A...   \n2  How is the melting of polar ice affecting sea ...   \n3  How does Freakonomics explore the hidden side ...   \n4  How does George Orwell's '1984' explore the th...   \n\n                                      synth_contexts  \\\n0  ['content: Explained is a fascinating docuseri...   \n1  [\"content: This American Life is a weekly publ...   \n2  [\"content: This comprehensive article publishe...   \n3  ['content: Freakonomics, a groundbreaking coll...   \n4  [\"content: George Orwell’s '1984', published i...   \n\n                                        ground_truth evolution_type  \\\n0     Vox Media produced the docuseries 'Explained'.         simple   \n1  The weekly public radio show 'This American Li...         simple   \n2  The melting of polar ice is causing sea levels...         simple   \n3  Freakonomics explores the hidden side of every...         simple   \n4  George Orwell's '1984' explores the themes of ...         simple   \n\n                                      synth_metadata  episode_done  \n0  [{'int_id': '108', 'kind': 'TV Show', 'row': 7...          True  \n1  [{'int_id': '109', 'kind': 'Podcast', 'row': 8...          True  \n2  [{'int_id': '105', 'kind': 'Article', 'row': 4...          True  \n3  [{'int_id': '107', 'kind': 'Book', 'row': 6, '...          True  \n4  [{'int_id': '103', 'kind': 'Book', 'row': 2, '...          True  ",
      "text/html": "<div>\n<style scoped>\n    .dataframe tbody tr th:only-of-type {\n        vertical-align: middle;\n    }\n\n    .dataframe tbody tr th {\n        vertical-align: top;\n    }\n\n    .dataframe thead th {\n        text-align: right;\n    }\n</style>\n<table border=\"1\" class=\"dataframe\">\n  <thead>\n    <tr style=\"text-align: right;\">\n      <th></th>\n      <th>question</th>\n      <th>synth_contexts</th>\n      <th>ground_truth</th>\n      <th>evolution_type</th>\n      <th>synth_metadata</th>\n      <th>episode_done</th>\n    </tr>\n  </thead>\n  <tbody>\n    <tr>\n      <th>0</th>\n      <td>What is the role of Vox Media in the productio...</td>\n      <td>['content: Explained is a fascinating docuseri...</td>\n      <td>Vox Media produced the docuseries 'Explained'.</td>\n      <td>simple</td>\n      <td>[{'int_id': '108', 'kind': 'TV Show', 'row': 7...</td>\n      <td>True</td>\n    </tr>\n    <tr>\n      <th>1</th>\n      <td>Who hosts the weekly public radio show \"This A...</td>\n      <td>[\"content: This American Life is a weekly publ...</td>\n      <td>The weekly public radio show 'This American Li...</td>\n      <td>simple</td>\n      <td>[{'int_id': '109', 'kind': 'Podcast', 'row': 8...</td>\n      <td>True</td>\n    </tr>\n    <tr>\n      <th>2</th>\n      <td>How is the melting of polar ice affecting sea ...</td>\n      <td>[\"content: This comprehensive article publishe...</td>\n      <td>The melting of polar ice is causing sea levels...</td>\n      <td>simple</td>\n      <td>[{'int_id': '105', 'kind': 'Article', 'row': 4...</td>\n      <td>True</td>\n    </tr>\n    <tr>\n      <th>3</th>\n      <td>How does Freakonomics explore the hidden side ...</td>\n      <td>['content: Freakonomics, a groundbreaking coll...</td>\n      <td>Freakonomics explores the hidden side of every...</td>\n      <td>simple</td>\n      <td>[{'int_id': '107', 'kind': 'Book', 'row': 6, '...</td>\n      <td>True</td>\n    </tr>\n    <tr>\n      <th>4</th>\n      <td>How does George Orwell's '1984' explore the th...</td>\n      <td>[\"content: George Orwell’s '1984', published i...</td>\n      <td>George Orwell's '1984' explores the themes of ...</td>\n      <td>simple</td>\n      <td>[{'int_id': '103', 'kind': 'Book', 'row': 2, '...</td>\n      <td>True</td>\n    </tr>\n  </tbody>\n</table>\n</div>"
     },
     "execution_count": 49,
     "metadata": {},
     "output_type": "execute_result"
    }
   ],
   "source": [
    "x = eval_template_dataframe\n",
    "\n",
    "x.rename(columns={'contexts': 'synth_contexts', 'metadata': 'synth_metadata'}, inplace=True)\n",
    "x.head()"
   ],
   "metadata": {
    "collapsed": false,
    "ExecuteTime": {
     "end_time": "2024-06-18T22:18:03.798210Z",
     "start_time": "2024-06-18T22:18:03.791378Z"
    }
   },
   "id": "f5886024969285ed",
   "execution_count": 49
  },
  {
   "cell_type": "code",
   "outputs": [
    {
     "name": "stdout",
     "output_type": "stream",
     "text": [
      "Explained is a fascinating docuseries produced by Vox Media and hosted by Emma Stone, which premiered on Netflix in 2019.\n",
      "<class 'list'>\n",
      "[Document(page_content='Explained is a fascinating docuseries produced by Vox Media and hosted by Emma Stone, which premiered on Netflix in 2019.', metadata={'int_id': 108.0, 'kind': 'TV Show', 'title': 'The Mind'}), Document(page_content='Featuring interviews with leading scientists and researchers, the show is packed with insightful animations and real-life experiments that illuminate how our brains function and shape our experiences and behaviors.', metadata={'int_id': 108.0, 'kind': 'TV Show', 'title': 'The Mind'}), Document(page_content=\"The show's storytelling approach is distinct, giving voices to everyday people and exploring American life with empathy, humor, and a deep respect for different perspectives.\", metadata={'int_id': 109.0, 'kind': 'Podcast', 'title': 'This American Life'})]\n",
      "page_content='Explained is a fascinating docuseries produced by Vox Media and hosted by Emma Stone, which premiered on Netflix in 2019.' metadata={'int_id': 108.0, 'kind': 'TV Show', 'title': 'The Mind'}\n",
      "Explained is a fascinating docuseries produced by Vox Media and hosted by Emma Stone, which premiered on Netflix in 2019.\n",
      "{'int_id': 108.0, 'kind': 'TV Show', 'title': 'The Mind'}\n",
      "page_content='Featuring interviews with leading scientists and researchers, the show is packed with insightful animations and real-life experiments that illuminate how our brains function and shape our experiences and behaviors.' metadata={'int_id': 108.0, 'kind': 'TV Show', 'title': 'The Mind'}\n",
      "Featuring interviews with leading scientists and researchers, the show is packed with insightful animations and real-life experiments that illuminate how our brains function and shape our experiences and behaviors.\n",
      "{'int_id': 108.0, 'kind': 'TV Show', 'title': 'The Mind'}\n",
      "page_content=\"The show's storytelling approach is distinct, giving voices to everyday people and exploring American life with empathy, humor, and a deep respect for different perspectives.\" metadata={'int_id': 109.0, 'kind': 'Podcast', 'title': 'This American Life'}\n",
      "The show's storytelling approach is distinct, giving voices to everyday people and exploring American life with empathy, humor, and a deep respect for different perspectives.\n",
      "{'int_id': 109.0, 'kind': 'Podcast', 'title': 'This American Life'}\n",
      "[Document(page_content='This American Life is a weekly public radio show broadcast on multiple stations across the United States and internationally.', metadata={'int_id': 109.0, 'kind': 'Podcast', 'title': 'This American Life'}), Document(page_content='Hosted by Ira Glass, it is one of the most popular and revered podcasts available.', metadata={'int_id': 109.0, 'kind': 'Podcast', 'title': 'This American Life'}), Document(page_content='Since its inception in 1995, This American Life has won several prestigious awards and has been a frontrunner in podcast innovation, impacting how stories are told in audio format.', metadata={'int_id': 109.0, 'kind': 'Podcast', 'title': 'This American Life'})]\n",
      "page_content='This American Life is a weekly public radio show broadcast on multiple stations across the United States and internationally.' metadata={'int_id': 109.0, 'kind': 'Podcast', 'title': 'This American Life'}\n",
      "This American Life is a weekly public radio show broadcast on multiple stations across the United States and internationally.\n",
      "{'int_id': 109.0, 'kind': 'Podcast', 'title': 'This American Life'}\n",
      "page_content='Hosted by Ira Glass, it is one of the most popular and revered podcasts available.' metadata={'int_id': 109.0, 'kind': 'Podcast', 'title': 'This American Life'}\n",
      "Hosted by Ira Glass, it is one of the most popular and revered podcasts available.\n",
      "{'int_id': 109.0, 'kind': 'Podcast', 'title': 'This American Life'}\n",
      "page_content='Since its inception in 1995, This American Life has won several prestigious awards and has been a frontrunner in podcast innovation, impacting how stories are told in audio format.' metadata={'int_id': 109.0, 'kind': 'Podcast', 'title': 'This American Life'}\n",
      "Since its inception in 1995, This American Life has won several prestigious awards and has been a frontrunner in podcast innovation, impacting how stories are told in audio format.\n",
      "{'int_id': 109.0, 'kind': 'Podcast', 'title': 'This American Life'}\n",
      "[Document(page_content='Featuring insights from leading climatologists, the article explores how rising global temperatures are leading to the rapid melting of polar ice, which in turn causes sea levels to rise and alters global climate patterns.', metadata={'int_id': 105.0, 'kind': 'Article', 'title': 'The Effects of Climate Change on the Polar Ice Caps'}), Document(page_content=\"This comprehensive article published in 'Science Daily' delves into the ongoing effects of climate change on polar ice caps.\", metadata={'int_id': 105.0, 'kind': 'Article', 'title': 'The Effects of Climate Change on the Polar Ice Caps'}), Document(page_content='The piece also discusses the consequences of these changes for wildlife and human populations, particularly those living in coastal regions and dependent on ice ecosystems.', metadata={'int_id': 105.0, 'kind': 'Article', 'title': 'The Effects of Climate Change on the Polar Ice Caps'})]\n",
      "page_content='Featuring insights from leading climatologists, the article explores how rising global temperatures are leading to the rapid melting of polar ice, which in turn causes sea levels to rise and alters global climate patterns.' metadata={'int_id': 105.0, 'kind': 'Article', 'title': 'The Effects of Climate Change on the Polar Ice Caps'}\n",
      "Featuring insights from leading climatologists, the article explores how rising global temperatures are leading to the rapid melting of polar ice, which in turn causes sea levels to rise and alters global climate patterns.\n",
      "{'int_id': 105.0, 'kind': 'Article', 'title': 'The Effects of Climate Change on the Polar Ice Caps'}\n",
      "page_content=\"This comprehensive article published in 'Science Daily' delves into the ongoing effects of climate change on polar ice caps.\" metadata={'int_id': 105.0, 'kind': 'Article', 'title': 'The Effects of Climate Change on the Polar Ice Caps'}\n",
      "This comprehensive article published in 'Science Daily' delves into the ongoing effects of climate change on polar ice caps.\n",
      "{'int_id': 105.0, 'kind': 'Article', 'title': 'The Effects of Climate Change on the Polar Ice Caps'}\n",
      "page_content='The piece also discusses the consequences of these changes for wildlife and human populations, particularly those living in coastal regions and dependent on ice ecosystems.' metadata={'int_id': 105.0, 'kind': 'Article', 'title': 'The Effects of Climate Change on the Polar Ice Caps'}\n",
      "The piece also discusses the consequences of these changes for wildlife and human populations, particularly those living in coastal regions and dependent on ice ecosystems.\n",
      "{'int_id': 105.0, 'kind': 'Article', 'title': 'The Effects of Climate Change on the Polar Ice Caps'}\n",
      "[Document(page_content='Freakonomics, a groundbreaking collaboration between economist Steven D. Levitt and writer Stephen J. Dubner, explores the hidden side of everything, debunking conventional wisdom, and revealing how economic principles apply to everyday life.', metadata={'int_id': 107.0, 'kind': 'Book', 'title': 'Freakonomics'}), Document(page_content='First published in 2005, Freakonomics challenges readers to think differently about the world by combining economics with investigative journalism and witty insights. The book has since spawned a blog, a sequel, and a popular documentary, making it an influential piece in contemporary non-fiction literature.', metadata={'int_id': 107.0, 'kind': 'Book', 'title': 'Freakonomics'}), Document(page_content='Through compelling narratives, the authors analyze a range of topics from real estate to drug dealing, sumo wrestling, and the named dynamics behind baby names.', metadata={'int_id': 107.0, 'kind': 'Book', 'title': 'Freakonomics'})]\n",
      "page_content='Freakonomics, a groundbreaking collaboration between economist Steven D. Levitt and writer Stephen J. Dubner, explores the hidden side of everything, debunking conventional wisdom, and revealing how economic principles apply to everyday life.' metadata={'int_id': 107.0, 'kind': 'Book', 'title': 'Freakonomics'}\n",
      "Freakonomics, a groundbreaking collaboration between economist Steven D. Levitt and writer Stephen J. Dubner, explores the hidden side of everything, debunking conventional wisdom, and revealing how economic principles apply to everyday life.\n",
      "{'int_id': 107.0, 'kind': 'Book', 'title': 'Freakonomics'}\n",
      "page_content='First published in 2005, Freakonomics challenges readers to think differently about the world by combining economics with investigative journalism and witty insights. The book has since spawned a blog, a sequel, and a popular documentary, making it an influential piece in contemporary non-fiction literature.' metadata={'int_id': 107.0, 'kind': 'Book', 'title': 'Freakonomics'}\n",
      "First published in 2005, Freakonomics challenges readers to think differently about the world by combining economics with investigative journalism and witty insights. The book has since spawned a blog, a sequel, and a popular documentary, making it an influential piece in contemporary non-fiction literature.\n",
      "{'int_id': 107.0, 'kind': 'Book', 'title': 'Freakonomics'}\n",
      "page_content='Through compelling narratives, the authors analyze a range of topics from real estate to drug dealing, sumo wrestling, and the named dynamics behind baby names.' metadata={'int_id': 107.0, 'kind': 'Book', 'title': 'Freakonomics'}\n",
      "Through compelling narratives, the authors analyze a range of topics from real estate to drug dealing, sumo wrestling, and the named dynamics behind baby names.\n",
      "{'int_id': 107.0, 'kind': 'Book', 'title': 'Freakonomics'}\n",
      "[Document(page_content=\"Living under rigid control, Winston finds himself dreaming of rebellion against the oppressive regime he serves, despite the pervasive fear of inevitable punishment. '1984' explores the themes of surveillance, truth manipulation, and state control, offering a stark warning about the power of authoritarian regimes.\", metadata={'int_id': 103.0, 'kind': 'Book', 'title': '1984'}), Document(page_content='The book introduces readers to Winston Smith, who works for the Party in a dystopian society where Big Brother surveils every aspect of life and the Thought Police uncovers every act of rebellion.', metadata={'int_id': 103.0, 'kind': 'Book', 'title': '1984'}), Document(page_content=\"George Orwell’s '1984', published in 1949, is a seminal work in English literature and a profound prophetic vision about the dangers of totalitarianism.\", metadata={'int_id': 103.0, 'kind': 'Book', 'title': '1984'})]\n",
      "page_content=\"Living under rigid control, Winston finds himself dreaming of rebellion against the oppressive regime he serves, despite the pervasive fear of inevitable punishment. '1984' explores the themes of surveillance, truth manipulation, and state control, offering a stark warning about the power of authoritarian regimes.\" metadata={'int_id': 103.0, 'kind': 'Book', 'title': '1984'}\n",
      "Living under rigid control, Winston finds himself dreaming of rebellion against the oppressive regime he serves, despite the pervasive fear of inevitable punishment. '1984' explores the themes of surveillance, truth manipulation, and state control, offering a stark warning about the power of authoritarian regimes.\n",
      "{'int_id': 103.0, 'kind': 'Book', 'title': '1984'}\n",
      "page_content='The book introduces readers to Winston Smith, who works for the Party in a dystopian society where Big Brother surveils every aspect of life and the Thought Police uncovers every act of rebellion.' metadata={'int_id': 103.0, 'kind': 'Book', 'title': '1984'}\n",
      "The book introduces readers to Winston Smith, who works for the Party in a dystopian society where Big Brother surveils every aspect of life and the Thought Police uncovers every act of rebellion.\n",
      "{'int_id': 103.0, 'kind': 'Book', 'title': '1984'}\n",
      "page_content=\"George Orwell’s '1984', published in 1949, is a seminal work in English literature and a profound prophetic vision about the dangers of totalitarianism.\" metadata={'int_id': 103.0, 'kind': 'Book', 'title': '1984'}\n",
      "George Orwell’s '1984', published in 1949, is a seminal work in English literature and a profound prophetic vision about the dangers of totalitarianism.\n",
      "{'int_id': 103.0, 'kind': 'Book', 'title': '1984'}\n",
      "[Document(page_content='Featuring insights from leading climatologists, the article explores how rising global temperatures are leading to the rapid melting of polar ice, which in turn causes sea levels to rise and alters global climate patterns.', metadata={'int_id': 105.0, 'kind': 'Article', 'title': 'The Effects of Climate Change on the Polar Ice Caps'}), Document(page_content='Through detailed analysis and data from recent studies, the article underscores the urgent need for environmental policies that address global warming as it continues to reshape our planet’s geography and ecological balance.', metadata={'int_id': 105.0, 'kind': 'Article', 'title': 'The Effects of Climate Change on the Polar Ice Caps'}), Document(page_content=\"This comprehensive article published in 'Science Daily' delves into the ongoing effects of climate change on polar ice caps.\", metadata={'int_id': 105.0, 'kind': 'Article', 'title': 'The Effects of Climate Change on the Polar Ice Caps'})]\n",
      "page_content='Featuring insights from leading climatologists, the article explores how rising global temperatures are leading to the rapid melting of polar ice, which in turn causes sea levels to rise and alters global climate patterns.' metadata={'int_id': 105.0, 'kind': 'Article', 'title': 'The Effects of Climate Change on the Polar Ice Caps'}\n",
      "Featuring insights from leading climatologists, the article explores how rising global temperatures are leading to the rapid melting of polar ice, which in turn causes sea levels to rise and alters global climate patterns.\n",
      "{'int_id': 105.0, 'kind': 'Article', 'title': 'The Effects of Climate Change on the Polar Ice Caps'}\n",
      "page_content='Through detailed analysis and data from recent studies, the article underscores the urgent need for environmental policies that address global warming as it continues to reshape our planet’s geography and ecological balance.' metadata={'int_id': 105.0, 'kind': 'Article', 'title': 'The Effects of Climate Change on the Polar Ice Caps'}\n",
      "Through detailed analysis and data from recent studies, the article underscores the urgent need for environmental policies that address global warming as it continues to reshape our planet’s geography and ecological balance.\n",
      "{'int_id': 105.0, 'kind': 'Article', 'title': 'The Effects of Climate Change on the Polar Ice Caps'}\n",
      "page_content=\"This comprehensive article published in 'Science Daily' delves into the ongoing effects of climate change on polar ice caps.\" metadata={'int_id': 105.0, 'kind': 'Article', 'title': 'The Effects of Climate Change on the Polar Ice Caps'}\n",
      "This comprehensive article published in 'Science Daily' delves into the ongoing effects of climate change on polar ice caps.\n",
      "{'int_id': 105.0, 'kind': 'Article', 'title': 'The Effects of Climate Change on the Polar Ice Caps'}\n",
      "[Document(page_content='Explained is a fascinating docuseries produced by Vox Media and hosted by Emma Stone, which premiered on Netflix in 2019.', metadata={'int_id': 108.0, 'kind': 'TV Show', 'title': 'The Mind'}), Document(page_content='Featuring interviews with leading scientists and researchers, the show is packed with insightful animations and real-life experiments that illuminate how our brains function and shape our experiences and behaviors.', metadata={'int_id': 108.0, 'kind': 'TV Show', 'title': 'The Mind'}), Document(page_content=\"The show's storytelling approach is distinct, giving voices to everyday people and exploring American life with empathy, humor, and a deep respect for different perspectives.\", metadata={'int_id': 109.0, 'kind': 'Podcast', 'title': 'This American Life'})]\n",
      "page_content='Explained is a fascinating docuseries produced by Vox Media and hosted by Emma Stone, which premiered on Netflix in 2019.' metadata={'int_id': 108.0, 'kind': 'TV Show', 'title': 'The Mind'}\n",
      "Explained is a fascinating docuseries produced by Vox Media and hosted by Emma Stone, which premiered on Netflix in 2019.\n",
      "{'int_id': 108.0, 'kind': 'TV Show', 'title': 'The Mind'}\n",
      "page_content='Featuring interviews with leading scientists and researchers, the show is packed with insightful animations and real-life experiments that illuminate how our brains function and shape our experiences and behaviors.' metadata={'int_id': 108.0, 'kind': 'TV Show', 'title': 'The Mind'}\n",
      "Featuring interviews with leading scientists and researchers, the show is packed with insightful animations and real-life experiments that illuminate how our brains function and shape our experiences and behaviors.\n",
      "{'int_id': 108.0, 'kind': 'TV Show', 'title': 'The Mind'}\n",
      "page_content=\"The show's storytelling approach is distinct, giving voices to everyday people and exploring American life with empathy, humor, and a deep respect for different perspectives.\" metadata={'int_id': 109.0, 'kind': 'Podcast', 'title': 'This American Life'}\n",
      "The show's storytelling approach is distinct, giving voices to everyday people and exploring American life with empathy, humor, and a deep respect for different perspectives.\n",
      "{'int_id': 109.0, 'kind': 'Podcast', 'title': 'This American Life'}\n",
      "[Document(page_content=\"Living under rigid control, Winston finds himself dreaming of rebellion against the oppressive regime he serves, despite the pervasive fear of inevitable punishment. '1984' explores the themes of surveillance, truth manipulation, and state control, offering a stark warning about the power of authoritarian regimes.\", metadata={'int_id': 103.0, 'kind': 'Book', 'title': '1984'}), Document(page_content='The book introduces readers to Winston Smith, who works for the Party in a dystopian society where Big Brother surveils every aspect of life and the Thought Police uncovers every act of rebellion.', metadata={'int_id': 103.0, 'kind': 'Book', 'title': '1984'}), Document(page_content=\"George Orwell’s '1984', published in 1949, is a seminal work in English literature and a profound prophetic vision about the dangers of totalitarianism.\", metadata={'int_id': 103.0, 'kind': 'Book', 'title': '1984'})]\n",
      "page_content=\"Living under rigid control, Winston finds himself dreaming of rebellion against the oppressive regime he serves, despite the pervasive fear of inevitable punishment. '1984' explores the themes of surveillance, truth manipulation, and state control, offering a stark warning about the power of authoritarian regimes.\" metadata={'int_id': 103.0, 'kind': 'Book', 'title': '1984'}\n",
      "Living under rigid control, Winston finds himself dreaming of rebellion against the oppressive regime he serves, despite the pervasive fear of inevitable punishment. '1984' explores the themes of surveillance, truth manipulation, and state control, offering a stark warning about the power of authoritarian regimes.\n",
      "{'int_id': 103.0, 'kind': 'Book', 'title': '1984'}\n",
      "page_content='The book introduces readers to Winston Smith, who works for the Party in a dystopian society where Big Brother surveils every aspect of life and the Thought Police uncovers every act of rebellion.' metadata={'int_id': 103.0, 'kind': 'Book', 'title': '1984'}\n",
      "The book introduces readers to Winston Smith, who works for the Party in a dystopian society where Big Brother surveils every aspect of life and the Thought Police uncovers every act of rebellion.\n",
      "{'int_id': 103.0, 'kind': 'Book', 'title': '1984'}\n",
      "page_content=\"George Orwell’s '1984', published in 1949, is a seminal work in English literature and a profound prophetic vision about the dangers of totalitarianism.\" metadata={'int_id': 103.0, 'kind': 'Book', 'title': '1984'}\n",
      "George Orwell’s '1984', published in 1949, is a seminal work in English literature and a profound prophetic vision about the dangers of totalitarianism.\n",
      "{'int_id': 103.0, 'kind': 'Book', 'title': '1984'}\n",
      "[Document(page_content='It follows the life of Walter White (played by Bryan Cranston), a disillusioned high school chemistry teacher turned methamphetamine manufacturing drug dealer, after a terminal lung cancer diagnosis.', metadata={'int_id': 102.0, 'kind': 'TV Show', 'title': 'Breaking Bad'}), Document(page_content='Joining forces with former student Jesse Pinkman (Aaron Paul), White turns to a life of crime, creating and selling a high-purity methamphetamine.', metadata={'int_id': 102.0, 'kind': 'TV Show', 'title': 'Breaking Bad'}), Document(page_content='The series explores themes of morality, consequences, and family, diving deep into the psyche of its protagonist who is striving to secure his family’s future while battling terminal illness and the complexities of his illegal enterprise.', metadata={'int_id': 102.0, 'kind': 'TV Show', 'title': 'Breaking Bad'})]\n",
      "page_content='It follows the life of Walter White (played by Bryan Cranston), a disillusioned high school chemistry teacher turned methamphetamine manufacturing drug dealer, after a terminal lung cancer diagnosis.' metadata={'int_id': 102.0, 'kind': 'TV Show', 'title': 'Breaking Bad'}\n",
      "It follows the life of Walter White (played by Bryan Cranston), a disillusioned high school chemistry teacher turned methamphetamine manufacturing drug dealer, after a terminal lung cancer diagnosis.\n",
      "{'int_id': 102.0, 'kind': 'TV Show', 'title': 'Breaking Bad'}\n",
      "page_content='Joining forces with former student Jesse Pinkman (Aaron Paul), White turns to a life of crime, creating and selling a high-purity methamphetamine.' metadata={'int_id': 102.0, 'kind': 'TV Show', 'title': 'Breaking Bad'}\n",
      "Joining forces with former student Jesse Pinkman (Aaron Paul), White turns to a life of crime, creating and selling a high-purity methamphetamine.\n",
      "{'int_id': 102.0, 'kind': 'TV Show', 'title': 'Breaking Bad'}\n",
      "page_content='The series explores themes of morality, consequences, and family, diving deep into the psyche of its protagonist who is striving to secure his family’s future while battling terminal illness and the complexities of his illegal enterprise.' metadata={'int_id': 102.0, 'kind': 'TV Show', 'title': 'Breaking Bad'}\n",
      "The series explores themes of morality, consequences, and family, diving deep into the psyche of its protagonist who is striving to secure his family’s future while battling terminal illness and the complexities of his illegal enterprise.\n",
      "{'int_id': 102.0, 'kind': 'TV Show', 'title': 'Breaking Bad'}\n",
      "[Document(page_content='Since its inception in 1995, This American Life has won several prestigious awards and has been a frontrunner in podcast innovation, impacting how stories are told in audio format.', metadata={'int_id': 109.0, 'kind': 'Podcast', 'title': 'This American Life'}), Document(page_content='Each episode is based on a specific theme, explored through a variety of stories—factual reporting, first-person narratives, and sometimes even fiction.', metadata={'int_id': 109.0, 'kind': 'Podcast', 'title': 'This American Life'}), Document(page_content='Serial became one of the most downloaded podcasts, known for its engaging storytelling, meticulous research, and the ability to captivate audiences with real-life mysteries.', metadata={'int_id': 104.0, 'kind': 'Podcast', 'title': 'Serial'})]\n",
      "page_content='Since its inception in 1995, This American Life has won several prestigious awards and has been a frontrunner in podcast innovation, impacting how stories are told in audio format.' metadata={'int_id': 109.0, 'kind': 'Podcast', 'title': 'This American Life'}\n",
      "Since its inception in 1995, This American Life has won several prestigious awards and has been a frontrunner in podcast innovation, impacting how stories are told in audio format.\n",
      "{'int_id': 109.0, 'kind': 'Podcast', 'title': 'This American Life'}\n",
      "page_content='Each episode is based on a specific theme, explored through a variety of stories—factual reporting, first-person narratives, and sometimes even fiction.' metadata={'int_id': 109.0, 'kind': 'Podcast', 'title': 'This American Life'}\n",
      "Each episode is based on a specific theme, explored through a variety of stories—factual reporting, first-person narratives, and sometimes even fiction.\n",
      "{'int_id': 109.0, 'kind': 'Podcast', 'title': 'This American Life'}\n",
      "page_content='Serial became one of the most downloaded podcasts, known for its engaging storytelling, meticulous research, and the ability to captivate audiences with real-life mysteries.' metadata={'int_id': 104.0, 'kind': 'Podcast', 'title': 'Serial'}\n",
      "Serial became one of the most downloaded podcasts, known for its engaging storytelling, meticulous research, and the ability to captivate audiences with real-life mysteries.\n",
      "{'int_id': 104.0, 'kind': 'Podcast', 'title': 'Serial'}\n",
      "[['Explained is a fascinating docuseries produced by Vox Media and hosted by Emma Stone, which premiered on Netflix in 2019.', 'Featuring interviews with leading scientists and researchers, the show is packed with insightful animations and real-life experiments that illuminate how our brains function and shape our experiences and behaviors.', \"The show's storytelling approach is distinct, giving voices to everyday people and exploring American life with empathy, humor, and a deep respect for different perspectives.\"], ['This American Life is a weekly public radio show broadcast on multiple stations across the United States and internationally.', 'Hosted by Ira Glass, it is one of the most popular and revered podcasts available.', 'Since its inception in 1995, This American Life has won several prestigious awards and has been a frontrunner in podcast innovation, impacting how stories are told in audio format.'], ['Featuring insights from leading climatologists, the article explores how rising global temperatures are leading to the rapid melting of polar ice, which in turn causes sea levels to rise and alters global climate patterns.', \"This comprehensive article published in 'Science Daily' delves into the ongoing effects of climate change on polar ice caps.\", 'The piece also discusses the consequences of these changes for wildlife and human populations, particularly those living in coastal regions and dependent on ice ecosystems.'], ['Freakonomics, a groundbreaking collaboration between economist Steven D. Levitt and writer Stephen J. Dubner, explores the hidden side of everything, debunking conventional wisdom, and revealing how economic principles apply to everyday life.', 'First published in 2005, Freakonomics challenges readers to think differently about the world by combining economics with investigative journalism and witty insights. The book has since spawned a blog, a sequel, and a popular documentary, making it an influential piece in contemporary non-fiction literature.', 'Through compelling narratives, the authors analyze a range of topics from real estate to drug dealing, sumo wrestling, and the named dynamics behind baby names.'], [\"Living under rigid control, Winston finds himself dreaming of rebellion against the oppressive regime he serves, despite the pervasive fear of inevitable punishment. '1984' explores the themes of surveillance, truth manipulation, and state control, offering a stark warning about the power of authoritarian regimes.\", 'The book introduces readers to Winston Smith, who works for the Party in a dystopian society where Big Brother surveils every aspect of life and the Thought Police uncovers every act of rebellion.', \"George Orwell’s '1984', published in 1949, is a seminal work in English literature and a profound prophetic vision about the dangers of totalitarianism.\"], ['Featuring insights from leading climatologists, the article explores how rising global temperatures are leading to the rapid melting of polar ice, which in turn causes sea levels to rise and alters global climate patterns.', 'Through detailed analysis and data from recent studies, the article underscores the urgent need for environmental policies that address global warming as it continues to reshape our planet’s geography and ecological balance.', \"This comprehensive article published in 'Science Daily' delves into the ongoing effects of climate change on polar ice caps.\"], ['Explained is a fascinating docuseries produced by Vox Media and hosted by Emma Stone, which premiered on Netflix in 2019.', 'Featuring interviews with leading scientists and researchers, the show is packed with insightful animations and real-life experiments that illuminate how our brains function and shape our experiences and behaviors.', \"The show's storytelling approach is distinct, giving voices to everyday people and exploring American life with empathy, humor, and a deep respect for different perspectives.\"], [\"Living under rigid control, Winston finds himself dreaming of rebellion against the oppressive regime he serves, despite the pervasive fear of inevitable punishment. '1984' explores the themes of surveillance, truth manipulation, and state control, offering a stark warning about the power of authoritarian regimes.\", 'The book introduces readers to Winston Smith, who works for the Party in a dystopian society where Big Brother surveils every aspect of life and the Thought Police uncovers every act of rebellion.', \"George Orwell’s '1984', published in 1949, is a seminal work in English literature and a profound prophetic vision about the dangers of totalitarianism.\"], ['It follows the life of Walter White (played by Bryan Cranston), a disillusioned high school chemistry teacher turned methamphetamine manufacturing drug dealer, after a terminal lung cancer diagnosis.', 'Joining forces with former student Jesse Pinkman (Aaron Paul), White turns to a life of crime, creating and selling a high-purity methamphetamine.', 'The series explores themes of morality, consequences, and family, diving deep into the psyche of its protagonist who is striving to secure his family’s future while battling terminal illness and the complexities of his illegal enterprise.'], ['Since its inception in 1995, This American Life has won several prestigious awards and has been a frontrunner in podcast innovation, impacting how stories are told in audio format.', 'Each episode is based on a specific theme, explored through a variety of stories—factual reporting, first-person narratives, and sometimes even fiction.', 'Serial became one of the most downloaded podcasts, known for its engaging storytelling, meticulous research, and the ability to captivate audiences with real-life mysteries.']]\n",
      "[[{'int_id': 108.0, 'kind': 'TV Show', 'title': 'The Mind'}, {'int_id': 108.0, 'kind': 'TV Show', 'title': 'The Mind'}, {'int_id': 109.0, 'kind': 'Podcast', 'title': 'This American Life'}], [{'int_id': 109.0, 'kind': 'Podcast', 'title': 'This American Life'}, {'int_id': 109.0, 'kind': 'Podcast', 'title': 'This American Life'}, {'int_id': 109.0, 'kind': 'Podcast', 'title': 'This American Life'}], [{'int_id': 105.0, 'kind': 'Article', 'title': 'The Effects of Climate Change on the Polar Ice Caps'}, {'int_id': 105.0, 'kind': 'Article', 'title': 'The Effects of Climate Change on the Polar Ice Caps'}, {'int_id': 105.0, 'kind': 'Article', 'title': 'The Effects of Climate Change on the Polar Ice Caps'}], [{'int_id': 107.0, 'kind': 'Book', 'title': 'Freakonomics'}, {'int_id': 107.0, 'kind': 'Book', 'title': 'Freakonomics'}, {'int_id': 107.0, 'kind': 'Book', 'title': 'Freakonomics'}], [{'int_id': 103.0, 'kind': 'Book', 'title': '1984'}, {'int_id': 103.0, 'kind': 'Book', 'title': '1984'}, {'int_id': 103.0, 'kind': 'Book', 'title': '1984'}], [{'int_id': 105.0, 'kind': 'Article', 'title': 'The Effects of Climate Change on the Polar Ice Caps'}, {'int_id': 105.0, 'kind': 'Article', 'title': 'The Effects of Climate Change on the Polar Ice Caps'}, {'int_id': 105.0, 'kind': 'Article', 'title': 'The Effects of Climate Change on the Polar Ice Caps'}], [{'int_id': 108.0, 'kind': 'TV Show', 'title': 'The Mind'}, {'int_id': 108.0, 'kind': 'TV Show', 'title': 'The Mind'}, {'int_id': 109.0, 'kind': 'Podcast', 'title': 'This American Life'}], [{'int_id': 103.0, 'kind': 'Book', 'title': '1984'}, {'int_id': 103.0, 'kind': 'Book', 'title': '1984'}, {'int_id': 103.0, 'kind': 'Book', 'title': '1984'}], [{'int_id': 102.0, 'kind': 'TV Show', 'title': 'Breaking Bad'}, {'int_id': 102.0, 'kind': 'TV Show', 'title': 'Breaking Bad'}, {'int_id': 102.0, 'kind': 'TV Show', 'title': 'Breaking Bad'}], [{'int_id': 109.0, 'kind': 'Podcast', 'title': 'This American Life'}, {'int_id': 109.0, 'kind': 'Podcast', 'title': 'This American Life'}, {'int_id': 104.0, 'kind': 'Podcast', 'title': 'Serial'}]]\n"
     ]
    }
   ],
   "source": [
    "\n",
    "answers_list = [ [x.page_content for x in entry] for entry in answers ]\n",
    "answer_metadata = [ [x.metadata for x in entry] for entry in answers ]\n"
   ],
   "metadata": {
    "collapsed": false,
    "ExecuteTime": {
     "end_time": "2024-06-18T22:18:23.287301Z",
     "start_time": "2024-06-18T22:18:23.282959Z"
    }
   },
   "id": "b1c9966bfbb8efd2",
   "execution_count": 50
  },
  {
   "cell_type": "code",
   "outputs": [],
   "source": [
    "from datasets import Dataset\n",
    "\n",
    "\n",
    "final_dataset = Dataset.from_pandas(eval_template_dataframe)\n",
    "\n",
    "final_dataset = final_dataset.add_column(\"contexts\", answers_list)\n",
    "final_dataset = final_dataset.add_column(\"metadata\", answer_metadata)\n",
    "\n",
    "final_dataset = final_dataset.remove_columns('__index_level_0__')\n",
    "\n"
   ],
   "metadata": {
    "collapsed": false,
    "ExecuteTime": {
     "end_time": "2024-06-18T22:27:26.392851Z",
     "start_time": "2024-06-18T22:27:26.385908Z"
    }
   },
   "id": "34bd0e14407588f6",
   "execution_count": 58
  },
  {
   "cell_type": "code",
   "outputs": [
    {
     "data": {
      "text/plain": "Creating CSV from Arrow format:   0%|          | 0/1 [00:00<?, ?ba/s]",
      "application/vnd.jupyter.widget-view+json": {
       "version_major": 2,
       "version_minor": 0,
       "model_id": "d0a1d2c4c1f244ac82a4430bd230a4ba"
      }
     },
     "metadata": {},
     "output_type": "display_data"
    },
    {
     "data": {
      "text/plain": "20492"
     },
     "execution_count": 59,
     "metadata": {},
     "output_type": "execute_result"
    }
   ],
   "source": [
    "final_dataset.to_csv(\"util/test_finaldata.csv\")"
   ],
   "metadata": {
    "collapsed": false,
    "ExecuteTime": {
     "end_time": "2024-06-18T22:27:32.121904Z",
     "start_time": "2024-06-18T22:27:32.114967Z"
    }
   },
   "id": "77ded24f521c57ce",
   "execution_count": 59
  },
  {
   "cell_type": "markdown",
   "source": [
    "**Eval Chain Testing - Evaluation of Context**"
   ],
   "metadata": {
    "collapsed": false
   },
   "id": "b4560a2f1ff5426d"
  },
  {
   "cell_type": "code",
   "outputs": [
    {
     "data": {
      "text/plain": "Evaluating:   0%|          | 0/20 [00:00<?, ?it/s]",
      "application/vnd.jupyter.widget-view+json": {
       "version_major": 2,
       "version_minor": 0,
       "model_id": "74c652cdcad14dd68a86cc61fe08e750"
      }
     },
     "metadata": {},
     "output_type": "display_data"
    },
    {
     "data": {
      "text/plain": "                                            question  \\\n0  What is the role of Vox Media in the productio...   \n1  Who hosts the weekly public radio show \"This A...   \n2  How is the melting of polar ice affecting sea ...   \n3  How does Freakonomics explore the hidden side ...   \n4  How does George Orwell's '1984' explore the th...   \n\n                                      synth_contexts  \\\n0  ['content: Explained is a fascinating docuseri...   \n1  [\"content: This American Life is a weekly publ...   \n2  [\"content: This comprehensive article publishe...   \n3  ['content: Freakonomics, a groundbreaking coll...   \n4  [\"content: George Orwell’s '1984', published i...   \n\n                                        ground_truth evolution_type  \\\n0     Vox Media produced the docuseries 'Explained'.         simple   \n1  The weekly public radio show 'This American Li...         simple   \n2  The melting of polar ice is causing sea levels...         simple   \n3  Freakonomics explores the hidden side of every...         simple   \n4  George Orwell's '1984' explores the themes of ...         simple   \n\n                                      synth_metadata  episode_done  \\\n0  [{'int_id': '108', 'kind': 'TV Show', 'row': 7...          True   \n1  [{'int_id': '109', 'kind': 'Podcast', 'row': 8...          True   \n2  [{'int_id': '105', 'kind': 'Article', 'row': 4...          True   \n3  [{'int_id': '107', 'kind': 'Book', 'row': 6, '...          True   \n4  [{'int_id': '103', 'kind': 'Book', 'row': 2, '...          True   \n\n                                            contexts  \\\n0  [Explained is a fascinating docuseries produce...   \n1  [This American Life is a weekly public radio s...   \n2  [Featuring insights from leading climatologist...   \n3  [Freakonomics, a groundbreaking collaboration ...   \n4  [Living under rigid control, Winston finds him...   \n\n                                            metadata  context_precision  \\\n0  [{'int_id': 108.0, 'kind': 'TV Show', 'title':...                1.0   \n1  [{'int_id': 109.0, 'kind': 'Podcast', 'title':...                0.5   \n2  [{'int_id': 105.0, 'kind': 'Article', 'title':...                1.0   \n3  [{'int_id': 107.0, 'kind': 'Book', 'title': 'F...                1.0   \n4  [{'int_id': 103.0, 'kind': 'Book', 'title': '1...                1.0   \n\n   context_recall  \n0             1.0  \n1             1.0  \n2             1.0  \n3             1.0  \n4             1.0  ",
      "text/html": "<div>\n<style scoped>\n    .dataframe tbody tr th:only-of-type {\n        vertical-align: middle;\n    }\n\n    .dataframe tbody tr th {\n        vertical-align: top;\n    }\n\n    .dataframe thead th {\n        text-align: right;\n    }\n</style>\n<table border=\"1\" class=\"dataframe\">\n  <thead>\n    <tr style=\"text-align: right;\">\n      <th></th>\n      <th>question</th>\n      <th>synth_contexts</th>\n      <th>ground_truth</th>\n      <th>evolution_type</th>\n      <th>synth_metadata</th>\n      <th>episode_done</th>\n      <th>contexts</th>\n      <th>metadata</th>\n      <th>context_precision</th>\n      <th>context_recall</th>\n    </tr>\n  </thead>\n  <tbody>\n    <tr>\n      <th>0</th>\n      <td>What is the role of Vox Media in the productio...</td>\n      <td>['content: Explained is a fascinating docuseri...</td>\n      <td>Vox Media produced the docuseries 'Explained'.</td>\n      <td>simple</td>\n      <td>[{'int_id': '108', 'kind': 'TV Show', 'row': 7...</td>\n      <td>True</td>\n      <td>[Explained is a fascinating docuseries produce...</td>\n      <td>[{'int_id': 108.0, 'kind': 'TV Show', 'title':...</td>\n      <td>1.0</td>\n      <td>1.0</td>\n    </tr>\n    <tr>\n      <th>1</th>\n      <td>Who hosts the weekly public radio show \"This A...</td>\n      <td>[\"content: This American Life is a weekly publ...</td>\n      <td>The weekly public radio show 'This American Li...</td>\n      <td>simple</td>\n      <td>[{'int_id': '109', 'kind': 'Podcast', 'row': 8...</td>\n      <td>True</td>\n      <td>[This American Life is a weekly public radio s...</td>\n      <td>[{'int_id': 109.0, 'kind': 'Podcast', 'title':...</td>\n      <td>0.5</td>\n      <td>1.0</td>\n    </tr>\n    <tr>\n      <th>2</th>\n      <td>How is the melting of polar ice affecting sea ...</td>\n      <td>[\"content: This comprehensive article publishe...</td>\n      <td>The melting of polar ice is causing sea levels...</td>\n      <td>simple</td>\n      <td>[{'int_id': '105', 'kind': 'Article', 'row': 4...</td>\n      <td>True</td>\n      <td>[Featuring insights from leading climatologist...</td>\n      <td>[{'int_id': 105.0, 'kind': 'Article', 'title':...</td>\n      <td>1.0</td>\n      <td>1.0</td>\n    </tr>\n    <tr>\n      <th>3</th>\n      <td>How does Freakonomics explore the hidden side ...</td>\n      <td>['content: Freakonomics, a groundbreaking coll...</td>\n      <td>Freakonomics explores the hidden side of every...</td>\n      <td>simple</td>\n      <td>[{'int_id': '107', 'kind': 'Book', 'row': 6, '...</td>\n      <td>True</td>\n      <td>[Freakonomics, a groundbreaking collaboration ...</td>\n      <td>[{'int_id': 107.0, 'kind': 'Book', 'title': 'F...</td>\n      <td>1.0</td>\n      <td>1.0</td>\n    </tr>\n    <tr>\n      <th>4</th>\n      <td>How does George Orwell's '1984' explore the th...</td>\n      <td>[\"content: George Orwell’s '1984', published i...</td>\n      <td>George Orwell's '1984' explores the themes of ...</td>\n      <td>simple</td>\n      <td>[{'int_id': '103', 'kind': 'Book', 'row': 2, '...</td>\n      <td>True</td>\n      <td>[Living under rigid control, Winston finds him...</td>\n      <td>[{'int_id': 103.0, 'kind': 'Book', 'title': '1...</td>\n      <td>1.0</td>\n      <td>1.0</td>\n    </tr>\n  </tbody>\n</table>\n</div>"
     },
     "execution_count": 60,
     "metadata": {},
     "output_type": "execute_result"
    }
   ],
   "source": [
    "from ragas.metrics import answer_relevancy, faithfulness, context_recall, context_precision\n",
    "from ragas import evaluate\n",
    "from ragas.testset.evolutions import simple, reasoning, multi_context\n",
    "\n",
    "result = evaluate(\n",
    "        final_dataset,\n",
    "        metrics=[\n",
    "            context_precision,\n",
    "            context_recall,\n",
    "        ],\n",
    "    )\n",
    "\n",
    "final_eval = result.to_pandas()\n",
    "final_eval.head()"
   ],
   "metadata": {
    "collapsed": false,
    "ExecuteTime": {
     "end_time": "2024-06-18T22:27:39.998235Z",
     "start_time": "2024-06-18T22:27:34.961696Z"
    }
   },
   "id": "a39c6d7062cfd31a",
   "execution_count": 60
  },
  {
   "cell_type": "code",
   "outputs": [
    {
     "data": {
      "text/plain": "                                            question  \\\n0  What is the role of Vox Media in the productio...   \n1  Who hosts the weekly public radio show \"This A...   \n2  How is the melting of polar ice affecting sea ...   \n3  How does Freakonomics explore the hidden side ...   \n4  How does George Orwell's '1984' explore the th...   \n5          How does global warming raise sea levels?   \n6  Who's the host of Vox Media's Netflix docuseries?   \n7  What's the danger in '1984' from Winston's reb...   \n8  How does Walter White's illegal biz impact his...   \n9  How do storytelling and themes in \"This Americ...   \n\n                                      synth_contexts  \\\n0  ['content: Explained is a fascinating docuseri...   \n1  [\"content: This American Life is a weekly publ...   \n2  [\"content: This comprehensive article publishe...   \n3  ['content: Freakonomics, a groundbreaking coll...   \n4  [\"content: George Orwell’s '1984', published i...   \n5  [\"content: This comprehensive article publishe...   \n6  ['content: Explained is a fascinating docuseri...   \n7  [\"content: George Orwell’s '1984', published i...   \n8  [\"content: Breaking Bad, created by Vince Gill...   \n9  [\"content: This American Life is a weekly publ...   \n\n                                        ground_truth evolution_type  \\\n0     Vox Media produced the docuseries 'Explained'.         simple   \n1  The weekly public radio show 'This American Li...         simple   \n2  The melting of polar ice is causing sea levels...         simple   \n3  Freakonomics explores the hidden side of every...         simple   \n4  George Orwell's '1984' explores the themes of ...         simple   \n5  Global warming raises sea levels by causing th...      reasoning   \n6  The host of Vox Media's Netflix docuseries 'Ex...      reasoning   \n7  The danger in '1984' from Winston's rebellion ...      reasoning   \n8                                               None      reasoning   \n9  In 'This American Life,' the storytelling appr...  multi_context   \n\n                                      synth_metadata  episode_done  \\\n0  [{'int_id': '108', 'kind': 'TV Show', 'row': 7...          True   \n1  [{'int_id': '109', 'kind': 'Podcast', 'row': 8...          True   \n2  [{'int_id': '105', 'kind': 'Article', 'row': 4...          True   \n3  [{'int_id': '107', 'kind': 'Book', 'row': 6, '...          True   \n4  [{'int_id': '103', 'kind': 'Book', 'row': 2, '...          True   \n5  [{'int_id': '105', 'kind': 'Article', 'row': 4...          True   \n6  [{'int_id': '108', 'kind': 'TV Show', 'row': 7...          True   \n7  [{'int_id': '103', 'kind': 'Book', 'row': 2, '...          True   \n8  [{'int_id': '102', 'kind': 'TV Show', 'row': 1...          True   \n9  [{'int_id': '109', 'kind': 'Podcast', 'row': 8...          True   \n\n                                            contexts  \\\n0  [Explained is a fascinating docuseries produce...   \n1  [This American Life is a weekly public radio s...   \n2  [Featuring insights from leading climatologist...   \n3  [Freakonomics, a groundbreaking collaboration ...   \n4  [Living under rigid control, Winston finds him...   \n5  [Featuring insights from leading climatologist...   \n6  [Explained is a fascinating docuseries produce...   \n7  [Living under rigid control, Winston finds him...   \n8  [It follows the life of Walter White (played b...   \n9  [Since its inception in 1995, This American Li...   \n\n                                            metadata  context_precision  \\\n0  [{'int_id': 108.0, 'kind': 'TV Show', 'title':...           1.000000   \n1  [{'int_id': 109.0, 'kind': 'Podcast', 'title':...           0.500000   \n2  [{'int_id': 105.0, 'kind': 'Article', 'title':...           1.000000   \n3  [{'int_id': 107.0, 'kind': 'Book', 'title': 'F...           1.000000   \n4  [{'int_id': 103.0, 'kind': 'Book', 'title': '1...           1.000000   \n5  [{'int_id': 105.0, 'kind': 'Article', 'title':...           0.833333   \n6  [{'int_id': 108.0, 'kind': 'TV Show', 'title':...           1.000000   \n7  [{'int_id': 103.0, 'kind': 'Book', 'title': '1...           1.000000   \n8  [{'int_id': 102.0, 'kind': 'TV Show', 'title':...           0.000000   \n9  [{'int_id': 109.0, 'kind': 'Podcast', 'title':...           1.000000   \n\n   context_recall  \n0        1.000000  \n1        1.000000  \n2        1.000000  \n3        1.000000  \n4        1.000000  \n5        1.000000  \n6        1.000000  \n7        0.500000  \n8        0.000000  \n9        0.666667  ",
      "text/html": "<div>\n<style scoped>\n    .dataframe tbody tr th:only-of-type {\n        vertical-align: middle;\n    }\n\n    .dataframe tbody tr th {\n        vertical-align: top;\n    }\n\n    .dataframe thead th {\n        text-align: right;\n    }\n</style>\n<table border=\"1\" class=\"dataframe\">\n  <thead>\n    <tr style=\"text-align: right;\">\n      <th></th>\n      <th>question</th>\n      <th>synth_contexts</th>\n      <th>ground_truth</th>\n      <th>evolution_type</th>\n      <th>synth_metadata</th>\n      <th>episode_done</th>\n      <th>contexts</th>\n      <th>metadata</th>\n      <th>context_precision</th>\n      <th>context_recall</th>\n    </tr>\n  </thead>\n  <tbody>\n    <tr>\n      <th>0</th>\n      <td>What is the role of Vox Media in the productio...</td>\n      <td>['content: Explained is a fascinating docuseri...</td>\n      <td>Vox Media produced the docuseries 'Explained'.</td>\n      <td>simple</td>\n      <td>[{'int_id': '108', 'kind': 'TV Show', 'row': 7...</td>\n      <td>True</td>\n      <td>[Explained is a fascinating docuseries produce...</td>\n      <td>[{'int_id': 108.0, 'kind': 'TV Show', 'title':...</td>\n      <td>1.000000</td>\n      <td>1.000000</td>\n    </tr>\n    <tr>\n      <th>1</th>\n      <td>Who hosts the weekly public radio show \"This A...</td>\n      <td>[\"content: This American Life is a weekly publ...</td>\n      <td>The weekly public radio show 'This American Li...</td>\n      <td>simple</td>\n      <td>[{'int_id': '109', 'kind': 'Podcast', 'row': 8...</td>\n      <td>True</td>\n      <td>[This American Life is a weekly public radio s...</td>\n      <td>[{'int_id': 109.0, 'kind': 'Podcast', 'title':...</td>\n      <td>0.500000</td>\n      <td>1.000000</td>\n    </tr>\n    <tr>\n      <th>2</th>\n      <td>How is the melting of polar ice affecting sea ...</td>\n      <td>[\"content: This comprehensive article publishe...</td>\n      <td>The melting of polar ice is causing sea levels...</td>\n      <td>simple</td>\n      <td>[{'int_id': '105', 'kind': 'Article', 'row': 4...</td>\n      <td>True</td>\n      <td>[Featuring insights from leading climatologist...</td>\n      <td>[{'int_id': 105.0, 'kind': 'Article', 'title':...</td>\n      <td>1.000000</td>\n      <td>1.000000</td>\n    </tr>\n    <tr>\n      <th>3</th>\n      <td>How does Freakonomics explore the hidden side ...</td>\n      <td>['content: Freakonomics, a groundbreaking coll...</td>\n      <td>Freakonomics explores the hidden side of every...</td>\n      <td>simple</td>\n      <td>[{'int_id': '107', 'kind': 'Book', 'row': 6, '...</td>\n      <td>True</td>\n      <td>[Freakonomics, a groundbreaking collaboration ...</td>\n      <td>[{'int_id': 107.0, 'kind': 'Book', 'title': 'F...</td>\n      <td>1.000000</td>\n      <td>1.000000</td>\n    </tr>\n    <tr>\n      <th>4</th>\n      <td>How does George Orwell's '1984' explore the th...</td>\n      <td>[\"content: George Orwell’s '1984', published i...</td>\n      <td>George Orwell's '1984' explores the themes of ...</td>\n      <td>simple</td>\n      <td>[{'int_id': '103', 'kind': 'Book', 'row': 2, '...</td>\n      <td>True</td>\n      <td>[Living under rigid control, Winston finds him...</td>\n      <td>[{'int_id': 103.0, 'kind': 'Book', 'title': '1...</td>\n      <td>1.000000</td>\n      <td>1.000000</td>\n    </tr>\n    <tr>\n      <th>5</th>\n      <td>How does global warming raise sea levels?</td>\n      <td>[\"content: This comprehensive article publishe...</td>\n      <td>Global warming raises sea levels by causing th...</td>\n      <td>reasoning</td>\n      <td>[{'int_id': '105', 'kind': 'Article', 'row': 4...</td>\n      <td>True</td>\n      <td>[Featuring insights from leading climatologist...</td>\n      <td>[{'int_id': 105.0, 'kind': 'Article', 'title':...</td>\n      <td>0.833333</td>\n      <td>1.000000</td>\n    </tr>\n    <tr>\n      <th>6</th>\n      <td>Who's the host of Vox Media's Netflix docuseries?</td>\n      <td>['content: Explained is a fascinating docuseri...</td>\n      <td>The host of Vox Media's Netflix docuseries 'Ex...</td>\n      <td>reasoning</td>\n      <td>[{'int_id': '108', 'kind': 'TV Show', 'row': 7...</td>\n      <td>True</td>\n      <td>[Explained is a fascinating docuseries produce...</td>\n      <td>[{'int_id': 108.0, 'kind': 'TV Show', 'title':...</td>\n      <td>1.000000</td>\n      <td>1.000000</td>\n    </tr>\n    <tr>\n      <th>7</th>\n      <td>What's the danger in '1984' from Winston's reb...</td>\n      <td>[\"content: George Orwell’s '1984', published i...</td>\n      <td>The danger in '1984' from Winston's rebellion ...</td>\n      <td>reasoning</td>\n      <td>[{'int_id': '103', 'kind': 'Book', 'row': 2, '...</td>\n      <td>True</td>\n      <td>[Living under rigid control, Winston finds him...</td>\n      <td>[{'int_id': 103.0, 'kind': 'Book', 'title': '1...</td>\n      <td>1.000000</td>\n      <td>0.500000</td>\n    </tr>\n    <tr>\n      <th>8</th>\n      <td>How does Walter White's illegal biz impact his...</td>\n      <td>[\"content: Breaking Bad, created by Vince Gill...</td>\n      <td>None</td>\n      <td>reasoning</td>\n      <td>[{'int_id': '102', 'kind': 'TV Show', 'row': 1...</td>\n      <td>True</td>\n      <td>[It follows the life of Walter White (played b...</td>\n      <td>[{'int_id': 102.0, 'kind': 'TV Show', 'title':...</td>\n      <td>0.000000</td>\n      <td>0.000000</td>\n    </tr>\n    <tr>\n      <th>9</th>\n      <td>How do storytelling and themes in \"This Americ...</td>\n      <td>[\"content: This American Life is a weekly publ...</td>\n      <td>In 'This American Life,' the storytelling appr...</td>\n      <td>multi_context</td>\n      <td>[{'int_id': '109', 'kind': 'Podcast', 'row': 8...</td>\n      <td>True</td>\n      <td>[Since its inception in 1995, This American Li...</td>\n      <td>[{'int_id': 109.0, 'kind': 'Podcast', 'title':...</td>\n      <td>1.000000</td>\n      <td>0.666667</td>\n    </tr>\n  </tbody>\n</table>\n</div>"
     },
     "execution_count": 62,
     "metadata": {},
     "output_type": "execute_result"
    }
   ],
   "source": [
    "final_eval.head(10)"
   ],
   "metadata": {
    "collapsed": false,
    "ExecuteTime": {
     "end_time": "2024-06-18T22:28:19.916320Z",
     "start_time": "2024-06-18T22:28:19.893648Z"
    }
   },
   "id": "a95f1f40d6cd8d66",
   "execution_count": 62
  },
  {
   "cell_type": "code",
   "outputs": [],
   "source": [],
   "metadata": {
    "collapsed": false
   },
   "id": "af44f2cde7f8fe4b"
  },
  {
   "cell_type": "code",
   "outputs": [
    {
     "name": "stdout",
     "output_type": "stream",
     "text": [
      "Eval template set for test already exists. Skipping...\n"
     ]
    },
    {
     "name": "stderr",
     "output_type": "stream",
     "text": [
      "INFO:httpx:HTTP Request: POST https://api.openai.com/v1/embeddings \"HTTP/1.1 200 OK\"\n",
      "INFO:httpx:HTTP Request: POST https://api.openai.com/v1/embeddings \"HTTP/1.1 200 OK\"\n",
      "INFO:httpx:HTTP Request: POST https://api.openai.com/v1/embeddings \"HTTP/1.1 200 OK\"\n",
      "INFO:httpx:HTTP Request: POST https://api.openai.com/v1/embeddings \"HTTP/1.1 200 OK\"\n",
      "INFO:httpx:HTTP Request: POST https://api.openai.com/v1/embeddings \"HTTP/1.1 200 OK\"\n",
      "INFO:httpx:HTTP Request: POST https://api.openai.com/v1/embeddings \"HTTP/1.1 200 OK\"\n",
      "INFO:httpx:HTTP Request: POST https://api.openai.com/v1/embeddings \"HTTP/1.1 200 OK\"\n",
      "INFO:httpx:HTTP Request: POST https://api.openai.com/v1/embeddings \"HTTP/1.1 200 OK\"\n",
      "INFO:httpx:HTTP Request: POST https://api.openai.com/v1/embeddings \"HTTP/1.1 200 OK\"\n",
      "INFO:httpx:HTTP Request: POST https://api.openai.com/v1/embeddings \"HTTP/1.1 200 OK\"\n",
      "INFO:app.eval:No erroneous columns to remove\n"
     ]
    },
    {
     "name": "stdout",
     "output_type": "stream",
     "text": [
      "                                               input  \\\n",
      "0  What is the role of Vox Media in the productio...   \n",
      "1  Who hosts the weekly public radio show \"This A...   \n",
      "2  How is the melting of polar ice affecting sea ...   \n",
      "3  How does Freakonomics explore the hidden side ...   \n",
      "4  How does George Orwell's '1984' explore the th...   \n",
      "\n",
      "                                              output  \n",
      "0  [page_content='Explained is a fascinating docu...  \n",
      "1  [page_content='This American Life is a weekly ...  \n",
      "2  [page_content='Featuring insights from leading...  \n",
      "3  [page_content='Freakonomics, a groundbreaking ...  \n",
      "4  [page_content=\"Living under rigid control, Win...  \n"
     ]
    },
    {
     "data": {
      "text/plain": "Creating CSV from Arrow format:   0%|          | 0/1 [00:00<?, ?ba/s]",
      "application/vnd.jupyter.widget-view+json": {
       "version_major": 2,
       "version_minor": 0,
       "model_id": "8106709ca381496fa40de78c6deb0480"
      }
     },
     "metadata": {},
     "output_type": "display_data"
    },
    {
     "data": {
      "text/plain": "Evaluating:   0%|          | 0/20 [00:00<?, ?it/s]",
      "application/vnd.jupyter.widget-view+json": {
       "version_major": 2,
       "version_minor": 0,
       "model_id": "35113fa6ccdf4e809a371bc321b22f16"
      }
     },
     "metadata": {},
     "output_type": "display_data"
    },
    {
     "name": "stderr",
     "output_type": "stream",
     "text": [
      "INFO:httpx:HTTP Request: POST https://api.openai.com/v1/chat/completions \"HTTP/1.1 200 OK\"\n",
      "INFO:httpx:HTTP Request: POST https://api.openai.com/v1/chat/completions \"HTTP/1.1 200 OK\"\n",
      "INFO:httpx:HTTP Request: POST https://api.openai.com/v1/chat/completions \"HTTP/1.1 200 OK\"\n",
      "INFO:httpx:HTTP Request: POST https://api.openai.com/v1/chat/completions \"HTTP/1.1 200 OK\"\n",
      "INFO:httpx:HTTP Request: POST https://api.openai.com/v1/chat/completions \"HTTP/1.1 200 OK\"\n",
      "INFO:httpx:HTTP Request: POST https://api.openai.com/v1/chat/completions \"HTTP/1.1 200 OK\"\n",
      "INFO:httpx:HTTP Request: POST https://api.openai.com/v1/chat/completions \"HTTP/1.1 200 OK\"\n",
      "INFO:httpx:HTTP Request: POST https://api.openai.com/v1/chat/completions \"HTTP/1.1 200 OK\"\n",
      "INFO:httpx:HTTP Request: POST https://api.openai.com/v1/chat/completions \"HTTP/1.1 200 OK\"\n",
      "INFO:httpx:HTTP Request: POST https://api.openai.com/v1/chat/completions \"HTTP/1.1 200 OK\"\n",
      "INFO:httpx:HTTP Request: POST https://api.openai.com/v1/chat/completions \"HTTP/1.1 200 OK\"\n",
      "INFO:httpx:HTTP Request: POST https://api.openai.com/v1/chat/completions \"HTTP/1.1 200 OK\"\n",
      "INFO:httpx:HTTP Request: POST https://api.openai.com/v1/chat/completions \"HTTP/1.1 200 OK\"\n",
      "INFO:httpx:HTTP Request: POST https://api.openai.com/v1/chat/completions \"HTTP/1.1 200 OK\"\n",
      "INFO:httpx:HTTP Request: POST https://api.openai.com/v1/chat/completions \"HTTP/1.1 200 OK\"\n",
      "INFO:httpx:HTTP Request: POST https://api.openai.com/v1/chat/completions \"HTTP/1.1 200 OK\"\n",
      "INFO:httpx:HTTP Request: POST https://api.openai.com/v1/chat/completions \"HTTP/1.1 200 OK\"\n",
      "INFO:httpx:HTTP Request: POST https://api.openai.com/v1/chat/completions \"HTTP/1.1 200 OK\"\n",
      "INFO:httpx:HTTP Request: POST https://api.openai.com/v1/chat/completions \"HTTP/1.1 200 OK\"\n",
      "INFO:httpx:HTTP Request: POST https://api.openai.com/v1/chat/completions \"HTTP/1.1 200 OK\"\n",
      "INFO:httpx:HTTP Request: POST https://api.openai.com/v1/chat/completions \"HTTP/1.1 200 OK\"\n",
      "INFO:httpx:HTTP Request: POST https://api.openai.com/v1/chat/completions \"HTTP/1.1 200 OK\"\n",
      "INFO:httpx:HTTP Request: POST https://api.openai.com/v1/chat/completions \"HTTP/1.1 200 OK\"\n",
      "INFO:httpx:HTTP Request: POST https://api.openai.com/v1/chat/completions \"HTTP/1.1 200 OK\"\n",
      "INFO:httpx:HTTP Request: POST https://api.openai.com/v1/chat/completions \"HTTP/1.1 200 OK\"\n",
      "INFO:httpx:HTTP Request: POST https://api.openai.com/v1/chat/completions \"HTTP/1.1 200 OK\"\n",
      "INFO:httpx:HTTP Request: POST https://api.openai.com/v1/chat/completions \"HTTP/1.1 200 OK\"\n",
      "INFO:httpx:HTTP Request: POST https://api.openai.com/v1/chat/completions \"HTTP/1.1 200 OK\"\n",
      "INFO:httpx:HTTP Request: POST https://api.openai.com/v1/chat/completions \"HTTP/1.1 200 OK\"\n",
      "INFO:httpx:HTTP Request: POST https://api.openai.com/v1/chat/completions \"HTTP/1.1 200 OK\"\n",
      "INFO:httpx:HTTP Request: POST https://api.openai.com/v1/chat/completions \"HTTP/1.1 200 OK\"\n",
      "INFO:httpx:HTTP Request: POST https://api.openai.com/v1/chat/completions \"HTTP/1.1 200 OK\"\n",
      "INFO:httpx:HTTP Request: POST https://api.openai.com/v1/chat/completions \"HTTP/1.1 200 OK\"\n",
      "INFO:httpx:HTTP Request: POST https://api.openai.com/v1/chat/completions \"HTTP/1.1 200 OK\"\n",
      "INFO:httpx:HTTP Request: POST https://api.openai.com/v1/chat/completions \"HTTP/1.1 200 OK\"\n",
      "INFO:httpx:HTTP Request: POST https://api.openai.com/v1/chat/completions \"HTTP/1.1 200 OK\"\n",
      "INFO:httpx:HTTP Request: POST https://api.openai.com/v1/chat/completions \"HTTP/1.1 200 OK\"\n",
      "INFO:httpx:HTTP Request: POST https://api.openai.com/v1/chat/completions \"HTTP/1.1 200 OK\"\n",
      "INFO:httpx:HTTP Request: POST https://api.openai.com/v1/chat/completions \"HTTP/1.1 200 OK\"\n",
      "INFO:httpx:HTTP Request: POST https://api.openai.com/v1/chat/completions \"HTTP/1.1 200 OK\"\n"
     ]
    }
   ],
   "source": [
    "from app.eval import eval_responses_pipeline\n",
    "\n",
    "final = eval_responses_pipeline(\"test\")"
   ],
   "metadata": {
    "collapsed": false,
    "ExecuteTime": {
     "end_time": "2024-06-18T22:51:48.936099Z",
     "start_time": "2024-06-18T22:51:36.973161Z"
    }
   },
   "id": "3920ba1b34f60810",
   "execution_count": 1
  },
  {
   "cell_type": "code",
   "outputs": [
    {
     "data": {
      "text/plain": "                                            question  \\\n0  What is the role of Vox Media in the productio...   \n1  Who hosts the weekly public radio show \"This A...   \n2  How is the melting of polar ice affecting sea ...   \n3  How does Freakonomics explore the hidden side ...   \n4  How does George Orwell's '1984' explore the th...   \n5          How does global warming raise sea levels?   \n6  Who's the host of Vox Media's Netflix docuseries?   \n7  What's the danger in '1984' from Winston's reb...   \n8  How does Walter White's illegal biz impact his...   \n9  How do storytelling and themes in \"This Americ...   \n\n                                      synth_contexts  \\\n0  [content: Explained is a fascinating docuserie...   \n1  [content: This American Life is a weekly publi...   \n2  [content: This comprehensive article published...   \n3  [content: Freakonomics, a groundbreaking colla...   \n4  [content: George Orwell’s '1984', published in...   \n5  [content: This comprehensive article published...   \n6  [content: Explained is a fascinating docuserie...   \n7  [content: George Orwell’s '1984', published in...   \n8  [content: Breaking Bad, created by Vince Gilli...   \n9  [content: This American Life is a weekly publi...   \n\n                                        ground_truth evolution_type  \\\n0     Vox Media produced the docuseries 'Explained'.         simple   \n1  The weekly public radio show 'This American Li...         simple   \n2  The melting of polar ice is causing sea levels...         simple   \n3  Freakonomics explores the hidden side of every...         simple   \n4  George Orwell's '1984' explores the themes of ...         simple   \n5  Global warming raises sea levels by causing th...      reasoning   \n6  The host of Vox Media's Netflix docuseries 'Ex...      reasoning   \n7  The danger in '1984' from Winston's rebellion ...      reasoning   \n8                                                nan      reasoning   \n9  In 'This American Life,' the storytelling appr...  multi_context   \n\n                                      synth_metadata  episode_done  \\\n0  [{'int_id': '108', 'kind': 'TV Show', 'row': 7...          True   \n1  [{'int_id': '109', 'kind': 'Podcast', 'row': 8...          True   \n2  [{'int_id': '105', 'kind': 'Article', 'row': 4...          True   \n3  [{'int_id': '107', 'kind': 'Book', 'row': 6, '...          True   \n4  [{'int_id': '103', 'kind': 'Book', 'row': 2, '...          True   \n5  [{'int_id': '105', 'kind': 'Article', 'row': 4...          True   \n6  [{'int_id': '108', 'kind': 'TV Show', 'row': 7...          True   \n7  [{'int_id': '103', 'kind': 'Book', 'row': 2, '...          True   \n8  [{'int_id': '102', 'kind': 'TV Show', 'row': 1...          True   \n9  [{'int_id': '109', 'kind': 'Podcast', 'row': 8...          True   \n\n                                            contexts  \\\n0  [Explained is a fascinating docuseries produce...   \n1  [This American Life is a weekly public radio s...   \n2  [Featuring insights from leading climatologist...   \n3  [Freakonomics, a groundbreaking collaboration ...   \n4  [Living under rigid control, Winston finds him...   \n5  [Featuring insights from leading climatologist...   \n6  [Explained is a fascinating docuseries produce...   \n7  [Living under rigid control, Winston finds him...   \n8  [It follows the life of Walter White (played b...   \n9  [Since its inception in 1995, This American Li...   \n\n                                            metadata  context_precision  \\\n0  [{'int_id': 108.0, 'kind': 'TV Show', 'title':...           1.000000   \n1  [{'int_id': 109.0, 'kind': 'Podcast', 'title':...           0.500000   \n2  [{'int_id': 105.0, 'kind': 'Article', 'title':...           1.000000   \n3  [{'int_id': 107.0, 'kind': 'Book', 'title': 'F...           1.000000   \n4  [{'int_id': 103.0, 'kind': 'Book', 'title': '1...           1.000000   \n5  [{'int_id': 105.0, 'kind': 'Article', 'title':...           0.833333   \n6  [{'int_id': 108.0, 'kind': 'TV Show', 'title':...           1.000000   \n7  [{'int_id': 103.0, 'kind': 'Book', 'title': '1...           1.000000   \n8  [{'int_id': 102.0, 'kind': 'TV Show', 'title':...           0.000000   \n9  [{'int_id': 109.0, 'kind': 'Podcast', 'title':...           1.000000   \n\n   context_recall  \n0        1.000000  \n1        1.000000  \n2        1.000000  \n3        1.000000  \n4        1.000000  \n5        1.000000  \n6        1.000000  \n7        1.000000  \n8        0.000000  \n9        0.666667  ",
      "text/html": "<div>\n<style scoped>\n    .dataframe tbody tr th:only-of-type {\n        vertical-align: middle;\n    }\n\n    .dataframe tbody tr th {\n        vertical-align: top;\n    }\n\n    .dataframe thead th {\n        text-align: right;\n    }\n</style>\n<table border=\"1\" class=\"dataframe\">\n  <thead>\n    <tr style=\"text-align: right;\">\n      <th></th>\n      <th>question</th>\n      <th>synth_contexts</th>\n      <th>ground_truth</th>\n      <th>evolution_type</th>\n      <th>synth_metadata</th>\n      <th>episode_done</th>\n      <th>contexts</th>\n      <th>metadata</th>\n      <th>context_precision</th>\n      <th>context_recall</th>\n    </tr>\n  </thead>\n  <tbody>\n    <tr>\n      <th>0</th>\n      <td>What is the role of Vox Media in the productio...</td>\n      <td>[content: Explained is a fascinating docuserie...</td>\n      <td>Vox Media produced the docuseries 'Explained'.</td>\n      <td>simple</td>\n      <td>[{'int_id': '108', 'kind': 'TV Show', 'row': 7...</td>\n      <td>True</td>\n      <td>[Explained is a fascinating docuseries produce...</td>\n      <td>[{'int_id': 108.0, 'kind': 'TV Show', 'title':...</td>\n      <td>1.000000</td>\n      <td>1.000000</td>\n    </tr>\n    <tr>\n      <th>1</th>\n      <td>Who hosts the weekly public radio show \"This A...</td>\n      <td>[content: This American Life is a weekly publi...</td>\n      <td>The weekly public radio show 'This American Li...</td>\n      <td>simple</td>\n      <td>[{'int_id': '109', 'kind': 'Podcast', 'row': 8...</td>\n      <td>True</td>\n      <td>[This American Life is a weekly public radio s...</td>\n      <td>[{'int_id': 109.0, 'kind': 'Podcast', 'title':...</td>\n      <td>0.500000</td>\n      <td>1.000000</td>\n    </tr>\n    <tr>\n      <th>2</th>\n      <td>How is the melting of polar ice affecting sea ...</td>\n      <td>[content: This comprehensive article published...</td>\n      <td>The melting of polar ice is causing sea levels...</td>\n      <td>simple</td>\n      <td>[{'int_id': '105', 'kind': 'Article', 'row': 4...</td>\n      <td>True</td>\n      <td>[Featuring insights from leading climatologist...</td>\n      <td>[{'int_id': 105.0, 'kind': 'Article', 'title':...</td>\n      <td>1.000000</td>\n      <td>1.000000</td>\n    </tr>\n    <tr>\n      <th>3</th>\n      <td>How does Freakonomics explore the hidden side ...</td>\n      <td>[content: Freakonomics, a groundbreaking colla...</td>\n      <td>Freakonomics explores the hidden side of every...</td>\n      <td>simple</td>\n      <td>[{'int_id': '107', 'kind': 'Book', 'row': 6, '...</td>\n      <td>True</td>\n      <td>[Freakonomics, a groundbreaking collaboration ...</td>\n      <td>[{'int_id': 107.0, 'kind': 'Book', 'title': 'F...</td>\n      <td>1.000000</td>\n      <td>1.000000</td>\n    </tr>\n    <tr>\n      <th>4</th>\n      <td>How does George Orwell's '1984' explore the th...</td>\n      <td>[content: George Orwell’s '1984', published in...</td>\n      <td>George Orwell's '1984' explores the themes of ...</td>\n      <td>simple</td>\n      <td>[{'int_id': '103', 'kind': 'Book', 'row': 2, '...</td>\n      <td>True</td>\n      <td>[Living under rigid control, Winston finds him...</td>\n      <td>[{'int_id': 103.0, 'kind': 'Book', 'title': '1...</td>\n      <td>1.000000</td>\n      <td>1.000000</td>\n    </tr>\n    <tr>\n      <th>5</th>\n      <td>How does global warming raise sea levels?</td>\n      <td>[content: This comprehensive article published...</td>\n      <td>Global warming raises sea levels by causing th...</td>\n      <td>reasoning</td>\n      <td>[{'int_id': '105', 'kind': 'Article', 'row': 4...</td>\n      <td>True</td>\n      <td>[Featuring insights from leading climatologist...</td>\n      <td>[{'int_id': 105.0, 'kind': 'Article', 'title':...</td>\n      <td>0.833333</td>\n      <td>1.000000</td>\n    </tr>\n    <tr>\n      <th>6</th>\n      <td>Who's the host of Vox Media's Netflix docuseries?</td>\n      <td>[content: Explained is a fascinating docuserie...</td>\n      <td>The host of Vox Media's Netflix docuseries 'Ex...</td>\n      <td>reasoning</td>\n      <td>[{'int_id': '108', 'kind': 'TV Show', 'row': 7...</td>\n      <td>True</td>\n      <td>[Explained is a fascinating docuseries produce...</td>\n      <td>[{'int_id': 108.0, 'kind': 'TV Show', 'title':...</td>\n      <td>1.000000</td>\n      <td>1.000000</td>\n    </tr>\n    <tr>\n      <th>7</th>\n      <td>What's the danger in '1984' from Winston's reb...</td>\n      <td>[content: George Orwell’s '1984', published in...</td>\n      <td>The danger in '1984' from Winston's rebellion ...</td>\n      <td>reasoning</td>\n      <td>[{'int_id': '103', 'kind': 'Book', 'row': 2, '...</td>\n      <td>True</td>\n      <td>[Living under rigid control, Winston finds him...</td>\n      <td>[{'int_id': 103.0, 'kind': 'Book', 'title': '1...</td>\n      <td>1.000000</td>\n      <td>1.000000</td>\n    </tr>\n    <tr>\n      <th>8</th>\n      <td>How does Walter White's illegal biz impact his...</td>\n      <td>[content: Breaking Bad, created by Vince Gilli...</td>\n      <td>nan</td>\n      <td>reasoning</td>\n      <td>[{'int_id': '102', 'kind': 'TV Show', 'row': 1...</td>\n      <td>True</td>\n      <td>[It follows the life of Walter White (played b...</td>\n      <td>[{'int_id': 102.0, 'kind': 'TV Show', 'title':...</td>\n      <td>0.000000</td>\n      <td>0.000000</td>\n    </tr>\n    <tr>\n      <th>9</th>\n      <td>How do storytelling and themes in \"This Americ...</td>\n      <td>[content: This American Life is a weekly publi...</td>\n      <td>In 'This American Life,' the storytelling appr...</td>\n      <td>multi_context</td>\n      <td>[{'int_id': '109', 'kind': 'Podcast', 'row': 8...</td>\n      <td>True</td>\n      <td>[Since its inception in 1995, This American Li...</td>\n      <td>[{'int_id': 109.0, 'kind': 'Podcast', 'title':...</td>\n      <td>1.000000</td>\n      <td>0.666667</td>\n    </tr>\n  </tbody>\n</table>\n</div>"
     },
     "execution_count": 3,
     "metadata": {},
     "output_type": "execute_result"
    }
   ],
   "source": [
    "final.head(10)"
   ],
   "metadata": {
    "collapsed": false,
    "ExecuteTime": {
     "end_time": "2024-06-18T22:54:20.713594Z",
     "start_time": "2024-06-18T22:54:20.709447Z"
    }
   },
   "id": "1f4fd4b45ad1c8f",
   "execution_count": 3
  },
  {
   "cell_type": "code",
   "outputs": [],
   "source": [],
   "metadata": {
    "collapsed": false
   },
   "id": "bd6134d15877466d"
  }
 ],
 "metadata": {
  "kernelspec": {
   "display_name": "Python 3",
   "language": "python",
   "name": "python3"
  },
  "language_info": {
   "codemirror_mode": {
    "name": "ipython",
    "version": 2
   },
   "file_extension": ".py",
   "mimetype": "text/x-python",
   "name": "python",
   "nbconvert_exporter": "python",
   "pygments_lexer": "ipython2",
   "version": "2.7.6"
  }
 },
 "nbformat": 4,
 "nbformat_minor": 5
}
