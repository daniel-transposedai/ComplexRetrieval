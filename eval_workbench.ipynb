{
 "cells": [
  {
   "cell_type": "markdown",
   "source": [
    "**Setup**\n"
   ],
   "metadata": {
    "collapsed": false
   },
   "id": "9151c4db62d5763c"
  },
  {
   "cell_type": "code",
   "outputs": [
    {
     "name": "stdout",
     "output_type": "stream",
     "text": [
      "/Users/dcampbel/Nextcloud/Repositories/masterclassRetrieval\n"
     ]
    }
   ],
   "source": [
    "import pandas as pd\n",
    "import os\n",
    "\n",
    "print(os.getcwd())\n",
    "index_name = \"live\""
   ],
   "metadata": {
    "collapsed": false,
    "ExecuteTime": {
     "end_time": "2024-06-19T05:01:58.632246Z",
     "start_time": "2024-06-19T05:01:58.400810Z"
    }
   },
   "id": "200714f621cf8183",
   "execution_count": 1
  },
  {
   "cell_type": "markdown",
   "source": [],
   "metadata": {
    "collapsed": false
   },
   "id": "f7197c811a9f3dfb"
  },
  {
   "cell_type": "markdown",
   "source": [
    "**Eval Pipeline - End-to-End Execution**"
   ],
   "metadata": {
    "collapsed": false
   },
   "id": "fc14f26f1a4e57ae"
  },
  {
   "cell_type": "code",
   "outputs": [
    {
     "name": "stderr",
     "output_type": "stream",
     "text": [
      "INFO:app.eval:Generating synthetic eval template..\n",
      "INFO:app.eval:Generating Context Responses..\n"
     ]
    },
    {
     "name": "stdout",
     "output_type": "stream",
     "text": [
      "Eval template set for live already exists. Skipping...\n",
      "<class 'list'>\n"
     ]
    },
    {
     "name": "stderr",
     "output_type": "stream",
     "text": [
      "INFO:httpx:HTTP Request: POST https://api.openai.com/v1/embeddings \"HTTP/1.1 200 OK\"\n",
      "INFO:httpx:HTTP Request: POST https://api.openai.com/v1/embeddings \"HTTP/1.1 200 OK\"\n",
      "INFO:httpx:HTTP Request: POST https://api.openai.com/v1/embeddings \"HTTP/1.1 200 OK\"\n",
      "INFO:httpx:HTTP Request: POST https://api.openai.com/v1/embeddings \"HTTP/1.1 200 OK\"\n",
      "INFO:httpx:HTTP Request: POST https://api.openai.com/v1/embeddings \"HTTP/1.1 200 OK\"\n",
      "INFO:httpx:HTTP Request: POST https://api.openai.com/v1/embeddings \"HTTP/1.1 200 OK\"\n",
      "INFO:httpx:HTTP Request: POST https://api.openai.com/v1/embeddings \"HTTP/1.1 200 OK\"\n",
      "INFO:httpx:HTTP Request: POST https://api.openai.com/v1/embeddings \"HTTP/1.1 200 OK\"\n",
      "INFO:httpx:HTTP Request: POST https://api.openai.com/v1/embeddings \"HTTP/1.1 200 OK\"\n",
      "INFO:httpx:HTTP Request: POST https://api.openai.com/v1/embeddings \"HTTP/1.1 200 OK\"\n",
      "INFO:httpx:HTTP Request: POST https://api.openai.com/v1/embeddings \"HTTP/1.1 200 OK\"\n",
      "INFO:httpx:HTTP Request: POST https://api.openai.com/v1/embeddings \"HTTP/1.1 200 OK\"\n",
      "INFO:httpx:HTTP Request: POST https://api.openai.com/v1/embeddings \"HTTP/1.1 200 OK\"\n",
      "INFO:httpx:HTTP Request: POST https://api.openai.com/v1/embeddings \"HTTP/1.1 200 OK\"\n",
      "INFO:httpx:HTTP Request: POST https://api.openai.com/v1/embeddings \"HTTP/1.1 200 OK\"\n",
      "INFO:httpx:HTTP Request: POST https://api.openai.com/v1/embeddings \"HTTP/1.1 200 OK\"\n",
      "INFO:httpx:HTTP Request: POST https://api.openai.com/v1/embeddings \"HTTP/1.1 200 OK\"\n",
      "INFO:httpx:HTTP Request: POST https://api.openai.com/v1/embeddings \"HTTP/1.1 200 OK\"\n",
      "INFO:httpx:HTTP Request: POST https://api.openai.com/v1/embeddings \"HTTP/1.1 200 OK\"\n",
      "INFO:httpx:HTTP Request: POST https://api.openai.com/v1/embeddings \"HTTP/1.1 200 OK\"\n",
      "INFO:httpx:HTTP Request: POST https://api.openai.com/v1/embeddings \"HTTP/1.1 200 OK\"\n",
      "INFO:httpx:HTTP Request: POST https://api.openai.com/v1/embeddings \"HTTP/1.1 200 OK\"\n",
      "INFO:httpx:HTTP Request: POST https://api.openai.com/v1/embeddings \"HTTP/1.1 200 OK\"\n",
      "INFO:httpx:HTTP Request: POST https://api.openai.com/v1/embeddings \"HTTP/1.1 200 OK\"\n",
      "INFO:httpx:HTTP Request: POST https://api.openai.com/v1/embeddings \"HTTP/1.1 200 OK\"\n",
      "INFO:httpx:HTTP Request: POST https://api.openai.com/v1/embeddings \"HTTP/1.1 200 OK\"\n",
      "INFO:httpx:HTTP Request: POST https://api.openai.com/v1/embeddings \"HTTP/1.1 200 OK\"\n",
      "INFO:httpx:HTTP Request: POST https://api.openai.com/v1/embeddings \"HTTP/1.1 200 OK\"\n",
      "INFO:httpx:HTTP Request: POST https://api.openai.com/v1/embeddings \"HTTP/1.1 200 OK\"\n",
      "INFO:httpx:HTTP Request: POST https://api.openai.com/v1/embeddings \"HTTP/1.1 200 OK\"\n",
      "INFO:httpx:HTTP Request: POST https://api.openai.com/v1/embeddings \"HTTP/1.1 200 OK\"\n",
      "INFO:httpx:HTTP Request: POST https://api.openai.com/v1/embeddings \"HTTP/1.1 200 OK\"\n",
      "INFO:httpx:HTTP Request: POST https://api.openai.com/v1/embeddings \"HTTP/1.1 200 OK\"\n",
      "INFO:httpx:HTTP Request: POST https://api.openai.com/v1/embeddings \"HTTP/1.1 200 OK\"\n",
      "INFO:httpx:HTTP Request: POST https://api.openai.com/v1/embeddings \"HTTP/1.1 200 OK\"\n",
      "INFO:httpx:HTTP Request: POST https://api.openai.com/v1/embeddings \"HTTP/1.1 200 OK\"\n",
      "INFO:app.eval:No erroneous columns to remove\n"
     ]
    },
    {
     "name": "stdout",
     "output_type": "stream",
     "text": [
      "                                               input  \\\n",
      "0  What is the importance of client assessment in...   \n",
      "1  Why is ridicule considered a powerful factor i...   \n",
      "2  What is the difference between listening and h...   \n",
      "3  What are some effective communication techniqu...   \n",
      "4  What strategies do full fee real estate agents...   \n",
      "\n",
      "                                              output  \n",
      "0  [page_content=\"Find out what's really importan...  \n",
      "1  [page_content='Ridiculously effective?' metada...  \n",
      "2  [page_content='How important is it generally i...  \n",
      "3  [page_content='How do you say no?' metadata={'...  \n",
      "4  [page_content=\"What a real estate agent's got ...  \n"
     ]
    },
    {
     "data": {
      "text/plain": "Creating CSV from Arrow format:   0%|          | 0/1 [00:00<?, ?ba/s]",
      "application/vnd.jupyter.widget-view+json": {
       "version_major": 2,
       "version_minor": 0,
       "model_id": "bd9011b3c15b45ed9a83644618fc82ad"
      }
     },
     "metadata": {},
     "output_type": "display_data"
    },
    {
     "name": "stderr",
     "output_type": "stream",
     "text": [
      "INFO:app.eval:Evaluating..\n"
     ]
    },
    {
     "data": {
      "text/plain": "Evaluating:   0%|          | 0/72 [00:00<?, ?it/s]",
      "application/vnd.jupyter.widget-view+json": {
       "version_major": 2,
       "version_minor": 0,
       "model_id": "7d17ed36756349499733b3090962c639"
      }
     },
     "metadata": {},
     "output_type": "display_data"
    },
    {
     "name": "stderr",
     "output_type": "stream",
     "text": [
      "INFO:httpx:HTTP Request: POST https://api.openai.com/v1/chat/completions \"HTTP/1.1 200 OK\"\n",
      "INFO:httpx:HTTP Request: POST https://api.openai.com/v1/chat/completions \"HTTP/1.1 200 OK\"\n",
      "INFO:httpx:HTTP Request: POST https://api.openai.com/v1/chat/completions \"HTTP/1.1 200 OK\"\n",
      "INFO:httpx:HTTP Request: POST https://api.openai.com/v1/chat/completions \"HTTP/1.1 200 OK\"\n",
      "INFO:httpx:HTTP Request: POST https://api.openai.com/v1/chat/completions \"HTTP/1.1 200 OK\"\n",
      "INFO:httpx:HTTP Request: POST https://api.openai.com/v1/chat/completions \"HTTP/1.1 200 OK\"\n",
      "INFO:httpx:HTTP Request: POST https://api.openai.com/v1/chat/completions \"HTTP/1.1 200 OK\"\n",
      "INFO:httpx:HTTP Request: POST https://api.openai.com/v1/chat/completions \"HTTP/1.1 200 OK\"\n",
      "INFO:httpx:HTTP Request: POST https://api.openai.com/v1/chat/completions \"HTTP/1.1 200 OK\"\n",
      "INFO:httpx:HTTP Request: POST https://api.openai.com/v1/chat/completions \"HTTP/1.1 200 OK\"\n",
      "INFO:httpx:HTTP Request: POST https://api.openai.com/v1/chat/completions \"HTTP/1.1 200 OK\"\n",
      "INFO:httpx:HTTP Request: POST https://api.openai.com/v1/chat/completions \"HTTP/1.1 200 OK\"\n",
      "INFO:httpx:HTTP Request: POST https://api.openai.com/v1/chat/completions \"HTTP/1.1 200 OK\"\n",
      "INFO:httpx:HTTP Request: POST https://api.openai.com/v1/chat/completions \"HTTP/1.1 200 OK\"\n",
      "INFO:httpx:HTTP Request: POST https://api.openai.com/v1/chat/completions \"HTTP/1.1 200 OK\"\n",
      "INFO:httpx:HTTP Request: POST https://api.openai.com/v1/chat/completions \"HTTP/1.1 200 OK\"\n",
      "INFO:httpx:HTTP Request: POST https://api.openai.com/v1/chat/completions \"HTTP/1.1 200 OK\"\n",
      "INFO:httpx:HTTP Request: POST https://api.openai.com/v1/chat/completions \"HTTP/1.1 200 OK\"\n",
      "INFO:httpx:HTTP Request: POST https://api.openai.com/v1/chat/completions \"HTTP/1.1 200 OK\"\n",
      "INFO:httpx:HTTP Request: POST https://api.openai.com/v1/chat/completions \"HTTP/1.1 200 OK\"\n",
      "INFO:httpx:HTTP Request: POST https://api.openai.com/v1/chat/completions \"HTTP/1.1 200 OK\"\n",
      "INFO:httpx:HTTP Request: POST https://api.openai.com/v1/chat/completions \"HTTP/1.1 200 OK\"\n",
      "INFO:httpx:HTTP Request: POST https://api.openai.com/v1/chat/completions \"HTTP/1.1 200 OK\"\n",
      "INFO:httpx:HTTP Request: POST https://api.openai.com/v1/chat/completions \"HTTP/1.1 200 OK\"\n",
      "INFO:httpx:HTTP Request: POST https://api.openai.com/v1/chat/completions \"HTTP/1.1 200 OK\"\n",
      "INFO:httpx:HTTP Request: POST https://api.openai.com/v1/chat/completions \"HTTP/1.1 200 OK\"\n",
      "INFO:httpx:HTTP Request: POST https://api.openai.com/v1/chat/completions \"HTTP/1.1 200 OK\"\n",
      "INFO:httpx:HTTP Request: POST https://api.openai.com/v1/chat/completions \"HTTP/1.1 200 OK\"\n",
      "INFO:httpx:HTTP Request: POST https://api.openai.com/v1/chat/completions \"HTTP/1.1 200 OK\"\n",
      "INFO:httpx:HTTP Request: POST https://api.openai.com/v1/chat/completions \"HTTP/1.1 200 OK\"\n",
      "INFO:httpx:HTTP Request: POST https://api.openai.com/v1/chat/completions \"HTTP/1.1 200 OK\"\n",
      "INFO:httpx:HTTP Request: POST https://api.openai.com/v1/chat/completions \"HTTP/1.1 200 OK\"\n",
      "INFO:httpx:HTTP Request: POST https://api.openai.com/v1/chat/completions \"HTTP/1.1 200 OK\"\n",
      "INFO:httpx:HTTP Request: POST https://api.openai.com/v1/chat/completions \"HTTP/1.1 200 OK\"\n",
      "INFO:httpx:HTTP Request: POST https://api.openai.com/v1/chat/completions \"HTTP/1.1 200 OK\"\n",
      "INFO:httpx:HTTP Request: POST https://api.openai.com/v1/chat/completions \"HTTP/1.1 200 OK\"\n",
      "INFO:httpx:HTTP Request: POST https://api.openai.com/v1/chat/completions \"HTTP/1.1 200 OK\"\n",
      "INFO:httpx:HTTP Request: POST https://api.openai.com/v1/chat/completions \"HTTP/1.1 200 OK\"\n",
      "INFO:httpx:HTTP Request: POST https://api.openai.com/v1/chat/completions \"HTTP/1.1 200 OK\"\n",
      "INFO:httpx:HTTP Request: POST https://api.openai.com/v1/chat/completions \"HTTP/1.1 200 OK\"\n",
      "INFO:httpx:HTTP Request: POST https://api.openai.com/v1/chat/completions \"HTTP/1.1 200 OK\"\n",
      "INFO:httpx:HTTP Request: POST https://api.openai.com/v1/chat/completions \"HTTP/1.1 200 OK\"\n",
      "INFO:httpx:HTTP Request: POST https://api.openai.com/v1/chat/completions \"HTTP/1.1 200 OK\"\n",
      "INFO:httpx:HTTP Request: POST https://api.openai.com/v1/chat/completions \"HTTP/1.1 200 OK\"\n",
      "INFO:httpx:HTTP Request: POST https://api.openai.com/v1/chat/completions \"HTTP/1.1 200 OK\"\n",
      "INFO:httpx:HTTP Request: POST https://api.openai.com/v1/chat/completions \"HTTP/1.1 200 OK\"\n",
      "INFO:httpx:HTTP Request: POST https://api.openai.com/v1/chat/completions \"HTTP/1.1 200 OK\"\n",
      "INFO:httpx:HTTP Request: POST https://api.openai.com/v1/chat/completions \"HTTP/1.1 200 OK\"\n",
      "INFO:httpx:HTTP Request: POST https://api.openai.com/v1/chat/completions \"HTTP/1.1 200 OK\"\n",
      "INFO:httpx:HTTP Request: POST https://api.openai.com/v1/chat/completions \"HTTP/1.1 200 OK\"\n",
      "INFO:httpx:HTTP Request: POST https://api.openai.com/v1/chat/completions \"HTTP/1.1 200 OK\"\n",
      "INFO:httpx:HTTP Request: POST https://api.openai.com/v1/chat/completions \"HTTP/1.1 200 OK\"\n",
      "INFO:httpx:HTTP Request: POST https://api.openai.com/v1/chat/completions \"HTTP/1.1 200 OK\"\n",
      "INFO:httpx:HTTP Request: POST https://api.openai.com/v1/chat/completions \"HTTP/1.1 200 OK\"\n",
      "INFO:httpx:HTTP Request: POST https://api.openai.com/v1/chat/completions \"HTTP/1.1 200 OK\"\n",
      "INFO:httpx:HTTP Request: POST https://api.openai.com/v1/chat/completions \"HTTP/1.1 200 OK\"\n",
      "INFO:httpx:HTTP Request: POST https://api.openai.com/v1/chat/completions \"HTTP/1.1 200 OK\"\n",
      "INFO:httpx:HTTP Request: POST https://api.openai.com/v1/chat/completions \"HTTP/1.1 200 OK\"\n",
      "INFO:httpx:HTTP Request: POST https://api.openai.com/v1/chat/completions \"HTTP/1.1 200 OK\"\n",
      "INFO:httpx:HTTP Request: POST https://api.openai.com/v1/chat/completions \"HTTP/1.1 200 OK\"\n",
      "INFO:httpx:HTTP Request: POST https://api.openai.com/v1/chat/completions \"HTTP/1.1 200 OK\"\n",
      "INFO:httpx:HTTP Request: POST https://api.openai.com/v1/chat/completions \"HTTP/1.1 200 OK\"\n",
      "INFO:httpx:HTTP Request: POST https://api.openai.com/v1/chat/completions \"HTTP/1.1 200 OK\"\n",
      "INFO:httpx:HTTP Request: POST https://api.openai.com/v1/chat/completions \"HTTP/1.1 200 OK\"\n",
      "INFO:httpx:HTTP Request: POST https://api.openai.com/v1/chat/completions \"HTTP/1.1 200 OK\"\n",
      "INFO:httpx:HTTP Request: POST https://api.openai.com/v1/chat/completions \"HTTP/1.1 200 OK\"\n",
      "INFO:httpx:HTTP Request: POST https://api.openai.com/v1/chat/completions \"HTTP/1.1 200 OK\"\n",
      "INFO:httpx:HTTP Request: POST https://api.openai.com/v1/chat/completions \"HTTP/1.1 200 OK\"\n",
      "INFO:httpx:HTTP Request: POST https://api.openai.com/v1/chat/completions \"HTTP/1.1 200 OK\"\n",
      "INFO:httpx:HTTP Request: POST https://api.openai.com/v1/chat/completions \"HTTP/1.1 200 OK\"\n",
      "INFO:httpx:HTTP Request: POST https://api.openai.com/v1/chat/completions \"HTTP/1.1 200 OK\"\n",
      "INFO:httpx:HTTP Request: POST https://api.openai.com/v1/chat/completions \"HTTP/1.1 200 OK\"\n",
      "INFO:httpx:HTTP Request: POST https://api.openai.com/v1/chat/completions \"HTTP/1.1 200 OK\"\n",
      "INFO:httpx:HTTP Request: POST https://api.openai.com/v1/chat/completions \"HTTP/1.1 200 OK\"\n",
      "INFO:httpx:HTTP Request: POST https://api.openai.com/v1/chat/completions \"HTTP/1.1 200 OK\"\n",
      "INFO:httpx:HTTP Request: POST https://api.openai.com/v1/chat/completions \"HTTP/1.1 200 OK\"\n",
      "INFO:httpx:HTTP Request: POST https://api.openai.com/v1/chat/completions \"HTTP/1.1 200 OK\"\n",
      "INFO:httpx:HTTP Request: POST https://api.openai.com/v1/chat/completions \"HTTP/1.1 200 OK\"\n",
      "INFO:httpx:HTTP Request: POST https://api.openai.com/v1/chat/completions \"HTTP/1.1 200 OK\"\n",
      "INFO:httpx:HTTP Request: POST https://api.openai.com/v1/chat/completions \"HTTP/1.1 200 OK\"\n",
      "INFO:httpx:HTTP Request: POST https://api.openai.com/v1/chat/completions \"HTTP/1.1 200 OK\"\n",
      "INFO:httpx:HTTP Request: POST https://api.openai.com/v1/chat/completions \"HTTP/1.1 200 OK\"\n",
      "INFO:httpx:HTTP Request: POST https://api.openai.com/v1/chat/completions \"HTTP/1.1 200 OK\"\n",
      "INFO:httpx:HTTP Request: POST https://api.openai.com/v1/chat/completions \"HTTP/1.1 200 OK\"\n",
      "INFO:httpx:HTTP Request: POST https://api.openai.com/v1/chat/completions \"HTTP/1.1 200 OK\"\n",
      "INFO:httpx:HTTP Request: POST https://api.openai.com/v1/chat/completions \"HTTP/1.1 200 OK\"\n",
      "INFO:httpx:HTTP Request: POST https://api.openai.com/v1/chat/completions \"HTTP/1.1 200 OK\"\n",
      "INFO:httpx:HTTP Request: POST https://api.openai.com/v1/chat/completions \"HTTP/1.1 200 OK\"\n",
      "INFO:httpx:HTTP Request: POST https://api.openai.com/v1/chat/completions \"HTTP/1.1 200 OK\"\n",
      "INFO:httpx:HTTP Request: POST https://api.openai.com/v1/chat/completions \"HTTP/1.1 200 OK\"\n",
      "INFO:httpx:HTTP Request: POST https://api.openai.com/v1/chat/completions \"HTTP/1.1 200 OK\"\n",
      "INFO:httpx:HTTP Request: POST https://api.openai.com/v1/chat/completions \"HTTP/1.1 200 OK\"\n",
      "INFO:httpx:HTTP Request: POST https://api.openai.com/v1/chat/completions \"HTTP/1.1 200 OK\"\n",
      "INFO:httpx:HTTP Request: POST https://api.openai.com/v1/chat/completions \"HTTP/1.1 200 OK\"\n",
      "INFO:httpx:HTTP Request: POST https://api.openai.com/v1/chat/completions \"HTTP/1.1 200 OK\"\n",
      "INFO:httpx:HTTP Request: POST https://api.openai.com/v1/chat/completions \"HTTP/1.1 200 OK\"\n",
      "INFO:httpx:HTTP Request: POST https://api.openai.com/v1/chat/completions \"HTTP/1.1 200 OK\"\n",
      "INFO:httpx:HTTP Request: POST https://api.openai.com/v1/chat/completions \"HTTP/1.1 200 OK\"\n",
      "INFO:httpx:HTTP Request: POST https://api.openai.com/v1/chat/completions \"HTTP/1.1 200 OK\"\n",
      "INFO:httpx:HTTP Request: POST https://api.openai.com/v1/chat/completions \"HTTP/1.1 200 OK\"\n",
      "INFO:httpx:HTTP Request: POST https://api.openai.com/v1/chat/completions \"HTTP/1.1 200 OK\"\n",
      "INFO:httpx:HTTP Request: POST https://api.openai.com/v1/chat/completions \"HTTP/1.1 200 OK\"\n",
      "INFO:httpx:HTTP Request: POST https://api.openai.com/v1/chat/completions \"HTTP/1.1 200 OK\"\n",
      "INFO:httpx:HTTP Request: POST https://api.openai.com/v1/chat/completions \"HTTP/1.1 200 OK\"\n",
      "INFO:httpx:HTTP Request: POST https://api.openai.com/v1/chat/completions \"HTTP/1.1 200 OK\"\n",
      "INFO:httpx:HTTP Request: POST https://api.openai.com/v1/chat/completions \"HTTP/1.1 200 OK\"\n",
      "INFO:httpx:HTTP Request: POST https://api.openai.com/v1/chat/completions \"HTTP/1.1 200 OK\"\n",
      "INFO:httpx:HTTP Request: POST https://api.openai.com/v1/chat/completions \"HTTP/1.1 200 OK\"\n",
      "INFO:httpx:HTTP Request: POST https://api.openai.com/v1/chat/completions \"HTTP/1.1 200 OK\"\n",
      "INFO:httpx:HTTP Request: POST https://api.openai.com/v1/chat/completions \"HTTP/1.1 200 OK\"\n",
      "INFO:httpx:HTTP Request: POST https://api.openai.com/v1/chat/completions \"HTTP/1.1 200 OK\"\n",
      "INFO:httpx:HTTP Request: POST https://api.openai.com/v1/chat/completions \"HTTP/1.1 200 OK\"\n",
      "INFO:httpx:HTTP Request: POST https://api.openai.com/v1/chat/completions \"HTTP/1.1 200 OK\"\n",
      "INFO:httpx:HTTP Request: POST https://api.openai.com/v1/chat/completions \"HTTP/1.1 200 OK\"\n",
      "INFO:httpx:HTTP Request: POST https://api.openai.com/v1/chat/completions \"HTTP/1.1 200 OK\"\n",
      "INFO:httpx:HTTP Request: POST https://api.openai.com/v1/chat/completions \"HTTP/1.1 200 OK\"\n",
      "INFO:httpx:HTTP Request: POST https://api.openai.com/v1/chat/completions \"HTTP/1.1 200 OK\"\n",
      "INFO:httpx:HTTP Request: POST https://api.openai.com/v1/chat/completions \"HTTP/1.1 200 OK\"\n",
      "INFO:httpx:HTTP Request: POST https://api.openai.com/v1/chat/completions \"HTTP/1.1 200 OK\"\n",
      "INFO:httpx:HTTP Request: POST https://api.openai.com/v1/chat/completions \"HTTP/1.1 200 OK\"\n",
      "INFO:httpx:HTTP Request: POST https://api.openai.com/v1/chat/completions \"HTTP/1.1 200 OK\"\n",
      "INFO:httpx:HTTP Request: POST https://api.openai.com/v1/chat/completions \"HTTP/1.1 200 OK\"\n",
      "INFO:httpx:HTTP Request: POST https://api.openai.com/v1/chat/completions \"HTTP/1.1 200 OK\"\n",
      "INFO:httpx:HTTP Request: POST https://api.openai.com/v1/chat/completions \"HTTP/1.1 200 OK\"\n",
      "INFO:httpx:HTTP Request: POST https://api.openai.com/v1/chat/completions \"HTTP/1.1 200 OK\"\n",
      "INFO:httpx:HTTP Request: POST https://api.openai.com/v1/chat/completions \"HTTP/1.1 200 OK\"\n",
      "INFO:httpx:HTTP Request: POST https://api.openai.com/v1/chat/completions \"HTTP/1.1 200 OK\"\n",
      "INFO:httpx:HTTP Request: POST https://api.openai.com/v1/chat/completions \"HTTP/1.1 200 OK\"\n",
      "INFO:httpx:HTTP Request: POST https://api.openai.com/v1/chat/completions \"HTTP/1.1 200 OK\"\n",
      "INFO:httpx:HTTP Request: POST https://api.openai.com/v1/chat/completions \"HTTP/1.1 200 OK\"\n",
      "INFO:httpx:HTTP Request: POST https://api.openai.com/v1/chat/completions \"HTTP/1.1 200 OK\"\n",
      "INFO:httpx:HTTP Request: POST https://api.openai.com/v1/chat/completions \"HTTP/1.1 200 OK\"\n",
      "INFO:httpx:HTTP Request: POST https://api.openai.com/v1/chat/completions \"HTTP/1.1 200 OK\"\n",
      "INFO:httpx:HTTP Request: POST https://api.openai.com/v1/chat/completions \"HTTP/1.1 200 OK\"\n",
      "INFO:httpx:HTTP Request: POST https://api.openai.com/v1/chat/completions \"HTTP/1.1 200 OK\"\n",
      "INFO:httpx:HTTP Request: POST https://api.openai.com/v1/chat/completions \"HTTP/1.1 200 OK\"\n",
      "INFO:httpx:HTTP Request: POST https://api.openai.com/v1/chat/completions \"HTTP/1.1 200 OK\"\n",
      "INFO:httpx:HTTP Request: POST https://api.openai.com/v1/chat/completions \"HTTP/1.1 200 OK\"\n",
      "INFO:httpx:HTTP Request: POST https://api.openai.com/v1/chat/completions \"HTTP/1.1 200 OK\"\n",
      "INFO:httpx:HTTP Request: POST https://api.openai.com/v1/chat/completions \"HTTP/1.1 200 OK\"\n",
      "INFO:httpx:HTTP Request: POST https://api.openai.com/v1/chat/completions \"HTTP/1.1 200 OK\"\n",
      "INFO:httpx:HTTP Request: POST https://api.openai.com/v1/chat/completions \"HTTP/1.1 200 OK\"\n",
      "INFO:httpx:HTTP Request: POST https://api.openai.com/v1/chat/completions \"HTTP/1.1 200 OK\"\n",
      "INFO:httpx:HTTP Request: POST https://api.openai.com/v1/chat/completions \"HTTP/1.1 200 OK\"\n",
      "INFO:app.eval:Completed evaluation\n"
     ]
    }
   ],
   "source": [
    "from app.eval import eval_responses_pipeline\n",
    "\n",
    "final = eval_responses_pipeline(index_name)"
   ],
   "metadata": {
    "collapsed": false,
    "ExecuteTime": {
     "end_time": "2024-06-19T05:02:36.588124Z",
     "start_time": "2024-06-19T05:01:59.560434Z"
    }
   },
   "id": "94c40e795402ab36",
   "execution_count": 2
  },
  {
   "cell_type": "code",
   "outputs": [
    {
     "data": {
      "text/plain": "                                             question  \\\n0   What is the importance of client assessment in...   \n1   Why is ridicule considered a powerful factor i...   \n2   What is the difference between listening and h...   \n3   What are some effective communication techniqu...   \n4   What strategies do full fee real estate agents...   \n5   What does it mean to listen as a team during a...   \n6    What is the Black Swan Group and who founded it?   \n7   What was Chris Voss's role in handling interna...   \n8   What is the benefit of using calibrated questi...   \n9   What are some signs that indicate a problem wi...   \n10  How does mirroring demonstrate that you are li...   \n11  How do hubris and risk-taking manifest in indi...   \n12  Why is empathic listening considered to be so ...   \n13  How did the experience of working on a suicide...   \n14  How can a longer lease term potentially benefi...   \n15  How can reacting to an accusatory tone of voic...   \n16  How does tactical empathy influence the outcom...   \n17  How are negotiation skills applied in both hos...   \n18  Would you recommend writing down a script ahea...   \n19  How can calling out negative emotions help whe...   \n20  What is the main concept behind the book \"Neve...   \n21  What challenges are faced when running an inte...   \n22  How does proactive listening differ from passi...   \n23              What trait helps salespeople succeed?   \n24          Why did Kahneman win the 2002 Econ Nobel?   \n25        Why does 'No' give control in negotiations?   \n26  How can predictable communication ease emotion...   \n27  How does knowing a customer's frustration with...   \n28            How can women lower their voice octave?   \n29      How does labeling emotions calm the amygdala?   \n30  How does the amygdala affect coping with bad n...   \n31   How does autopilot help with cognitive overload?   \n32  How does tactical empathy gain from letting ot...   \n33  How does knowing negotiator types help in toug...   \n34  How do tone and labeling affect question recep...   \n35  How does labeling emotions affect amygdala act...   \n\n                                       synth_contexts  \\\n0   [\" the ability to utilize the skeleton of that...   \n1   [\" want to have happen, they're the things the...   \n2   [\", among negotiation. What you just said is a...   \n3   [': That’s good, Farley. Now you’re learning. ...   \n4   [\"? Like if you bring two people together and ...   \n5   [\" no. Right. I know from my experience that w...   \n6   [\" different things that happened to me that k...   \n7   [\": 108\\ncontent: Kidnappings and missing peop...   \n8   [\" trying, eventually they'll respond to that ...   \n9   [\" I threw out a price and you're staring ther...   \n10  [\"brace it.\\nTakeaways\\nLearning the skills of...   \n11  [' \\nCasey was dumbfounded. \\nRiordan was sati...   \n12  [\" to shut your mouth so I can jump into the c...   \n13  [\" did you ever cross paths with the fbi i mea...   \n14  [\"'s going to end. OK. Parking for our employe...   \n15  [': 165\\ncontent: I\\'m sure you\\'ve been in th...   \n16  [\" that happens in business negotiations far m...   \n17  [\" that's their choice. It's, you know, we, we...   \n18  [\" powerful weapon. Wow. Yeah, that's huge. No...   \n19  [' how to deliver bad news \\nand confront nega...   \n20  [\" our business. And then a month ago, I got t...   \n21  [\" insulting. And so I started in a funny kind...   \n22  [\". And you're going to buy in. And that polit...   \n23  [\" thing. You know, it's fun to help people ta...   \n24  [' valuable information. A win-win.\\nLaw #3: L...   \n25  [' nice and to respect  people’s feelings \\nat...   \n26  [\" real estate agent? Well, let's change the w...   \n27  [\" Now, you know... Got it. You guys know what...   \n28  [\" the child down. The question I get the most...   \n29  [\" the hotline might make. So write down what ...   \n30  [' accusations on it until the person they\\'re...   \n31  ['swanltd.com.20\\nTHE FULL FEE AGENTcounterint...   \n32  [\" so those are the two main things. I mean, a...   \n33  [' reactive biases. While our negative biases ...   \n34  [\", you're going to throw a little bit of empa...   \n35  [': 133\\ncontent: The amygdala is this little ...   \n\n                                         ground_truth evolution_type  \\\n0   The importance of client assessment in buildin...         simple   \n1   Ridicule is considered a powerful factor in pu...         simple   \n2   Listening is not just being silent; it involve...         simple   \n3   Some effective communication techniques for sa...         simple   \n4   Full fee real estate agents use strategies suc...         simple   \n5   Listening as a team during a negotiation or ho...         simple   \n6   The Black Swan Group is an organization founde...         simple   \n7   Chris Voss was dedicated to handling internati...         simple   \n8   The benefit of using calibrated questions in c...         simple   \n9   Some signs that indicate a problem with the pr...         simple   \n10  Mirroring demonstrates that you are listening ...         simple   \n11  Hubris and risk-taking manifest in individuals...         simple   \n12  Empathic listening is considered to be energy-...         simple   \n13  The experience of working on a suicide hotline...         simple   \n14  A longer lease term can potentially benefit bo...         simple   \n15  Reacting to an accusatory tone of voice can tr...         simple   \n16  Tactical empathy influences the outcome of neg...         simple   \n17  Negotiation skills are applied in both hostage...         simple   \n18  Yes, I think it's a great way to get yourself ...         simple   \n19  Calling out negative emotions can help when de...         simple   \n20  The main concept behind the book 'Never Split ...         simple   \n21  When running an international kidnap response,...         simple   \n22  Proactive listening differs from passive liste...         simple   \n23  A trait that helps salespeople succeed is havi...      reasoning   \n24  Kahneman won the 2002 Nobel Prize in Economics...      reasoning   \n25  Saying 'No' gives the speaker the feeling of s...      reasoning   \n26  Predictable communication can ease emotions in...      reasoning   \n27  Knowing a customer's frustration with service ...      reasoning   \n28  Women can lower their voice octave by relaxing...      reasoning   \n29  Labeling emotions calms the amygdala by dimini...      reasoning   \n30  The amygdala, part of the limbic system, has a...      reasoning   \n31  Autopilot helps with cognitive overload by all...      reasoning   \n32  Tactical empathy gains from letting others spe...      reasoning   \n33  Knowing negotiator types helps in tough talks ...      reasoning   \n34  Tone and labeling significantly affect questio...  multi_context   \n35  Labeling emotions in negative states decreases...  multi_context   \n\n                                       synth_metadata  episode_done  \\\n0   [{'int_id': '92', 'kind': 'interview', 'row': ...          True   \n1   [{'int_id': '127', 'kind': 'interview', 'row':...          True   \n2   [{'int_id': '107', 'kind': 'interview', 'row':...          True   \n3   [{'int_id': '231', 'kind': 'book', 'row': 230,...          True   \n4   [{'int_id': '84', 'kind': 'interview', 'row': ...          True   \n5   [{'int_id': '19', 'kind': 'interview', 'row': ...          True   \n6   [{'int_id': '117', 'kind': 'interview', 'row':...          True   \n7   [{'int_id': '109', 'kind': 'interview', 'row':...          True   \n8   [{'int_id': '118', 'kind': 'interview', 'row':...          True   \n9   [{'int_id': '17', 'kind': 'interview', 'row': ...          True   \n10  [{'int_id': '228', 'kind': 'book', 'row': 227,...          True   \n11  [{'int_id': '226', 'kind': 'book', 'row': 225,...          True   \n12  [{'int_id': '17', 'kind': 'interview', 'row': ...          True   \n13  [{'int_id': '5', 'kind': 'interview', 'row': 4...          True   \n14  [{'int_id': '169', 'kind': 'lesson', 'row': 16...          True   \n15  [{'int_id': '166', 'kind': 'lesson', 'row': 16...          True   \n16  [{'int_id': '54', 'kind': 'interview', 'row': ...          True   \n17  [{'int_id': '117', 'kind': 'interview', 'row':...          True   \n18  [{'int_id': '20', 'kind': 'interview', 'row': ...          True   \n19  [{'int_id': '243', 'kind': 'book', 'row': 242,...          True   \n20  [{'int_id': '24', 'kind': 'interview', 'row': ...          True   \n21  [{'int_id': '88', 'kind': 'interview', 'row': ...          True   \n22  [{'int_id': '113', 'kind': 'interview', 'row':...          True   \n23  [{'int_id': '68', 'kind': 'interview', 'row': ...          True   \n24  [{'int_id': '239', 'kind': 'book', 'row': 238,...          True   \n25  [{'int_id': '211', 'kind': 'book', 'row': 210,...          True   \n26  [{'int_id': '83', 'kind': 'interview', 'row': ...          True   \n27  [{'int_id': '30', 'kind': 'interview', 'row': ...          True   \n28  [{'int_id': '187', 'kind': 'lesson', 'row': 18...          True   \n29  [{'int_id': '88', 'kind': 'interview', 'row': ...          True   \n30  [{'int_id': '185', 'kind': 'lesson', 'row': 18...          True   \n31  [{'int_id': '240', 'kind': 'book', 'row': 239,...          True   \n32  [{'int_id': '39', 'kind': 'interview', 'row': ...          True   \n33  [{'int_id': '230', 'kind': 'book', 'row': 229,...          True   \n34  [{'int_id': '199', 'kind': 'lesson', 'row': 19...          True   \n35  [{'int_id': '134', 'kind': 'lesson', 'row': 13...          True   \n\n                                             contexts  \\\n0   [Find out what's really important to your clie...   \n1   [Ridiculously effective?, So why is that so po...   \n2   [How important is it generally in negotiations...   \n3   [How do you say no?, How can you say no produc...   \n4   [What a real estate agent's got to do for you,...   \n5   [So why is listening so important when it come...   \n6   [What's the Black Swan, what is the Black Swan...   \n7   [During his 24-year career with the FBI, Chris...   \n8   [What makes that a calibrated question?, Can y...   \n9   [But again, what are some signs that we should...   \n10  [Consequently, you're probably a better listen...   \n11  [It tips over because ego and authority are in...   \n12  [At least listening at an empathic level takes...   \n13  [My training on the suicide hotline was prepar...   \n14  [How could we make this happen or give ourselv...   \n15  [You can see that in yourself and like especia...   \n16  [Can you describe what tactical empathy is and...   \n17  [Hostage negotiation or business negotiation.,...   \n18  [Now, someone who's not in your position, who'...   \n19  [How do you deliver bad news?, Bad news will g...   \n20  [The whole reason of the book, never split the...   \n21  [I started applying this when I'm running our ...   \n22  [What is proactive listening?, Tell us about p...   \n23  [To be in sales, it takes a certain amount., W...   \n24  [Danny Kahneman won the Nobel Prize in 2002, b...   \n25  [What is the role of no and why is it so impor...   \n26  [And the reality is when we're dealing with pe...   \n27  [So we're managing expectations., And so we co...   \n28  [You want to lower your voice an octave., If y...   \n29  [You identify and label emotions when people a...   \n30  [And the bad news generates negative emotions....   \n31  [Cognitive load, right?, Eventually, it's goin...   \n32  [And the nature of tactical empathy and empath...   \n33  [Knowing my counterpart's negotiator personali...   \n34  [How would you use the labeling to mitigate th...   \n35  [Which is a self-label. And every time the peo...   \n\n                                             metadata  context_precision  \\\n0   [{'int_id': 83.0, 'kind': 'interview', 'title'...           1.000000   \n1   [{'int_id': 96.0, 'kind': 'interview', 'title'...           1.000000   \n2   [{'int_id': 96.0, 'kind': 'interview', 'title'...           1.000000   \n3   [{'int_id': 99.0, 'kind': 'interview', 'title'...           1.000000   \n4   [{'int_id': 101.0, 'kind': 'interview', 'title...           1.000000   \n5   [{'int_id': 65.0, 'kind': 'interview', 'title'...           0.833333   \n6   [{'int_id': 81.0, 'kind': 'interview', 'title'...           1.000000   \n7   [{'int_id': 44.0, 'kind': 'interview', 'title'...           1.000000   \n8   [{'int_id': 72.0, 'kind': 'interview', 'title'...           1.000000   \n9   [{'int_id': 14.0, 'kind': 'interview', 'title'...           1.000000   \n10  [{'int_id': 100.0, 'kind': 'interview', 'title...           1.000000   \n11  [{'int_id': 71.0, 'kind': 'interview', 'title'...           0.583333   \n12  [{'int_id': 36.0, 'kind': 'interview', 'title'...           0.583333   \n13  [{'int_id': 28.0, 'kind': 'interview', 'title'...           1.000000   \n14  [{'int_id': 122.0, 'kind': 'interview', 'title...           0.500000   \n15  [{'int_id': 57.0, 'kind': 'interview', 'title'...           1.000000   \n16  [{'int_id': 6.0, 'kind': 'interview', 'title':...           1.000000   \n17  [{'int_id': 15.0, 'kind': 'interview', 'title'...           1.000000   \n18  [{'int_id': 20.0, 'kind': 'interview', 'title'...           1.000000   \n19  [{'int_id': 84.0, 'kind': 'interview', 'title'...           1.000000   \n20  [{'int_id': 100.0, 'kind': 'interview', 'title...           0.833333   \n21  [{'int_id': 88.0, 'kind': 'interview', 'title'...           1.000000   \n22  [{'int_id': 90.0, 'kind': 'interview', 'title'...           1.000000   \n23  [{'int_id': 68.0, 'kind': 'interview', 'title'...           0.583333   \n24  [{'int_id': 53.0, 'kind': 'interview', 'title'...           1.000000   \n25  [{'int_id': 4.0, 'kind': 'interview', 'title':...           1.000000   \n26  [{'int_id': 39.0, 'kind': 'interview', 'title'...           1.000000   \n27  [{'int_id': 94.0, 'kind': 'interview', 'title'...           0.333333   \n28  [{'int_id': 131.0, 'kind': 'interview', 'title...           1.000000   \n29  [{'int_id': 19.0, 'kind': 'interview', 'title'...           1.000000   \n30  [{'int_id': 122.0, 'kind': 'interview', 'title...           1.000000   \n31  [{'int_id': 19.0, 'kind': 'interview', 'title'...           0.000000   \n32  [{'int_id': 39.0, 'kind': 'interview', 'title'...           1.000000   \n33  [{'int_id': 21.0, 'kind': 'interview', 'title'...           1.000000   \n34  [{'int_id': 91.0, 'kind': 'interview', 'title'...           1.000000   \n35  [{'int_id': 89.0, 'kind': 'interview', 'title'...           1.000000   \n\n    context_recall  \n0         0.000000  \n1         1.000000  \n2         0.000000  \n3         0.000000  \n4         0.500000  \n5         0.333333  \n6         1.000000  \n7         0.000000  \n8         1.000000  \n9         1.000000  \n10        1.000000  \n11        0.000000  \n12        1.000000  \n13        0.500000  \n14        0.000000  \n15        1.000000  \n16        0.000000  \n17        0.250000  \n18        1.000000  \n19        1.000000  \n20        1.000000  \n21        0.000000  \n22        1.000000  \n23        1.000000  \n24        1.000000  \n25        0.000000  \n26        1.000000  \n27        0.500000  \n28        0.000000  \n29        1.000000  \n30        0.500000  \n31        0.000000  \n32        0.500000  \n33        1.000000  \n34        0.750000  \n35        1.000000  ",
      "text/html": "<div>\n<style scoped>\n    .dataframe tbody tr th:only-of-type {\n        vertical-align: middle;\n    }\n\n    .dataframe tbody tr th {\n        vertical-align: top;\n    }\n\n    .dataframe thead th {\n        text-align: right;\n    }\n</style>\n<table border=\"1\" class=\"dataframe\">\n  <thead>\n    <tr style=\"text-align: right;\">\n      <th></th>\n      <th>question</th>\n      <th>synth_contexts</th>\n      <th>ground_truth</th>\n      <th>evolution_type</th>\n      <th>synth_metadata</th>\n      <th>episode_done</th>\n      <th>contexts</th>\n      <th>metadata</th>\n      <th>context_precision</th>\n      <th>context_recall</th>\n    </tr>\n  </thead>\n  <tbody>\n    <tr>\n      <th>0</th>\n      <td>What is the importance of client assessment in...</td>\n      <td>[\" the ability to utilize the skeleton of that...</td>\n      <td>The importance of client assessment in buildin...</td>\n      <td>simple</td>\n      <td>[{'int_id': '92', 'kind': 'interview', 'row': ...</td>\n      <td>True</td>\n      <td>[Find out what's really important to your clie...</td>\n      <td>[{'int_id': 83.0, 'kind': 'interview', 'title'...</td>\n      <td>1.000000</td>\n      <td>0.000000</td>\n    </tr>\n    <tr>\n      <th>1</th>\n      <td>Why is ridicule considered a powerful factor i...</td>\n      <td>[\" want to have happen, they're the things the...</td>\n      <td>Ridicule is considered a powerful factor in pu...</td>\n      <td>simple</td>\n      <td>[{'int_id': '127', 'kind': 'interview', 'row':...</td>\n      <td>True</td>\n      <td>[Ridiculously effective?, So why is that so po...</td>\n      <td>[{'int_id': 96.0, 'kind': 'interview', 'title'...</td>\n      <td>1.000000</td>\n      <td>1.000000</td>\n    </tr>\n    <tr>\n      <th>2</th>\n      <td>What is the difference between listening and h...</td>\n      <td>[\", among negotiation. What you just said is a...</td>\n      <td>Listening is not just being silent; it involve...</td>\n      <td>simple</td>\n      <td>[{'int_id': '107', 'kind': 'interview', 'row':...</td>\n      <td>True</td>\n      <td>[How important is it generally in negotiations...</td>\n      <td>[{'int_id': 96.0, 'kind': 'interview', 'title'...</td>\n      <td>1.000000</td>\n      <td>0.000000</td>\n    </tr>\n    <tr>\n      <th>3</th>\n      <td>What are some effective communication techniqu...</td>\n      <td>[': That’s good, Farley. Now you’re learning. ...</td>\n      <td>Some effective communication techniques for sa...</td>\n      <td>simple</td>\n      <td>[{'int_id': '231', 'kind': 'book', 'row': 230,...</td>\n      <td>True</td>\n      <td>[How do you say no?, How can you say no produc...</td>\n      <td>[{'int_id': 99.0, 'kind': 'interview', 'title'...</td>\n      <td>1.000000</td>\n      <td>0.000000</td>\n    </tr>\n    <tr>\n      <th>4</th>\n      <td>What strategies do full fee real estate agents...</td>\n      <td>[\"? Like if you bring two people together and ...</td>\n      <td>Full fee real estate agents use strategies suc...</td>\n      <td>simple</td>\n      <td>[{'int_id': '84', 'kind': 'interview', 'row': ...</td>\n      <td>True</td>\n      <td>[What a real estate agent's got to do for you,...</td>\n      <td>[{'int_id': 101.0, 'kind': 'interview', 'title...</td>\n      <td>1.000000</td>\n      <td>0.500000</td>\n    </tr>\n    <tr>\n      <th>5</th>\n      <td>What does it mean to listen as a team during a...</td>\n      <td>[\" no. Right. I know from my experience that w...</td>\n      <td>Listening as a team during a negotiation or ho...</td>\n      <td>simple</td>\n      <td>[{'int_id': '19', 'kind': 'interview', 'row': ...</td>\n      <td>True</td>\n      <td>[So why is listening so important when it come...</td>\n      <td>[{'int_id': 65.0, 'kind': 'interview', 'title'...</td>\n      <td>0.833333</td>\n      <td>0.333333</td>\n    </tr>\n    <tr>\n      <th>6</th>\n      <td>What is the Black Swan Group and who founded it?</td>\n      <td>[\" different things that happened to me that k...</td>\n      <td>The Black Swan Group is an organization founde...</td>\n      <td>simple</td>\n      <td>[{'int_id': '117', 'kind': 'interview', 'row':...</td>\n      <td>True</td>\n      <td>[What's the Black Swan, what is the Black Swan...</td>\n      <td>[{'int_id': 81.0, 'kind': 'interview', 'title'...</td>\n      <td>1.000000</td>\n      <td>1.000000</td>\n    </tr>\n    <tr>\n      <th>7</th>\n      <td>What was Chris Voss's role in handling interna...</td>\n      <td>[\": 108\\ncontent: Kidnappings and missing peop...</td>\n      <td>Chris Voss was dedicated to handling internati...</td>\n      <td>simple</td>\n      <td>[{'int_id': '109', 'kind': 'interview', 'row':...</td>\n      <td>True</td>\n      <td>[During his 24-year career with the FBI, Chris...</td>\n      <td>[{'int_id': 44.0, 'kind': 'interview', 'title'...</td>\n      <td>1.000000</td>\n      <td>0.000000</td>\n    </tr>\n    <tr>\n      <th>8</th>\n      <td>What is the benefit of using calibrated questi...</td>\n      <td>[\" trying, eventually they'll respond to that ...</td>\n      <td>The benefit of using calibrated questions in c...</td>\n      <td>simple</td>\n      <td>[{'int_id': '118', 'kind': 'interview', 'row':...</td>\n      <td>True</td>\n      <td>[What makes that a calibrated question?, Can y...</td>\n      <td>[{'int_id': 72.0, 'kind': 'interview', 'title'...</td>\n      <td>1.000000</td>\n      <td>1.000000</td>\n    </tr>\n    <tr>\n      <th>9</th>\n      <td>What are some signs that indicate a problem wi...</td>\n      <td>[\" I threw out a price and you're staring ther...</td>\n      <td>Some signs that indicate a problem with the pr...</td>\n      <td>simple</td>\n      <td>[{'int_id': '17', 'kind': 'interview', 'row': ...</td>\n      <td>True</td>\n      <td>[But again, what are some signs that we should...</td>\n      <td>[{'int_id': 14.0, 'kind': 'interview', 'title'...</td>\n      <td>1.000000</td>\n      <td>1.000000</td>\n    </tr>\n    <tr>\n      <th>10</th>\n      <td>How does mirroring demonstrate that you are li...</td>\n      <td>[\"brace it.\\nTakeaways\\nLearning the skills of...</td>\n      <td>Mirroring demonstrates that you are listening ...</td>\n      <td>simple</td>\n      <td>[{'int_id': '228', 'kind': 'book', 'row': 227,...</td>\n      <td>True</td>\n      <td>[Consequently, you're probably a better listen...</td>\n      <td>[{'int_id': 100.0, 'kind': 'interview', 'title...</td>\n      <td>1.000000</td>\n      <td>1.000000</td>\n    </tr>\n    <tr>\n      <th>11</th>\n      <td>How do hubris and risk-taking manifest in indi...</td>\n      <td>[' \\nCasey was dumbfounded. \\nRiordan was sati...</td>\n      <td>Hubris and risk-taking manifest in individuals...</td>\n      <td>simple</td>\n      <td>[{'int_id': '226', 'kind': 'book', 'row': 225,...</td>\n      <td>True</td>\n      <td>[It tips over because ego and authority are in...</td>\n      <td>[{'int_id': 71.0, 'kind': 'interview', 'title'...</td>\n      <td>0.583333</td>\n      <td>0.000000</td>\n    </tr>\n    <tr>\n      <th>12</th>\n      <td>Why is empathic listening considered to be so ...</td>\n      <td>[\" to shut your mouth so I can jump into the c...</td>\n      <td>Empathic listening is considered to be energy-...</td>\n      <td>simple</td>\n      <td>[{'int_id': '17', 'kind': 'interview', 'row': ...</td>\n      <td>True</td>\n      <td>[At least listening at an empathic level takes...</td>\n      <td>[{'int_id': 36.0, 'kind': 'interview', 'title'...</td>\n      <td>0.583333</td>\n      <td>1.000000</td>\n    </tr>\n    <tr>\n      <th>13</th>\n      <td>How did the experience of working on a suicide...</td>\n      <td>[\" did you ever cross paths with the fbi i mea...</td>\n      <td>The experience of working on a suicide hotline...</td>\n      <td>simple</td>\n      <td>[{'int_id': '5', 'kind': 'interview', 'row': 4...</td>\n      <td>True</td>\n      <td>[My training on the suicide hotline was prepar...</td>\n      <td>[{'int_id': 28.0, 'kind': 'interview', 'title'...</td>\n      <td>1.000000</td>\n      <td>0.500000</td>\n    </tr>\n    <tr>\n      <th>14</th>\n      <td>How can a longer lease term potentially benefi...</td>\n      <td>[\"'s going to end. OK. Parking for our employe...</td>\n      <td>A longer lease term can potentially benefit bo...</td>\n      <td>simple</td>\n      <td>[{'int_id': '169', 'kind': 'lesson', 'row': 16...</td>\n      <td>True</td>\n      <td>[How could we make this happen or give ourselv...</td>\n      <td>[{'int_id': 122.0, 'kind': 'interview', 'title...</td>\n      <td>0.500000</td>\n      <td>0.000000</td>\n    </tr>\n    <tr>\n      <th>15</th>\n      <td>How can reacting to an accusatory tone of voic...</td>\n      <td>[': 165\\ncontent: I\\'m sure you\\'ve been in th...</td>\n      <td>Reacting to an accusatory tone of voice can tr...</td>\n      <td>simple</td>\n      <td>[{'int_id': '166', 'kind': 'lesson', 'row': 16...</td>\n      <td>True</td>\n      <td>[You can see that in yourself and like especia...</td>\n      <td>[{'int_id': 57.0, 'kind': 'interview', 'title'...</td>\n      <td>1.000000</td>\n      <td>1.000000</td>\n    </tr>\n    <tr>\n      <th>16</th>\n      <td>How does tactical empathy influence the outcom...</td>\n      <td>[\" that happens in business negotiations far m...</td>\n      <td>Tactical empathy influences the outcome of neg...</td>\n      <td>simple</td>\n      <td>[{'int_id': '54', 'kind': 'interview', 'row': ...</td>\n      <td>True</td>\n      <td>[Can you describe what tactical empathy is and...</td>\n      <td>[{'int_id': 6.0, 'kind': 'interview', 'title':...</td>\n      <td>1.000000</td>\n      <td>0.000000</td>\n    </tr>\n    <tr>\n      <th>17</th>\n      <td>How are negotiation skills applied in both hos...</td>\n      <td>[\" that's their choice. It's, you know, we, we...</td>\n      <td>Negotiation skills are applied in both hostage...</td>\n      <td>simple</td>\n      <td>[{'int_id': '117', 'kind': 'interview', 'row':...</td>\n      <td>True</td>\n      <td>[Hostage negotiation or business negotiation.,...</td>\n      <td>[{'int_id': 15.0, 'kind': 'interview', 'title'...</td>\n      <td>1.000000</td>\n      <td>0.250000</td>\n    </tr>\n    <tr>\n      <th>18</th>\n      <td>Would you recommend writing down a script ahea...</td>\n      <td>[\" powerful weapon. Wow. Yeah, that's huge. No...</td>\n      <td>Yes, I think it's a great way to get yourself ...</td>\n      <td>simple</td>\n      <td>[{'int_id': '20', 'kind': 'interview', 'row': ...</td>\n      <td>True</td>\n      <td>[Now, someone who's not in your position, who'...</td>\n      <td>[{'int_id': 20.0, 'kind': 'interview', 'title'...</td>\n      <td>1.000000</td>\n      <td>1.000000</td>\n    </tr>\n    <tr>\n      <th>19</th>\n      <td>How can calling out negative emotions help whe...</td>\n      <td>[' how to deliver bad news \\nand confront nega...</td>\n      <td>Calling out negative emotions can help when de...</td>\n      <td>simple</td>\n      <td>[{'int_id': '243', 'kind': 'book', 'row': 242,...</td>\n      <td>True</td>\n      <td>[How do you deliver bad news?, Bad news will g...</td>\n      <td>[{'int_id': 84.0, 'kind': 'interview', 'title'...</td>\n      <td>1.000000</td>\n      <td>1.000000</td>\n    </tr>\n    <tr>\n      <th>20</th>\n      <td>What is the main concept behind the book \"Neve...</td>\n      <td>[\" our business. And then a month ago, I got t...</td>\n      <td>The main concept behind the book 'Never Split ...</td>\n      <td>simple</td>\n      <td>[{'int_id': '24', 'kind': 'interview', 'row': ...</td>\n      <td>True</td>\n      <td>[The whole reason of the book, never split the...</td>\n      <td>[{'int_id': 100.0, 'kind': 'interview', 'title...</td>\n      <td>0.833333</td>\n      <td>1.000000</td>\n    </tr>\n    <tr>\n      <th>21</th>\n      <td>What challenges are faced when running an inte...</td>\n      <td>[\" insulting. And so I started in a funny kind...</td>\n      <td>When running an international kidnap response,...</td>\n      <td>simple</td>\n      <td>[{'int_id': '88', 'kind': 'interview', 'row': ...</td>\n      <td>True</td>\n      <td>[I started applying this when I'm running our ...</td>\n      <td>[{'int_id': 88.0, 'kind': 'interview', 'title'...</td>\n      <td>1.000000</td>\n      <td>0.000000</td>\n    </tr>\n    <tr>\n      <th>22</th>\n      <td>How does proactive listening differ from passi...</td>\n      <td>[\". And you're going to buy in. And that polit...</td>\n      <td>Proactive listening differs from passive liste...</td>\n      <td>simple</td>\n      <td>[{'int_id': '113', 'kind': 'interview', 'row':...</td>\n      <td>True</td>\n      <td>[What is proactive listening?, Tell us about p...</td>\n      <td>[{'int_id': 90.0, 'kind': 'interview', 'title'...</td>\n      <td>1.000000</td>\n      <td>1.000000</td>\n    </tr>\n    <tr>\n      <th>23</th>\n      <td>What trait helps salespeople succeed?</td>\n      <td>[\" thing. You know, it's fun to help people ta...</td>\n      <td>A trait that helps salespeople succeed is havi...</td>\n      <td>reasoning</td>\n      <td>[{'int_id': '68', 'kind': 'interview', 'row': ...</td>\n      <td>True</td>\n      <td>[To be in sales, it takes a certain amount., W...</td>\n      <td>[{'int_id': 68.0, 'kind': 'interview', 'title'...</td>\n      <td>0.583333</td>\n      <td>1.000000</td>\n    </tr>\n    <tr>\n      <th>24</th>\n      <td>Why did Kahneman win the 2002 Econ Nobel?</td>\n      <td>[' valuable information. A win-win.\\nLaw #3: L...</td>\n      <td>Kahneman won the 2002 Nobel Prize in Economics...</td>\n      <td>reasoning</td>\n      <td>[{'int_id': '239', 'kind': 'book', 'row': 238,...</td>\n      <td>True</td>\n      <td>[Danny Kahneman won the Nobel Prize in 2002, b...</td>\n      <td>[{'int_id': 53.0, 'kind': 'interview', 'title'...</td>\n      <td>1.000000</td>\n      <td>1.000000</td>\n    </tr>\n    <tr>\n      <th>25</th>\n      <td>Why does 'No' give control in negotiations?</td>\n      <td>[' nice and to respect  people’s feelings \\nat...</td>\n      <td>Saying 'No' gives the speaker the feeling of s...</td>\n      <td>reasoning</td>\n      <td>[{'int_id': '211', 'kind': 'book', 'row': 210,...</td>\n      <td>True</td>\n      <td>[What is the role of no and why is it so impor...</td>\n      <td>[{'int_id': 4.0, 'kind': 'interview', 'title':...</td>\n      <td>1.000000</td>\n      <td>0.000000</td>\n    </tr>\n    <tr>\n      <th>26</th>\n      <td>How can predictable communication ease emotion...</td>\n      <td>[\" real estate agent? Well, let's change the w...</td>\n      <td>Predictable communication can ease emotions in...</td>\n      <td>reasoning</td>\n      <td>[{'int_id': '83', 'kind': 'interview', 'row': ...</td>\n      <td>True</td>\n      <td>[And the reality is when we're dealing with pe...</td>\n      <td>[{'int_id': 39.0, 'kind': 'interview', 'title'...</td>\n      <td>1.000000</td>\n      <td>1.000000</td>\n    </tr>\n    <tr>\n      <th>27</th>\n      <td>How does knowing a customer's frustration with...</td>\n      <td>[\" Now, you know... Got it. You guys know what...</td>\n      <td>Knowing a customer's frustration with service ...</td>\n      <td>reasoning</td>\n      <td>[{'int_id': '30', 'kind': 'interview', 'row': ...</td>\n      <td>True</td>\n      <td>[So we're managing expectations., And so we co...</td>\n      <td>[{'int_id': 94.0, 'kind': 'interview', 'title'...</td>\n      <td>0.333333</td>\n      <td>0.500000</td>\n    </tr>\n    <tr>\n      <th>28</th>\n      <td>How can women lower their voice octave?</td>\n      <td>[\" the child down. The question I get the most...</td>\n      <td>Women can lower their voice octave by relaxing...</td>\n      <td>reasoning</td>\n      <td>[{'int_id': '187', 'kind': 'lesson', 'row': 18...</td>\n      <td>True</td>\n      <td>[You want to lower your voice an octave., If y...</td>\n      <td>[{'int_id': 131.0, 'kind': 'interview', 'title...</td>\n      <td>1.000000</td>\n      <td>0.000000</td>\n    </tr>\n    <tr>\n      <th>29</th>\n      <td>How does labeling emotions calm the amygdala?</td>\n      <td>[\" the hotline might make. So write down what ...</td>\n      <td>Labeling emotions calms the amygdala by dimini...</td>\n      <td>reasoning</td>\n      <td>[{'int_id': '88', 'kind': 'interview', 'row': ...</td>\n      <td>True</td>\n      <td>[You identify and label emotions when people a...</td>\n      <td>[{'int_id': 19.0, 'kind': 'interview', 'title'...</td>\n      <td>1.000000</td>\n      <td>1.000000</td>\n    </tr>\n    <tr>\n      <th>30</th>\n      <td>How does the amygdala affect coping with bad n...</td>\n      <td>[' accusations on it until the person they\\'re...</td>\n      <td>The amygdala, part of the limbic system, has a...</td>\n      <td>reasoning</td>\n      <td>[{'int_id': '185', 'kind': 'lesson', 'row': 18...</td>\n      <td>True</td>\n      <td>[And the bad news generates negative emotions....</td>\n      <td>[{'int_id': 122.0, 'kind': 'interview', 'title...</td>\n      <td>1.000000</td>\n      <td>0.500000</td>\n    </tr>\n    <tr>\n      <th>31</th>\n      <td>How does autopilot help with cognitive overload?</td>\n      <td>['swanltd.com.20\\nTHE FULL FEE AGENTcounterint...</td>\n      <td>Autopilot helps with cognitive overload by all...</td>\n      <td>reasoning</td>\n      <td>[{'int_id': '240', 'kind': 'book', 'row': 239,...</td>\n      <td>True</td>\n      <td>[Cognitive load, right?, Eventually, it's goin...</td>\n      <td>[{'int_id': 19.0, 'kind': 'interview', 'title'...</td>\n      <td>0.000000</td>\n      <td>0.000000</td>\n    </tr>\n    <tr>\n      <th>32</th>\n      <td>How does tactical empathy gain from letting ot...</td>\n      <td>[\" so those are the two main things. I mean, a...</td>\n      <td>Tactical empathy gains from letting others spe...</td>\n      <td>reasoning</td>\n      <td>[{'int_id': '39', 'kind': 'interview', 'row': ...</td>\n      <td>True</td>\n      <td>[And the nature of tactical empathy and empath...</td>\n      <td>[{'int_id': 39.0, 'kind': 'interview', 'title'...</td>\n      <td>1.000000</td>\n      <td>0.500000</td>\n    </tr>\n    <tr>\n      <th>33</th>\n      <td>How does knowing negotiator types help in toug...</td>\n      <td>[' reactive biases. While our negative biases ...</td>\n      <td>Knowing negotiator types helps in tough talks ...</td>\n      <td>reasoning</td>\n      <td>[{'int_id': '230', 'kind': 'book', 'row': 229,...</td>\n      <td>True</td>\n      <td>[Knowing my counterpart's negotiator personali...</td>\n      <td>[{'int_id': 21.0, 'kind': 'interview', 'title'...</td>\n      <td>1.000000</td>\n      <td>1.000000</td>\n    </tr>\n    <tr>\n      <th>34</th>\n      <td>How do tone and labeling affect question recep...</td>\n      <td>[\", you're going to throw a little bit of empa...</td>\n      <td>Tone and labeling significantly affect questio...</td>\n      <td>multi_context</td>\n      <td>[{'int_id': '199', 'kind': 'lesson', 'row': 19...</td>\n      <td>True</td>\n      <td>[How would you use the labeling to mitigate th...</td>\n      <td>[{'int_id': 91.0, 'kind': 'interview', 'title'...</td>\n      <td>1.000000</td>\n      <td>0.750000</td>\n    </tr>\n    <tr>\n      <th>35</th>\n      <td>How does labeling emotions affect amygdala act...</td>\n      <td>[': 133\\ncontent: The amygdala is this little ...</td>\n      <td>Labeling emotions in negative states decreases...</td>\n      <td>multi_context</td>\n      <td>[{'int_id': '134', 'kind': 'lesson', 'row': 13...</td>\n      <td>True</td>\n      <td>[Which is a self-label. And every time the peo...</td>\n      <td>[{'int_id': 89.0, 'kind': 'interview', 'title'...</td>\n      <td>1.000000</td>\n      <td>1.000000</td>\n    </tr>\n  </tbody>\n</table>\n</div>"
     },
     "execution_count": 3,
     "metadata": {},
     "output_type": "execute_result"
    }
   ],
   "source": [
    "final.head(50)"
   ],
   "metadata": {
    "collapsed": false,
    "ExecuteTime": {
     "end_time": "2024-06-19T05:02:57.615737Z",
     "start_time": "2024-06-19T05:02:57.604541Z"
    }
   },
   "id": "4ee7217317554854",
   "execution_count": 3
  },
  {
   "cell_type": "markdown",
   "source": [
    "**Manual Execution: Eval Chain Testing - Generation of Eval Dataset (reduced to 10)**"
   ],
   "metadata": {
    "collapsed": false
   },
   "id": "de0523981168e1c5"
  },
  {
   "cell_type": "code",
   "outputs": [],
   "source": [
    "from app.eval import build_synthetic_template\n",
    "\n",
    "test_dataset = build_synthetic_template(index_name)"
   ],
   "metadata": {
    "collapsed": false
   },
   "id": "9d2f24a9e5ccb888",
   "execution_count": null
  },
  {
   "cell_type": "code",
   "outputs": [],
   "source": [
    "# Visualizing the dataset\n",
    "dataframe= test_dataset.to_pandas()\n",
    "dataframe.head(50)"
   ],
   "metadata": {
    "collapsed": false
   },
   "id": "84a69df08081bab",
   "execution_count": null
  },
  {
   "cell_type": "markdown",
   "source": [
    "**Eval Chain Testing - Generation of Answers to Eval Dataset**"
   ],
   "metadata": {
    "collapsed": false
   },
   "id": "615e74c4c4a7ccd7"
  },
  {
   "cell_type": "code",
   "outputs": [],
   "source": [
    "\n",
    "eval_template_dataframe = pd.read_csv(f'util/{index_name}_template_eval.csv')\n",
    "eval_template_dataframe.head()\n"
   ],
   "metadata": {
    "collapsed": false
   },
   "id": "297815012f4dee2e",
   "execution_count": null
  },
  {
   "cell_type": "code",
   "outputs": [],
   "source": [
    "questions = eval_template_dataframe['question'].tolist()\n",
    "\n",
    "input_dataframe = pd.DataFrame({\"input\": questions})\n",
    "input_dataframe.head()"
   ],
   "metadata": {
    "collapsed": false
   },
   "id": "3f810f4ce3a3d502",
   "execution_count": null
  },
  {
   "cell_type": "markdown",
   "source": [
    "*Generating Responses*"
   ],
   "metadata": {
    "collapsed": false
   },
   "id": "3d183f6221c9f0fa"
  },
  {
   "cell_type": "code",
   "outputs": [],
   "source": [
    "from app.generateResponses import create_response_dataframe\n",
    "\n",
    "output_dataframe = create_response_dataframe(\"test\",input_dataframe)\n",
    "\n",
    "output_dataframe.head()"
   ],
   "metadata": {
    "collapsed": false
   },
   "id": "4f9f3ea07d70c112",
   "execution_count": null
  },
  {
   "cell_type": "markdown",
   "source": [
    "**Eval Chain Testing - Format Final Dataset**"
   ],
   "metadata": {
    "collapsed": false
   },
   "id": "9111135eeb775cbd"
  },
  {
   "cell_type": "code",
   "outputs": [],
   "source": [
    "answers = output_dataframe[\"output\"].tolist()"
   ],
   "metadata": {
    "collapsed": false
   },
   "id": "13df17d6ef3fab7b",
   "execution_count": null
  },
  {
   "cell_type": "code",
   "outputs": [],
   "source": [
    "x = eval_template_dataframe\n",
    "\n",
    "x.rename(columns={'contexts': 'synth_contexts', 'metadata': 'synth_metadata'}, inplace=True)\n",
    "x.head()"
   ],
   "metadata": {
    "collapsed": false
   },
   "id": "f5886024969285ed",
   "execution_count": null
  },
  {
   "cell_type": "code",
   "outputs": [],
   "source": [
    "\n",
    "answers_list = [ [x.page_content for x in entry] for entry in answers ]\n",
    "answer_metadata = [ [x.metadata for x in entry] for entry in answers ]\n"
   ],
   "metadata": {
    "collapsed": false
   },
   "id": "b1c9966bfbb8efd2",
   "execution_count": null
  },
  {
   "cell_type": "code",
   "outputs": [],
   "source": [
    "from datasets import Dataset\n",
    "\n",
    "\n",
    "final_dataset = Dataset.from_pandas(eval_template_dataframe)\n",
    "\n",
    "final_dataset = final_dataset.add_column(\"contexts\", answers_list)\n",
    "final_dataset = final_dataset.add_column(\"metadata\", answer_metadata)\n",
    "\n",
    "final_dataset = final_dataset.remove_columns('__index_level_0__')\n",
    "\n"
   ],
   "metadata": {
    "collapsed": false
   },
   "id": "34bd0e14407588f6",
   "execution_count": null
  },
  {
   "cell_type": "code",
   "outputs": [],
   "source": [
    "final_dataset.to_csv(\"util/test_finaldata.csv\")"
   ],
   "metadata": {
    "collapsed": false
   },
   "id": "77ded24f521c57ce",
   "execution_count": null
  },
  {
   "cell_type": "markdown",
   "source": [
    "**Eval Chain Testing - Evaluation of Context**"
   ],
   "metadata": {
    "collapsed": false
   },
   "id": "b4560a2f1ff5426d"
  },
  {
   "cell_type": "code",
   "outputs": [],
   "source": [
    "from ragas.metrics import answer_relevancy, faithfulness, context_recall, context_precision\n",
    "from ragas import evaluate\n",
    "from ragas.testset.evolutions import simple, reasoning, multi_context\n",
    "\n",
    "result = evaluate(\n",
    "        final_dataset,\n",
    "        metrics=[\n",
    "            context_precision,\n",
    "            context_recall,\n",
    "        ],\n",
    "    )\n",
    "\n",
    "final_eval = result.to_pandas()\n",
    "final_eval.head()"
   ],
   "metadata": {
    "collapsed": false
   },
   "id": "a39c6d7062cfd31a",
   "execution_count": null
  },
  {
   "cell_type": "code",
   "outputs": [],
   "source": [
    "final_eval.head(10)"
   ],
   "metadata": {
    "collapsed": false
   },
   "id": "a95f1f40d6cd8d66",
   "execution_count": null
  },
  {
   "cell_type": "code",
   "outputs": [],
   "source": [],
   "metadata": {
    "collapsed": false
   },
   "id": "af44f2cde7f8fe4b"
  },
  {
   "cell_type": "code",
   "outputs": [],
   "source": [
    "from app.eval import eval_responses_pipeline\n",
    "\n",
    "final = eval_responses_pipeline(\"test\")"
   ],
   "metadata": {
    "collapsed": false
   },
   "id": "3920ba1b34f60810",
   "execution_count": null
  },
  {
   "cell_type": "code",
   "outputs": [],
   "source": [
    "final.head(10)"
   ],
   "metadata": {
    "collapsed": false
   },
   "id": "1f4fd4b45ad1c8f",
   "execution_count": null
  },
  {
   "cell_type": "code",
   "outputs": [],
   "source": [],
   "metadata": {
    "collapsed": false
   },
   "id": "bd6134d15877466d"
  }
 ],
 "metadata": {
  "kernelspec": {
   "display_name": "Python 3",
   "language": "python",
   "name": "python3"
  },
  "language_info": {
   "codemirror_mode": {
    "name": "ipython",
    "version": 2
   },
   "file_extension": ".py",
   "mimetype": "text/x-python",
   "name": "python",
   "nbconvert_exporter": "python",
   "pygments_lexer": "ipython2",
   "version": "2.7.6"
  }
 },
 "nbformat": 4,
 "nbformat_minor": 5
}
