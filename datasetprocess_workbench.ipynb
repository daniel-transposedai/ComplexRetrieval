{
 "cells": [
  {
   "cell_type": "markdown",
   "source": [
    "**Processing Testing - Embedding datasets into vectorstore**  "
   ],
   "metadata": {
    "collapsed": false
   },
   "id": "eb9a908b23b003a6"
  },
  {
   "cell_type": "code",
   "outputs": [
    {
     "name": "stderr",
     "output_type": "stream",
     "text": [
      "[nltk_data] Downloading package stopwords to\n",
      "[nltk_data]     /Users/dcampbel/nltk_data...\n",
      "[nltk_data]   Package stopwords is already up-to-date!\n",
      "[nltk_data] Downloading package punkt to /Users/dcampbel/nltk_data...\n",
      "[nltk_data]   Package punkt is already up-to-date!\n",
      "INFO:app.documentProcessing:Retrieving dataset\n",
      "INFO:app.documentProcessing:Embedding and Upsert to the VectorDB\n"
     ]
    },
    {
     "data": {
      "text/plain": "Processing content:   0%|          | 0/10 [00:00<?, ?it/s]",
      "application/vnd.jupyter.widget-view+json": {
       "version_major": 2,
       "version_minor": 0,
       "model_id": "461052ee4d924c0aa0ab37df77ac316b"
      }
     },
     "metadata": {},
     "output_type": "display_data"
    },
    {
     "name": "stderr",
     "output_type": "stream",
     "text": [
      "INFO:app.documentProcessing:Preprocessing content texts with HDP\n",
      "INFO:gensim.corpora.dictionary:adding document #0 to Dictionary<0 unique tokens: []>\n",
      "INFO:gensim.corpora.dictionary:built Dictionary<80 unique tokens: ['1982', '1994', 'American', 'Darabont', 'Frank']...> from 5 documents (total 87 corpus positions)\n",
      "INFO:gensim.utils:Dictionary lifecycle event {'msg': \"built Dictionary<80 unique tokens: ['1982', '1994', 'American', 'Darabont', 'Frank']...> from 5 documents (total 87 corpus positions)\", 'datetime': '2024-06-18T17:19:01.899028', 'gensim': '4.3.2', 'python': '3.11.0 (v3.11.0:deaf509e8f, Oct 24 2022, 14:43:23) [Clang 13.0.0 (clang-1300.0.29.30)]', 'platform': 'macOS-14.1-arm64-arm-64bit', 'event': 'created'}\n",
      "INFO:gensim.models.hdpmodel:(0, '0.055*operation + 0.043*face + 0.034*redemption + 0.031*hope + 0.031*underlying + 0.029*becomes + 0.029*claims + 0.028*led + 0.028*Morgan + 0.027*Darabont')\n",
      "INFO:gensim.models.hdpmodel:(1, '0.094*claims + 0.042*Tim + 0.038*Andy + 0.038*exploration + 0.031*innocence + 0.031*life + 0.026*sentenced + 0.026*storytelling + 0.025*prisoner + 0.023*significant')\n",
      "INFO:gensim.models.hdpmodel:(2, '0.055*widely + 0.052*making + 0.043*prison + 0.042*becomes + 0.038*system + 0.032*underlying + 0.030*significant + 0.029*The + 0.028*lover + 0.026*warden')\n",
      "INFO:gensim.models.hdpmodel:(3, '0.049*written + 0.043*hope + 0.030*stars + 0.029*making + 0.028*becomes + 0.027*prison + 0.026*work + 0.024*led + 0.023*Red + 0.022*significant')\n",
      "INFO:gensim.models.hdpmodel:(4, '0.048*drama + 0.043*next + 0.043*despite + 0.037*life + 0.036*Freeman + 0.035*innocence + 0.034*hope + 0.034*spirit + 0.034*themes + 0.033*exploration')\n",
      "INFO:gensim.models.hdpmodel:(5, '0.041*making + 0.034*film + 0.032*prisoner + 0.031*themes + 0.028*despair + 0.027*cast + 0.026*claims + 0.026*exploration + 0.026*significant + 0.026*operation')\n",
      "INFO:gensim.models.hdpmodel:(6, '0.051*American + 0.044*1994 + 0.042*laundering + 0.041*lover + 0.038*friendship + 0.034*spirit + 0.029*Rita + 0.028*written + 0.026*Morgan + 0.026*innocence')\n",
      "INFO:gensim.models.hdpmodel:(7, '0.054*Tim + 0.053*novella + 0.051*Hayworth + 0.049*The + 0.047*American + 0.038*1982 + 0.036*performances + 0.033*face + 0.031*injustice + 0.030*two')\n",
      "INFO:gensim.models.hdpmodel:(8, '0.042*banker + 0.041*directed + 0.039*sentenced + 0.038*film + 0.035*despite + 0.034*fellow + 0.033*deep + 0.028*Hayworth + 0.028*redemption + 0.026*Over')\n",
      "INFO:gensim.models.hdpmodel:(9, '0.051*written + 0.044*resilience + 0.040*storytelling + 0.032*money + 0.031*lover + 0.030*1994 + 0.029*system + 0.029*hope + 0.028*making + 0.027*Frank')\n",
      "INFO:gensim.models.hdpmodel:(10, '0.053*based + 0.051*next + 0.047*resilience + 0.046*becomes + 0.042*Darabont + 0.042*Hayworth + 0.035*American + 0.031*prisoner + 0.029*performances + 0.028*fellow')\n",
      "INFO:gensim.models.hdpmodel:(11, '0.092*fellow + 0.056*Andy + 0.048*The + 0.042*prison + 0.038*instrumental + 0.038*Morgan + 0.037*Tim + 0.034*murder + 0.032*novella + 0.025*exploration')\n",
      "INFO:gensim.models.hdpmodel:(12, '0.052*deep + 0.050*life + 0.043*underlying + 0.043*storytelling + 0.043*human + 0.041*based + 0.040*Hayworth + 0.036*Over + 0.030*written + 0.028*1982')\n",
      "INFO:gensim.models.hdpmodel:(13, '0.073*cinema + 0.054*murder + 0.051*deep + 0.038*sentenced + 0.033*1994 + 0.033*Shawshank + 0.031*life + 0.030*claims + 0.028*Morgan + 0.027*King')\n",
      "INFO:gensim.models.hdpmodel:(14, '0.062*drama + 0.056*system + 0.045*making + 0.044*storytelling + 0.041*Dufresne + 0.040*lover + 0.034*forms + 0.032*US + 0.030*The + 0.029*claims')\n",
      "INFO:gensim.models.hdpmodel:(15, '0.059*sentenced + 0.045*system + 0.044*human + 0.039*forms + 0.038*murder + 0.034*Robbins + 0.033*novella + 0.032*two + 0.032*underlying + 0.029*Dufresne')\n",
      "INFO:gensim.models.hdpmodel:(16, '0.057*Rita + 0.052*Penitentiary + 0.041*Tim + 0.040*Morgan + 0.039*spirit + 0.037*forms + 0.032*injustice + 0.032*1994 + 0.030*It + 0.028*US')\n",
      "INFO:gensim.models.hdpmodel:(17, '0.056*State + 0.045*making + 0.042*claims + 0.042*friendship + 0.036*Freeman + 0.036*Hayworth + 0.035*1982 + 0.033*banker + 0.031*It + 0.029*stars')\n",
      "INFO:gensim.models.hdpmodel:(18, '0.062*It + 0.047*murder + 0.039*State + 0.039*penitentiary + 0.036*Dufresne + 0.031*work + 0.029*face + 0.025*Frank + 0.025*1982 + 0.023*storytelling')\n",
      "INFO:gensim.models.hdpmodel:(19, '0.055*deep + 0.040*Tim + 0.035*Stephen + 0.035*innocence + 0.035*Andy + 0.033*making + 0.032*based + 0.031*stars + 0.031*next + 0.031*banker')\n",
      "INFO:app.documentProcessing:Retrieved topic probabilities [(0, 0.019374099391910066), (1, 0.010457719020412337), (7, 0.40150396636619684), (79, 0.5485219832634493)]\n",
      "INFO:app.documentProcessing:Retrieved topic probabilities [(0, 0.01921167251457982), (1, 0.011107071080397974), (24, 0.9477508639502822)]\n",
      "INFO:app.documentProcessing:Retrieved topic probabilities [(0, 0.02121758819367533), (1, 0.010437981314624183), (3, 0.9531188430950903)]\n",
      "INFO:app.documentProcessing:Retrieved topic probabilities [(0, 0.24139060163537768), (1, 0.7248365841670465), (2, 0.011101567174615327)]\n",
      "INFO:app.documentProcessing:Retrieved topic probabilities [(0, 0.5831689494861059), (1, 0.012985548718604087), (2, 0.38650904325483665)]\n",
      "INFO:app.documentProcessing:Completed HDP with topic boundaries {0, 1, 2, 3, 4}\n",
      "INFO:app.documentProcessing:Formatting partitioned text into documents\n",
      "INFO:app.documentProcessing:Created docs [Document(page_content=\"The Shawshank Redemption is a 1994 American drama film written and directed by Frank Darabont, based on the 1982 Stephen King novella 'Rita Hayworth and Shawshank Redemption'.\", metadata={'int_id': 101, 'kind': 'Movie', 'title': 'The Shawshank Redemption'}), Document(page_content='The film stars Tim Robbins as Andy Dufresne, a banker who is sentenced to life in Shawshank State Penitentiary for the murder of his wife and her lover, despite his claims of innocence.', metadata={'int_id': 101, 'kind': 'Movie', 'title': 'The Shawshank Redemption'}), Document(page_content='Over the next two decades, he forms a friendship with a fellow prisoner, Red, played by Morgan Freeman, and becomes instrumental in a money-laundering operation led by the prison warden.', metadata={'int_id': 101, 'kind': 'Movie', 'title': 'The Shawshank Redemption'}), Document(page_content=\"The movie is an exploration of the US penitentiary system and the human spirit's resilience in the face of despair and injustice.\", metadata={'int_id': 101, 'kind': 'Movie', 'title': 'The Shawshank Redemption'}), Document(page_content='It has been widely praised for its storytelling, the performances of its cast, and its deep underlying themes of hope and redemption, making it a significant work in American cinema.', metadata={'int_id': 101, 'kind': 'Movie', 'title': 'The Shawshank Redemption'})]\n",
      "INFO:app.documentProcessing:Entering content docs embedding and Upsert to the VectorDB\n"
     ]
    },
    {
     "name": "stdout",
     "output_type": "stream",
     "text": [
      "\n",
      "The Shawshank Redemption is a 1994 American drama film written and directed by Frank Darabont, based on the 1982 Stephen King novella 'Rita Hayworth and Shawshank Redemption'.\n",
      "The film stars Tim Robbins as Andy Dufresne, a banker who is sentenced to life in Shawshank State Penitentiary for the murder of his wife and her lover, despite his claims of innocence.\n",
      "Over the next two decades, he forms a friendship with a fellow prisoner, Red, played by Morgan Freeman, and becomes instrumental in a money-laundering operation led by the prison warden.\n",
      "The movie is an exploration of the US penitentiary system and the human spirit's resilience in the face of despair and injustice.\n",
      "It has been widely praised for its storytelling, the performances of its cast, and its deep underlying themes of hope and redemption, making it a significant work in American cinema.\n",
      "Entering Upsert Method\n"
     ]
    },
    {
     "name": "stderr",
     "output_type": "stream",
     "text": [
      "INFO:app.documentProcessing:Embedding and indexing documents\n",
      "INFO:httpx:HTTP Request: POST https://api.openai.com/v1/embeddings \"HTTP/1.1 200 OK\"\n",
      "INFO:app.documentProcessing:Preprocessing content texts with HDP\n",
      "INFO:gensim.corpora.dictionary:adding document #0 to Dictionary<0 unique tokens: []>\n",
      "INFO:gensim.corpora.dictionary:built Dictionary<77 unique tokens: ['2008', '2013', 'American', 'Bad', 'Breaking']...> from 5 documents (total 88 corpus positions)\n",
      "INFO:gensim.utils:Dictionary lifecycle event {'msg': \"built Dictionary<77 unique tokens: ['2008', '2013', 'American', 'Bad', 'Breaking']...> from 5 documents (total 88 corpus positions)\", 'datetime': '2024-06-18T17:19:09.714710', 'gensim': '4.3.2', 'python': '3.11.0 (v3.11.0:deaf509e8f, Oct 24 2022, 14:43:23) [Clang 13.0.0 (clang-1300.0.29.30)]', 'platform': 'macOS-14.1-arm64-arm-64bit', 'event': 'created'}\n",
      "INFO:gensim.models.hdpmodel:(0, '0.053*turns + 0.053*dealer + 0.050*future + 0.044*created + 0.040*time + 0.038*creating + 0.037*drug + 0.033*show + 0.033*White + 0.032*critical')\n",
      "INFO:gensim.models.hdpmodel:(1, '0.045*acclaim + 0.042*often + 0.037*battling + 0.037*Gilligan + 0.036*Joining + 0.035*student + 0.034*diagnosis + 0.034*Jesse + 0.032*lung + 0.031*characters')\n",
      "INFO:gensim.models.hdpmodel:(2, '0.048*life + 0.047*morality + 0.047*2013 + 0.044*teacher + 0.041*received + 0.037*Gilligan + 0.037*Bryan + 0.034*psyche + 0.027*Breaking + 0.027*Vince')\n",
      "INFO:gensim.models.hdpmodel:(3, '0.053*White + 0.042*explores + 0.042*complexities + 0.038*Vince + 0.036*protagonist + 0.033*chemistry + 0.031*Pinkman + 0.031*television + 0.030*It + 0.028*Paul')\n",
      "INFO:gensim.models.hdpmodel:(4, '0.056*created + 0.054*turns + 0.047*life + 0.039*student + 0.038*disillusioned + 0.034*widespread + 0.033*creating + 0.029*themes + 0.027*characters + 0.026*American')\n",
      "INFO:gensim.models.hdpmodel:(5, '0.084*diving + 0.047*lung + 0.041*complexities + 0.039*drug + 0.032*2008 + 0.031*terminal + 0.031*series + 0.031*created + 0.029*often + 0.026*follows')\n",
      "INFO:gensim.models.hdpmodel:(6, '0.062*Pinkman + 0.048*morality + 0.047*turned + 0.046*greatest + 0.041*Vince + 0.040*diagnosis + 0.031*illegal + 0.029*school + 0.028*Cranston + 0.027*crime')\n",
      "INFO:gensim.models.hdpmodel:(7, '0.066*explores + 0.051*themes + 0.048*Breaking + 0.046*aired + 0.039*diving + 0.038*critical + 0.036*It + 0.034*high + 0.030*school + 0.030*played')\n",
      "INFO:gensim.models.hdpmodel:(8, '0.067*student + 0.047*protagonist + 0.046*Bryan + 0.040*drug + 0.038*time + 0.036*performance + 0.034*Aaron + 0.034*The + 0.027*Jesse + 0.026*terminal')\n",
      "INFO:gensim.models.hdpmodel:(9, '0.042*The + 0.041*battling + 0.037*Walter + 0.034*deep + 0.034*explores + 0.031*family + 0.029*enterprise + 0.029*selling + 0.027*consequences + 0.026*received')\n",
      "INFO:gensim.models.hdpmodel:(10, '0.075*American + 0.054*television + 0.047*disillusioned + 0.041*Jesse + 0.038*life + 0.037*The + 0.034*high + 0.032*selling + 0.031*received + 0.028*deep')\n",
      "INFO:gensim.models.hdpmodel:(11, '0.058*one + 0.058*Jesse + 0.044*turned + 0.039*Aaron + 0.037*The + 0.035*cancer + 0.035*striving + 0.032*lung + 0.027*battling + 0.026*protagonist')\n",
      "INFO:gensim.models.hdpmodel:(12, '0.075*morality + 0.055*show + 0.045*writing + 0.040*American + 0.034*Walter + 0.031*characters + 0.030*performance + 0.029*time + 0.028*The + 0.027*series')\n",
      "INFO:gensim.models.hdpmodel:(13, '0.056*Aaron + 0.045*greatest + 0.044*Bad + 0.044*deep + 0.043*characters + 0.043*drug + 0.039*high + 0.035*disillusioned + 0.033*Paul + 0.030*turned')\n",
      "INFO:gensim.models.hdpmodel:(14, '0.076*purity + 0.054*Cranston + 0.045*secure + 0.043*life + 0.039*show + 0.036*characters + 0.035*striving + 0.032*Bad + 0.029*diagnosis + 0.027*drug')\n",
      "INFO:gensim.models.hdpmodel:(15, '0.066*forces + 0.039*dealer + 0.039*deep + 0.038*television + 0.035*teacher + 0.034*Cranston + 0.033*enterprise + 0.032*Pinkman + 0.030*former + 0.030*writing')\n",
      "INFO:gensim.models.hdpmodel:(16, '0.054*received + 0.049*diving + 0.037*life + 0.036*enterprise + 0.035*high + 0.034*teacher + 0.032*one + 0.028*secure + 0.026*2013 + 0.025*student')\n",
      "INFO:gensim.models.hdpmodel:(17, '0.047*student + 0.045*turns + 0.044*disillusioned + 0.039*purity + 0.036*school + 0.032*created + 0.031*Pinkman + 0.029*teacher + 0.029*characters + 0.029*Joining')\n",
      "INFO:gensim.models.hdpmodel:(18, '0.074*played + 0.060*writing + 0.049*regarded + 0.048*often + 0.040*critical + 0.039*turned + 0.038*themes + 0.031*dealer + 0.030*illegal + 0.026*drug')\n",
      "INFO:gensim.models.hdpmodel:(19, '0.044*selling + 0.038*2008 + 0.034*psyche + 0.034*Pinkman + 0.033*widespread + 0.032*Vince + 0.028*Paul + 0.027*turns + 0.025*creating + 0.025*It')\n",
      "INFO:app.documentProcessing:Retrieved topic probabilities [(0, 0.030279174998418673), (1, 0.018563546921321096), (2, 0.9274547689365908)]\n",
      "INFO:app.documentProcessing:Retrieved topic probabilities [(0, 0.015173361755128041), (74, 0.954684194247502)]\n",
      "INFO:app.documentProcessing:Retrieved topic probabilities [(0, 0.5018381813431807), (1, 0.4719655250811052), (2, 0.010394130977829513)]\n",
      "INFO:app.documentProcessing:Retrieved topic probabilities [(0, 0.01567622122666037), (1, 0.010047445025411899), (9, 0.953404736026895)]\n",
      "INFO:app.documentProcessing:Retrieved topic probabilities [(0, 0.4299891902131186), (1, 0.40299201607027973), (2, 0.15121698911397302)]\n",
      "INFO:app.documentProcessing:Completed HDP with topic boundaries {0, 1, 2, 3, 4}\n",
      "INFO:app.documentProcessing:Formatting partitioned text into documents\n",
      "INFO:app.documentProcessing:Created docs [Document(page_content='Breaking Bad, created by Vince Gilligan, is an American television series that aired from 2008 to 2013.', metadata={'int_id': 102, 'kind': 'TV Show', 'title': 'Breaking Bad'}), Document(page_content='It follows the life of Walter White (played by Bryan Cranston), a disillusioned high school chemistry teacher turned methamphetamine manufacturing drug dealer, after a terminal lung cancer diagnosis.', metadata={'int_id': 102, 'kind': 'TV Show', 'title': 'Breaking Bad'}), Document(page_content='Joining forces with former student Jesse Pinkman (Aaron Paul), White turns to a life of crime, creating and selling a high-purity methamphetamine.', metadata={'int_id': 102, 'kind': 'TV Show', 'title': 'Breaking Bad'}), Document(page_content='The series explores themes of morality, consequences, and family, diving deep into the psyche of its protagonist who is striving to secure his family’s future while battling terminal illness and the complexities of his illegal enterprise.', metadata={'int_id': 102, 'kind': 'TV Show', 'title': 'Breaking Bad'}), Document(page_content=\"The show received widespread critical acclaim for its writing, characters, and Cranston's performance, and is often regarded as one of the greatest television series of all time.\", metadata={'int_id': 102, 'kind': 'TV Show', 'title': 'Breaking Bad'})]\n",
      "INFO:app.documentProcessing:Entering content docs embedding and Upsert to the VectorDB\n"
     ]
    },
    {
     "name": "stdout",
     "output_type": "stream",
     "text": [
      "\n",
      "Breaking Bad, created by Vince Gilligan, is an American television series that aired from 2008 to 2013.\n",
      "It follows the life of Walter White (played by Bryan Cranston), a disillusioned high school chemistry teacher turned methamphetamine manufacturing drug dealer, after a terminal lung cancer diagnosis.\n",
      "Joining forces with former student Jesse Pinkman (Aaron Paul), White turns to a life of crime, creating and selling a high-purity methamphetamine.\n",
      "The series explores themes of morality, consequences, and family, diving deep into the psyche of its protagonist who is striving to secure his family’s future while battling terminal illness and the complexities of his illegal enterprise.\n",
      "The show received widespread critical acclaim for its writing, characters, and Cranston's performance, and is often regarded as one of the greatest television series of all time.\n",
      "Entering Upsert Method\n"
     ]
    },
    {
     "name": "stderr",
     "output_type": "stream",
     "text": [
      "INFO:app.documentProcessing:Embedding and indexing documents\n",
      "INFO:httpx:HTTP Request: POST https://api.openai.com/v1/embeddings \"HTTP/1.1 200 OK\"\n",
      "INFO:app.documentProcessing:Preprocessing content texts with HDP\n",
      "INFO:gensim.corpora.dictionary:adding document #0 to Dictionary<0 unique tokens: []>\n",
      "INFO:gensim.corpora.dictionary:built Dictionary<77 unique tokens: ['1949', '1984', 'English', 'George', 'Orwell']...> from 5 documents (total 82 corpus positions)\n",
      "INFO:gensim.utils:Dictionary lifecycle event {'msg': \"built Dictionary<77 unique tokens: ['1949', '1984', 'English', 'George', 'Orwell']...> from 5 documents (total 82 corpus positions)\", 'datetime': '2024-06-18T17:19:11.426889', 'gensim': '4.3.2', 'python': '3.11.0 (v3.11.0:deaf509e8f, Oct 24 2022, 14:43:23) [Clang 13.0.0 (clang-1300.0.29.30)]', 'platform': 'macOS-14.1-arm64-arm-64bit', 'event': 'created'}\n",
      "INFO:gensim.models.hdpmodel:(0, '0.084*seminal + 0.048*political + 0.039*profound + 0.036*1949 + 0.033*stark + 0.030*punishment + 0.028*every + 0.025*truth + 0.025*introduces + 0.023*fear')\n",
      "INFO:gensim.models.hdpmodel:(1, '0.050*fear + 0.049*power + 0.047*pervasive + 0.043*Living + 0.032*1984 + 0.031*discussions + 0.029*resonate + 0.028*thematic + 0.028*debate + 0.028*vision')\n",
      "INFO:gensim.models.hdpmodel:(2, '0.054*dystopian + 0.049*surveillance + 0.042*every + 0.041*warning + 0.037*punishment + 0.037*book + 0.033*Thought + 0.028*rigid + 0.028*making + 0.027*works')\n",
      "INFO:gensim.models.hdpmodel:(3, '0.055*readers + 0.049*despite + 0.038*surveils + 0.036*every + 0.031*crucial + 0.030*society + 0.029*Orwell + 0.029*control + 0.028*seminal + 0.027*vision')\n",
      "INFO:gensim.models.hdpmodel:(4, '0.089*power + 0.058*The + 0.052*aspect + 0.049*stark + 0.046*serves + 0.037*control + 0.032*1949 + 0.031*vision + 0.025*readers + 0.023*making')\n",
      "INFO:gensim.models.hdpmodel:(5, '0.064*resonate + 0.041*narrative + 0.041*despite + 0.040*truth + 0.038*pervasive + 0.037*Living + 0.036*Party + 0.032*Smith + 0.030*civil + 0.030*seminal')\n",
      "INFO:gensim.models.hdpmodel:(6, '0.077*serves + 0.053*Party + 0.044*Its + 0.040*Big + 0.037*liberties + 0.036*totalitarianism + 0.035*Orwell + 0.034*dystopian + 0.033*book + 0.031*explores')\n",
      "INFO:gensim.models.hdpmodel:(7, '0.050*Its + 0.036*every + 0.033*prophetic + 0.031*regime + 0.030*finds + 0.029*Brother + 0.027*discussions + 0.027*explores + 0.026*punishment + 0.025*surveillance')\n",
      "INFO:gensim.models.hdpmodel:(8, '0.074*Police + 0.072*literature + 0.043*vision + 0.040*finds + 0.037*reference + 0.035*Living + 0.035*dangers + 0.033*dreaming + 0.032*despite + 0.028*continue')\n",
      "INFO:gensim.models.hdpmodel:(9, '0.046*Big + 0.042*Thought + 0.038*work + 0.038*civil + 0.036*thematic + 0.035*The + 0.035*punishment + 0.034*serves + 0.032*aspect + 0.030*political')\n",
      "INFO:gensim.models.hdpmodel:(10, '0.065*prophetic + 0.052*warning + 0.049*pervasive + 0.048*Smith + 0.047*Orwell + 0.040*rigid + 0.036*thematic + 0.035*despite + 0.034*dangers + 0.031*surveils')\n",
      "INFO:gensim.models.hdpmodel:(11, '0.056*privacy + 0.049*act + 0.043*making + 0.042*Living + 0.038*dangers + 0.034*truth + 0.033*stark + 0.031*surveillance + 0.030*Orwell + 0.029*totalitarianism')\n",
      "INFO:gensim.models.hdpmodel:(12, '0.068*power + 0.056*political + 0.054*Smith + 0.044*liberties + 0.039*life + 0.032*regime + 0.030*Brother + 0.028*resonate + 0.026*vision + 0.026*debate')\n",
      "INFO:gensim.models.hdpmodel:(13, '0.049*finds + 0.047*debate + 0.043*inevitable + 0.038*stark + 0.036*explores + 0.033*crucial + 0.029*English + 0.029*vision + 0.025*1984 + 0.025*serves')\n",
      "INFO:gensim.models.hdpmodel:(14, '0.068*Living + 0.049*stark + 0.044*Police + 0.038*rebellion + 0.037*1949 + 0.036*dystopian + 0.036*inevitable + 0.034*Orwell + 0.031*surveils + 0.028*regimes')\n",
      "INFO:gensim.models.hdpmodel:(15, '0.067*totalitarianism + 0.048*life + 0.047*oppressive + 0.038*uncovers + 0.033*warning + 0.031*stark + 0.028*making + 0.027*thematic + 0.027*surveils + 0.026*Orwell')\n",
      "INFO:gensim.models.hdpmodel:(16, '0.069*English + 0.039*works + 0.039*Big + 0.035*Living + 0.035*vision + 0.034*regimes + 0.032*thematic + 0.031*political + 0.029*manipulation + 0.028*Winston')\n",
      "INFO:gensim.models.hdpmodel:(17, '0.065*narrative + 0.054*life + 0.052*reference + 0.045*Its + 0.032*George + 0.028*debate + 0.027*power + 0.025*concerns + 0.024*making + 0.024*rigid')\n",
      "INFO:gensim.models.hdpmodel:(18, '0.066*today + 0.051*Police + 0.043*Party + 0.043*oppressive + 0.039*totalitarianism + 0.036*finds + 0.035*uncovers + 0.031*The + 0.025*Thought + 0.025*regimes')\n",
      "INFO:gensim.models.hdpmodel:(19, '0.072*dreaming + 0.049*book + 0.044*Its + 0.034*explores + 0.034*warning + 0.033*totalitarianism + 0.032*making + 0.032*despite + 0.030*work + 0.030*state')\n",
      "INFO:app.documentProcessing:Retrieved topic probabilities [(0, 0.5472028570052933), (1, 0.014974519672791162), (2, 0.01203611104141271), (3, 0.4130935852017289)]\n",
      "INFO:app.documentProcessing:Retrieved topic probabilities [(0, 0.015771443029966623), (2, 0.962089691626876)]\n",
      "INFO:app.documentProcessing:Retrieved topic probabilities [(0, 0.023124854141674273), (1, 0.9474583120609867), (2, 0.011406755658247983)]\n",
      "INFO:app.documentProcessing:Retrieved topic probabilities [(0, 0.2399768462592723), (1, 0.47118210069004085), (2, 0.2696320174774845)]\n",
      "INFO:app.documentProcessing:Retrieved topic probabilities [(0, 0.021126948829723116), (1, 0.01250997684939582), (17, 0.9403842183089901)]\n",
      "INFO:app.documentProcessing:Completed HDP with topic boundaries {0, 1, 2, 4}\n",
      "INFO:app.documentProcessing:Formatting partitioned text into documents\n",
      "INFO:app.documentProcessing:Created docs [Document(page_content=\"George Orwell’s '1984', published in 1949, is a seminal work in English literature and a profound prophetic vision about the dangers of totalitarianism.\", metadata={'int_id': 103, 'kind': 'Book', 'title': '1984'}), Document(page_content='The book introduces readers to Winston Smith, who works for the Party in a dystopian society where Big Brother surveils every aspect of life and the Thought Police uncovers every act of rebellion.', metadata={'int_id': 103, 'kind': 'Book', 'title': '1984'}), Document(page_content=\"Living under rigid control, Winston finds himself dreaming of rebellion against the oppressive regime he serves, despite the pervasive fear of inevitable punishment. '1984' explores the themes of surveillance, truth manipulation, and state control, offering a stark warning about the power of authoritarian regimes.\", metadata={'int_id': 103, 'kind': 'Book', 'title': '1984'}), Document(page_content='Its narrative and thematic concerns continue to resonate today, making it a crucial point of reference in political discussions and the debate over privacy and civil liberties.', metadata={'int_id': 103, 'kind': 'Book', 'title': '1984'})]\n",
      "INFO:app.documentProcessing:Entering content docs embedding and Upsert to the VectorDB\n"
     ]
    },
    {
     "name": "stdout",
     "output_type": "stream",
     "text": [
      "\n",
      "George Orwell’s '1984', published in 1949, is a seminal work in English literature and a profound prophetic vision about the dangers of totalitarianism.\n",
      "The book introduces readers to Winston Smith, who works for the Party in a dystopian society where Big Brother surveils every aspect of life and the Thought Police uncovers every act of rebellion.\n",
      "Living under rigid control, Winston finds himself dreaming of rebellion against the oppressive regime he serves, despite the pervasive fear of inevitable punishment. '1984' explores the themes of surveillance, truth manipulation, and state control, offering a stark warning about the power of authoritarian regimes.\n",
      "Its narrative and thematic concerns continue to resonate today, making it a crucial point of reference in political discussions and the debate over privacy and civil liberties.\n",
      "Entering Upsert Method\n"
     ]
    },
    {
     "name": "stderr",
     "output_type": "stream",
     "text": [
      "INFO:app.documentProcessing:Embedding and indexing documents\n",
      "INFO:httpx:HTTP Request: POST https://api.openai.com/v1/embeddings \"HTTP/1.1 200 OK\"\n",
      "INFO:app.documentProcessing:Preprocessing content texts with HDP\n",
      "INFO:gensim.corpora.dictionary:adding document #0 to Dictionary<0 unique tokens: []>\n",
      "INFO:gensim.corpora.dictionary:built Dictionary<67 unique tokens: ['2014', 'Koenig', 'October', 'Sarah', 'Serial']...> from 4 documents (total 73 corpus positions)\n",
      "INFO:gensim.utils:Dictionary lifecycle event {'msg': \"built Dictionary<67 unique tokens: ['2014', 'Koenig', 'October', 'Sarah', 'Serial']...> from 4 documents (total 73 corpus positions)\", 'datetime': '2024-06-18T17:19:12.998085', 'gensim': '4.3.2', 'python': '3.11.0 (v3.11.0:deaf509e8f, Oct 24 2022, 14:43:23) [Clang 13.0.0 (clang-1300.0.29.30)]', 'platform': 'macOS-14.1-arm64-arm-64bit', 'event': 'created'}\n",
      "INFO:gensim.models.hdpmodel:(0, '0.057*Syed + 0.043*podcasts + 0.042*Koenig + 0.039*known + 0.039*Hae + 0.039*aired + 0.035*storytelling + 0.031*hosted + 0.031*became + 0.029*documents')\n",
      "INFO:gensim.models.hdpmodel:(1, '0.067*deep + 0.063*reconstructions + 0.062*delves + 0.053*became + 0.040*2014 + 0.039*one + 0.037*figures + 0.035*challenging + 0.034*The + 0.032*downloaded')\n",
      "INFO:gensim.models.hdpmodel:(2, '0.060*October + 0.050*memory + 0.048*figures + 0.045*investigative + 0.045*legal + 0.045*Lee + 0.040*delves + 0.036*fictional + 0.027*episodes + 0.027*captivate')\n",
      "INFO:gensim.models.hdpmodel:(3, '0.059*conversations + 0.058*episodes + 0.056*former + 0.052*delves + 0.048*life + 0.041*October + 0.035*mysteries + 0.033*story + 0.029*inconsistencies + 0.027*per')\n",
      "INFO:gensim.models.hdpmodel:(4, '0.061*captivate + 0.054*first + 0.050*justice + 0.037*legal + 0.036*audiences + 0.036*journalism + 0.035*Through + 0.034*podcast + 0.033*story + 0.032*explores')\n",
      "INFO:gensim.models.hdpmodel:(5, '0.051*inconsistencies + 0.049*former + 0.040*deep + 0.037*conversations + 0.034*known + 0.034*question + 0.032*Koenig + 0.030*per + 0.029*ability + 0.029*memory')\n",
      "INFO:gensim.models.hdpmodel:(6, '0.106*mysteries + 0.054*first + 0.051*deep + 0.046*Min + 0.044*life + 0.043*investigative + 0.032*groundbreaking + 0.031*girlfriend + 0.029*delves + 0.028*ability')\n",
      "INFO:gensim.models.hdpmodel:(7, '0.068*season + 0.050*Koenig + 0.045*girlfriend + 0.041*reconstructions + 0.036*figures + 0.034*inconsistencies + 0.031*system + 0.029*Syed + 0.028*Lee + 0.027*conversations')\n",
      "INFO:gensim.models.hdpmodel:(8, '0.067*former + 0.059*Hae + 0.044*narrated + 0.040*audiences + 0.034*groundbreaking + 0.034*became + 0.033*real + 0.033*Lee + 0.030*life + 0.029*2014')\n",
      "INFO:gensim.models.hdpmodel:(9, '0.050*2014 + 0.048*engaging + 0.038*research + 0.036*storytelling + 0.035*deep + 0.034*groundbreaking + 0.031*Lee + 0.030*explores + 0.030*Serial + 0.028*podcasts')\n",
      "INFO:gensim.models.hdpmodel:(10, '0.076*fictional + 0.059*Syed + 0.049*focusing + 0.048*podcast + 0.038*meticulous + 0.036*question + 0.033*deep + 0.033*became + 0.031*Adnan + 0.025*conversations')\n",
      "INFO:gensim.models.hdpmodel:(11, '0.060*October + 0.055*Min + 0.055*captivate + 0.051*first + 0.049*storytelling + 0.044*Lee + 0.040*meticulous + 0.038*Koenig + 0.037*downloaded + 0.035*ability')\n",
      "INFO:gensim.models.hdpmodel:(12, '0.072*research + 0.060*audiences + 0.051*one + 0.045*non + 0.040*The + 0.039*Lee + 0.035*documents + 0.033*convicted + 0.033*real + 0.030*legal')\n",
      "INFO:gensim.models.hdpmodel:(13, '0.095*Min + 0.052*storytelling + 0.040*podcasts + 0.037*audiences + 0.034*meticulous + 0.034*girlfriend + 0.033*challenging + 0.030*justice + 0.030*research + 0.028*Syed')\n",
      "INFO:gensim.models.hdpmodel:(14, '0.063*downloaded + 0.053*Syed + 0.053*journalism + 0.042*Serial + 0.041*real + 0.031*one + 0.031*Lee + 0.030*2014 + 0.030*non + 0.030*legal')\n",
      "INFO:gensim.models.hdpmodel:(15, '0.056*deep + 0.054*audiences + 0.052*fictional + 0.043*real + 0.041*explores + 0.040*2014 + 0.037*listeners + 0.036*narrated + 0.033*delves + 0.031*podcasts')\n",
      "INFO:gensim.models.hdpmodel:(16, '0.061*multiple + 0.058*meticulous + 0.044*Adnan + 0.041*downloaded + 0.040*mysteries + 0.039*2000 + 0.036*episodes + 0.033*focusing + 0.031*documents + 0.029*Serial')\n",
      "INFO:gensim.models.hdpmodel:(17, '0.063*delves + 0.059*first + 0.051*fictional + 0.040*downloaded + 0.040*listeners + 0.035*Hae + 0.033*ability + 0.029*reliability + 0.028*one + 0.028*Through')\n",
      "INFO:gensim.models.hdpmodel:(18, '0.076*Syed + 0.061*explores + 0.053*question + 0.053*season + 0.041*narrated + 0.041*story + 0.037*captivate + 0.032*reliability + 0.030*October + 0.030*downloaded')\n",
      "INFO:gensim.models.hdpmodel:(19, '0.073*challenging + 0.059*delves + 0.053*Through + 0.046*inconsistencies + 0.042*2014 + 0.035*key + 0.032*Min + 0.031*one + 0.028*ability + 0.028*Lee')\n",
      "INFO:app.documentProcessing:Retrieved topic probabilities [(0, 0.213771364525366), (1, 0.017965019155113553), (2, 0.7489757547952404)]\n",
      "INFO:app.documentProcessing:Retrieved topic probabilities [(0, 0.14630651707667938), (3, 0.2898293696305253), (96, 0.5408086454338641)]\n",
      "INFO:app.documentProcessing:Retrieved topic probabilities [(0, 0.018486020107873067), (1, 0.010899699079632855), (5, 0.9528190920152784)]\n",
      "INFO:app.documentProcessing:Retrieved topic probabilities [(0, 0.44015815035355516), (1, 0.014070126480104576), (2, 0.010822970617294854), (4, 0.5236416542325137)]\n",
      "INFO:app.documentProcessing:Completed HDP with topic boundaries {0, 1, 2, 3}\n",
      "INFO:app.documentProcessing:Formatting partitioned text into documents\n",
      "INFO:app.documentProcessing:Created docs [Document(page_content='Serial is a groundbreaking investigative journalism podcast hosted by Sarah Koenig, which first aired in October 2014.', metadata={'int_id': 104, 'kind': 'Podcast', 'title': 'Serial'}), Document(page_content='The podcast explores a non-fictional story over multiple episodes per season, with its first season focusing on the case of Adnan Syed, who was convicted in 2000 for the murder of his former girlfriend, Hae Min Lee.', metadata={'int_id': 104, 'kind': 'Podcast', 'title': 'Serial'}), Document(page_content='Through conversations with key figures, examination of legal documents, and narrated reconstructions, Koenig delves deep into the inconsistencies of the case, challenging listeners to question the reliability of memory and the justice system.', metadata={'int_id': 104, 'kind': 'Podcast', 'title': 'Serial'}), Document(page_content='Serial became one of the most downloaded podcasts, known for its engaging storytelling, meticulous research, and the ability to captivate audiences with real-life mysteries.', metadata={'int_id': 104, 'kind': 'Podcast', 'title': 'Serial'})]\n",
      "INFO:app.documentProcessing:Entering content docs embedding and Upsert to the VectorDB\n",
      "INFO:app.documentProcessing:Embedding and indexing documents\n"
     ]
    },
    {
     "name": "stdout",
     "output_type": "stream",
     "text": [
      "\n",
      "Serial is a groundbreaking investigative journalism podcast hosted by Sarah Koenig, which first aired in October 2014.\n",
      "The podcast explores a non-fictional story over multiple episodes per season, with its first season focusing on the case of Adnan Syed, who was convicted in 2000 for the murder of his former girlfriend, Hae Min Lee.\n",
      "Through conversations with key figures, examination of legal documents, and narrated reconstructions, Koenig delves deep into the inconsistencies of the case, challenging listeners to question the reliability of memory and the justice system.\n",
      "Serial became one of the most downloaded podcasts, known for its engaging storytelling, meticulous research, and the ability to captivate audiences with real-life mysteries.\n",
      "Entering Upsert Method\n"
     ]
    },
    {
     "name": "stderr",
     "output_type": "stream",
     "text": [
      "INFO:httpx:HTTP Request: POST https://api.openai.com/v1/embeddings \"HTTP/1.1 200 OK\"\n",
      "INFO:app.documentProcessing:Preprocessing content texts with HDP\n",
      "INFO:gensim.corpora.dictionary:adding document #0 to Dictionary<0 unique tokens: []>\n",
      "INFO:gensim.corpora.dictionary:built Dictionary<65 unique tokens: ['Daily', 'Science', 'This', 'article', 'caps']...> from 4 documents (total 74 corpus positions)\n",
      "INFO:gensim.utils:Dictionary lifecycle event {'msg': \"built Dictionary<65 unique tokens: ['Daily', 'Science', 'This', 'article', 'caps']...> from 4 documents (total 74 corpus positions)\", 'datetime': '2024-06-18T17:19:14.283044', 'gensim': '4.3.2', 'python': '3.11.0 (v3.11.0:deaf509e8f, Oct 24 2022, 14:43:23) [Clang 13.0.0 (clang-1300.0.29.30)]', 'platform': 'macOS-14.1-arm64-arm-64bit', 'event': 'created'}\n",
      "INFO:gensim.models.hdpmodel:(0, '0.049*ice + 0.048*delves + 0.042*regions + 0.041*human + 0.036*piece + 0.035*patterns + 0.035*effects + 0.034*turn + 0.033*Daily + 0.032*Science')\n",
      "INFO:gensim.models.hdpmodel:(1, '0.086*underscores + 0.077*urgent + 0.057*regions + 0.040*analysis + 0.037*wildlife + 0.032*changes + 0.031*comprehensive + 0.028*warming + 0.027*living + 0.026*causes')\n",
      "INFO:gensim.models.hdpmodel:(2, '0.052*regions + 0.051*polar + 0.048*rising + 0.041*environmental + 0.040*detailed + 0.037*delves + 0.035*also + 0.033*coastal + 0.031*populations + 0.031*patterns')\n",
      "INFO:gensim.models.hdpmodel:(3, '0.070*human + 0.057*recent + 0.052*This + 0.046*ecological + 0.043*article + 0.041*explores + 0.036*balance + 0.031*also + 0.031*rise + 0.031*continues')\n",
      "INFO:gensim.models.hdpmodel:(4, '0.073*sea + 0.057*urgent + 0.050*ongoing + 0.043*coastal + 0.038*also + 0.036*data + 0.031*ice + 0.031*This + 0.030*delves + 0.028*regions')\n",
      "INFO:gensim.models.hdpmodel:(5, '0.080*rising + 0.075*human + 0.054*wildlife + 0.048*changes + 0.047*turn + 0.042*polar + 0.037*Daily + 0.030*Through + 0.030*delves + 0.030*recent')\n",
      "INFO:gensim.models.hdpmodel:(6, '0.068*dependent + 0.047*changes + 0.041*Through + 0.039*article + 0.036*studies + 0.034*warming + 0.034*climatologists + 0.032*ongoing + 0.032*effects + 0.032*climate')\n",
      "INFO:gensim.models.hdpmodel:(7, '0.129*environmental + 0.075*address + 0.047*polar + 0.043*dependent + 0.038*This + 0.033*rising + 0.033*balance + 0.032*levels + 0.030*causes + 0.029*published')\n",
      "INFO:gensim.models.hdpmodel:(8, '0.055*need + 0.047*human + 0.039*populations + 0.035*caps + 0.034*ecosystems + 0.033*global + 0.033*alters + 0.033*warming + 0.031*Science + 0.030*insights')\n",
      "INFO:gensim.models.hdpmodel:(9, '0.092*ongoing + 0.060*piece + 0.053*wildlife + 0.050*global + 0.036*data + 0.031*alters + 0.029*living + 0.028*detailed + 0.027*explores + 0.025*geography')\n",
      "INFO:gensim.models.hdpmodel:(10, '0.080*regions + 0.073*global + 0.048*rapid + 0.039*caps + 0.038*populations + 0.034*patterns + 0.027*The + 0.026*leading + 0.026*delves + 0.025*Featuring')\n",
      "INFO:gensim.models.hdpmodel:(11, '0.065*Through + 0.062*levels + 0.050*melting + 0.048*change + 0.042*insights + 0.036*Daily + 0.031*need + 0.029*warming + 0.029*This + 0.026*ice')\n",
      "INFO:gensim.models.hdpmodel:(12, '0.069*Featuring + 0.050*rising + 0.043*alters + 0.043*turn + 0.041*discusses + 0.041*effects + 0.035*human + 0.035*climatologists + 0.033*need + 0.031*warming')\n",
      "INFO:gensim.models.hdpmodel:(13, '0.055*piece + 0.054*Science + 0.044*caps + 0.044*change + 0.039*particularly + 0.037*detailed + 0.033*dependent + 0.031*comprehensive + 0.028*living + 0.026*also')\n",
      "INFO:gensim.models.hdpmodel:(14, '0.051*rise + 0.042*living + 0.042*article + 0.039*Science + 0.039*caps + 0.037*comprehensive + 0.037*changes + 0.037*urgent + 0.036*turn + 0.035*piece')\n",
      "INFO:gensim.models.hdpmodel:(15, '0.092*coastal + 0.063*rising + 0.054*causes + 0.049*change + 0.038*climatologists + 0.036*reshape + 0.032*polar + 0.030*Science + 0.030*explores + 0.028*melting')\n",
      "INFO:gensim.models.hdpmodel:(16, '0.075*particularly + 0.064*turn + 0.054*melting + 0.040*also + 0.039*balance + 0.037*climate + 0.037*ongoing + 0.032*wildlife + 0.030*leading + 0.029*patterns')\n",
      "INFO:gensim.models.hdpmodel:(17, '0.068*dependent + 0.060*detailed + 0.058*regions + 0.050*reshape + 0.050*balance + 0.049*This + 0.047*ongoing + 0.042*effects + 0.036*alters + 0.031*rise')\n",
      "INFO:gensim.models.hdpmodel:(18, '0.053*underscores + 0.053*patterns + 0.051*The + 0.043*insights + 0.041*comprehensive + 0.041*levels + 0.038*dependent + 0.032*Featuring + 0.030*temperatures + 0.029*climate')\n",
      "INFO:gensim.models.hdpmodel:(19, '0.067*comprehensive + 0.051*This + 0.049*levels + 0.047*delves + 0.039*caps + 0.034*alters + 0.033*address + 0.030*Through + 0.029*Featuring + 0.029*Science')\n",
      "INFO:app.documentProcessing:Retrieved topic probabilities [(0, 0.5993632986849883), (1, 0.37351576894628363)]\n",
      "INFO:app.documentProcessing:Retrieved topic probabilities [(0, 0.017581717319243153), (1, 0.010766558555915117), (18, 0.954717092877004)]\n",
      "INFO:app.documentProcessing:Retrieved topic probabilities [(0, 0.7521599338174315), (1, 0.2239181570413988)]\n",
      "INFO:app.documentProcessing:Retrieved topic probabilities [(0, 0.018924465728980457), (1, 0.6894062327056443), (3, 0.277425507001115)]\n",
      "INFO:app.documentProcessing:Completed HDP with topic boundaries {0, 1, 2, 3}\n",
      "INFO:app.documentProcessing:Formatting partitioned text into documents\n",
      "INFO:app.documentProcessing:Created docs [Document(page_content=\"This comprehensive article published in 'Science Daily' delves into the ongoing effects of climate change on polar ice caps.\", metadata={'int_id': 105, 'kind': 'Article', 'title': 'The Effects of Climate Change on the Polar Ice Caps'}), Document(page_content='Featuring insights from leading climatologists, the article explores how rising global temperatures are leading to the rapid melting of polar ice, which in turn causes sea levels to rise and alters global climate patterns.', metadata={'int_id': 105, 'kind': 'Article', 'title': 'The Effects of Climate Change on the Polar Ice Caps'}), Document(page_content='The piece also discusses the consequences of these changes for wildlife and human populations, particularly those living in coastal regions and dependent on ice ecosystems.', metadata={'int_id': 105, 'kind': 'Article', 'title': 'The Effects of Climate Change on the Polar Ice Caps'}), Document(page_content='Through detailed analysis and data from recent studies, the article underscores the urgent need for environmental policies that address global warming as it continues to reshape our planet’s geography and ecological balance.', metadata={'int_id': 105, 'kind': 'Article', 'title': 'The Effects of Climate Change on the Polar Ice Caps'})]\n",
      "INFO:app.documentProcessing:Entering content docs embedding and Upsert to the VectorDB\n"
     ]
    },
    {
     "name": "stdout",
     "output_type": "stream",
     "text": [
      "\n",
      "This comprehensive article published in 'Science Daily' delves into the ongoing effects of climate change on polar ice caps.\n",
      "Featuring insights from leading climatologists, the article explores how rising global temperatures are leading to the rapid melting of polar ice, which in turn causes sea levels to rise and alters global climate patterns.\n",
      "The piece also discusses the consequences of these changes for wildlife and human populations, particularly those living in coastal regions and dependent on ice ecosystems.\n",
      "Through detailed analysis and data from recent studies, the article underscores the urgent need for environmental policies that address global warming as it continues to reshape our planet’s geography and ecological balance.\n",
      "Entering Upsert Method\n"
     ]
    },
    {
     "name": "stderr",
     "output_type": "stream",
     "text": [
      "INFO:app.documentProcessing:Embedding and indexing documents\n",
      "INFO:httpx:HTTP Request: POST https://api.openai.com/v1/embeddings \"HTTP/1.1 200 OK\"\n",
      "INFO:app.documentProcessing:Preprocessing content texts with HDP\n",
      "INFO:gensim.corpora.dictionary:adding document #0 to Dictionary<0 unique tokens: []>\n",
      "INFO:gensim.corpora.dictionary:built Dictionary<72 unique tokens: ['2010', 'Christopher', 'Directed', 'Inception', 'Nolan']...> from 4 documents (total 78 corpus positions)\n",
      "INFO:gensim.utils:Dictionary lifecycle event {'msg': \"built Dictionary<72 unique tokens: ['2010', 'Christopher', 'Directed', 'Inception', 'Nolan']...> from 4 documents (total 78 corpus positions)\", 'datetime': '2024-06-18T17:19:15.848887', 'gensim': '4.3.2', 'python': '3.11.0 (v3.11.0:deaf509e8f, Oct 24 2022, 14:43:23) [Clang 13.0.0 (clang-1300.0.29.30)]', 'platform': 'macOS-14.1-arm64-arm-64bit', 'event': 'created'}\n",
      "INFO:gensim.models.hdpmodel:(0, '0.061*DiCaprio + 0.059*Nolan + 0.058*idea + 0.048*deep + 0.047*chance + 0.034*worlds + 0.032*delves + 0.031*stealing + 0.031*mind + 0.030*blur')\n",
      "INFO:gensim.models.hdpmodel:(1, '0.065*themes + 0.054*criminal + 0.052*human + 0.051*sci + 0.044*delves + 0.041*mind + 0.041*stakes + 0.034*skilled + 0.029*target + 0.029*deep')\n",
      "INFO:gensim.models.hdpmodel:(2, '0.062*erased + 0.055*Nolan + 0.041*thief + 0.037*sci + 0.032*blur + 0.032*secrets + 0.030*implanting + 0.028*Dom + 0.024*creating + 0.022*high')\n",
      "INFO:gensim.models.hdpmodel:(3, '0.058*history + 0.050*themes + 0.042*dream + 0.041*person + 0.037*Directed + 0.035*Inception + 0.028*backdrop + 0.028*target + 0.026*stealing + 0.025*idea')\n",
      "INFO:gensim.models.hdpmodel:(4, '0.061*2010 + 0.049*memory + 0.047*specializes + 0.040*stealing + 0.037*themes + 0.036*delve + 0.034*Directed + 0.033*human + 0.032*complexities + 0.031*blur')\n",
      "INFO:gensim.models.hdpmodel:(5, '0.059*perception + 0.054*extraction + 0.050*identity + 0.049*Nolan + 0.038*As + 0.035*stakes + 0.032*team + 0.028*dream + 0.026*Christopher + 0.024*person')\n",
      "INFO:gensim.models.hdpmodel:(6, '0.055*delve + 0.049*deep + 0.044*identity + 0.044*idea + 0.043*criminal + 0.042*specialists + 0.041*subconscious + 0.035*DiCaprio + 0.035*themes + 0.034*As')\n",
      "INFO:gensim.models.hdpmodel:(7, '0.060*perception + 0.049*memory + 0.040*delve + 0.038*erased + 0.034*reality + 0.030*thriller + 0.030*sci + 0.029*history + 0.029*identity + 0.028*Dom')\n",
      "INFO:gensim.models.hdpmodel:(8, '0.064*high + 0.056*deep + 0.051*thriller + 0.050*creating + 0.045*complexities + 0.045*Nolan + 0.044*follows + 0.032*payment + 0.028*lines + 0.027*delve')\n",
      "INFO:gensim.models.hdpmodel:(9, '0.071*team + 0.070*thief + 0.050*skilled + 0.043*Leonardo + 0.033*deeper + 0.031*secrets + 0.030*target + 0.030*implanting + 0.029*thriller + 0.028*follows')\n",
      "INFO:gensim.models.hdpmodel:(10, '0.062*inception + 0.048*heist + 0.040*layered + 0.039*deep + 0.038*thriller + 0.030*known + 0.030*world + 0.029*thickens + 0.029*sci + 0.028*Christopher')\n",
      "INFO:gensim.models.hdpmodel:(11, '0.067*criminal + 0.047*blur + 0.045*art + 0.043*within + 0.040*target + 0.036*known + 0.036*2010 + 0.033*erased + 0.030*another + 0.025*offered')\n",
      "INFO:gensim.models.hdpmodel:(12, '0.050*identity + 0.047*specializes + 0.041*state + 0.036*payment + 0.034*another + 0.031*explores + 0.031*deeper + 0.028*fi + 0.027*within + 0.026*secrets')\n",
      "INFO:gensim.models.hdpmodel:(13, '0.053*themes + 0.053*extraction + 0.045*another + 0.044*personal + 0.034*backdrop + 0.032*perception + 0.032*Christopher + 0.029*Leonardo + 0.028*memory + 0.026*erased')\n",
      "INFO:gensim.models.hdpmodel:(14, '0.066*Leonardo + 0.051*thriller + 0.041*thief + 0.041*explores + 0.037*set + 0.036*personal + 0.031*Nolan + 0.028*creating + 0.026*worlds + 0.025*memory')\n",
      "INFO:gensim.models.hdpmodel:(15, '0.085*art + 0.044*history + 0.038*implanting + 0.033*erased + 0.032*team + 0.032*Inception + 0.030*explores + 0.029*deeper + 0.026*layered + 0.026*subconscious')\n",
      "INFO:gensim.models.hdpmodel:(16, '0.053*Christopher + 0.052*target + 0.049*skilled + 0.044*stealing + 0.042*layered + 0.033*team + 0.033*delves + 0.032*thickens + 0.031*creating + 0.030*implanting')\n",
      "INFO:gensim.models.hdpmodel:(17, '0.055*delves + 0.053*extraction + 0.051*erased + 0.049*fi + 0.046*dream + 0.035*follows + 0.033*personal + 0.033*skilled + 0.033*reality + 0.029*narrative')\n",
      "INFO:gensim.models.hdpmodel:(18, '0.076*mind + 0.051*offered + 0.045*Directed + 0.042*identity + 0.034*The + 0.028*team + 0.028*human + 0.028*As + 0.028*thickens + 0.027*inception')\n",
      "INFO:gensim.models.hdpmodel:(19, '0.076*blur + 0.071*skilled + 0.049*Inception + 0.043*stealing + 0.032*target + 0.032*world + 0.031*secrets + 0.030*creating + 0.029*specialists + 0.028*criminal')\n",
      "INFO:app.documentProcessing:Retrieved topic probabilities [(0, 0.03348238379040644), (1, 0.9353812358553439), (2, 0.0127974411662266)]\n",
      "INFO:app.documentProcessing:Retrieved topic probabilities [(0, 0.43841858995876043), (1, 0.0131698735967872), (2, 0.5370586517668517)]\n",
      "INFO:app.documentProcessing:Retrieved topic probabilities [(0, 0.02368398039526388), (1, 0.013435723960826934), (2, 0.6183560090855803), (3, 0.33710196095472383)]\n",
      "INFO:app.documentProcessing:Retrieved topic probabilities [(0, 0.01400613934887604), (5, 0.9634199253096861)]\n",
      "INFO:app.documentProcessing:Completed HDP with topic boundaries {0, 1, 3}\n",
      "INFO:app.documentProcessing:Formatting partitioned text into documents\n",
      "INFO:app.documentProcessing:Created docs [Document(page_content=\"Directed by Christopher Nolan, 'Inception' is a 2010 sci-fi thriller that delves into the complexities of the human mind.\", metadata={'int_id': 106, 'kind': 'Movie', 'title': 'Inception'}), Document(page_content=\"The film follows Dom Cobb (Leonardo DiCaprio), a skilled thief who specializes in the art of extraction: the stealing of valuable secrets from deep within the subconscious during the dream state. The plot thickens as Cobb is offered a chance to have his criminal history erased as payment for implanting another person's idea into a target's subconscious—a process known as inception.\", metadata={'int_id': 106, 'kind': 'Movie', 'title': 'Inception'}), Document(page_content='As Cobb and his team of specialists delve deeper into the dream worlds, the lines between reality and the dream world blur, creating a layered narrative that explores themes of memory, perception, and personal identity, all set against the backdrop of a high stakes heist.', metadata={'int_id': 106, 'kind': 'Movie', 'title': 'Inception'})]\n",
      "INFO:app.documentProcessing:Entering content docs embedding and Upsert to the VectorDB\n"
     ]
    },
    {
     "name": "stdout",
     "output_type": "stream",
     "text": [
      "\n",
      "Directed by Christopher Nolan, 'Inception' is a 2010 sci-fi thriller that delves into the complexities of the human mind.\n",
      "The film follows Dom Cobb (Leonardo DiCaprio), a skilled thief who specializes in the art of extraction: the stealing of valuable secrets from deep within the subconscious during the dream state. The plot thickens as Cobb is offered a chance to have his criminal history erased as payment for implanting another person's idea into a target's subconscious—a process known as inception.\n",
      "As Cobb and his team of specialists delve deeper into the dream worlds, the lines between reality and the dream world blur, creating a layered narrative that explores themes of memory, perception, and personal identity, all set against the backdrop of a high stakes heist.\n",
      "Entering Upsert Method\n"
     ]
    },
    {
     "name": "stderr",
     "output_type": "stream",
     "text": [
      "INFO:app.documentProcessing:Embedding and indexing documents\n",
      "INFO:httpx:HTTP Request: POST https://api.openai.com/v1/embeddings \"HTTP/1.1 200 OK\"\n",
      "INFO:app.documentProcessing:Preprocessing content texts with HDP\n",
      "INFO:gensim.corpora.dictionary:adding document #0 to Dictionary<0 unique tokens: []>\n",
      "INFO:gensim.corpora.dictionary:built Dictionary<71 unique tokens: ['D', 'Dubner', 'Freakonomics', 'J', 'Levitt']...> from 4 documents (total 72 corpus positions)\n",
      "INFO:gensim.utils:Dictionary lifecycle event {'msg': \"built Dictionary<71 unique tokens: ['D', 'Dubner', 'Freakonomics', 'J', 'Levitt']...> from 4 documents (total 72 corpus positions)\", 'datetime': '2024-06-18T17:19:17.490891', 'gensim': '4.3.2', 'python': '3.11.0 (v3.11.0:deaf509e8f, Oct 24 2022, 14:43:23) [Clang 13.0.0 (clang-1300.0.29.30)]', 'platform': 'macOS-14.1-arm64-arm-64bit', 'event': 'created'}\n",
      "INFO:gensim.models.hdpmodel:(0, '0.092*non + 0.061*2005 + 0.050*published + 0.044*combining + 0.036*First + 0.036*journalism + 0.030*readers + 0.028*challenges + 0.026*world + 0.023*spawned')\n",
      "INFO:gensim.models.hdpmodel:(1, '0.061*Dubner + 0.051*economic + 0.045*everyday + 0.040*principles + 0.034*sumo + 0.033*groundbreaking + 0.032*compelling + 0.032*side + 0.031*Through + 0.031*life')\n",
      "INFO:gensim.models.hdpmodel:(2, '0.057*sequel + 0.045*differently + 0.043*non + 0.043*real + 0.039*contemporary + 0.038*insights + 0.037*economics + 0.034*revealing + 0.034*hidden + 0.033*published')\n",
      "INFO:gensim.models.hdpmodel:(3, '0.052*wrestling + 0.042*First + 0.041*compelling + 0.036*literature + 0.035*published + 0.035*2005 + 0.033*insights + 0.031*dynamics + 0.031*world + 0.029*debunking')\n",
      "INFO:gensim.models.hdpmodel:(4, '0.041*revealing + 0.041*combining + 0.037*economics + 0.037*contemporary + 0.035*spawned + 0.032*D + 0.032*differently + 0.031*wisdom + 0.030*The + 0.030*think')\n",
      "INFO:gensim.models.hdpmodel:(5, '0.062*insights + 0.058*investigative + 0.050*economic + 0.036*apply + 0.035*dynamics + 0.034*debunking + 0.033*world + 0.032*sequel + 0.029*piece + 0.028*writer')\n",
      "INFO:gensim.models.hdpmodel:(6, '0.057*Levitt + 0.049*non + 0.045*economics + 0.043*wrestling + 0.037*since + 0.034*economist + 0.034*compelling + 0.033*conventional + 0.030*documentary + 0.029*Steven')\n",
      "INFO:gensim.models.hdpmodel:(7, '0.078*world + 0.047*economic + 0.040*insights + 0.040*analyze + 0.033*First + 0.032*differently + 0.032*apply + 0.030*life + 0.030*revealing + 0.030*topics')\n",
      "INFO:gensim.models.hdpmodel:(8, '0.067*real + 0.048*challenges + 0.047*writer + 0.046*since + 0.041*The + 0.040*D + 0.039*influential + 0.037*making + 0.030*documentary + 0.030*non')\n",
      "INFO:gensim.models.hdpmodel:(9, '0.060*compelling + 0.045*since + 0.039*documentary + 0.036*life + 0.031*The + 0.027*Levitt + 0.027*readers + 0.026*economic + 0.026*investigative + 0.025*estate')\n",
      "INFO:gensim.models.hdpmodel:(10, '0.073*behind + 0.054*economist + 0.048*names + 0.048*groundbreaking + 0.042*spawned + 0.040*side + 0.039*think + 0.031*D + 0.029*contemporary + 0.028*influential')\n",
      "INFO:gensim.models.hdpmodel:(11, '0.138*topics + 0.052*D + 0.043*baby + 0.038*2005 + 0.037*conventional + 0.036*since + 0.027*economics + 0.027*narratives + 0.025*dealing + 0.025*sequel')\n",
      "INFO:gensim.models.hdpmodel:(12, '0.059*principles + 0.042*economic + 0.041*everyday + 0.033*real + 0.030*investigative + 0.030*side + 0.030*apply + 0.028*groundbreaking + 0.028*narratives + 0.026*differently')\n",
      "INFO:gensim.models.hdpmodel:(13, '0.073*writer + 0.060*narratives + 0.050*2005 + 0.050*wrestling + 0.044*behind + 0.042*revealing + 0.038*drug + 0.033*groundbreaking + 0.032*economist + 0.032*economic')\n",
      "INFO:gensim.models.hdpmodel:(14, '0.113*compelling + 0.060*real + 0.053*conventional + 0.046*collaboration + 0.040*contemporary + 0.040*literature + 0.035*economist + 0.035*wrestling + 0.034*investigative + 0.032*drug')\n",
      "INFO:gensim.models.hdpmodel:(15, '0.046*popular + 0.040*behind + 0.034*readers + 0.032*explores + 0.030*J + 0.029*economist + 0.029*range + 0.028*differently + 0.027*making + 0.025*Freakonomics')\n",
      "INFO:gensim.models.hdpmodel:(16, '0.087*groundbreaking + 0.064*documentary + 0.046*investigative + 0.037*combining + 0.036*narratives + 0.036*published + 0.033*principles + 0.032*collaboration + 0.032*Stephen + 0.028*economist')\n",
      "INFO:gensim.models.hdpmodel:(17, '0.083*wrestling + 0.073*piece + 0.051*contemporary + 0.033*wisdom + 0.030*writer + 0.029*non + 0.028*First + 0.027*dynamics + 0.027*named + 0.026*2005')\n",
      "INFO:gensim.models.hdpmodel:(18, '0.048*spawned + 0.041*J + 0.040*writer + 0.039*since + 0.037*debunking + 0.035*contemporary + 0.033*influential + 0.031*dynamics + 0.030*behind + 0.030*real')\n",
      "INFO:gensim.models.hdpmodel:(19, '0.057*wisdom + 0.048*piece + 0.043*everyday + 0.042*combining + 0.041*wrestling + 0.036*economist + 0.033*everything + 0.032*groundbreaking + 0.030*estate + 0.029*drug')\n",
      "INFO:app.documentProcessing:Retrieved topic probabilities [(0, 0.2117479173971153), (1, 0.77366418281984)]\n",
      "INFO:app.documentProcessing:Retrieved topic probabilities [(0, 0.02492708214085725), (1, 0.011692764602237228), (31, 0.94421315437772)]\n",
      "INFO:app.documentProcessing:Retrieved topic probabilities [(0, 0.9635770990588466), (1, 0.013649761477461391)]\n",
      "INFO:app.documentProcessing:Retrieved topic probabilities [(0, 0.4178269121295561), (1, 0.26750237533178345), (2, 0.30037365802383953)]\n",
      "INFO:app.documentProcessing:Completed HDP with topic boundaries {0, 1, 2}\n",
      "INFO:app.documentProcessing:Formatting partitioned text into documents\n",
      "INFO:app.documentProcessing:Created docs [Document(page_content='Freakonomics, a groundbreaking collaboration between economist Steven D. Levitt and writer Stephen J. Dubner, explores the hidden side of everything, debunking conventional wisdom, and revealing how economic principles apply to everyday life.', metadata={'int_id': 107, 'kind': 'Book', 'title': 'Freakonomics'}), Document(page_content='Through compelling narratives, the authors analyze a range of topics from real estate to drug dealing, sumo wrestling, and the named dynamics behind baby names.', metadata={'int_id': 107, 'kind': 'Book', 'title': 'Freakonomics'}), Document(page_content='First published in 2005, Freakonomics challenges readers to think differently about the world by combining economics with investigative journalism and witty insights. The book has since spawned a blog, a sequel, and a popular documentary, making it an influential piece in contemporary non-fiction literature.', metadata={'int_id': 107, 'kind': 'Book', 'title': 'Freakonomics'})]\n",
      "INFO:app.documentProcessing:Entering content docs embedding and Upsert to the VectorDB\n"
     ]
    },
    {
     "name": "stdout",
     "output_type": "stream",
     "text": [
      "\n",
      "Freakonomics, a groundbreaking collaboration between economist Steven D. Levitt and writer Stephen J. Dubner, explores the hidden side of everything, debunking conventional wisdom, and revealing how economic principles apply to everyday life.\n",
      "Through compelling narratives, the authors analyze a range of topics from real estate to drug dealing, sumo wrestling, and the named dynamics behind baby names.\n",
      "First published in 2005, Freakonomics challenges readers to think differently about the world by combining economics with investigative journalism and witty insights. The book has since spawned a blog, a sequel, and a popular documentary, making it an influential piece in contemporary non-fiction literature.\n",
      "Entering Upsert Method\n"
     ]
    },
    {
     "name": "stderr",
     "output_type": "stream",
     "text": [
      "INFO:app.documentProcessing:Embedding and indexing documents\n",
      "INFO:httpx:HTTP Request: POST https://api.openai.com/v1/embeddings \"HTTP/1.1 200 OK\"\n",
      "INFO:app.documentProcessing:Preprocessing content texts with HDP\n",
      "INFO:gensim.corpora.dictionary:adding document #0 to Dictionary<0 unique tokens: []>\n",
      "INFO:gensim.corpora.dictionary:built Dictionary<57 unique tokens: ['2019', 'Emma', 'Explained', 'Media', 'Netflix']...> from 4 documents (total 59 corpus positions)\n",
      "INFO:gensim.utils:Dictionary lifecycle event {'msg': \"built Dictionary<57 unique tokens: ['2019', 'Emma', 'Explained', 'Media', 'Netflix']...> from 4 documents (total 59 corpus positions)\", 'datetime': '2024-06-18T17:19:18.942088', 'gensim': '4.3.2', 'python': '3.11.0 (v3.11.0:deaf509e8f, Oct 24 2022, 14:43:23) [Clang 13.0.0 (clang-1300.0.29.30)]', 'platform': 'macOS-14.1-arm64-arm-64bit', 'event': 'created'}\n",
      "INFO:gensim.models.hdpmodel:(0, '0.124*real + 0.051*hosted + 0.047*engaging + 0.044*approach + 0.040*appealing + 0.038*life + 0.034*Each + 0.029*makes + 0.028*deep + 0.027*aspects')\n",
      "INFO:gensim.models.hdpmodel:(1, '0.058*shape + 0.053*show + 0.049*human + 0.044*aspects + 0.042*approach + 0.038*engaging + 0.035*Media + 0.031*memory + 0.027*Vox + 0.026*behaviors')\n",
      "INFO:gensim.models.hdpmodel:(2, '0.096*appealing + 0.067*deep + 0.056*Emma + 0.048*Media + 0.043*function + 0.041*complex + 0.040*episode + 0.038*insightful + 0.034*viewers + 0.032*real')\n",
      "INFO:gensim.models.hdpmodel:(3, '0.062*Netflix + 0.058*insightful + 0.056*fascinating + 0.050*engaging + 0.047*dreams + 0.045*memory + 0.041*experiences + 0.040*researchers + 0.038*Each + 0.037*life')\n",
      "INFO:gensim.models.hdpmodel:(4, '0.082*researchers + 0.065*series + 0.059*interest + 0.057*dreams + 0.054*human + 0.047*psychological + 0.039*episode + 0.035*nature + 0.031*leading + 0.030*insightful')\n",
      "INFO:gensim.models.hdpmodel:(5, '0.076*Its + 0.060*scientists + 0.051*memory + 0.046*brains + 0.042*Each + 0.041*experiences + 0.041*illuminate + 0.037*series + 0.036*function + 0.029*nature')\n",
      "INFO:gensim.models.hdpmodel:(6, '0.065*Stone + 0.063*experiences + 0.061*deep + 0.055*anxiety + 0.042*produced + 0.040*complex + 0.039*memory + 0.038*brain + 0.038*nature + 0.037*Its')\n",
      "INFO:gensim.models.hdpmodel:(7, '0.072*function + 0.069*leading + 0.066*illuminate + 0.041*insightful + 0.041*accessible + 0.038*understandable + 0.035*anxiety + 0.033*interest + 0.032*researchers + 0.031*Each')\n",
      "INFO:gensim.models.hdpmodel:(8, '0.089*aspects + 0.069*concepts + 0.057*engaging + 0.050*episode + 0.039*accessible + 0.039*hosted + 0.037*interest + 0.035*phenomena + 0.032*dives + 0.028*researchers')\n",
      "INFO:gensim.models.hdpmodel:(9, '0.109*anxiety + 0.094*life + 0.053*dreams + 0.046*interest + 0.042*aspects + 0.041*human + 0.040*2019 + 0.032*approach + 0.029*Explained + 0.028*produced')\n",
      "INFO:gensim.models.hdpmodel:(10, '0.084*understandable + 0.077*concepts + 0.062*Media + 0.059*experiments + 0.044*docuseries + 0.040*interest + 0.038*nature + 0.037*behaviors + 0.035*anxiety + 0.034*series')\n",
      "INFO:gensim.models.hdpmodel:(11, '0.103*deep + 0.073*Featuring + 0.058*packed + 0.056*accessible + 0.053*science + 0.043*understandable + 0.037*Vox + 0.035*aspects + 0.029*concepts + 0.029*show')\n",
      "INFO:gensim.models.hdpmodel:(12, '0.069*Featuring + 0.060*Stone + 0.051*behaviors + 0.051*dreams + 0.048*brains + 0.048*hosted + 0.045*psychological + 0.034*science + 0.033*leading + 0.030*fascinating')\n",
      "INFO:gensim.models.hdpmodel:(13, '0.085*concepts + 0.076*brains + 0.062*complex + 0.054*packed + 0.048*2019 + 0.045*insightful + 0.041*Featuring + 0.039*show + 0.037*different + 0.031*series')\n",
      "INFO:gensim.models.hdpmodel:(14, '0.077*dreams + 0.053*animations + 0.043*memory + 0.037*Media + 0.036*docuseries + 0.035*Stone + 0.034*brain + 0.032*phenomena + 0.031*psychological + 0.031*2019')\n",
      "INFO:gensim.models.hdpmodel:(15, '0.097*behaviors + 0.078*packed + 0.038*memory + 0.037*Explained + 0.037*insightful + 0.034*illuminate + 0.032*complex + 0.032*interviews + 0.031*Emma + 0.031*Vox')\n",
      "INFO:gensim.models.hdpmodel:(16, '0.070*docuseries + 0.060*approach + 0.054*insightful + 0.050*function + 0.048*concepts + 0.040*fascinating + 0.036*makes + 0.035*produced + 0.032*shape + 0.030*phenomena')\n",
      "INFO:gensim.models.hdpmodel:(17, '0.103*Media + 0.085*brain + 0.046*dives + 0.046*concepts + 0.039*makes + 0.039*approach + 0.038*packed + 0.036*docuseries + 0.036*appealing + 0.034*Each')\n",
      "INFO:gensim.models.hdpmodel:(18, '0.071*makes + 0.070*different + 0.053*Each + 0.052*Media + 0.050*complex + 0.048*human + 0.042*experiments + 0.041*aspects + 0.041*packed + 0.036*Stone')\n",
      "INFO:gensim.models.hdpmodel:(19, '0.050*Its + 0.050*episode + 0.045*memory + 0.043*insightful + 0.038*series + 0.037*illuminate + 0.037*psychological + 0.034*anxiety + 0.033*Featuring + 0.033*understandable')\n",
      "INFO:app.documentProcessing:Retrieved topic probabilities [(0, 0.5289196039475701), (1, 0.29123271619933017), (2, 0.16051227058414363)]\n",
      "INFO:app.documentProcessing:Retrieved topic probabilities [(0, 0.02751929515628238), (1, 0.6465826511522712), (2, 0.3091409014974305)]\n",
      "INFO:app.documentProcessing:Retrieved topic probabilities [(0, 0.1415823477796503), (1, 0.015870124814066564), (5, 0.8240725675774176)]\n",
      "INFO:app.documentProcessing:Retrieved topic probabilities [(0, 0.027520364230520743), (1, 0.9477493355028038)]\n",
      "INFO:app.documentProcessing:Completed HDP with topic boundaries {0, 1, 2, 3}\n",
      "INFO:app.documentProcessing:Formatting partitioned text into documents\n",
      "INFO:app.documentProcessing:Created docs [Document(page_content='Explained is a fascinating docuseries produced by Vox Media and hosted by Emma Stone, which premiered on Netflix in 2019.', metadata={'int_id': 108, 'kind': 'TV Show', 'title': 'The Mind'}), Document(page_content='Each episode of the series dives deep into different aspects of the human brain and psychological phenomena, such as anxiety, dreams, and memory.', metadata={'int_id': 108, 'kind': 'TV Show', 'title': 'The Mind'}), Document(page_content='Featuring interviews with leading scientists and researchers, the show is packed with insightful animations and real-life experiments that illuminate how our brains function and shape our experiences and behaviors.', metadata={'int_id': 108, 'kind': 'TV Show', 'title': 'The Mind'}), Document(page_content='Its accessible approach makes complex psychological concepts understandable and engaging, appealing to viewers with an interest in science and human nature.', metadata={'int_id': 108, 'kind': 'TV Show', 'title': 'The Mind'})]\n",
      "INFO:app.documentProcessing:Entering content docs embedding and Upsert to the VectorDB\n"
     ]
    },
    {
     "name": "stdout",
     "output_type": "stream",
     "text": [
      "\n",
      "Explained is a fascinating docuseries produced by Vox Media and hosted by Emma Stone, which premiered on Netflix in 2019.\n",
      "Each episode of the series dives deep into different aspects of the human brain and psychological phenomena, such as anxiety, dreams, and memory.\n",
      "Featuring interviews with leading scientists and researchers, the show is packed with insightful animations and real-life experiments that illuminate how our brains function and shape our experiences and behaviors.\n",
      "Its accessible approach makes complex psychological concepts understandable and engaging, appealing to viewers with an interest in science and human nature.\n",
      "Entering Upsert Method\n"
     ]
    },
    {
     "name": "stderr",
     "output_type": "stream",
     "text": [
      "INFO:app.documentProcessing:Embedding and indexing documents\n",
      "INFO:httpx:HTTP Request: POST https://api.openai.com/v1/embeddings \"HTTP/1.1 200 OK\"\n",
      "INFO:app.documentProcessing:Preprocessing content texts with HDP\n",
      "INFO:gensim.corpora.dictionary:adding document #0 to Dictionary<0 unique tokens: []>\n",
      "INFO:gensim.corpora.dictionary:built Dictionary<67 unique tokens: ['American', 'Life', 'States', 'This', 'United']...> from 5 documents (total 73 corpus positions)\n",
      "INFO:gensim.utils:Dictionary lifecycle event {'msg': \"built Dictionary<67 unique tokens: ['American', 'Life', 'States', 'This', 'United']...> from 5 documents (total 73 corpus positions)\", 'datetime': '2024-06-18T17:19:20.475983', 'gensim': '4.3.2', 'python': '3.11.0 (v3.11.0:deaf509e8f, Oct 24 2022, 14:43:23) [Clang 13.0.0 (clang-1300.0.29.30)]', 'platform': 'macOS-14.1-arm64-arm-64bit', 'event': 'created'}\n",
      "INFO:gensim.models.hdpmodel:(0, '0.085*revered + 0.084*broadcast + 0.068*across + 0.058*The + 0.046*fiction + 0.030*States + 0.028*Hosted + 0.027*life + 0.027*perspectives + 0.026*impacting')\n",
      "INFO:gensim.models.hdpmodel:(1, '0.090*frontrunner + 0.051*stations + 0.040*radio + 0.039*explored + 0.038*respect + 0.037*deep + 0.036*American + 0.033*fiction + 0.032*impacting + 0.032*factual')\n",
      "INFO:gensim.models.hdpmodel:(2, '0.060*Since + 0.039*impacting + 0.036*approach + 0.032*Hosted + 0.032*radio + 0.031*podcast + 0.031*American + 0.030*frontrunner + 0.028*empathy + 0.028*Glass')\n",
      "INFO:gensim.models.hdpmodel:(3, '0.072*States + 0.058*podcast + 0.055*one + 0.054*American + 0.053*available + 0.036*different + 0.036*first + 0.031*podcasts + 0.030*popular + 0.029*United')\n",
      "INFO:gensim.models.hdpmodel:(4, '0.099*multiple + 0.054*first + 0.045*episode + 0.044*empathy + 0.041*format + 0.038*fiction + 0.036*person + 0.036*voices + 0.030*1995 + 0.029*prestigious')\n",
      "INFO:gensim.models.hdpmodel:(5, '0.062*Life + 0.054*available + 0.047*awards + 0.045*revered + 0.037*sometimes + 0.035*everyday + 0.033*Each + 0.032*exploring + 0.031*giving + 0.029*frontrunner')\n",
      "INFO:gensim.models.hdpmodel:(6, '0.054*multiple + 0.053*Hosted + 0.041*empathy + 0.039*narratives + 0.036*show + 0.033*inception + 0.030*broadcast + 0.029*popular + 0.029*exploring + 0.028*Ira')\n",
      "INFO:gensim.models.hdpmodel:(7, '0.069*everyday + 0.060*awards + 0.055*United + 0.055*people + 0.038*life + 0.037*multiple + 0.036*Since + 0.030*American + 0.029*humor + 0.026*respect')\n",
      "INFO:gensim.models.hdpmodel:(8, '0.062*impacting + 0.052*available + 0.042*respect + 0.042*prestigious + 0.038*voices + 0.038*empathy + 0.037*told + 0.032*The + 0.030*reporting + 0.029*factual')\n",
      "INFO:gensim.models.hdpmodel:(9, '0.070*giving + 0.058*American + 0.049*sometimes + 0.044*storytelling + 0.041*deep + 0.034*audio + 0.031*internationally + 0.030*innovation + 0.030*across + 0.026*fiction')\n",
      "INFO:gensim.models.hdpmodel:(10, '0.052*told + 0.050*fiction + 0.042*Life + 0.037*States + 0.037*United + 0.037*based + 0.032*several + 0.032*even + 0.032*Glass + 0.031*specific')\n",
      "INFO:gensim.models.hdpmodel:(11, '0.051*narratives + 0.047*factual + 0.043*exploring + 0.040*weekly + 0.038*Glass + 0.035*distinct + 0.034*giving + 0.032*sometimes + 0.032*internationally + 0.032*episode')\n",
      "INFO:gensim.models.hdpmodel:(12, '0.064*different + 0.060*reporting + 0.052*format + 0.050*humor + 0.048*variety + 0.039*podcast + 0.038*storytelling + 0.037*impacting + 0.034*sometimes + 0.030*voices')\n",
      "INFO:gensim.models.hdpmodel:(13, '0.070*narratives + 0.058*approach + 0.056*storytelling + 0.056*humor + 0.047*specific + 0.045*respect + 0.042*The + 0.040*everyday + 0.038*frontrunner + 0.036*variety')\n",
      "INFO:gensim.models.hdpmodel:(14, '0.098*life + 0.097*1995 + 0.045*weekly + 0.045*American + 0.032*audio + 0.030*podcast + 0.028*Ira + 0.027*theme + 0.027*distinct + 0.025*empathy')\n",
      "INFO:gensim.models.hdpmodel:(15, '0.100*told + 0.049*prestigious + 0.048*popular + 0.044*sometimes + 0.043*The + 0.036*respect + 0.030*perspectives + 0.028*American + 0.028*podcasts + 0.024*podcast')\n",
      "INFO:gensim.models.hdpmodel:(16, '0.050*sometimes + 0.048*impacting + 0.046*storytelling + 0.040*approach + 0.037*inception + 0.034*States + 0.031*Each + 0.030*Glass + 0.030*first + 0.028*The')\n",
      "INFO:gensim.models.hdpmodel:(17, '0.067*available + 0.042*radio + 0.041*Each + 0.039*approach + 0.037*everyday + 0.037*deep + 0.036*stations + 0.029*based + 0.029*sometimes + 0.028*Life')\n",
      "INFO:gensim.models.hdpmodel:(18, '0.046*distinct + 0.043*stations + 0.040*Life + 0.039*voices + 0.038*perspectives + 0.038*awards + 0.036*radio + 0.034*Ira + 0.033*stories + 0.029*The')\n",
      "INFO:gensim.models.hdpmodel:(19, '0.100*storytelling + 0.059*format + 0.059*audio + 0.058*weekly + 0.043*impacting + 0.036*fiction + 0.036*giving + 0.032*stories + 0.027*awards + 0.027*people')\n",
      "INFO:app.documentProcessing:Retrieved topic probabilities [(0, 0.15228781146879056), (1, 0.015056144149593135), (2, 0.8137453108124753)]\n",
      "INFO:app.documentProcessing:Retrieved topic probabilities [(0, 0.9255651793425047), (1, 0.02479293704287489), (2, 0.018121968005209092), (3, 0.010648358946359427)]\n",
      "INFO:app.documentProcessing:Retrieved topic probabilities [(0, 0.02291258580879844), (1, 0.013311242941647794), (30, 0.9375478874011489)]\n",
      "INFO:app.documentProcessing:Retrieved topic probabilities [(0, 0.023564441225715174), (1, 0.011878447475024341), (7, 0.942262210298008)]\n",
      "INFO:app.documentProcessing:Retrieved topic probabilities [(0, 0.020841052316631956), (1, 0.01244544727638635), (20, 0.9418994120244862)]\n",
      "INFO:app.documentProcessing:Completed HDP with topic boundaries {0, 1, 2, 3, 4}\n",
      "INFO:app.documentProcessing:Formatting partitioned text into documents\n",
      "INFO:app.documentProcessing:Created docs [Document(page_content='This American Life is a weekly public radio show broadcast on multiple stations across the United States and internationally.', metadata={'int_id': 109, 'kind': 'Podcast', 'title': 'This American Life'}), Document(page_content='Hosted by Ira Glass, it is one of the most popular and revered podcasts available.', metadata={'int_id': 109, 'kind': 'Podcast', 'title': 'This American Life'}), Document(page_content='Each episode is based on a specific theme, explored through a variety of stories—factual reporting, first-person narratives, and sometimes even fiction.', metadata={'int_id': 109, 'kind': 'Podcast', 'title': 'This American Life'}), Document(page_content=\"The show's storytelling approach is distinct, giving voices to everyday people and exploring American life with empathy, humor, and a deep respect for different perspectives.\", metadata={'int_id': 109, 'kind': 'Podcast', 'title': 'This American Life'}), Document(page_content='Since its inception in 1995, This American Life has won several prestigious awards and has been a frontrunner in podcast innovation, impacting how stories are told in audio format.', metadata={'int_id': 109, 'kind': 'Podcast', 'title': 'This American Life'})]\n",
      "INFO:app.documentProcessing:Entering content docs embedding and Upsert to the VectorDB\n"
     ]
    },
    {
     "name": "stdout",
     "output_type": "stream",
     "text": [
      "\n",
      "This American Life is a weekly public radio show broadcast on multiple stations across the United States and internationally.\n",
      "Hosted by Ira Glass, it is one of the most popular and revered podcasts available.\n",
      "Each episode is based on a specific theme, explored through a variety of stories—factual reporting, first-person narratives, and sometimes even fiction.\n",
      "The show's storytelling approach is distinct, giving voices to everyday people and exploring American life with empathy, humor, and a deep respect for different perspectives.\n",
      "Since its inception in 1995, This American Life has won several prestigious awards and has been a frontrunner in podcast innovation, impacting how stories are told in audio format.\n",
      "Entering Upsert Method\n"
     ]
    },
    {
     "name": "stderr",
     "output_type": "stream",
     "text": [
      "INFO:app.documentProcessing:Embedding and indexing documents\n",
      "INFO:httpx:HTTP Request: POST https://api.openai.com/v1/embeddings \"HTTP/1.1 200 OK\"\n",
      "INFO:app.documentProcessing:Preprocessing content texts with HDP\n",
      "INFO:gensim.corpora.dictionary:adding document #0 to Dictionary<0 unique tokens: []>\n",
      "INFO:gensim.corpora.dictionary:built Dictionary<56 unique tokens: ['Flynn', 'Income', 'Passive', 'Pat', 'Smart']...> from 4 documents (total 65 corpus positions)\n",
      "INFO:gensim.utils:Dictionary lifecycle event {'msg': \"built Dictionary<56 unique tokens: ['Flynn', 'Income', 'Passive', 'Pat', 'Smart']...> from 4 documents (total 65 corpus positions)\", 'datetime': '2024-06-18T17:19:22.134545', 'gensim': '4.3.2', 'python': '3.11.0 (v3.11.0:deaf509e8f, Oct 24 2022, 14:43:23) [Clang 13.0.0 (clang-1300.0.29.30)]', 'platform': 'macOS-14.1-arm64-arm-64bit', 'event': 'created'}\n",
      "INFO:gensim.models.hdpmodel:(0, '0.078*mark + 0.067*Launched + 0.062*businesses + 0.049*personable + 0.045*effective + 0.041*marketing + 0.039*2008 + 0.037*looking + 0.037*practical + 0.033*strategies')\n",
      "INFO:gensim.models.hdpmodel:(1, '0.085*essential + 0.061*Flynn + 0.055*2008 + 0.043*passive + 0.043*experiences + 0.040*figure + 0.037*tools + 0.031*motivational + 0.031*ethical + 0.028*make')\n",
      "INFO:gensim.models.hdpmodel:(2, '0.061*trusted + 0.051*online + 0.049*ethical + 0.047*income + 0.044*interviews + 0.040*create + 0.039*Passive + 0.038*passive + 0.037*business + 0.036*innovative')\n",
      "INFO:gensim.models.hdpmodel:(3, '0.084*personable + 0.076*Smart + 0.056*digital + 0.048*space + 0.047*Passive + 0.046*The + 0.045*motivational + 0.045*strategies + 0.043*make + 0.034*create')\n",
      "INFO:gensim.models.hdpmodel:(4, '0.068*The + 0.061*Income + 0.050*businesses + 0.040*digital + 0.037*business + 0.036*make + 0.033*information + 0.033*community + 0.030*made + 0.030*income')\n",
      "INFO:gensim.models.hdpmodel:(5, '0.065*experts + 0.059*make + 0.054*The + 0.048*made + 0.047*substantial + 0.046*space + 0.045*effective + 0.040*hosted + 0.029*figure + 0.029*wealth')\n",
      "INFO:gensim.models.hdpmodel:(6, '0.065*earn + 0.049*entrepreneurs + 0.044*marketing + 0.043*information + 0.040*community + 0.038*Pat + 0.037*shares + 0.033*space + 0.030*Income + 0.027*create')\n",
      "INFO:gensim.models.hdpmodel:(7, '0.074*guide + 0.052*strategies + 0.050*The + 0.049*aspiring + 0.045*make + 0.044*Smart + 0.037*earn + 0.037*shares + 0.030*innovative + 0.030*generates')\n",
      "INFO:gensim.models.hdpmodel:(8, '0.051*income + 0.045*innovative + 0.045*community + 0.044*podcast + 0.041*regarding + 0.038*motivational + 0.037*effective + 0.035*create + 0.033*His + 0.033*trusted')\n",
      "INFO:gensim.models.hdpmodel:(9, '0.109*2008 + 0.046*business + 0.044*mark + 0.039*generates + 0.038*businesses + 0.038*advice + 0.035*hosted + 0.035*figure + 0.035*essential + 0.034*effective')\n",
      "INFO:gensim.models.hdpmodel:(10, '0.071*The + 0.061*substantial + 0.057*podcast + 0.050*businesses + 0.049*investments + 0.044*offers + 0.038*experts + 0.035*made + 0.031*shares + 0.030*looking')\n",
      "INFO:gensim.models.hdpmodel:(11, '0.072*2008 + 0.068*passive + 0.068*made + 0.062*wealth + 0.062*resource + 0.060*shares + 0.051*podcast + 0.045*space + 0.037*looking + 0.035*digital')\n",
      "INFO:gensim.models.hdpmodel:(12, '0.120*passive + 0.070*made + 0.058*experiences + 0.042*practical + 0.035*earn + 0.034*personable + 0.033*investments + 0.032*tools + 0.031*motivational + 0.028*shares')\n",
      "INFO:gensim.models.hdpmodel:(13, '0.126*personable + 0.084*His + 0.068*strategies + 0.039*business + 0.037*offers + 0.037*Flynn + 0.036*motivational + 0.033*space + 0.031*earn + 0.031*essential')\n",
      "INFO:gensim.models.hdpmodel:(14, '0.118*effective + 0.062*serving + 0.043*community + 0.040*digital + 0.037*His + 0.033*guide + 0.032*looking + 0.031*successful + 0.030*figure + 0.030*Pat')\n",
      "INFO:gensim.models.hdpmodel:(15, '0.087*Launched + 0.072*podcast + 0.046*figure + 0.043*hosted + 0.041*successful + 0.038*strategies + 0.038*personable + 0.035*investments + 0.035*looking + 0.033*interviews')\n",
      "INFO:gensim.models.hdpmodel:(16, '0.092*advice + 0.059*innovative + 0.048*income + 0.042*practical + 0.041*earn + 0.039*podcast + 0.034*make + 0.032*interviews + 0.031*Smart + 0.028*The')\n",
      "INFO:gensim.models.hdpmodel:(17, '0.076*mark + 0.076*make + 0.076*Income + 0.052*Launched + 0.048*ethical + 0.042*2008 + 0.038*Passive + 0.034*podcast + 0.033*information + 0.033*The')\n",
      "INFO:gensim.models.hdpmodel:(18, '0.067*entrepreneurs + 0.066*space + 0.063*earn + 0.054*figure + 0.051*Launched + 0.051*interviews + 0.036*effective + 0.034*Income + 0.032*successful + 0.031*advice')\n",
      "INFO:gensim.models.hdpmodel:(19, '0.071*information + 0.051*businesses + 0.047*Income + 0.047*earn + 0.045*generates + 0.041*looking + 0.034*Flynn + 0.033*make + 0.033*innovative + 0.032*experiences')\n",
      "INFO:app.documentProcessing:Retrieved topic probabilities [(0, 0.3989546089950462), (1, 0.23972651265900774), (3, 0.34205050380527535)]\n",
      "INFO:app.documentProcessing:Retrieved topic probabilities [(0, 0.3345108426631799), (1, 0.017451070775676262), (2, 0.6287689034779823)]\n",
      "INFO:app.documentProcessing:Retrieved topic probabilities [(0, 0.33022962083681157), (1, 0.40566663669798725), (2, 0.24483411946230732)]\n",
      "INFO:app.documentProcessing:Retrieved topic probabilities [(0, 0.14604756044970488), (1, 0.21343964037824928), (2, 0.6292724552259722)]\n",
      "INFO:app.documentProcessing:Completed HDP with topic boundaries {0, 1, 2, 3}\n",
      "INFO:app.documentProcessing:Formatting partitioned text into documents\n",
      "INFO:app.documentProcessing:Created docs [Document(page_content='The Smart Passive Income podcast, hosted by Pat Flynn, is an essential resource for entrepreneurs looking to make their mark in the digital space.', metadata={'int_id': 110, 'kind': 'Podcast', 'title': 'The Smart Passive Income'}), Document(page_content='Launched in 2008, the podcast offers a wealth of information on how to create a successful online business that generates passive income.', metadata={'int_id': 110, 'kind': 'Podcast', 'title': 'The Smart Passive Income'}), Document(page_content='Flynn interviews experts and shares his own experiences regarding effective online marketing strategies, business tools, and investments.', metadata={'int_id': 110, 'kind': 'Podcast', 'title': 'The Smart Passive Income'}), Document(page_content='His personable approach and practical advice have made him a trusted figure in the online business community, with the podcast serving as a motivational guide for those aspiring to earn a substantial income through innovative, ethical online businesses.', metadata={'int_id': 110, 'kind': 'Podcast', 'title': 'The Smart Passive Income'})]\n",
      "INFO:app.documentProcessing:Entering content docs embedding and Upsert to the VectorDB\n"
     ]
    },
    {
     "name": "stdout",
     "output_type": "stream",
     "text": [
      "\n",
      "The Smart Passive Income podcast, hosted by Pat Flynn, is an essential resource for entrepreneurs looking to make their mark in the digital space.\n",
      "Launched in 2008, the podcast offers a wealth of information on how to create a successful online business that generates passive income.\n",
      "Flynn interviews experts and shares his own experiences regarding effective online marketing strategies, business tools, and investments.\n",
      "His personable approach and practical advice have made him a trusted figure in the online business community, with the podcast serving as a motivational guide for those aspiring to earn a substantial income through innovative, ethical online businesses.\n",
      "Entering Upsert Method\n"
     ]
    },
    {
     "name": "stderr",
     "output_type": "stream",
     "text": [
      "INFO:app.documentProcessing:Embedding and indexing documents\n",
      "INFO:httpx:HTTP Request: POST https://api.openai.com/v1/embeddings \"HTTP/1.1 200 OK\"\n",
      "INFO:app.documentProcessing:Completed segmentation and Upsert of all content docs\n"
     ]
    }
   ],
   "source": [
    "from app.documentProcessing import process_dataset_pipeline\n",
    "\n",
    "index_name = \"test\"\n",
    "dataset_path = \"util/test_dataset.csv\"\n",
    "\n",
    "response_dataframe = process_dataset_pipeline(dataset_path,index_name)"
   ],
   "metadata": {
    "collapsed": false,
    "ExecuteTime": {
     "end_time": "2024-06-18T21:19:23.743231Z",
     "start_time": "2024-06-18T21:18:55.018515Z"
    }
   },
   "id": "f3116fabc353532b",
   "execution_count": 2
  },
  {
   "cell_type": "code",
   "outputs": [],
   "source": [],
   "metadata": {
    "collapsed": false
   },
   "id": "99856334545bcba0"
  },
  {
   "cell_type": "code",
   "outputs": [],
   "source": [],
   "metadata": {
    "collapsed": false
   },
   "id": "6f20e70f37f76101"
  }
 ],
 "metadata": {
  "kernelspec": {
   "display_name": "Python 3",
   "language": "python",
   "name": "python3"
  },
  "language_info": {
   "codemirror_mode": {
    "name": "ipython",
    "version": 2
   },
   "file_extension": ".py",
   "mimetype": "text/x-python",
   "name": "python",
   "nbconvert_exporter": "python",
   "pygments_lexer": "ipython2",
   "version": "2.7.6"
  }
 },
 "nbformat": 4,
 "nbformat_minor": 5
}
