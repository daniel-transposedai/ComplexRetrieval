{
 "cells": [
  {
   "cell_type": "code",
   "outputs": [],
   "source": [
    "import pandas as pd\n",
    "\n",
    "df = pd.read_csv('util/livev1_final_eval.csv')\n",
    "context_precision_avg = df['context_precision'].mean()\n",
    "context_recall_avg = df['context_recall'].mean()\n",
    "print(\"precision: \" + str(context_precision_avg) + \", recall: \" + str(context_recall_avg))\n",
    "df.head()\n"
   ],
   "metadata": {
    "collapsed": false
   },
   "id": "ae42f8a42705ad2d",
   "execution_count": null
  },
  {
   "cell_type": "code",
   "execution_count": null,
   "id": "initial_id",
   "metadata": {
    "collapsed": true
   },
   "outputs": [],
   "source": [
    "import pandas as pd\n",
    "#parquet_file_path = 'util/live_dataset.parquet'\n",
    "\n",
    "df = pd.read_parquet('util/live_dataset_autorag.parquet')\n",
    "#df.to_parquet(f\"./util/live_template_eval_autorag.parquet\")\n",
    "#filtered_df = df.loc[df['column_name'] == search_value]\n",
    "df.head(250)\n",
    "#filtered_df = df.loc[df['doc_id'] == '3f1ad9c2bc30eda8']\n",
    "#filtered_df.head()"
   ]
  },
  {
   "cell_type": "code",
   "outputs": [],
   "source": [
    "import ast \n",
    "\n",
    "\n",
    "df = pd.read_parquet('util/live_dataset.parquet')\n",
    "df = df.rename(columns={'id': 'doc_id', 'content': 'contents'})\n",
    "#df['doc_id'] = df['doc_id'].apply(lambda x: [[x]])\n",
    "#df = df.drop(columns=['int_id', 'kind'], axis=1)\n",
    "df.to_parquet('util/live_dataset_autorag.parquet')\n",
    "\n",
    "\n",
    "qa_df = pd.read_parquet('util/live_template_eval_autorag.parquet')\n",
    "#qa_df['retrieval_gt'] = qa_df['retrieval_gt'].apply(lambda x: ast.literal_eval(x))\n",
    "#type(qa_df['retrieval_gt'][0][0])\n",
    "#.to_parquet('util/live_template_eval_autorag.parquet')\n",
    "\n",
    "print(type(df['doc_id'][0]))\n",
    "print(type(qa_df['retrieval_gt'][0]))\n",
    "\n",
    "corpus_df = pd.read_parquet('util/live_dataset_autorag.parquet')\n",
    "qa_df = pd.read_parquet('util/live_template_eval_autorag.parquet')\n",
    "print(type(corpus_df['doc_id'][0]))\n",
    "print(type(qa_df['retrieval_gt'][0]))\n",
    "qa_df.head()\n"
   ],
   "metadata": {
    "collapsed": false
   },
   "id": "131bf60deb741077",
   "execution_count": null
  },
  {
   "cell_type": "code",
   "outputs": [],
   "source": [
    "df.head()\n",
    "#df['doc_id'][0][0][0]"
   ],
   "metadata": {
    "collapsed": false
   },
   "id": "b2afc482d26a8d14",
   "execution_count": null
  },
  {
   "cell_type": "code",
   "outputs": [],
   "source": [
    "import numpy as np\n",
    "\n",
    "corpus_df = pd.read_parquet('util/live_dataset_autorag.parquet')\n",
    "qa_df = pd.read_parquet('util/live_template_eval_autorag.parquet')\n",
    "print(type(corpus_df['doc_id'][0]))\n",
    "from app.eval import build_synthetic_template_autorag, try_autorag\n",
    "\n",
    "def validate_qa_from_corpus_dataset(qa_df: pd.DataFrame, corpus_df: pd.DataFrame):\n",
    "    qa_ids = []\n",
    "    print(type(corpus_df['doc_id'][0]))\n",
    "    print(type(qa_df['retrieval_gt'][0]))\n",
    "    print(qa_df['retrieval_gt'][0])\n",
    "\n",
    "    no_exist_ids = list(filter(lambda qa_id: corpus_df[corpus_df['doc_id'] == qa_id].empty, qa_ids))\n",
    "    for i in range(len(qa_ids)):\n",
    "        print(qa_ids[i])\n",
    "        print(type(qa_ids[i]))\n",
    "    print(\"now corpus\")\n",
    "    for i in range(len(corpus_df['doc_id'])):\n",
    "        print(corpus_df['doc_id'][i])\n",
    "        print(type(corpus_df['doc_id'][i]))\n",
    "    print(\"now no_exist_ids\")\n",
    "    for i in range(len(no_exist_ids)):\n",
    "        print(no_exist_ids[i])\n",
    "        print(type(no_exist_ids[i]))\n",
    "        \n",
    "    print(\"now retrieval length\")\n",
    "    print(len(qa_df['retrieval_gt']))\n",
    "    assert len(no_exist_ids) == 0, f\"{len(no_exist_ids)} doc_ids in retrieval_gt do not exist in corpus_df.\"\n",
    "    \n",
    "validate_qa_from_corpus_dataset(qa_df, corpus_df)\n",
    "\n",
    "build_synthetic_template_autorag(\"live\", use_existing=True)\n",
    "print(\"Now entering autorag pipeline...\")\n",
    "try_autorag()"
   ],
   "metadata": {
    "collapsed": false
   },
   "id": "c12ab91109ae582e",
   "execution_count": null
  },
  {
   "cell_type": "code",
   "outputs": [],
   "source": [
    "df = pd.read_csv('util/live_rag-test-conversations.csv')\n",
    "df.head(50)"
   ],
   "metadata": {
    "collapsed": false
   },
   "id": "a24786ad2887def8",
   "execution_count": null
  },
  {
   "cell_type": "code",
   "outputs": [],
   "source": [
    "concatenated_content = \"\\n\".join([entry['content'] for entry in df.loc[0, 'conv_prefix']])\n",
    "\n",
    "print(concatenated_content)"
   ],
   "metadata": {
    "collapsed": false
   },
   "id": "c4ee3ca6c449355c",
   "execution_count": null
  },
  {
   "cell_type": "code",
   "outputs": [],
   "source": [
    "df.to_csv('util/conversational_inputs.csv', index=False)"
   ],
   "metadata": {
    "collapsed": false
   },
   "id": "ea355026b994151e",
   "execution_count": null
  },
  {
   "cell_type": "code",
   "outputs": [],
   "source": [
    "parquet_content_file_path ='util/content_dataset.parquet'\n",
    "df = pd.read_parquet(parquet_content_file_path)\n"
   ],
   "metadata": {
    "collapsed": false
   },
   "id": "cd556c171584648a",
   "execution_count": null
  },
  {
   "cell_type": "code",
   "outputs": [],
   "source": [
    "df.head(250)"
   ],
   "metadata": {
    "collapsed": false
   },
   "id": "888dafe9d94c7009",
   "execution_count": null
  },
  {
   "cell_type": "code",
   "outputs": [],
   "source": [
    "from langchain.schema import Document\n",
    "doc = Document(\n",
    "                page_content = \"test\",\n",
    "                metadata = {\"int_id\": 123, \"kind\": \"book\", \"title\": \"cool\"}\n",
    "            )\n",
    "doc2 = Document(\n",
    "                page_content = \"tes222\",\n",
    "                metadata = {\"int_id\": 1223, \"kind\": \"movie\", \"title\": \"cosssl\"}\n",
    "            )\n",
    "docs = []\n",
    "docs.append(doc)\n",
    "docs.append(doc2)"
   ],
   "metadata": {
    "collapsed": false
   },
   "id": "9b9d6ddb6e4356e4",
   "execution_count": null
  },
  {
   "cell_type": "code",
   "outputs": [],
   "source": [
    "rows = []\n",
    "for doc in docs:\n",
    "    row = {'contents': doc.page_content,\n",
    "           'int_id': doc.metadata['int_id'],\n",
    "           'kind': doc.metadata['kind'],\n",
    "           'metadata': doc.metadata}\n",
    "    rows.append(row)\n",
    "df = pd.DataFrame(rows)\n",
    "df.head(2)"
   ],
   "metadata": {
    "collapsed": false
   },
   "id": "43bf824b526956ab",
   "execution_count": null
  },
  {
   "cell_type": "code",
   "outputs": [],
   "source": [],
   "metadata": {
    "collapsed": false
   },
   "id": "2a9c2c2fd0eeb112"
  },
  {
   "cell_type": "code",
   "outputs": [],
   "source": [
    "df = pd.read_parquet('util/live_template_eval_autorag.parquet')\n",
    "df.head(15)"
   ],
   "metadata": {
    "collapsed": false
   },
   "id": "1e16c486542af044",
   "execution_count": null
  },
  {
   "cell_type": "code",
   "outputs": [],
   "source": [
    "df.head(50)"
   ],
   "metadata": {
    "collapsed": false
   },
   "id": "4a22d9bc53dc74e",
   "execution_count": null
  },
  {
   "cell_type": "code",
   "outputs": [],
   "source": [
    "sd = pd.read_parquet('util/live_template_eval_autorag.parquet')\n",
    "sd.head(100)"
   ],
   "metadata": {
    "collapsed": false
   },
   "id": "b89ca3edf515d63a",
   "execution_count": null
  },
  {
   "cell_type": "code",
   "outputs": [],
   "source": [
    "eval_df = pd.read_csv('1/summary.csv')\n",
    "\n",
    "eval_df.head(50)"
   ],
   "metadata": {
    "collapsed": false
   },
   "id": "ae01cd80744293d3",
   "execution_count": null
  },
  {
   "cell_type": "code",
   "outputs": [],
   "source": [
    "df = pd.read_parquet(f\"util/live_dataset_autorag.parquet\")\n",
    "\n",
    "# use iloc to slice shorter\n",
    "quarter_length = len(df) // 10\n",
    "first_quarter_df = df.iloc[:quarter_length]\n",
    "\n",
    "first_quarter_df.to_parquet(f\"util/live_dataset_autorag_eval_fquarter.parquet\")"
   ],
   "metadata": {
    "collapsed": false
   },
   "id": "962be9bdd175cf5",
   "execution_count": null
  },
  {
   "cell_type": "code",
   "outputs": [],
   "source": [
    "\n",
    "\n",
    "test_retrieval_df = pd.read_parquet('0/retrieve_node_line/retrieval/0.parquet')\n",
    "test_retrieval_df.head(50)"
   ],
   "metadata": {
    "collapsed": false
   },
   "id": "ee82713441a7c6c0",
   "execution_count": null
  },
  {
   "cell_type": "code",
   "outputs": [],
   "source": [
    "test_retrieval_df = pd.read_parquet('util/live_template_eval_autorag.parquet')\n",
    "\n",
    "\n",
    "original_dataset_autorag = pd.read_parquet('util/live_dataset_autorag.parquet')\n",
    "#test_retrieval_df.head(50)\n",
    "original_dataset_autorag.head(50)"
   ],
   "metadata": {
    "collapsed": false
   },
   "id": "8d18486692a4084f",
   "execution_count": null
  },
  {
   "cell_type": "code",
   "outputs": [],
   "source": [
    "original_dataset_autorag.head(50)\n",
    "original_dataset_autorag['contents'][0]\n"
   ],
   "metadata": {
    "collapsed": false
   },
   "id": "69a54b06942c63ae",
   "execution_count": null
  },
  {
   "cell_type": "code",
   "outputs": [],
   "source": [
    "\n",
    "test_retrieval_df['contexts'] \n",
    "test_retrieval_df.head()"
   ],
   "metadata": {
    "collapsed": false
   },
   "id": "1df6b12dfc407afd",
   "execution_count": null
  },
  {
   "cell_type": "code",
   "outputs": [],
   "source": [
    "contexts = test_retrieval_df['contexts']\n",
    "\n",
    "matched_contexts = original_dataset_autorag[original_dataset_autorag['contents'].isin(contexts)]\n"
   ],
   "metadata": {
    "collapsed": false
   },
   "id": "751d805ffaa92670",
   "execution_count": null
  },
  {
   "cell_type": "code",
   "outputs": [],
   "source": [],
   "metadata": {
    "collapsed": false
   },
   "id": "445cda83857e9ef4",
   "execution_count": null
  },
  {
   "cell_type": "code",
   "outputs": [
    {
     "data": {
      "text/plain": "                                     qid  \\\n0   8d2b1cf7-430b-477d-b74f-240d5bfef73a   \n1   4df8f3bf-13dd-4aeb-aae2-c0b088dc8f0b   \n2   e9ca8191-7de0-4e6d-95ce-3819bacd8a52   \n3   dbd92361-0a12-42b4-b3e2-3fcb2e5ac74a   \n4   0f0bed1f-7697-4bc0-b41c-fd3225a3bebb   \n5   538fd868-1f0c-4f30-9839-a011a0064b93   \n6   930b72d6-38cd-4c93-b2d0-059d9a2e4102   \n7   9def3e68-c243-4369-989d-f1bf44d279b3   \n8   ca78dfaf-4897-46c3-970e-b6547d7e2102   \n9   2a82cd04-4a8b-4d17-a621-d41dbc747172   \n10  43d85817-5d4c-4719-8eb5-0b92088dd8b7   \n11  0069dc70-658d-44bd-8cc4-3003624a0041   \n12  19b917ed-7a7f-4b61-807f-b11e2a66e509   \n13  c9a1f460-d98f-454d-a256-02dccf23ffe9   \n14  7635989d-1f19-482d-b3b8-e2bb499c1413   \n15  4a142d75-4784-4a21-949a-e000eef6c73e   \n16  6b9dcdb2-19e6-4518-9954-376f2d78ddbe   \n17  6f084181-7698-4e5c-8c50-84ea6257a667   \n18  d1fc4701-9aab-4d19-acd0-e3a35c444bfb   \n19  7d1e18b8-af08-47cc-9250-530eb6ee20ec   \n20  d954828c-e24c-45da-abc3-109284dbbb04   \n21  b7e8a8c8-a63b-4677-b556-714057bf4da0   \n22  8f1bff3d-5266-4e6f-9c3a-f8ba7b4d51ca   \n23  5964f01b-6b7e-47e7-abb6-e198074e5099   \n24  85c3809d-0122-4b2e-a457-8dc84aa57311   \n25  06151922-f119-4b04-b4ab-f35262795404   \n26  8e325307-83b1-4d26-a084-52fed06b17f7   \n27  047aec7d-26a8-4e6f-a512-863bcdb4452b   \n\n                                                query  \\\n0   Why do people dislike feeling obligated to som...   \n1   How does a heightened emotional state impact r...   \n2   What kind of job training does the FBI provide...   \n3   What is the role of 'no' as a word in negotiat...   \n4   Why would calling someone a coward indicate th...   \n5   Why might someone ask you to cut your commission?   \n6        What does it mean to be vested in a process?   \n7   How does proactive listening help in evaluatin...   \n8   Why is it beneficial to get on your feet, even...   \n9   How does the perception of loss influence huma...   \n10  How do you get a read on your opponent in a ne...   \n11                 What does it mean to be concerned?   \n12  What does splitting the difference mean in the...   \n13  How does the use of silence help in convincing...   \n14  Why is mimicking someone's tone of voice consi...   \n15  Why is it important to proactively mitigate ne...   \n16  Why are lasting impressions just as important ...   \n17  How can focusing on making the company more su...   \n18  Why is being good at shutting up considered be...   \n19  Why does the speaker listen to certain people ...   \n20  Why are people more likely to take a risk to a...   \n21  What becomes problematic if emotions aren't co...   \n22   Who's the ex-FBI negotiator at Black Swan Group?   \n23      What trait, besides EQ, helps in negotiation?   \n24  Which brain side is tied to logic vs. creativity?   \n25  How do energy and body language affect in-pers...   \n26  How does recognizing anxiety affect self-aware...   \n27  How do misaligned incentives occur with non-ou...   \n\n                                        generation_gt  \\\n0                                               [nan]   \n1   [A heightened emotional state impacts reasonin...   \n2   [The context suggests that the FBI provides on...   \n3                                               [nan]   \n4   [Calling someone a coward indicates that you d...   \n5   [Someone might ask you to cut your commission ...   \n6   [To be vested in a process means to participat...   \n7   [Proactive listening helps in evaluating infor...   \n8                                               [nan]   \n9   [According to Daniel Kahneman's prospect theor...   \n10  [You get a read on your opponent in a negotiat...   \n11  [To be concerned means to be worried about som...   \n12  [In the context of resolving disputes between ...   \n13  [The use of silence helps in convincing and in...   \n14  [Mimicking someone's tone of voice is consider...   \n15  [It is important to proactively mitigate negat...   \n16                                              [nan]   \n17  [Focusing on making the company more successfu...   \n18                                              [nan]   \n19  [The speaker listens to certain people to stud...   \n20  [People are more likely to take a risk to avoi...   \n21  [If emotions aren't controlled, you can't cont...   \n22  [The ex-FBI negotiator at Black Swan Group is ...   \n23  [Openness is a trait that helps in negotiation...   \n24  [The left brain is tied to logic, while the ri...   \n25  [Energy and body language affect in-person com...   \n26  [Recognizing anxiety affects self-awareness an...   \n27  [Misaligned incentives occur with non-outcome-...   \n\n                                retrieval_gt  \n0   [[6dcb0031-6d83-4aa4-b7f6-e6af878952ce]]  \n1   [[2a17400a-dbc0-4fca-a1b5-a308460114d3]]  \n2   [[c6cccacd-cb1d-49ea-8fba-2bd2667e03ce]]  \n3   [[72c901d4-47e4-4fdf-93aa-cecbd00bc8f2]]  \n4   [[f552d27f-c1e2-48f2-af1d-3d2392ec291b]]  \n5   [[f40b3e8b-9c54-41b6-9699-50c83da473b1]]  \n6   [[071b9608-68cd-49eb-9924-ffe8bc2e1b94]]  \n7   [[1505a848-64eb-4625-87a9-4bc121ca35f0]]  \n8   [[5a251366-b418-439f-a83a-ea1b3df08d92]]  \n9   [[b2fff91f-fe98-44e4-8406-94180ef2ef4a]]  \n10  [[15deca93-759a-4f3b-94e2-3ba207134abc]]  \n11  [[1cd2e547-b849-40e7-8152-29489bdd840a]]  \n12  [[27412c72-d592-497f-a80e-6802941a1aca]]  \n13  [[19f759b5-f741-4e1f-94ff-37df9dba2e9d]]  \n14  [[3d587e1a-e1ac-4d59-8cd7-83b874e1aae0]]  \n15  [[da69e3ec-87ac-432b-b566-38bff39f5985]]  \n16  [[4a51e777-38d6-49b7-ba94-b5e9af370bb8]]  \n17  [[e434aa3e-e1a4-4f80-895f-3edd80fc1fd8]]  \n18  [[4f253c1d-5455-4913-baf1-9c8d18cc60d7]]  \n19  [[8ce532e6-d209-4a32-b068-c4a14369b846]]  \n20  [[b4ebf404-e78b-4997-812c-cb24eab5a62f]]  \n21  [[e170e59f-fae9-4397-be10-d5efd768a8bd]]  \n22  [[36b15925-254b-4ba5-aa43-34da4d586a4a]]  \n23  [[2cae9cc1-dce2-46dc-b547-00551480c594]]  \n24  [[8f96e478-591d-44d7-8781-9693015a3bdf]]  \n25  [[f9ae4ac7-ed95-4bbc-841c-efa39cca7980]]  \n26  [[d1f57744-4cfa-497f-8205-6fbd750fdb24]]  \n27  [[a462fa93-26f4-4988-ac9f-08bd5c434dd5]]  ",
      "text/html": "<div>\n<style scoped>\n    .dataframe tbody tr th:only-of-type {\n        vertical-align: middle;\n    }\n\n    .dataframe tbody tr th {\n        vertical-align: top;\n    }\n\n    .dataframe thead th {\n        text-align: right;\n    }\n</style>\n<table border=\"1\" class=\"dataframe\">\n  <thead>\n    <tr style=\"text-align: right;\">\n      <th></th>\n      <th>qid</th>\n      <th>query</th>\n      <th>generation_gt</th>\n      <th>retrieval_gt</th>\n    </tr>\n  </thead>\n  <tbody>\n    <tr>\n      <th>0</th>\n      <td>8d2b1cf7-430b-477d-b74f-240d5bfef73a</td>\n      <td>Why do people dislike feeling obligated to som...</td>\n      <td>[nan]</td>\n      <td>[[6dcb0031-6d83-4aa4-b7f6-e6af878952ce]]</td>\n    </tr>\n    <tr>\n      <th>1</th>\n      <td>4df8f3bf-13dd-4aeb-aae2-c0b088dc8f0b</td>\n      <td>How does a heightened emotional state impact r...</td>\n      <td>[A heightened emotional state impacts reasonin...</td>\n      <td>[[2a17400a-dbc0-4fca-a1b5-a308460114d3]]</td>\n    </tr>\n    <tr>\n      <th>2</th>\n      <td>e9ca8191-7de0-4e6d-95ce-3819bacd8a52</td>\n      <td>What kind of job training does the FBI provide...</td>\n      <td>[The context suggests that the FBI provides on...</td>\n      <td>[[c6cccacd-cb1d-49ea-8fba-2bd2667e03ce]]</td>\n    </tr>\n    <tr>\n      <th>3</th>\n      <td>dbd92361-0a12-42b4-b3e2-3fcb2e5ac74a</td>\n      <td>What is the role of 'no' as a word in negotiat...</td>\n      <td>[nan]</td>\n      <td>[[72c901d4-47e4-4fdf-93aa-cecbd00bc8f2]]</td>\n    </tr>\n    <tr>\n      <th>4</th>\n      <td>0f0bed1f-7697-4bc0-b41c-fd3225a3bebb</td>\n      <td>Why would calling someone a coward indicate th...</td>\n      <td>[Calling someone a coward indicates that you d...</td>\n      <td>[[f552d27f-c1e2-48f2-af1d-3d2392ec291b]]</td>\n    </tr>\n    <tr>\n      <th>5</th>\n      <td>538fd868-1f0c-4f30-9839-a011a0064b93</td>\n      <td>Why might someone ask you to cut your commission?</td>\n      <td>[Someone might ask you to cut your commission ...</td>\n      <td>[[f40b3e8b-9c54-41b6-9699-50c83da473b1]]</td>\n    </tr>\n    <tr>\n      <th>6</th>\n      <td>930b72d6-38cd-4c93-b2d0-059d9a2e4102</td>\n      <td>What does it mean to be vested in a process?</td>\n      <td>[To be vested in a process means to participat...</td>\n      <td>[[071b9608-68cd-49eb-9924-ffe8bc2e1b94]]</td>\n    </tr>\n    <tr>\n      <th>7</th>\n      <td>9def3e68-c243-4369-989d-f1bf44d279b3</td>\n      <td>How does proactive listening help in evaluatin...</td>\n      <td>[Proactive listening helps in evaluating infor...</td>\n      <td>[[1505a848-64eb-4625-87a9-4bc121ca35f0]]</td>\n    </tr>\n    <tr>\n      <th>8</th>\n      <td>ca78dfaf-4897-46c3-970e-b6547d7e2102</td>\n      <td>Why is it beneficial to get on your feet, even...</td>\n      <td>[nan]</td>\n      <td>[[5a251366-b418-439f-a83a-ea1b3df08d92]]</td>\n    </tr>\n    <tr>\n      <th>9</th>\n      <td>2a82cd04-4a8b-4d17-a621-d41dbc747172</td>\n      <td>How does the perception of loss influence huma...</td>\n      <td>[According to Daniel Kahneman's prospect theor...</td>\n      <td>[[b2fff91f-fe98-44e4-8406-94180ef2ef4a]]</td>\n    </tr>\n    <tr>\n      <th>10</th>\n      <td>43d85817-5d4c-4719-8eb5-0b92088dd8b7</td>\n      <td>How do you get a read on your opponent in a ne...</td>\n      <td>[You get a read on your opponent in a negotiat...</td>\n      <td>[[15deca93-759a-4f3b-94e2-3ba207134abc]]</td>\n    </tr>\n    <tr>\n      <th>11</th>\n      <td>0069dc70-658d-44bd-8cc4-3003624a0041</td>\n      <td>What does it mean to be concerned?</td>\n      <td>[To be concerned means to be worried about som...</td>\n      <td>[[1cd2e547-b849-40e7-8152-29489bdd840a]]</td>\n    </tr>\n    <tr>\n      <th>12</th>\n      <td>19b917ed-7a7f-4b61-807f-b11e2a66e509</td>\n      <td>What does splitting the difference mean in the...</td>\n      <td>[In the context of resolving disputes between ...</td>\n      <td>[[27412c72-d592-497f-a80e-6802941a1aca]]</td>\n    </tr>\n    <tr>\n      <th>13</th>\n      <td>c9a1f460-d98f-454d-a256-02dccf23ffe9</td>\n      <td>How does the use of silence help in convincing...</td>\n      <td>[The use of silence helps in convincing and in...</td>\n      <td>[[19f759b5-f741-4e1f-94ff-37df9dba2e9d]]</td>\n    </tr>\n    <tr>\n      <th>14</th>\n      <td>7635989d-1f19-482d-b3b8-e2bb499c1413</td>\n      <td>Why is mimicking someone's tone of voice consi...</td>\n      <td>[Mimicking someone's tone of voice is consider...</td>\n      <td>[[3d587e1a-e1ac-4d59-8cd7-83b874e1aae0]]</td>\n    </tr>\n    <tr>\n      <th>15</th>\n      <td>4a142d75-4784-4a21-949a-e000eef6c73e</td>\n      <td>Why is it important to proactively mitigate ne...</td>\n      <td>[It is important to proactively mitigate negat...</td>\n      <td>[[da69e3ec-87ac-432b-b566-38bff39f5985]]</td>\n    </tr>\n    <tr>\n      <th>16</th>\n      <td>6b9dcdb2-19e6-4518-9954-376f2d78ddbe</td>\n      <td>Why are lasting impressions just as important ...</td>\n      <td>[nan]</td>\n      <td>[[4a51e777-38d6-49b7-ba94-b5e9af370bb8]]</td>\n    </tr>\n    <tr>\n      <th>17</th>\n      <td>6f084181-7698-4e5c-8c50-84ea6257a667</td>\n      <td>How can focusing on making the company more su...</td>\n      <td>[Focusing on making the company more successfu...</td>\n      <td>[[e434aa3e-e1a4-4f80-895f-3edd80fc1fd8]]</td>\n    </tr>\n    <tr>\n      <th>18</th>\n      <td>d1fc4701-9aab-4d19-acd0-e3a35c444bfb</td>\n      <td>Why is being good at shutting up considered be...</td>\n      <td>[nan]</td>\n      <td>[[4f253c1d-5455-4913-baf1-9c8d18cc60d7]]</td>\n    </tr>\n    <tr>\n      <th>19</th>\n      <td>7d1e18b8-af08-47cc-9250-530eb6ee20ec</td>\n      <td>Why does the speaker listen to certain people ...</td>\n      <td>[The speaker listens to certain people to stud...</td>\n      <td>[[8ce532e6-d209-4a32-b068-c4a14369b846]]</td>\n    </tr>\n    <tr>\n      <th>20</th>\n      <td>d954828c-e24c-45da-abc3-109284dbbb04</td>\n      <td>Why are people more likely to take a risk to a...</td>\n      <td>[People are more likely to take a risk to avoi...</td>\n      <td>[[b4ebf404-e78b-4997-812c-cb24eab5a62f]]</td>\n    </tr>\n    <tr>\n      <th>21</th>\n      <td>b7e8a8c8-a63b-4677-b556-714057bf4da0</td>\n      <td>What becomes problematic if emotions aren't co...</td>\n      <td>[If emotions aren't controlled, you can't cont...</td>\n      <td>[[e170e59f-fae9-4397-be10-d5efd768a8bd]]</td>\n    </tr>\n    <tr>\n      <th>22</th>\n      <td>8f1bff3d-5266-4e6f-9c3a-f8ba7b4d51ca</td>\n      <td>Who's the ex-FBI negotiator at Black Swan Group?</td>\n      <td>[The ex-FBI negotiator at Black Swan Group is ...</td>\n      <td>[[36b15925-254b-4ba5-aa43-34da4d586a4a]]</td>\n    </tr>\n    <tr>\n      <th>23</th>\n      <td>5964f01b-6b7e-47e7-abb6-e198074e5099</td>\n      <td>What trait, besides EQ, helps in negotiation?</td>\n      <td>[Openness is a trait that helps in negotiation...</td>\n      <td>[[2cae9cc1-dce2-46dc-b547-00551480c594]]</td>\n    </tr>\n    <tr>\n      <th>24</th>\n      <td>85c3809d-0122-4b2e-a457-8dc84aa57311</td>\n      <td>Which brain side is tied to logic vs. creativity?</td>\n      <td>[The left brain is tied to logic, while the ri...</td>\n      <td>[[8f96e478-591d-44d7-8781-9693015a3bdf]]</td>\n    </tr>\n    <tr>\n      <th>25</th>\n      <td>06151922-f119-4b04-b4ab-f35262795404</td>\n      <td>How do energy and body language affect in-pers...</td>\n      <td>[Energy and body language affect in-person com...</td>\n      <td>[[f9ae4ac7-ed95-4bbc-841c-efa39cca7980]]</td>\n    </tr>\n    <tr>\n      <th>26</th>\n      <td>8e325307-83b1-4d26-a084-52fed06b17f7</td>\n      <td>How does recognizing anxiety affect self-aware...</td>\n      <td>[Recognizing anxiety affects self-awareness an...</td>\n      <td>[[d1f57744-4cfa-497f-8205-6fbd750fdb24]]</td>\n    </tr>\n    <tr>\n      <th>27</th>\n      <td>047aec7d-26a8-4e6f-a512-863bcdb4452b</td>\n      <td>How do misaligned incentives occur with non-ou...</td>\n      <td>[Misaligned incentives occur with non-outcome-...</td>\n      <td>[[a462fa93-26f4-4988-ac9f-08bd5c434dd5]]</td>\n    </tr>\n  </tbody>\n</table>\n</div>"
     },
     "execution_count": 263,
     "metadata": {},
     "output_type": "execute_result"
    }
   ],
   "source": [
    "df = pd.read_parquet(f'util/live_template_eval_autorag.parquet')\n",
    "df.head(500)\n",
    "\n",
    "dd = pd.read_parquet(f'util/live_dataset_autorag_eval_fquarter.parquet')\n",
    "dd.head(500)"
   ],
   "metadata": {
    "collapsed": false,
    "ExecuteTime": {
     "end_time": "2024-06-20T02:35:00.293912Z",
     "start_time": "2024-06-20T02:35:00.278158Z"
    }
   },
   "id": "25f8c571af414569",
   "execution_count": 263
  },
  {
   "cell_type": "code",
   "outputs": [],
   "source": [],
   "metadata": {
    "collapsed": false
   },
   "id": "1883d7e74a48fc42"
  },
  {
   "cell_type": "code",
   "outputs": [],
   "source": [
    "df = pd.read_csv('util/livev1_final_eval.csv')\n",
    "df.head(5)"
   ],
   "metadata": {
    "collapsed": false
   },
   "id": "79335ca3ab1894a9",
   "execution_count": null
  }
 ],
 "metadata": {
  "kernelspec": {
   "display_name": "Python 3",
   "language": "python",
   "name": "python3"
  },
  "language_info": {
   "codemirror_mode": {
    "name": "ipython",
    "version": 2
   },
   "file_extension": ".py",
   "mimetype": "text/x-python",
   "name": "python",
   "nbconvert_exporter": "python",
   "pygments_lexer": "ipython2",
   "version": "2.7.6"
  }
 },
 "nbformat": 4,
 "nbformat_minor": 5
}
