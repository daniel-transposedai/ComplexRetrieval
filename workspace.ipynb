{
 "cells": [
  {
   "cell_type": "code",
   "execution_count": 1,
   "id": "initial_id",
   "metadata": {
    "collapsed": true,
    "ExecuteTime": {
     "end_time": "2024-06-18T23:11:47.612452Z",
     "start_time": "2024-06-18T23:11:46.380340Z"
    }
   },
   "outputs": [],
   "source": [
    "import pandas as pd\n",
    "parquet_file_path = 'util/train-00000-of-00001.parquet'\n",
    "df = pd.read_parquet(parquet_file_path)"
   ]
  },
  {
   "cell_type": "code",
   "outputs": [
    {
     "name": "stdout",
     "output_type": "stream",
     "text": [
      "25\n"
     ]
    }
   ],
   "source": [
    "print(len(df))"
   ],
   "metadata": {
    "collapsed": false,
    "ExecuteTime": {
     "end_time": "2024-06-18T23:14:20.921866Z",
     "start_time": "2024-06-18T23:14:20.920009Z"
    }
   },
   "id": "8f3be7a230675d87",
   "execution_count": 4
  },
  {
   "cell_type": "code",
   "outputs": [],
   "source": [
    "df.to_csv('util/conversational_inputs.csv', index=False)"
   ],
   "metadata": {
    "collapsed": false,
    "ExecuteTime": {
     "end_time": "2024-06-18T23:16:31.688242Z",
     "start_time": "2024-06-18T23:16:31.681783Z"
    }
   },
   "id": "ea355026b994151e",
   "execution_count": 5
  },
  {
   "cell_type": "code",
   "outputs": [],
   "source": [
    "parquet_content_file_path ='util/content_dataset.parquet'\n",
    "df = pd.read_parquet(parquet_content_file_path)\n"
   ],
   "metadata": {
    "collapsed": false,
    "ExecuteTime": {
     "end_time": "2024-06-18T23:17:11.581151Z",
     "start_time": "2024-06-18T23:17:11.561508Z"
    }
   },
   "id": "cd556c171584648a",
   "execution_count": 6
  },
  {
   "cell_type": "code",
   "outputs": [
    {
     "data": {
      "text/plain": "     int_id                                            content  \\\n0         1   Many things in life are based on negotiation ...   \n1         2   There is one book that I have my entire team ...   \n2         3   The hostage had the opportunity to simply wal...   \n3         4   Welcome to the Wealth Time Freedom Podcast, w...   \n4         5   Episode 99, former top FBI hostage negotiator...   \n..      ...                                                ...   \n245     246  NAIL THE LASTING \\nIMPRESSION\\nSend people awa...   \n246     247  BE A FULL-SERVICE,  \\nFULL FEE AGENT\\nAt 6 per...   \n247     248  CONCLUSION\\nIt’s time to get your humanity— \\n...   \n248     249  What is it like negotiating for a hostage with...   \n249     250  This book would not have been possible without...   \n\n                   id                                              title  \\\n0    c0554397d41f0a5b  Derek Gaunt On Hostage Negotiation Tactics For...   \n1    a67e345e008c3529  Chris Voss Interview - Live Hostage Negotiatio...   \n2    fb2468a4779529e5  Chris Voss — FBI Negotiation Tactics for Busin...   \n3    186853b44580de8a  #56 Chris Voss - How to earn what you_re worth...   \n4    38b1ce85b1e16315  Chris Voss - Former top FBI hostage negotiator...   \n..                ...                                                ...   \n245  6a2c4450747411d0  The Full Fee Agent: How to Stack the Odds in Y...   \n246  838e0b00481876e3  The Full Fee Agent: How to Stack the Odds in Y...   \n247  1ee38eec944ee95c  The Full Fee Agent: How to Stack the Odds in Y...   \n248  cd17c3d030874e58  Chris Voss: FBI Hostage Negotiator | Lex Fridm...   \n249  bd203649db99c9cf       Never Split The Difference | Acknowledgments   \n\n          kind                                           metadata  \n0    interview  {'kind': 'interview', 'parent_title': None, 'p...  \n1    interview  {'kind': 'interview', 'parent_title': None, 'p...  \n2    interview  {'kind': 'interview', 'parent_title': None, 'p...  \n3    interview  {'kind': 'interview', 'parent_title': None, 'p...  \n4    interview  {'kind': 'interview', 'parent_title': None, 'p...  \n..         ...                                                ...  \n245       book  {'kind': 'book', 'parent_title': None, 'publis...  \n246       book  {'kind': 'book', 'parent_title': None, 'publis...  \n247       book  {'kind': 'book', 'parent_title': None, 'publis...  \n248  interview  {'kind': 'interview', 'parent_title': None, 'p...  \n249       book  {'kind': 'book', 'parent_title': 'Never Split ...  \n\n[250 rows x 6 columns]",
      "text/html": "<div>\n<style scoped>\n    .dataframe tbody tr th:only-of-type {\n        vertical-align: middle;\n    }\n\n    .dataframe tbody tr th {\n        vertical-align: top;\n    }\n\n    .dataframe thead th {\n        text-align: right;\n    }\n</style>\n<table border=\"1\" class=\"dataframe\">\n  <thead>\n    <tr style=\"text-align: right;\">\n      <th></th>\n      <th>int_id</th>\n      <th>content</th>\n      <th>id</th>\n      <th>title</th>\n      <th>kind</th>\n      <th>metadata</th>\n    </tr>\n  </thead>\n  <tbody>\n    <tr>\n      <th>0</th>\n      <td>1</td>\n      <td>Many things in life are based on negotiation ...</td>\n      <td>c0554397d41f0a5b</td>\n      <td>Derek Gaunt On Hostage Negotiation Tactics For...</td>\n      <td>interview</td>\n      <td>{'kind': 'interview', 'parent_title': None, 'p...</td>\n    </tr>\n    <tr>\n      <th>1</th>\n      <td>2</td>\n      <td>There is one book that I have my entire team ...</td>\n      <td>a67e345e008c3529</td>\n      <td>Chris Voss Interview - Live Hostage Negotiatio...</td>\n      <td>interview</td>\n      <td>{'kind': 'interview', 'parent_title': None, 'p...</td>\n    </tr>\n    <tr>\n      <th>2</th>\n      <td>3</td>\n      <td>The hostage had the opportunity to simply wal...</td>\n      <td>fb2468a4779529e5</td>\n      <td>Chris Voss — FBI Negotiation Tactics for Busin...</td>\n      <td>interview</td>\n      <td>{'kind': 'interview', 'parent_title': None, 'p...</td>\n    </tr>\n    <tr>\n      <th>3</th>\n      <td>4</td>\n      <td>Welcome to the Wealth Time Freedom Podcast, w...</td>\n      <td>186853b44580de8a</td>\n      <td>#56 Chris Voss - How to earn what you_re worth...</td>\n      <td>interview</td>\n      <td>{'kind': 'interview', 'parent_title': None, 'p...</td>\n    </tr>\n    <tr>\n      <th>4</th>\n      <td>5</td>\n      <td>Episode 99, former top FBI hostage negotiator...</td>\n      <td>38b1ce85b1e16315</td>\n      <td>Chris Voss - Former top FBI hostage negotiator...</td>\n      <td>interview</td>\n      <td>{'kind': 'interview', 'parent_title': None, 'p...</td>\n    </tr>\n    <tr>\n      <th>...</th>\n      <td>...</td>\n      <td>...</td>\n      <td>...</td>\n      <td>...</td>\n      <td>...</td>\n      <td>...</td>\n    </tr>\n    <tr>\n      <th>245</th>\n      <td>246</td>\n      <td>NAIL THE LASTING \\nIMPRESSION\\nSend people awa...</td>\n      <td>6a2c4450747411d0</td>\n      <td>The Full Fee Agent: How to Stack the Odds in Y...</td>\n      <td>book</td>\n      <td>{'kind': 'book', 'parent_title': None, 'publis...</td>\n    </tr>\n    <tr>\n      <th>246</th>\n      <td>247</td>\n      <td>BE A FULL-SERVICE,  \\nFULL FEE AGENT\\nAt 6 per...</td>\n      <td>838e0b00481876e3</td>\n      <td>The Full Fee Agent: How to Stack the Odds in Y...</td>\n      <td>book</td>\n      <td>{'kind': 'book', 'parent_title': None, 'publis...</td>\n    </tr>\n    <tr>\n      <th>247</th>\n      <td>248</td>\n      <td>CONCLUSION\\nIt’s time to get your humanity— \\n...</td>\n      <td>1ee38eec944ee95c</td>\n      <td>The Full Fee Agent: How to Stack the Odds in Y...</td>\n      <td>book</td>\n      <td>{'kind': 'book', 'parent_title': None, 'publis...</td>\n    </tr>\n    <tr>\n      <th>248</th>\n      <td>249</td>\n      <td>What is it like negotiating for a hostage with...</td>\n      <td>cd17c3d030874e58</td>\n      <td>Chris Voss: FBI Hostage Negotiator | Lex Fridm...</td>\n      <td>interview</td>\n      <td>{'kind': 'interview', 'parent_title': None, 'p...</td>\n    </tr>\n    <tr>\n      <th>249</th>\n      <td>250</td>\n      <td>This book would not have been possible without...</td>\n      <td>bd203649db99c9cf</td>\n      <td>Never Split The Difference | Acknowledgments</td>\n      <td>book</td>\n      <td>{'kind': 'book', 'parent_title': 'Never Split ...</td>\n    </tr>\n  </tbody>\n</table>\n<p>250 rows × 6 columns</p>\n</div>"
     },
     "execution_count": 12,
     "metadata": {},
     "output_type": "execute_result"
    }
   ],
   "source": [
    "df.head(250)"
   ],
   "metadata": {
    "collapsed": false,
    "ExecuteTime": {
     "end_time": "2024-06-18T23:21:15.223542Z",
     "start_time": "2024-06-18T23:21:15.220222Z"
    }
   },
   "id": "888dafe9d94c7009",
   "execution_count": 12
  },
  {
   "cell_type": "code",
   "outputs": [],
   "source": [
    "df.to_csv('util/content_dataset.csv', index=False)"
   ],
   "metadata": {
    "collapsed": false,
    "ExecuteTime": {
     "end_time": "2024-06-18T23:18:12.748013Z",
     "start_time": "2024-06-18T23:18:12.684815Z"
    }
   },
   "id": "24ad0826a76e17a5",
   "execution_count": 8
  },
  {
   "cell_type": "code",
   "outputs": [],
   "source": [],
   "metadata": {
    "collapsed": false
   },
   "id": "23bf2698a79481c9"
  }
 ],
 "metadata": {
  "kernelspec": {
   "display_name": "Python 3",
   "language": "python",
   "name": "python3"
  },
  "language_info": {
   "codemirror_mode": {
    "name": "ipython",
    "version": 2
   },
   "file_extension": ".py",
   "mimetype": "text/x-python",
   "name": "python",
   "nbconvert_exporter": "python",
   "pygments_lexer": "ipython2",
   "version": "2.7.6"
  }
 },
 "nbformat": 4,
 "nbformat_minor": 5
}
