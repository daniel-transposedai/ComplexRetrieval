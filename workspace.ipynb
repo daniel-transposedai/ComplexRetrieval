{
 "cells": [
  {
   "cell_type": "code",
   "outputs": [],
   "source": [
    "import pandas as pd\n",
    "\n",
    "df = pd.read_csv('util/livev1_final_eval.csv')\n",
    "context_precision_avg = df['context_precision'].mean()\n",
    "context_recall_avg = df['context_recall'].mean()\n",
    "print(\"precision: \" + str(context_precision_avg) + \", recall: \" + str(context_recall_avg))\n",
    "df.head()\n"
   ],
   "metadata": {
    "collapsed": false
   },
   "id": "ae42f8a42705ad2d",
   "execution_count": null
  },
  {
   "cell_type": "code",
   "execution_count": null,
   "id": "initial_id",
   "metadata": {
    "collapsed": true
   },
   "outputs": [],
   "source": [
    "import pandas as pd\n",
    "#parquet_file_path = 'util/live_dataset.parquet'\n",
    "\n",
    "df = pd.read_parquet('util/live_dataset_autorag.parquet')\n",
    "#df.to_parquet(f\"./util/live_template_eval_autorag.parquet\")\n",
    "#filtered_df = df.loc[df['column_name'] == search_value]\n",
    "df.head(250)\n",
    "#filtered_df = df.loc[df['doc_id'] == '3f1ad9c2bc30eda8']\n",
    "#filtered_df.head()"
   ]
  },
  {
   "cell_type": "code",
   "outputs": [],
   "source": [
    "import ast \n",
    "\n",
    "\n",
    "df = pd.read_parquet('util/live_dataset.parquet')\n",
    "df = df.rename(columns={'id': 'doc_id', 'content': 'contents'})\n",
    "#df['doc_id'] = df['doc_id'].apply(lambda x: [[x]])\n",
    "#df = df.drop(columns=['int_id', 'kind'], axis=1)\n",
    "df.to_parquet('util/live_dataset_autorag.parquet')\n",
    "\n",
    "\n",
    "qa_df = pd.read_parquet('util/live_template_eval_autorag.parquet')\n",
    "#qa_df['retrieval_gt'] = qa_df['retrieval_gt'].apply(lambda x: ast.literal_eval(x))\n",
    "#type(qa_df['retrieval_gt'][0][0])\n",
    "#.to_parquet('util/live_template_eval_autorag.parquet')\n",
    "\n",
    "print(type(df['doc_id'][0]))\n",
    "print(type(qa_df['retrieval_gt'][0]))\n",
    "\n",
    "corpus_df = pd.read_parquet('util/live_dataset_autorag.parquet')\n",
    "qa_df = pd.read_parquet('util/live_template_eval_autorag.parquet')\n",
    "print(type(corpus_df['doc_id'][0]))\n",
    "print(type(qa_df['retrieval_gt'][0]))\n",
    "qa_df.head()\n"
   ],
   "metadata": {
    "collapsed": false
   },
   "id": "131bf60deb741077",
   "execution_count": null
  },
  {
   "cell_type": "code",
   "outputs": [],
   "source": [
    "df.head()\n",
    "#df['doc_id'][0][0][0]"
   ],
   "metadata": {
    "collapsed": false
   },
   "id": "b2afc482d26a8d14",
   "execution_count": null
  },
  {
   "cell_type": "code",
   "outputs": [],
   "source": [
    "import numpy as np\n",
    "\n",
    "corpus_df = pd.read_parquet('util/live_dataset_autorag.parquet')\n",
    "qa_df = pd.read_parquet('util/live_template_eval_autorag.parquet')\n",
    "print(type(corpus_df['doc_id'][0]))\n",
    "from app.eval import build_synthetic_template_autorag, try_autorag\n",
    "\n",
    "def validate_qa_from_corpus_dataset(qa_df: pd.DataFrame, corpus_df: pd.DataFrame):\n",
    "    qa_ids = []\n",
    "    print(type(corpus_df['doc_id'][0]))\n",
    "    print(type(qa_df['retrieval_gt'][0]))\n",
    "    print(qa_df['retrieval_gt'][0])\n",
    "\n",
    "    no_exist_ids = list(filter(lambda qa_id: corpus_df[corpus_df['doc_id'] == qa_id].empty, qa_ids))\n",
    "    for i in range(len(qa_ids)):\n",
    "        print(qa_ids[i])\n",
    "        print(type(qa_ids[i]))\n",
    "    print(\"now corpus\")\n",
    "    for i in range(len(corpus_df['doc_id'])):\n",
    "        print(corpus_df['doc_id'][i])\n",
    "        print(type(corpus_df['doc_id'][i]))\n",
    "    print(\"now no_exist_ids\")\n",
    "    for i in range(len(no_exist_ids)):\n",
    "        print(no_exist_ids[i])\n",
    "        print(type(no_exist_ids[i]))\n",
    "        \n",
    "    print(\"now retrieval length\")\n",
    "    print(len(qa_df['retrieval_gt']))\n",
    "    assert len(no_exist_ids) == 0, f\"{len(no_exist_ids)} doc_ids in retrieval_gt do not exist in corpus_df.\"\n",
    "    \n",
    "validate_qa_from_corpus_dataset(qa_df, corpus_df)\n",
    "\n",
    "build_synthetic_template_autorag(\"live\", use_existing=True)\n",
    "print(\"Now entering autorag pipeline...\")\n",
    "try_autorag()"
   ],
   "metadata": {
    "collapsed": false
   },
   "id": "c12ab91109ae582e",
   "execution_count": null
  },
  {
   "cell_type": "code",
   "outputs": [],
   "source": [
    "df = pd.read_csv('util/live_rag-test-conversations.csv')\n",
    "df.head(50)"
   ],
   "metadata": {
    "collapsed": false
   },
   "id": "a24786ad2887def8",
   "execution_count": null
  },
  {
   "cell_type": "code",
   "outputs": [],
   "source": [
    "concatenated_content = \"\\n\".join([entry['content'] for entry in df.loc[0, 'conv_prefix']])\n",
    "\n",
    "print(concatenated_content)"
   ],
   "metadata": {
    "collapsed": false
   },
   "id": "c4ee3ca6c449355c",
   "execution_count": null
  },
  {
   "cell_type": "code",
   "outputs": [],
   "source": [
    "df.to_csv('util/conversational_inputs.csv', index=False)"
   ],
   "metadata": {
    "collapsed": false
   },
   "id": "ea355026b994151e",
   "execution_count": null
  },
  {
   "cell_type": "code",
   "outputs": [],
   "source": [
    "parquet_content_file_path ='util/content_dataset.parquet'\n",
    "df = pd.read_parquet(parquet_content_file_path)\n"
   ],
   "metadata": {
    "collapsed": false
   },
   "id": "cd556c171584648a",
   "execution_count": null
  },
  {
   "cell_type": "code",
   "outputs": [],
   "source": [
    "df.head(250)"
   ],
   "metadata": {
    "collapsed": false
   },
   "id": "888dafe9d94c7009",
   "execution_count": null
  },
  {
   "cell_type": "code",
   "outputs": [],
   "source": [
    "from langchain.schema import Document\n",
    "doc = Document(\n",
    "                page_content = \"test\",\n",
    "                metadata = {\"int_id\": 123, \"kind\": \"book\", \"title\": \"cool\"}\n",
    "            )\n",
    "doc2 = Document(\n",
    "                page_content = \"tes222\",\n",
    "                metadata = {\"int_id\": 1223, \"kind\": \"movie\", \"title\": \"cosssl\"}\n",
    "            )\n",
    "docs = []\n",
    "docs.append(doc)\n",
    "docs.append(doc2)"
   ],
   "metadata": {
    "collapsed": false
   },
   "id": "9b9d6ddb6e4356e4",
   "execution_count": null
  },
  {
   "cell_type": "code",
   "outputs": [],
   "source": [
    "rows = []\n",
    "for doc in docs:\n",
    "    row = {'contents': doc.page_content,\n",
    "           'int_id': doc.metadata['int_id'],\n",
    "           'kind': doc.metadata['kind'],\n",
    "           'metadata': doc.metadata}\n",
    "    rows.append(row)\n",
    "df = pd.DataFrame(rows)\n",
    "df.head(2)"
   ],
   "metadata": {
    "collapsed": false
   },
   "id": "43bf824b526956ab",
   "execution_count": null
  },
  {
   "cell_type": "code",
   "outputs": [],
   "source": [],
   "metadata": {
    "collapsed": false
   },
   "id": "2a9c2c2fd0eeb112"
  },
  {
   "cell_type": "code",
   "outputs": [],
   "source": [
    "df = pd.read_parquet('util/live_template_eval_autorag.parquet')\n",
    "df.head(15)"
   ],
   "metadata": {
    "collapsed": false
   },
   "id": "1e16c486542af044",
   "execution_count": null
  },
  {
   "cell_type": "code",
   "outputs": [],
   "source": [
    "df.head(50)"
   ],
   "metadata": {
    "collapsed": false
   },
   "id": "4a22d9bc53dc74e",
   "execution_count": null
  },
  {
   "cell_type": "code",
   "outputs": [],
   "source": [
    "sd = pd.read_parquet('util/live_template_eval_autorag.parquet')\n",
    "sd.head(100)"
   ],
   "metadata": {
    "collapsed": false
   },
   "id": "b89ca3edf515d63a",
   "execution_count": null
  },
  {
   "cell_type": "code",
   "outputs": [],
   "source": [
    "eval_df = pd.read_csv('1/summary.csv')\n",
    "\n",
    "eval_df.head(50)"
   ],
   "metadata": {
    "collapsed": false
   },
   "id": "ae01cd80744293d3",
   "execution_count": null
  },
  {
   "cell_type": "code",
   "outputs": [],
   "source": [
    "df = pd.read_parquet(f\"util/live_dataset_autorag.parquet\")\n",
    "\n",
    "# use iloc to slice shorter\n",
    "quarter_length = len(df) // 10\n",
    "first_quarter_df = df.iloc[:quarter_length]\n",
    "\n",
    "first_quarter_df.to_parquet(f\"util/live_dataset_autorag_eval_fquarter.parquet\")"
   ],
   "metadata": {
    "collapsed": false
   },
   "id": "962be9bdd175cf5",
   "execution_count": null
  },
  {
   "cell_type": "code",
   "outputs": [],
   "source": [
    "\n",
    "\n",
    "test_retrieval_df = pd.read_parquet('0/retrieve_node_line/retrieval/0.parquet')\n",
    "test_retrieval_df.head(50)"
   ],
   "metadata": {
    "collapsed": false
   },
   "id": "ee82713441a7c6c0",
   "execution_count": null
  },
  {
   "cell_type": "code",
   "outputs": [],
   "source": [
    "test_retrieval_df = pd.read_parquet('util/live_template_eval_autorag.parquet')\n",
    "\n",
    "\n",
    "original_dataset_autorag = pd.read_parquet('util/live_dataset_autorag.parquet')\n",
    "#test_retrieval_df.head(50)\n",
    "original_dataset_autorag.head(50)"
   ],
   "metadata": {
    "collapsed": false
   },
   "id": "8d18486692a4084f",
   "execution_count": null
  },
  {
   "cell_type": "code",
   "outputs": [],
   "source": [
    "original_dataset_autorag.head(50)\n",
    "original_dataset_autorag['contents'][0]\n"
   ],
   "metadata": {
    "collapsed": false
   },
   "id": "69a54b06942c63ae",
   "execution_count": null
  },
  {
   "cell_type": "code",
   "outputs": [],
   "source": [
    "contexts = test_retrieval_df['contexts']\n",
    "\n",
    "matched_contexts = original_dataset_autorag[original_dataset_autorag['contents'].isin(contexts)]\n"
   ],
   "metadata": {
    "collapsed": false
   },
   "id": "751d805ffaa92670",
   "execution_count": null
  },
  {
   "cell_type": "code",
   "outputs": [],
   "source": [],
   "metadata": {
    "collapsed": false
   },
   "id": "445cda83857e9ef4",
   "execution_count": null
  },
  {
   "cell_type": "code",
   "outputs": [
    {
     "data": {
      "text/plain": "                                     qid  \\\n0   8d2b1cf7-430b-477d-b74f-240d5bfef73a   \n1   4df8f3bf-13dd-4aeb-aae2-c0b088dc8f0b   \n2   e9ca8191-7de0-4e6d-95ce-3819bacd8a52   \n3   dbd92361-0a12-42b4-b3e2-3fcb2e5ac74a   \n4   0f0bed1f-7697-4bc0-b41c-fd3225a3bebb   \n5   538fd868-1f0c-4f30-9839-a011a0064b93   \n6   930b72d6-38cd-4c93-b2d0-059d9a2e4102   \n7   9def3e68-c243-4369-989d-f1bf44d279b3   \n8   ca78dfaf-4897-46c3-970e-b6547d7e2102   \n9   2a82cd04-4a8b-4d17-a621-d41dbc747172   \n10  43d85817-5d4c-4719-8eb5-0b92088dd8b7   \n11  0069dc70-658d-44bd-8cc4-3003624a0041   \n12  19b917ed-7a7f-4b61-807f-b11e2a66e509   \n13  c9a1f460-d98f-454d-a256-02dccf23ffe9   \n14  7635989d-1f19-482d-b3b8-e2bb499c1413   \n15  4a142d75-4784-4a21-949a-e000eef6c73e   \n16  6b9dcdb2-19e6-4518-9954-376f2d78ddbe   \n17  6f084181-7698-4e5c-8c50-84ea6257a667   \n18  d1fc4701-9aab-4d19-acd0-e3a35c444bfb   \n19  7d1e18b8-af08-47cc-9250-530eb6ee20ec   \n20  d954828c-e24c-45da-abc3-109284dbbb04   \n21  b7e8a8c8-a63b-4677-b556-714057bf4da0   \n22  8f1bff3d-5266-4e6f-9c3a-f8ba7b4d51ca   \n23  5964f01b-6b7e-47e7-abb6-e198074e5099   \n24  85c3809d-0122-4b2e-a457-8dc84aa57311   \n25  06151922-f119-4b04-b4ab-f35262795404   \n26  8e325307-83b1-4d26-a084-52fed06b17f7   \n27  047aec7d-26a8-4e6f-a512-863bcdb4452b   \n\n                                                query  \\\n0   Why do people dislike feeling obligated to som...   \n1   How does a heightened emotional state impact r...   \n2   What kind of job training does the FBI provide...   \n3   What is the role of 'no' as a word in negotiat...   \n4   Why would calling someone a coward indicate th...   \n5   Why might someone ask you to cut your commission?   \n6        What does it mean to be vested in a process?   \n7   How does proactive listening help in evaluatin...   \n8   Why is it beneficial to get on your feet, even...   \n9   How does the perception of loss influence huma...   \n10  How do you get a read on your opponent in a ne...   \n11                 What does it mean to be concerned?   \n12  What does splitting the difference mean in the...   \n13  How does the use of silence help in convincing...   \n14  Why is mimicking someone's tone of voice consi...   \n15  Why is it important to proactively mitigate ne...   \n16  Why are lasting impressions just as important ...   \n17  How can focusing on making the company more su...   \n18  Why is being good at shutting up considered be...   \n19  Why does the speaker listen to certain people ...   \n20  Why are people more likely to take a risk to a...   \n21  What becomes problematic if emotions aren't co...   \n22   Who's the ex-FBI negotiator at Black Swan Group?   \n23      What trait, besides EQ, helps in negotiation?   \n24  Which brain side is tied to logic vs. creativity?   \n25  How do energy and body language affect in-pers...   \n26  How does recognizing anxiety affect self-aware...   \n27  How do misaligned incentives occur with non-ou...   \n\n                                        generation_gt  \\\n0                                               [nan]   \n1   [A heightened emotional state impacts reasonin...   \n2   [The context suggests that the FBI provides on...   \n3                                               [nan]   \n4   [Calling someone a coward indicates that you d...   \n5   [Someone might ask you to cut your commission ...   \n6   [To be vested in a process means to participat...   \n7   [Proactive listening helps in evaluating infor...   \n8                                               [nan]   \n9   [According to Daniel Kahneman's prospect theor...   \n10  [You get a read on your opponent in a negotiat...   \n11  [To be concerned means to be worried about som...   \n12  [In the context of resolving disputes between ...   \n13  [The use of silence helps in convincing and in...   \n14  [Mimicking someone's tone of voice is consider...   \n15  [It is important to proactively mitigate negat...   \n16                                              [nan]   \n17  [Focusing on making the company more successfu...   \n18                                              [nan]   \n19  [The speaker listens to certain people to stud...   \n20  [People are more likely to take a risk to avoi...   \n21  [If emotions aren't controlled, you can't cont...   \n22  [The ex-FBI negotiator at Black Swan Group is ...   \n23  [Openness is a trait that helps in negotiation...   \n24  [The left brain is tied to logic, while the ri...   \n25  [Energy and body language affect in-person com...   \n26  [Recognizing anxiety affects self-awareness an...   \n27  [Misaligned incentives occur with non-outcome-...   \n\n                                retrieval_gt  \n0   [[6dcb0031-6d83-4aa4-b7f6-e6af878952ce]]  \n1   [[2a17400a-dbc0-4fca-a1b5-a308460114d3]]  \n2   [[c6cccacd-cb1d-49ea-8fba-2bd2667e03ce]]  \n3   [[72c901d4-47e4-4fdf-93aa-cecbd00bc8f2]]  \n4   [[f552d27f-c1e2-48f2-af1d-3d2392ec291b]]  \n5   [[f40b3e8b-9c54-41b6-9699-50c83da473b1]]  \n6   [[071b9608-68cd-49eb-9924-ffe8bc2e1b94]]  \n7   [[1505a848-64eb-4625-87a9-4bc121ca35f0]]  \n8   [[5a251366-b418-439f-a83a-ea1b3df08d92]]  \n9   [[b2fff91f-fe98-44e4-8406-94180ef2ef4a]]  \n10  [[15deca93-759a-4f3b-94e2-3ba207134abc]]  \n11  [[1cd2e547-b849-40e7-8152-29489bdd840a]]  \n12  [[27412c72-d592-497f-a80e-6802941a1aca]]  \n13  [[19f759b5-f741-4e1f-94ff-37df9dba2e9d]]  \n14  [[3d587e1a-e1ac-4d59-8cd7-83b874e1aae0]]  \n15  [[da69e3ec-87ac-432b-b566-38bff39f5985]]  \n16  [[4a51e777-38d6-49b7-ba94-b5e9af370bb8]]  \n17  [[e434aa3e-e1a4-4f80-895f-3edd80fc1fd8]]  \n18  [[4f253c1d-5455-4913-baf1-9c8d18cc60d7]]  \n19  [[8ce532e6-d209-4a32-b068-c4a14369b846]]  \n20  [[b4ebf404-e78b-4997-812c-cb24eab5a62f]]  \n21  [[e170e59f-fae9-4397-be10-d5efd768a8bd]]  \n22  [[36b15925-254b-4ba5-aa43-34da4d586a4a]]  \n23  [[2cae9cc1-dce2-46dc-b547-00551480c594]]  \n24  [[8f96e478-591d-44d7-8781-9693015a3bdf]]  \n25  [[f9ae4ac7-ed95-4bbc-841c-efa39cca7980]]  \n26  [[d1f57744-4cfa-497f-8205-6fbd750fdb24]]  \n27  [[a462fa93-26f4-4988-ac9f-08bd5c434dd5]]  ",
      "text/html": "<div>\n<style scoped>\n    .dataframe tbody tr th:only-of-type {\n        vertical-align: middle;\n    }\n\n    .dataframe tbody tr th {\n        vertical-align: top;\n    }\n\n    .dataframe thead th {\n        text-align: right;\n    }\n</style>\n<table border=\"1\" class=\"dataframe\">\n  <thead>\n    <tr style=\"text-align: right;\">\n      <th></th>\n      <th>qid</th>\n      <th>query</th>\n      <th>generation_gt</th>\n      <th>retrieval_gt</th>\n    </tr>\n  </thead>\n  <tbody>\n    <tr>\n      <th>0</th>\n      <td>8d2b1cf7-430b-477d-b74f-240d5bfef73a</td>\n      <td>Why do people dislike feeling obligated to som...</td>\n      <td>[nan]</td>\n      <td>[[6dcb0031-6d83-4aa4-b7f6-e6af878952ce]]</td>\n    </tr>\n    <tr>\n      <th>1</th>\n      <td>4df8f3bf-13dd-4aeb-aae2-c0b088dc8f0b</td>\n      <td>How does a heightened emotional state impact r...</td>\n      <td>[A heightened emotional state impacts reasonin...</td>\n      <td>[[2a17400a-dbc0-4fca-a1b5-a308460114d3]]</td>\n    </tr>\n    <tr>\n      <th>2</th>\n      <td>e9ca8191-7de0-4e6d-95ce-3819bacd8a52</td>\n      <td>What kind of job training does the FBI provide...</td>\n      <td>[The context suggests that the FBI provides on...</td>\n      <td>[[c6cccacd-cb1d-49ea-8fba-2bd2667e03ce]]</td>\n    </tr>\n    <tr>\n      <th>3</th>\n      <td>dbd92361-0a12-42b4-b3e2-3fcb2e5ac74a</td>\n      <td>What is the role of 'no' as a word in negotiat...</td>\n      <td>[nan]</td>\n      <td>[[72c901d4-47e4-4fdf-93aa-cecbd00bc8f2]]</td>\n    </tr>\n    <tr>\n      <th>4</th>\n      <td>0f0bed1f-7697-4bc0-b41c-fd3225a3bebb</td>\n      <td>Why would calling someone a coward indicate th...</td>\n      <td>[Calling someone a coward indicates that you d...</td>\n      <td>[[f552d27f-c1e2-48f2-af1d-3d2392ec291b]]</td>\n    </tr>\n    <tr>\n      <th>5</th>\n      <td>538fd868-1f0c-4f30-9839-a011a0064b93</td>\n      <td>Why might someone ask you to cut your commission?</td>\n      <td>[Someone might ask you to cut your commission ...</td>\n      <td>[[f40b3e8b-9c54-41b6-9699-50c83da473b1]]</td>\n    </tr>\n    <tr>\n      <th>6</th>\n      <td>930b72d6-38cd-4c93-b2d0-059d9a2e4102</td>\n      <td>What does it mean to be vested in a process?</td>\n      <td>[To be vested in a process means to participat...</td>\n      <td>[[071b9608-68cd-49eb-9924-ffe8bc2e1b94]]</td>\n    </tr>\n    <tr>\n      <th>7</th>\n      <td>9def3e68-c243-4369-989d-f1bf44d279b3</td>\n      <td>How does proactive listening help in evaluatin...</td>\n      <td>[Proactive listening helps in evaluating infor...</td>\n      <td>[[1505a848-64eb-4625-87a9-4bc121ca35f0]]</td>\n    </tr>\n    <tr>\n      <th>8</th>\n      <td>ca78dfaf-4897-46c3-970e-b6547d7e2102</td>\n      <td>Why is it beneficial to get on your feet, even...</td>\n      <td>[nan]</td>\n      <td>[[5a251366-b418-439f-a83a-ea1b3df08d92]]</td>\n    </tr>\n    <tr>\n      <th>9</th>\n      <td>2a82cd04-4a8b-4d17-a621-d41dbc747172</td>\n      <td>How does the perception of loss influence huma...</td>\n      <td>[According to Daniel Kahneman's prospect theor...</td>\n      <td>[[b2fff91f-fe98-44e4-8406-94180ef2ef4a]]</td>\n    </tr>\n    <tr>\n      <th>10</th>\n      <td>43d85817-5d4c-4719-8eb5-0b92088dd8b7</td>\n      <td>How do you get a read on your opponent in a ne...</td>\n      <td>[You get a read on your opponent in a negotiat...</td>\n      <td>[[15deca93-759a-4f3b-94e2-3ba207134abc]]</td>\n    </tr>\n    <tr>\n      <th>11</th>\n      <td>0069dc70-658d-44bd-8cc4-3003624a0041</td>\n      <td>What does it mean to be concerned?</td>\n      <td>[To be concerned means to be worried about som...</td>\n      <td>[[1cd2e547-b849-40e7-8152-29489bdd840a]]</td>\n    </tr>\n    <tr>\n      <th>12</th>\n      <td>19b917ed-7a7f-4b61-807f-b11e2a66e509</td>\n      <td>What does splitting the difference mean in the...</td>\n      <td>[In the context of resolving disputes between ...</td>\n      <td>[[27412c72-d592-497f-a80e-6802941a1aca]]</td>\n    </tr>\n    <tr>\n      <th>13</th>\n      <td>c9a1f460-d98f-454d-a256-02dccf23ffe9</td>\n      <td>How does the use of silence help in convincing...</td>\n      <td>[The use of silence helps in convincing and in...</td>\n      <td>[[19f759b5-f741-4e1f-94ff-37df9dba2e9d]]</td>\n    </tr>\n    <tr>\n      <th>14</th>\n      <td>7635989d-1f19-482d-b3b8-e2bb499c1413</td>\n      <td>Why is mimicking someone's tone of voice consi...</td>\n      <td>[Mimicking someone's tone of voice is consider...</td>\n      <td>[[3d587e1a-e1ac-4d59-8cd7-83b874e1aae0]]</td>\n    </tr>\n    <tr>\n      <th>15</th>\n      <td>4a142d75-4784-4a21-949a-e000eef6c73e</td>\n      <td>Why is it important to proactively mitigate ne...</td>\n      <td>[It is important to proactively mitigate negat...</td>\n      <td>[[da69e3ec-87ac-432b-b566-38bff39f5985]]</td>\n    </tr>\n    <tr>\n      <th>16</th>\n      <td>6b9dcdb2-19e6-4518-9954-376f2d78ddbe</td>\n      <td>Why are lasting impressions just as important ...</td>\n      <td>[nan]</td>\n      <td>[[4a51e777-38d6-49b7-ba94-b5e9af370bb8]]</td>\n    </tr>\n    <tr>\n      <th>17</th>\n      <td>6f084181-7698-4e5c-8c50-84ea6257a667</td>\n      <td>How can focusing on making the company more su...</td>\n      <td>[Focusing on making the company more successfu...</td>\n      <td>[[e434aa3e-e1a4-4f80-895f-3edd80fc1fd8]]</td>\n    </tr>\n    <tr>\n      <th>18</th>\n      <td>d1fc4701-9aab-4d19-acd0-e3a35c444bfb</td>\n      <td>Why is being good at shutting up considered be...</td>\n      <td>[nan]</td>\n      <td>[[4f253c1d-5455-4913-baf1-9c8d18cc60d7]]</td>\n    </tr>\n    <tr>\n      <th>19</th>\n      <td>7d1e18b8-af08-47cc-9250-530eb6ee20ec</td>\n      <td>Why does the speaker listen to certain people ...</td>\n      <td>[The speaker listens to certain people to stud...</td>\n      <td>[[8ce532e6-d209-4a32-b068-c4a14369b846]]</td>\n    </tr>\n    <tr>\n      <th>20</th>\n      <td>d954828c-e24c-45da-abc3-109284dbbb04</td>\n      <td>Why are people more likely to take a risk to a...</td>\n      <td>[People are more likely to take a risk to avoi...</td>\n      <td>[[b4ebf404-e78b-4997-812c-cb24eab5a62f]]</td>\n    </tr>\n    <tr>\n      <th>21</th>\n      <td>b7e8a8c8-a63b-4677-b556-714057bf4da0</td>\n      <td>What becomes problematic if emotions aren't co...</td>\n      <td>[If emotions aren't controlled, you can't cont...</td>\n      <td>[[e170e59f-fae9-4397-be10-d5efd768a8bd]]</td>\n    </tr>\n    <tr>\n      <th>22</th>\n      <td>8f1bff3d-5266-4e6f-9c3a-f8ba7b4d51ca</td>\n      <td>Who's the ex-FBI negotiator at Black Swan Group?</td>\n      <td>[The ex-FBI negotiator at Black Swan Group is ...</td>\n      <td>[[36b15925-254b-4ba5-aa43-34da4d586a4a]]</td>\n    </tr>\n    <tr>\n      <th>23</th>\n      <td>5964f01b-6b7e-47e7-abb6-e198074e5099</td>\n      <td>What trait, besides EQ, helps in negotiation?</td>\n      <td>[Openness is a trait that helps in negotiation...</td>\n      <td>[[2cae9cc1-dce2-46dc-b547-00551480c594]]</td>\n    </tr>\n    <tr>\n      <th>24</th>\n      <td>85c3809d-0122-4b2e-a457-8dc84aa57311</td>\n      <td>Which brain side is tied to logic vs. creativity?</td>\n      <td>[The left brain is tied to logic, while the ri...</td>\n      <td>[[8f96e478-591d-44d7-8781-9693015a3bdf]]</td>\n    </tr>\n    <tr>\n      <th>25</th>\n      <td>06151922-f119-4b04-b4ab-f35262795404</td>\n      <td>How do energy and body language affect in-pers...</td>\n      <td>[Energy and body language affect in-person com...</td>\n      <td>[[f9ae4ac7-ed95-4bbc-841c-efa39cca7980]]</td>\n    </tr>\n    <tr>\n      <th>26</th>\n      <td>8e325307-83b1-4d26-a084-52fed06b17f7</td>\n      <td>How does recognizing anxiety affect self-aware...</td>\n      <td>[Recognizing anxiety affects self-awareness an...</td>\n      <td>[[d1f57744-4cfa-497f-8205-6fbd750fdb24]]</td>\n    </tr>\n    <tr>\n      <th>27</th>\n      <td>047aec7d-26a8-4e6f-a512-863bcdb4452b</td>\n      <td>How do misaligned incentives occur with non-ou...</td>\n      <td>[Misaligned incentives occur with non-outcome-...</td>\n      <td>[[a462fa93-26f4-4988-ac9f-08bd5c434dd5]]</td>\n    </tr>\n  </tbody>\n</table>\n</div>"
     },
     "execution_count": 263,
     "metadata": {},
     "output_type": "execute_result"
    }
   ],
   "source": [
    "df = pd.read_parquet(f'util/live_template_eval_autorag.parquet')\n",
    "df.head(500)\n",
    "\n",
    "dd = pd.read_parquet(f'util/live_dataset_autorag_eval_fquarter.parquet')\n",
    "dd.head(500)"
   ],
   "metadata": {
    "collapsed": false,
    "ExecuteTime": {
     "end_time": "2024-06-20T02:35:00.293912Z",
     "start_time": "2024-06-20T02:35:00.278158Z"
    }
   },
   "id": "25f8c571af414569",
   "execution_count": 263
  },
  {
   "cell_type": "code",
   "outputs": [],
   "source": [],
   "metadata": {
    "collapsed": false
   },
   "id": "1883d7e74a48fc42"
  },
  {
   "cell_type": "code",
   "outputs": [],
   "source": [
    "df = pd.read_csv('util/livev1_final_eval.csv')\n",
    "df.head(5)"
   ],
   "metadata": {
    "collapsed": false
   },
   "id": "79335ca3ab1894a9",
   "execution_count": null
  },
  {
   "cell_type": "markdown",
   "source": [
    "**Evaluating AutoRAG Trials**"
   ],
   "metadata": {
    "collapsed": false
   },
   "id": "78ca8c91c4f39918"
  },
  {
   "cell_type": "code",
   "outputs": [
    {
     "data": {
      "text/plain": "                                    qid  \\\n0  4b69ce5d-1112-48e4-9723-a53bdbf48046   \n1  60de931a-ae5f-4c16-8a66-fabdad056943   \n2  2aa69d85-4188-4807-b61f-f43bc61b1c15   \n\n                                               query  \\\n0  How can leadership performance create collabor...   \n1  Which brain area responds to conversational th...   \n2  What neural mechanism triggers identical respo...   \n\n                                       generation_gt  \\\n0  [Leadership performance can create collaborati...   \n1  [The amygdala responds to both conversational ...   \n2  [The neural mechanism that triggers identical ...   \n\n                                        retrieval_gt  \\\n0           [[8d2e40fa-54c7-411d-94a6-ade8dc48c312]]   \n1  [[4f3fe786-e003-4395-8a9d-a95855cadf0b, 61a754...   \n2  [[4f3fe786-e003-4395-8a9d-a95855cadf0b, 61a754...   \n\n                                             queries  \\\n0  [How can leadership performance create collabo...   \n1  [Which brain area responds to conversational t...   \n2  [What neural mechanism triggers identical resp...   \n\n                                  retrieved_contents  \\\n0  [And that was just to highlight the fact that ...   \n1  [happen. Your amygdala initially cannot differ...   \n2  [happen. Your amygdala initially cannot differ...   \n\n                                       retrieved_ids  \\\n0  [8d2e40fa-54c7-411d-94a6-ade8dc48c312, bee530c...   \n1  [61a75426-549b-4687-8b88-43f9178f4f3c, 4f3fe78...   \n2  [61a75426-549b-4687-8b88-43f9178f4f3c, 4f3fe78...   \n\n                                     retrieve_scores  retrieval_f1  \\\n0  [0.7, 0.3894497718057376, 0.3, 0.2946453792071...      0.181818   \n1  [0.7, 0.6877373244047913, 0.3323778530319395, ...      0.333333   \n2  [0.7, 0.5426740536012143, 0.49215276446860345,...      0.333333   \n\n   retrieval_recall  retrieval_precision  retrieval_ndcg  retrieval_map  \\\n0               1.0                  0.1             1.0            1.0   \n1               1.0                  0.2             1.0            1.0   \n2               1.0                  0.2             1.0            1.0   \n\n   retrieval_mrr  \n0            1.0  \n1            1.0  \n2            1.0  ",
      "text/html": "<div>\n<style scoped>\n    .dataframe tbody tr th:only-of-type {\n        vertical-align: middle;\n    }\n\n    .dataframe tbody tr th {\n        vertical-align: top;\n    }\n\n    .dataframe thead th {\n        text-align: right;\n    }\n</style>\n<table border=\"1\" class=\"dataframe\">\n  <thead>\n    <tr style=\"text-align: right;\">\n      <th></th>\n      <th>qid</th>\n      <th>query</th>\n      <th>generation_gt</th>\n      <th>retrieval_gt</th>\n      <th>queries</th>\n      <th>retrieved_contents</th>\n      <th>retrieved_ids</th>\n      <th>retrieve_scores</th>\n      <th>retrieval_f1</th>\n      <th>retrieval_recall</th>\n      <th>retrieval_precision</th>\n      <th>retrieval_ndcg</th>\n      <th>retrieval_map</th>\n      <th>retrieval_mrr</th>\n    </tr>\n  </thead>\n  <tbody>\n    <tr>\n      <th>0</th>\n      <td>4b69ce5d-1112-48e4-9723-a53bdbf48046</td>\n      <td>How can leadership performance create collabor...</td>\n      <td>[Leadership performance can create collaborati...</td>\n      <td>[[8d2e40fa-54c7-411d-94a6-ade8dc48c312]]</td>\n      <td>[How can leadership performance create collabo...</td>\n      <td>[And that was just to highlight the fact that ...</td>\n      <td>[8d2e40fa-54c7-411d-94a6-ade8dc48c312, bee530c...</td>\n      <td>[0.7, 0.3894497718057376, 0.3, 0.2946453792071...</td>\n      <td>0.181818</td>\n      <td>1.0</td>\n      <td>0.1</td>\n      <td>1.0</td>\n      <td>1.0</td>\n      <td>1.0</td>\n    </tr>\n    <tr>\n      <th>1</th>\n      <td>60de931a-ae5f-4c16-8a66-fabdad056943</td>\n      <td>Which brain area responds to conversational th...</td>\n      <td>[The amygdala responds to both conversational ...</td>\n      <td>[[4f3fe786-e003-4395-8a9d-a95855cadf0b, 61a754...</td>\n      <td>[Which brain area responds to conversational t...</td>\n      <td>[happen. Your amygdala initially cannot differ...</td>\n      <td>[61a75426-549b-4687-8b88-43f9178f4f3c, 4f3fe78...</td>\n      <td>[0.7, 0.6877373244047913, 0.3323778530319395, ...</td>\n      <td>0.333333</td>\n      <td>1.0</td>\n      <td>0.2</td>\n      <td>1.0</td>\n      <td>1.0</td>\n      <td>1.0</td>\n    </tr>\n    <tr>\n      <th>2</th>\n      <td>2aa69d85-4188-4807-b61f-f43bc61b1c15</td>\n      <td>What neural mechanism triggers identical respo...</td>\n      <td>[The neural mechanism that triggers identical ...</td>\n      <td>[[4f3fe786-e003-4395-8a9d-a95855cadf0b, 61a754...</td>\n      <td>[What neural mechanism triggers identical resp...</td>\n      <td>[happen. Your amygdala initially cannot differ...</td>\n      <td>[61a75426-549b-4687-8b88-43f9178f4f3c, 4f3fe78...</td>\n      <td>[0.7, 0.5426740536012143, 0.49215276446860345,...</td>\n      <td>0.333333</td>\n      <td>1.0</td>\n      <td>0.2</td>\n      <td>1.0</td>\n      <td>1.0</td>\n      <td>1.0</td>\n    </tr>\n  </tbody>\n</table>\n</div>"
     },
     "execution_count": 43,
     "metadata": {},
     "output_type": "execute_result"
    }
   ],
   "source": [
    "\n",
    "#Evaluate the AutoRAG Retrieval Top Ranking Trial\n",
    "df = pd.read_parquet('1/retrieve_node_line/retrieval/best_6.parquet')\n",
    "\n",
    "df.head(50)"
   ],
   "metadata": {
    "collapsed": false,
    "ExecuteTime": {
     "end_time": "2024-06-20T19:00:28.856115Z",
     "start_time": "2024-06-20T19:00:28.838534Z"
    }
   },
   "id": "649c1cdac9213aca",
   "execution_count": 43
  },
  {
   "cell_type": "code",
   "outputs": [
    {
     "data": {
      "text/plain": "                                    qid  \\\n0  ecd96fdc-e39b-4895-baf1-f37965fc4363   \n1  d3c65491-f922-4920-ad58-9b69e2fad3f7   \n2  54a5fa70-4ece-481b-b15b-322756229486   \n3  66e41113-539e-422d-8f1f-c83897ab4815   \n\n                                               query  \\\n0  How does climbing the corporate ladder demonst...   \n1  How does mirroring someone's words convey the ...   \n2  How does Fireside differ from other online con...   \n3  How is silence interpreted as anger, and how c...   \n\n                                       generation_gt  \\\n0  [Climbing the corporate ladder demonstrates on...   \n1  [Mirroring someone's words conveys the message...   \n2  [Fireside is a brand new social media platform...   \n3  [Silence is often interpreted as anger because...   \n\n                                        retrieval_gt  \n0           [[2993d017-4410-4c84-8135-44c03c03d063]]  \n1           [[b0cf803c-4b17-45fb-8426-01b602b43e04]]  \n2           [[c1bda205-1e82-44b8-8819-fa5b830bfe10]]  \n3  [[b866f947-e241-4ec7-ae23-79523e390bb4, 48c3f5...  ",
      "text/html": "<div>\n<style scoped>\n    .dataframe tbody tr th:only-of-type {\n        vertical-align: middle;\n    }\n\n    .dataframe tbody tr th {\n        vertical-align: top;\n    }\n\n    .dataframe thead th {\n        text-align: right;\n    }\n</style>\n<table border=\"1\" class=\"dataframe\">\n  <thead>\n    <tr style=\"text-align: right;\">\n      <th></th>\n      <th>qid</th>\n      <th>query</th>\n      <th>generation_gt</th>\n      <th>retrieval_gt</th>\n    </tr>\n  </thead>\n  <tbody>\n    <tr>\n      <th>0</th>\n      <td>ecd96fdc-e39b-4895-baf1-f37965fc4363</td>\n      <td>How does climbing the corporate ladder demonst...</td>\n      <td>[Climbing the corporate ladder demonstrates on...</td>\n      <td>[[2993d017-4410-4c84-8135-44c03c03d063]]</td>\n    </tr>\n    <tr>\n      <th>1</th>\n      <td>d3c65491-f922-4920-ad58-9b69e2fad3f7</td>\n      <td>How does mirroring someone's words convey the ...</td>\n      <td>[Mirroring someone's words conveys the message...</td>\n      <td>[[b0cf803c-4b17-45fb-8426-01b602b43e04]]</td>\n    </tr>\n    <tr>\n      <th>2</th>\n      <td>54a5fa70-4ece-481b-b15b-322756229486</td>\n      <td>How does Fireside differ from other online con...</td>\n      <td>[Fireside is a brand new social media platform...</td>\n      <td>[[c1bda205-1e82-44b8-8819-fa5b830bfe10]]</td>\n    </tr>\n    <tr>\n      <th>3</th>\n      <td>66e41113-539e-422d-8f1f-c83897ab4815</td>\n      <td>How is silence interpreted as anger, and how c...</td>\n      <td>[Silence is often interpreted as anger because...</td>\n      <td>[[b866f947-e241-4ec7-ae23-79523e390bb4, 48c3f5...</td>\n    </tr>\n  </tbody>\n</table>\n</div>"
     },
     "execution_count": 28,
     "metadata": {},
     "output_type": "execute_result"
    }
   ],
   "source": [
    "original_qa = pd.read_parquet('util/live_template_eval_autorag_ftenth.parquet')\n",
    "original_qa.head(50)"
   ],
   "metadata": {
    "collapsed": false,
    "ExecuteTime": {
     "end_time": "2024-06-20T17:16:49.190351Z",
     "start_time": "2024-06-20T17:16:49.166652Z"
    }
   },
   "id": "58d89f9126e0f84a",
   "execution_count": 28
  },
  {
   "cell_type": "code",
   "outputs": [
    {
     "data": {
      "text/plain": "                                             contents  int_id       kind  \\\n0    Many things in life are based on negotiation ...       1  interview   \n1   Derek Gaunt is a lecturer, author of Ego Autho...       1  interview   \n2   The Superhumanized Podcast is a show committed...       1  interview   \n3   I started my law enforcement career in 1988 an...       1  interview   \n4   I was selected to be a part of this street lev...       1  interview   \n5   And they would share with me information in or...       1  interview   \n6   And the more to it was me being selected to th...       1  interview   \n7   And so having spent some years in the detectiv...       1  interview   \n8   And then I heard about this discipline called ...       1  interview   \n9   Those were the main three reasons why people w...       1  interview   \n10  And so fast forward, 2001, I met Chris Voss, a...       1  interview   \n11  And we have not looked back. Outstanding. And ...       1  interview   \n12  But in your career, literally lives were at st...       1  interview   \n13  It starts before you get on to the call. Your ...       1  interview   \n14  And one of the ways to keep from getting trigg...       1  interview   \n15  You can't be curious and frustrated at the sam...       1  interview   \n16  Now, in the moment, all of us in these difficu...       1  interview   \n17  If you guys don't believe me, if you Google fM...       1  interview   \n18  So we call it self-labeling. So when you label...       1  interview   \n19  The self-labeling is something that people may...       1  interview   \n20  For sure. For sure. Without question. And the ...       1  interview   \n21  We get wrapped around the axle because she sta...       1  interview   \n22  The first place is you're missing something. T...       1  interview   \n23  The third reason that you'll get attacked duri...       1  interview   \n24  And the people that use the attack to manipula...       1  interview   \n25  So what do you do? You have to figure out whic...       1  interview   \n26  That attack is the elephant in the room and it...       1  interview   \n27  Outstanding insight. And of course, when we ge...       1  interview   \n28  So we may Yeah, so either a lot of people then...       1  interview   \n29  And that goes back to what you just mentioned....       1  interview   \n30  It can't tell the difference between, let's sa...       1  interview   \n31  If you want to make your counterpart dumber, y...       1  interview   \n32  You want them as cognitively nimble as they ca...       1  interview   \n33  Actually, probably the most challenging one th...       1  interview   \n34  And what I mean by that is we were calling ins...       1  interview   \n35  And what made it so difficult is what was at s...       1  interview   \n36  And so that's what made it difficult. The leng...       1  interview   \n37  And at times it put us on the precipice of doi...       1  interview   \n38  And as a result, we are putting lives in dange...       1  interview   \n39  But my intent was to have them, if they were g...       1  interview   \n40  It just took a lot of work. Yes, and it seems ...       1  interview   \n41  Isn't hostage negotiation or even like the neg...       1  interview   \n42  It's counterintuitive. The skills are awkward,...       1  interview   \n43  Can you give us an example? Of the type of ski...       1  interview   \n44  So you want to think, what is my counterpart h...       1  interview   \n45  It sounds something like this. You're probably...       1  interview   \n46  And you may even think that we're being greedy...       1  interview   \n47  This is my attempt to show them that this conv...       1  interview   \n48  Now, what makes that counterintuitive? You're ...       1  interview   \n49  It is one of the most fearless and selfless ac...       1  interview   \n\n                                                title  \\\n0   Derek Gaunt On Hostage Negotiation Tactics For...   \n1   Derek Gaunt On Hostage Negotiation Tactics For...   \n2   Derek Gaunt On Hostage Negotiation Tactics For...   \n3   Derek Gaunt On Hostage Negotiation Tactics For...   \n4   Derek Gaunt On Hostage Negotiation Tactics For...   \n5   Derek Gaunt On Hostage Negotiation Tactics For...   \n6   Derek Gaunt On Hostage Negotiation Tactics For...   \n7   Derek Gaunt On Hostage Negotiation Tactics For...   \n8   Derek Gaunt On Hostage Negotiation Tactics For...   \n9   Derek Gaunt On Hostage Negotiation Tactics For...   \n10  Derek Gaunt On Hostage Negotiation Tactics For...   \n11  Derek Gaunt On Hostage Negotiation Tactics For...   \n12  Derek Gaunt On Hostage Negotiation Tactics For...   \n13  Derek Gaunt On Hostage Negotiation Tactics For...   \n14  Derek Gaunt On Hostage Negotiation Tactics For...   \n15  Derek Gaunt On Hostage Negotiation Tactics For...   \n16  Derek Gaunt On Hostage Negotiation Tactics For...   \n17  Derek Gaunt On Hostage Negotiation Tactics For...   \n18  Derek Gaunt On Hostage Negotiation Tactics For...   \n19  Derek Gaunt On Hostage Negotiation Tactics For...   \n20  Derek Gaunt On Hostage Negotiation Tactics For...   \n21  Derek Gaunt On Hostage Negotiation Tactics For...   \n22  Derek Gaunt On Hostage Negotiation Tactics For...   \n23  Derek Gaunt On Hostage Negotiation Tactics For...   \n24  Derek Gaunt On Hostage Negotiation Tactics For...   \n25  Derek Gaunt On Hostage Negotiation Tactics For...   \n26  Derek Gaunt On Hostage Negotiation Tactics For...   \n27  Derek Gaunt On Hostage Negotiation Tactics For...   \n28  Derek Gaunt On Hostage Negotiation Tactics For...   \n29  Derek Gaunt On Hostage Negotiation Tactics For...   \n30  Derek Gaunt On Hostage Negotiation Tactics For...   \n31  Derek Gaunt On Hostage Negotiation Tactics For...   \n32  Derek Gaunt On Hostage Negotiation Tactics For...   \n33  Derek Gaunt On Hostage Negotiation Tactics For...   \n34  Derek Gaunt On Hostage Negotiation Tactics For...   \n35  Derek Gaunt On Hostage Negotiation Tactics For...   \n36  Derek Gaunt On Hostage Negotiation Tactics For...   \n37  Derek Gaunt On Hostage Negotiation Tactics For...   \n38  Derek Gaunt On Hostage Negotiation Tactics For...   \n39  Derek Gaunt On Hostage Negotiation Tactics For...   \n40  Derek Gaunt On Hostage Negotiation Tactics For...   \n41  Derek Gaunt On Hostage Negotiation Tactics For...   \n42  Derek Gaunt On Hostage Negotiation Tactics For...   \n43  Derek Gaunt On Hostage Negotiation Tactics For...   \n44  Derek Gaunt On Hostage Negotiation Tactics For...   \n45  Derek Gaunt On Hostage Negotiation Tactics For...   \n46  Derek Gaunt On Hostage Negotiation Tactics For...   \n47  Derek Gaunt On Hostage Negotiation Tactics For...   \n48  Derek Gaunt On Hostage Negotiation Tactics For...   \n49  Derek Gaunt On Hostage Negotiation Tactics For...   \n\n                                             metadata  \\\n0   {'int_id': 1, 'kind': 'interview', 'title': 'D...   \n1   {'int_id': 1, 'kind': 'interview', 'title': 'D...   \n2   {'int_id': 1, 'kind': 'interview', 'title': 'D...   \n3   {'int_id': 1, 'kind': 'interview', 'title': 'D...   \n4   {'int_id': 1, 'kind': 'interview', 'title': 'D...   \n5   {'int_id': 1, 'kind': 'interview', 'title': 'D...   \n6   {'int_id': 1, 'kind': 'interview', 'title': 'D...   \n7   {'int_id': 1, 'kind': 'interview', 'title': 'D...   \n8   {'int_id': 1, 'kind': 'interview', 'title': 'D...   \n9   {'int_id': 1, 'kind': 'interview', 'title': 'D...   \n10  {'int_id': 1, 'kind': 'interview', 'title': 'D...   \n11  {'int_id': 1, 'kind': 'interview', 'title': 'D...   \n12  {'int_id': 1, 'kind': 'interview', 'title': 'D...   \n13  {'int_id': 1, 'kind': 'interview', 'title': 'D...   \n14  {'int_id': 1, 'kind': 'interview', 'title': 'D...   \n15  {'int_id': 1, 'kind': 'interview', 'title': 'D...   \n16  {'int_id': 1, 'kind': 'interview', 'title': 'D...   \n17  {'int_id': 1, 'kind': 'interview', 'title': 'D...   \n18  {'int_id': 1, 'kind': 'interview', 'title': 'D...   \n19  {'int_id': 1, 'kind': 'interview', 'title': 'D...   \n20  {'int_id': 1, 'kind': 'interview', 'title': 'D...   \n21  {'int_id': 1, 'kind': 'interview', 'title': 'D...   \n22  {'int_id': 1, 'kind': 'interview', 'title': 'D...   \n23  {'int_id': 1, 'kind': 'interview', 'title': 'D...   \n24  {'int_id': 1, 'kind': 'interview', 'title': 'D...   \n25  {'int_id': 1, 'kind': 'interview', 'title': 'D...   \n26  {'int_id': 1, 'kind': 'interview', 'title': 'D...   \n27  {'int_id': 1, 'kind': 'interview', 'title': 'D...   \n28  {'int_id': 1, 'kind': 'interview', 'title': 'D...   \n29  {'int_id': 1, 'kind': 'interview', 'title': 'D...   \n30  {'int_id': 1, 'kind': 'interview', 'title': 'D...   \n31  {'int_id': 1, 'kind': 'interview', 'title': 'D...   \n32  {'int_id': 1, 'kind': 'interview', 'title': 'D...   \n33  {'int_id': 1, 'kind': 'interview', 'title': 'D...   \n34  {'int_id': 1, 'kind': 'interview', 'title': 'D...   \n35  {'int_id': 1, 'kind': 'interview', 'title': 'D...   \n36  {'int_id': 1, 'kind': 'interview', 'title': 'D...   \n37  {'int_id': 1, 'kind': 'interview', 'title': 'D...   \n38  {'int_id': 1, 'kind': 'interview', 'title': 'D...   \n39  {'int_id': 1, 'kind': 'interview', 'title': 'D...   \n40  {'int_id': 1, 'kind': 'interview', 'title': 'D...   \n41  {'int_id': 1, 'kind': 'interview', 'title': 'D...   \n42  {'int_id': 1, 'kind': 'interview', 'title': 'D...   \n43  {'int_id': 1, 'kind': 'interview', 'title': 'D...   \n44  {'int_id': 1, 'kind': 'interview', 'title': 'D...   \n45  {'int_id': 1, 'kind': 'interview', 'title': 'D...   \n46  {'int_id': 1, 'kind': 'interview', 'title': 'D...   \n47  {'int_id': 1, 'kind': 'interview', 'title': 'D...   \n48  {'int_id': 1, 'kind': 'interview', 'title': 'D...   \n49  {'int_id': 1, 'kind': 'interview', 'title': 'D...   \n\n                                  doc_id  \n0   81bc10c5-25a8-484c-a6d3-507b9fe9eabd  \n1   96740ee1-9184-48fe-be1e-dd2256ba8738  \n2   04d6378a-8f4e-420f-a8e9-0b171738877f  \n3   7f88eb2a-d7c9-4a15-a96b-a4642ce5960b  \n4   b0b89d85-8b78-4587-8b91-deb19611b0ae  \n5   e361877f-a796-4521-9352-beb6b5657e55  \n6   d555c912-142b-4ea8-8902-d78550257b81  \n7   b0d8f129-8f9b-4113-a3ec-0a56eab9b75e  \n8   b96f3a69-fe52-4a86-89bf-d9744f8c9664  \n9   f01f3b92-2059-47d7-b8ba-3132d8fd111b  \n10  3accee6c-300b-4d27-8183-a5a34adad7c6  \n11  75361d4b-d319-496b-a1e9-7ad7ef2e9d79  \n12  84704367-6be2-46ee-a72e-b6d373b7bb1e  \n13  f839a1e2-919c-41e2-ae1a-1d9c3fd73a4e  \n14  2a3fb01d-85f9-4ea5-b70e-48e1e48cc5eb  \n15  3a696862-f709-4988-ae89-04289ffeeb37  \n16  c5cca184-bcc7-4a34-a278-7f20b343d0c3  \n17  005436e6-3bfa-4fa7-9ed9-3adc60b8ec6a  \n18  d9fb01bd-d412-4659-99d5-e2d4cd2f8e7b  \n19  552a76f9-8df0-47f2-9482-b12a81fb0eec  \n20  9228644e-e112-4b25-8266-d4964926996d  \n21  38d256e3-68ee-4cf0-913e-c3d235d76cf7  \n22  d33abca6-104a-430c-84e8-1c1e15af6c8b  \n23  5128a696-91bb-4d40-878d-dea34653ef45  \n24  d988e2dc-8ca8-4239-9528-4f9a1cebce3b  \n25  91ba61d3-8813-40a3-8b2a-d05d9b6024c4  \n26  29854a0c-3d2a-4283-984b-7b974c7eb117  \n27  1d9997b9-62fd-4c7d-b17a-c3958f5f72a2  \n28  982d7391-1c8e-4d15-bea2-84ede7789a31  \n29  260ac7b1-8a09-43b9-aebe-5b59977ee38d  \n30  26055f09-fe37-4a94-a42d-967770ef6dc6  \n31  907a5bfb-56fa-4534-82db-717542d7deb5  \n32  609c8c5e-d137-438f-b544-bda20aba2658  \n33  232cca18-eee4-4f3e-942f-785743916716  \n34  904c52bc-2e0c-4d3c-bc6d-e60e6fa9c600  \n35  d95f7ed2-5317-4d8d-bb2c-7c31a636893a  \n36  fa2a53b1-2945-4d1a-b850-1a569d69179c  \n37  919f27b5-fdc8-4a51-9993-c1a59808be43  \n38  ee726ff9-c33c-4f3a-8bd6-41ec82f66504  \n39  6169babb-7c56-4100-9993-67f4c1f1a3e5  \n40  12968451-f971-4c95-bf83-2f69e9e2e57b  \n41  ff0bd16b-0c04-4f25-bd27-aa4b29ced4fd  \n42  4e177e27-8aac-4593-a127-a0cbe7b3608f  \n43  2e83eb12-0658-4502-89c4-d29ec0516f7d  \n44  c7932fca-995c-4373-b318-1ab318c8067f  \n45  aba6f59b-e85e-4868-8d56-3add89be95a7  \n46  adddc7be-9bdf-45ab-b6cb-44029811ae89  \n47  9a660238-8779-4448-83f0-1b30bc0168d3  \n48  9d4e63ac-d582-4d2b-9cf2-e4cd7f91f949  \n49  a2f64e32-0096-4a57-a30a-7ea6508ad626  ",
      "text/html": "<div>\n<style scoped>\n    .dataframe tbody tr th:only-of-type {\n        vertical-align: middle;\n    }\n\n    .dataframe tbody tr th {\n        vertical-align: top;\n    }\n\n    .dataframe thead th {\n        text-align: right;\n    }\n</style>\n<table border=\"1\" class=\"dataframe\">\n  <thead>\n    <tr style=\"text-align: right;\">\n      <th></th>\n      <th>contents</th>\n      <th>int_id</th>\n      <th>kind</th>\n      <th>title</th>\n      <th>metadata</th>\n      <th>doc_id</th>\n    </tr>\n  </thead>\n  <tbody>\n    <tr>\n      <th>0</th>\n      <td>Many things in life are based on negotiation ...</td>\n      <td>1</td>\n      <td>interview</td>\n      <td>Derek Gaunt On Hostage Negotiation Tactics For...</td>\n      <td>{'int_id': 1, 'kind': 'interview', 'title': 'D...</td>\n      <td>81bc10c5-25a8-484c-a6d3-507b9fe9eabd</td>\n    </tr>\n    <tr>\n      <th>1</th>\n      <td>Derek Gaunt is a lecturer, author of Ego Autho...</td>\n      <td>1</td>\n      <td>interview</td>\n      <td>Derek Gaunt On Hostage Negotiation Tactics For...</td>\n      <td>{'int_id': 1, 'kind': 'interview', 'title': 'D...</td>\n      <td>96740ee1-9184-48fe-be1e-dd2256ba8738</td>\n    </tr>\n    <tr>\n      <th>2</th>\n      <td>The Superhumanized Podcast is a show committed...</td>\n      <td>1</td>\n      <td>interview</td>\n      <td>Derek Gaunt On Hostage Negotiation Tactics For...</td>\n      <td>{'int_id': 1, 'kind': 'interview', 'title': 'D...</td>\n      <td>04d6378a-8f4e-420f-a8e9-0b171738877f</td>\n    </tr>\n    <tr>\n      <th>3</th>\n      <td>I started my law enforcement career in 1988 an...</td>\n      <td>1</td>\n      <td>interview</td>\n      <td>Derek Gaunt On Hostage Negotiation Tactics For...</td>\n      <td>{'int_id': 1, 'kind': 'interview', 'title': 'D...</td>\n      <td>7f88eb2a-d7c9-4a15-a96b-a4642ce5960b</td>\n    </tr>\n    <tr>\n      <th>4</th>\n      <td>I was selected to be a part of this street lev...</td>\n      <td>1</td>\n      <td>interview</td>\n      <td>Derek Gaunt On Hostage Negotiation Tactics For...</td>\n      <td>{'int_id': 1, 'kind': 'interview', 'title': 'D...</td>\n      <td>b0b89d85-8b78-4587-8b91-deb19611b0ae</td>\n    </tr>\n    <tr>\n      <th>5</th>\n      <td>And they would share with me information in or...</td>\n      <td>1</td>\n      <td>interview</td>\n      <td>Derek Gaunt On Hostage Negotiation Tactics For...</td>\n      <td>{'int_id': 1, 'kind': 'interview', 'title': 'D...</td>\n      <td>e361877f-a796-4521-9352-beb6b5657e55</td>\n    </tr>\n    <tr>\n      <th>6</th>\n      <td>And the more to it was me being selected to th...</td>\n      <td>1</td>\n      <td>interview</td>\n      <td>Derek Gaunt On Hostage Negotiation Tactics For...</td>\n      <td>{'int_id': 1, 'kind': 'interview', 'title': 'D...</td>\n      <td>d555c912-142b-4ea8-8902-d78550257b81</td>\n    </tr>\n    <tr>\n      <th>7</th>\n      <td>And so having spent some years in the detectiv...</td>\n      <td>1</td>\n      <td>interview</td>\n      <td>Derek Gaunt On Hostage Negotiation Tactics For...</td>\n      <td>{'int_id': 1, 'kind': 'interview', 'title': 'D...</td>\n      <td>b0d8f129-8f9b-4113-a3ec-0a56eab9b75e</td>\n    </tr>\n    <tr>\n      <th>8</th>\n      <td>And then I heard about this discipline called ...</td>\n      <td>1</td>\n      <td>interview</td>\n      <td>Derek Gaunt On Hostage Negotiation Tactics For...</td>\n      <td>{'int_id': 1, 'kind': 'interview', 'title': 'D...</td>\n      <td>b96f3a69-fe52-4a86-89bf-d9744f8c9664</td>\n    </tr>\n    <tr>\n      <th>9</th>\n      <td>Those were the main three reasons why people w...</td>\n      <td>1</td>\n      <td>interview</td>\n      <td>Derek Gaunt On Hostage Negotiation Tactics For...</td>\n      <td>{'int_id': 1, 'kind': 'interview', 'title': 'D...</td>\n      <td>f01f3b92-2059-47d7-b8ba-3132d8fd111b</td>\n    </tr>\n    <tr>\n      <th>10</th>\n      <td>And so fast forward, 2001, I met Chris Voss, a...</td>\n      <td>1</td>\n      <td>interview</td>\n      <td>Derek Gaunt On Hostage Negotiation Tactics For...</td>\n      <td>{'int_id': 1, 'kind': 'interview', 'title': 'D...</td>\n      <td>3accee6c-300b-4d27-8183-a5a34adad7c6</td>\n    </tr>\n    <tr>\n      <th>11</th>\n      <td>And we have not looked back. Outstanding. And ...</td>\n      <td>1</td>\n      <td>interview</td>\n      <td>Derek Gaunt On Hostage Negotiation Tactics For...</td>\n      <td>{'int_id': 1, 'kind': 'interview', 'title': 'D...</td>\n      <td>75361d4b-d319-496b-a1e9-7ad7ef2e9d79</td>\n    </tr>\n    <tr>\n      <th>12</th>\n      <td>But in your career, literally lives were at st...</td>\n      <td>1</td>\n      <td>interview</td>\n      <td>Derek Gaunt On Hostage Negotiation Tactics For...</td>\n      <td>{'int_id': 1, 'kind': 'interview', 'title': 'D...</td>\n      <td>84704367-6be2-46ee-a72e-b6d373b7bb1e</td>\n    </tr>\n    <tr>\n      <th>13</th>\n      <td>It starts before you get on to the call. Your ...</td>\n      <td>1</td>\n      <td>interview</td>\n      <td>Derek Gaunt On Hostage Negotiation Tactics For...</td>\n      <td>{'int_id': 1, 'kind': 'interview', 'title': 'D...</td>\n      <td>f839a1e2-919c-41e2-ae1a-1d9c3fd73a4e</td>\n    </tr>\n    <tr>\n      <th>14</th>\n      <td>And one of the ways to keep from getting trigg...</td>\n      <td>1</td>\n      <td>interview</td>\n      <td>Derek Gaunt On Hostage Negotiation Tactics For...</td>\n      <td>{'int_id': 1, 'kind': 'interview', 'title': 'D...</td>\n      <td>2a3fb01d-85f9-4ea5-b70e-48e1e48cc5eb</td>\n    </tr>\n    <tr>\n      <th>15</th>\n      <td>You can't be curious and frustrated at the sam...</td>\n      <td>1</td>\n      <td>interview</td>\n      <td>Derek Gaunt On Hostage Negotiation Tactics For...</td>\n      <td>{'int_id': 1, 'kind': 'interview', 'title': 'D...</td>\n      <td>3a696862-f709-4988-ae89-04289ffeeb37</td>\n    </tr>\n    <tr>\n      <th>16</th>\n      <td>Now, in the moment, all of us in these difficu...</td>\n      <td>1</td>\n      <td>interview</td>\n      <td>Derek Gaunt On Hostage Negotiation Tactics For...</td>\n      <td>{'int_id': 1, 'kind': 'interview', 'title': 'D...</td>\n      <td>c5cca184-bcc7-4a34-a278-7f20b343d0c3</td>\n    </tr>\n    <tr>\n      <th>17</th>\n      <td>If you guys don't believe me, if you Google fM...</td>\n      <td>1</td>\n      <td>interview</td>\n      <td>Derek Gaunt On Hostage Negotiation Tactics For...</td>\n      <td>{'int_id': 1, 'kind': 'interview', 'title': 'D...</td>\n      <td>005436e6-3bfa-4fa7-9ed9-3adc60b8ec6a</td>\n    </tr>\n    <tr>\n      <th>18</th>\n      <td>So we call it self-labeling. So when you label...</td>\n      <td>1</td>\n      <td>interview</td>\n      <td>Derek Gaunt On Hostage Negotiation Tactics For...</td>\n      <td>{'int_id': 1, 'kind': 'interview', 'title': 'D...</td>\n      <td>d9fb01bd-d412-4659-99d5-e2d4cd2f8e7b</td>\n    </tr>\n    <tr>\n      <th>19</th>\n      <td>The self-labeling is something that people may...</td>\n      <td>1</td>\n      <td>interview</td>\n      <td>Derek Gaunt On Hostage Negotiation Tactics For...</td>\n      <td>{'int_id': 1, 'kind': 'interview', 'title': 'D...</td>\n      <td>552a76f9-8df0-47f2-9482-b12a81fb0eec</td>\n    </tr>\n    <tr>\n      <th>20</th>\n      <td>For sure. For sure. Without question. And the ...</td>\n      <td>1</td>\n      <td>interview</td>\n      <td>Derek Gaunt On Hostage Negotiation Tactics For...</td>\n      <td>{'int_id': 1, 'kind': 'interview', 'title': 'D...</td>\n      <td>9228644e-e112-4b25-8266-d4964926996d</td>\n    </tr>\n    <tr>\n      <th>21</th>\n      <td>We get wrapped around the axle because she sta...</td>\n      <td>1</td>\n      <td>interview</td>\n      <td>Derek Gaunt On Hostage Negotiation Tactics For...</td>\n      <td>{'int_id': 1, 'kind': 'interview', 'title': 'D...</td>\n      <td>38d256e3-68ee-4cf0-913e-c3d235d76cf7</td>\n    </tr>\n    <tr>\n      <th>22</th>\n      <td>The first place is you're missing something. T...</td>\n      <td>1</td>\n      <td>interview</td>\n      <td>Derek Gaunt On Hostage Negotiation Tactics For...</td>\n      <td>{'int_id': 1, 'kind': 'interview', 'title': 'D...</td>\n      <td>d33abca6-104a-430c-84e8-1c1e15af6c8b</td>\n    </tr>\n    <tr>\n      <th>23</th>\n      <td>The third reason that you'll get attacked duri...</td>\n      <td>1</td>\n      <td>interview</td>\n      <td>Derek Gaunt On Hostage Negotiation Tactics For...</td>\n      <td>{'int_id': 1, 'kind': 'interview', 'title': 'D...</td>\n      <td>5128a696-91bb-4d40-878d-dea34653ef45</td>\n    </tr>\n    <tr>\n      <th>24</th>\n      <td>And the people that use the attack to manipula...</td>\n      <td>1</td>\n      <td>interview</td>\n      <td>Derek Gaunt On Hostage Negotiation Tactics For...</td>\n      <td>{'int_id': 1, 'kind': 'interview', 'title': 'D...</td>\n      <td>d988e2dc-8ca8-4239-9528-4f9a1cebce3b</td>\n    </tr>\n    <tr>\n      <th>25</th>\n      <td>So what do you do? You have to figure out whic...</td>\n      <td>1</td>\n      <td>interview</td>\n      <td>Derek Gaunt On Hostage Negotiation Tactics For...</td>\n      <td>{'int_id': 1, 'kind': 'interview', 'title': 'D...</td>\n      <td>91ba61d3-8813-40a3-8b2a-d05d9b6024c4</td>\n    </tr>\n    <tr>\n      <th>26</th>\n      <td>That attack is the elephant in the room and it...</td>\n      <td>1</td>\n      <td>interview</td>\n      <td>Derek Gaunt On Hostage Negotiation Tactics For...</td>\n      <td>{'int_id': 1, 'kind': 'interview', 'title': 'D...</td>\n      <td>29854a0c-3d2a-4283-984b-7b974c7eb117</td>\n    </tr>\n    <tr>\n      <th>27</th>\n      <td>Outstanding insight. And of course, when we ge...</td>\n      <td>1</td>\n      <td>interview</td>\n      <td>Derek Gaunt On Hostage Negotiation Tactics For...</td>\n      <td>{'int_id': 1, 'kind': 'interview', 'title': 'D...</td>\n      <td>1d9997b9-62fd-4c7d-b17a-c3958f5f72a2</td>\n    </tr>\n    <tr>\n      <th>28</th>\n      <td>So we may Yeah, so either a lot of people then...</td>\n      <td>1</td>\n      <td>interview</td>\n      <td>Derek Gaunt On Hostage Negotiation Tactics For...</td>\n      <td>{'int_id': 1, 'kind': 'interview', 'title': 'D...</td>\n      <td>982d7391-1c8e-4d15-bea2-84ede7789a31</td>\n    </tr>\n    <tr>\n      <th>29</th>\n      <td>And that goes back to what you just mentioned....</td>\n      <td>1</td>\n      <td>interview</td>\n      <td>Derek Gaunt On Hostage Negotiation Tactics For...</td>\n      <td>{'int_id': 1, 'kind': 'interview', 'title': 'D...</td>\n      <td>260ac7b1-8a09-43b9-aebe-5b59977ee38d</td>\n    </tr>\n    <tr>\n      <th>30</th>\n      <td>It can't tell the difference between, let's sa...</td>\n      <td>1</td>\n      <td>interview</td>\n      <td>Derek Gaunt On Hostage Negotiation Tactics For...</td>\n      <td>{'int_id': 1, 'kind': 'interview', 'title': 'D...</td>\n      <td>26055f09-fe37-4a94-a42d-967770ef6dc6</td>\n    </tr>\n    <tr>\n      <th>31</th>\n      <td>If you want to make your counterpart dumber, y...</td>\n      <td>1</td>\n      <td>interview</td>\n      <td>Derek Gaunt On Hostage Negotiation Tactics For...</td>\n      <td>{'int_id': 1, 'kind': 'interview', 'title': 'D...</td>\n      <td>907a5bfb-56fa-4534-82db-717542d7deb5</td>\n    </tr>\n    <tr>\n      <th>32</th>\n      <td>You want them as cognitively nimble as they ca...</td>\n      <td>1</td>\n      <td>interview</td>\n      <td>Derek Gaunt On Hostage Negotiation Tactics For...</td>\n      <td>{'int_id': 1, 'kind': 'interview', 'title': 'D...</td>\n      <td>609c8c5e-d137-438f-b544-bda20aba2658</td>\n    </tr>\n    <tr>\n      <th>33</th>\n      <td>Actually, probably the most challenging one th...</td>\n      <td>1</td>\n      <td>interview</td>\n      <td>Derek Gaunt On Hostage Negotiation Tactics For...</td>\n      <td>{'int_id': 1, 'kind': 'interview', 'title': 'D...</td>\n      <td>232cca18-eee4-4f3e-942f-785743916716</td>\n    </tr>\n    <tr>\n      <th>34</th>\n      <td>And what I mean by that is we were calling ins...</td>\n      <td>1</td>\n      <td>interview</td>\n      <td>Derek Gaunt On Hostage Negotiation Tactics For...</td>\n      <td>{'int_id': 1, 'kind': 'interview', 'title': 'D...</td>\n      <td>904c52bc-2e0c-4d3c-bc6d-e60e6fa9c600</td>\n    </tr>\n    <tr>\n      <th>35</th>\n      <td>And what made it so difficult is what was at s...</td>\n      <td>1</td>\n      <td>interview</td>\n      <td>Derek Gaunt On Hostage Negotiation Tactics For...</td>\n      <td>{'int_id': 1, 'kind': 'interview', 'title': 'D...</td>\n      <td>d95f7ed2-5317-4d8d-bb2c-7c31a636893a</td>\n    </tr>\n    <tr>\n      <th>36</th>\n      <td>And so that's what made it difficult. The leng...</td>\n      <td>1</td>\n      <td>interview</td>\n      <td>Derek Gaunt On Hostage Negotiation Tactics For...</td>\n      <td>{'int_id': 1, 'kind': 'interview', 'title': 'D...</td>\n      <td>fa2a53b1-2945-4d1a-b850-1a569d69179c</td>\n    </tr>\n    <tr>\n      <th>37</th>\n      <td>And at times it put us on the precipice of doi...</td>\n      <td>1</td>\n      <td>interview</td>\n      <td>Derek Gaunt On Hostage Negotiation Tactics For...</td>\n      <td>{'int_id': 1, 'kind': 'interview', 'title': 'D...</td>\n      <td>919f27b5-fdc8-4a51-9993-c1a59808be43</td>\n    </tr>\n    <tr>\n      <th>38</th>\n      <td>And as a result, we are putting lives in dange...</td>\n      <td>1</td>\n      <td>interview</td>\n      <td>Derek Gaunt On Hostage Negotiation Tactics For...</td>\n      <td>{'int_id': 1, 'kind': 'interview', 'title': 'D...</td>\n      <td>ee726ff9-c33c-4f3a-8bd6-41ec82f66504</td>\n    </tr>\n    <tr>\n      <th>39</th>\n      <td>But my intent was to have them, if they were g...</td>\n      <td>1</td>\n      <td>interview</td>\n      <td>Derek Gaunt On Hostage Negotiation Tactics For...</td>\n      <td>{'int_id': 1, 'kind': 'interview', 'title': 'D...</td>\n      <td>6169babb-7c56-4100-9993-67f4c1f1a3e5</td>\n    </tr>\n    <tr>\n      <th>40</th>\n      <td>It just took a lot of work. Yes, and it seems ...</td>\n      <td>1</td>\n      <td>interview</td>\n      <td>Derek Gaunt On Hostage Negotiation Tactics For...</td>\n      <td>{'int_id': 1, 'kind': 'interview', 'title': 'D...</td>\n      <td>12968451-f971-4c95-bf83-2f69e9e2e57b</td>\n    </tr>\n    <tr>\n      <th>41</th>\n      <td>Isn't hostage negotiation or even like the neg...</td>\n      <td>1</td>\n      <td>interview</td>\n      <td>Derek Gaunt On Hostage Negotiation Tactics For...</td>\n      <td>{'int_id': 1, 'kind': 'interview', 'title': 'D...</td>\n      <td>ff0bd16b-0c04-4f25-bd27-aa4b29ced4fd</td>\n    </tr>\n    <tr>\n      <th>42</th>\n      <td>It's counterintuitive. The skills are awkward,...</td>\n      <td>1</td>\n      <td>interview</td>\n      <td>Derek Gaunt On Hostage Negotiation Tactics For...</td>\n      <td>{'int_id': 1, 'kind': 'interview', 'title': 'D...</td>\n      <td>4e177e27-8aac-4593-a127-a0cbe7b3608f</td>\n    </tr>\n    <tr>\n      <th>43</th>\n      <td>Can you give us an example? Of the type of ski...</td>\n      <td>1</td>\n      <td>interview</td>\n      <td>Derek Gaunt On Hostage Negotiation Tactics For...</td>\n      <td>{'int_id': 1, 'kind': 'interview', 'title': 'D...</td>\n      <td>2e83eb12-0658-4502-89c4-d29ec0516f7d</td>\n    </tr>\n    <tr>\n      <th>44</th>\n      <td>So you want to think, what is my counterpart h...</td>\n      <td>1</td>\n      <td>interview</td>\n      <td>Derek Gaunt On Hostage Negotiation Tactics For...</td>\n      <td>{'int_id': 1, 'kind': 'interview', 'title': 'D...</td>\n      <td>c7932fca-995c-4373-b318-1ab318c8067f</td>\n    </tr>\n    <tr>\n      <th>45</th>\n      <td>It sounds something like this. You're probably...</td>\n      <td>1</td>\n      <td>interview</td>\n      <td>Derek Gaunt On Hostage Negotiation Tactics For...</td>\n      <td>{'int_id': 1, 'kind': 'interview', 'title': 'D...</td>\n      <td>aba6f59b-e85e-4868-8d56-3add89be95a7</td>\n    </tr>\n    <tr>\n      <th>46</th>\n      <td>And you may even think that we're being greedy...</td>\n      <td>1</td>\n      <td>interview</td>\n      <td>Derek Gaunt On Hostage Negotiation Tactics For...</td>\n      <td>{'int_id': 1, 'kind': 'interview', 'title': 'D...</td>\n      <td>adddc7be-9bdf-45ab-b6cb-44029811ae89</td>\n    </tr>\n    <tr>\n      <th>47</th>\n      <td>This is my attempt to show them that this conv...</td>\n      <td>1</td>\n      <td>interview</td>\n      <td>Derek Gaunt On Hostage Negotiation Tactics For...</td>\n      <td>{'int_id': 1, 'kind': 'interview', 'title': 'D...</td>\n      <td>9a660238-8779-4448-83f0-1b30bc0168d3</td>\n    </tr>\n    <tr>\n      <th>48</th>\n      <td>Now, what makes that counterintuitive? You're ...</td>\n      <td>1</td>\n      <td>interview</td>\n      <td>Derek Gaunt On Hostage Negotiation Tactics For...</td>\n      <td>{'int_id': 1, 'kind': 'interview', 'title': 'D...</td>\n      <td>9d4e63ac-d582-4d2b-9cf2-e4cd7f91f949</td>\n    </tr>\n    <tr>\n      <th>49</th>\n      <td>It is one of the most fearless and selfless ac...</td>\n      <td>1</td>\n      <td>interview</td>\n      <td>Derek Gaunt On Hostage Negotiation Tactics For...</td>\n      <td>{'int_id': 1, 'kind': 'interview', 'title': 'D...</td>\n      <td>a2f64e32-0096-4a57-a30a-7ea6508ad626</td>\n    </tr>\n  </tbody>\n</table>\n</div>"
     },
     "execution_count": 41,
     "metadata": {},
     "output_type": "execute_result"
    }
   ],
   "source": [
    "v1smalldf_corpus = pd.read_parquet('util/livev2small_shortened_dataset_autorag.parquet')\n",
    "v1smalldf_corpus.head(50)\n",
    "#doc_ids = [\"8d2e40fa-54c7-411d-94a6-ade8dc48c312\"]\n",
    "#filtered_df = v1smalldf_corpus[v1smalldf_corpus['doc_id'] == '8d2e40fa-54c7-411d-94a6-ade8dc48c312']\n",
    "#filtered_df.head()"
   ],
   "metadata": {
    "collapsed": false,
    "ExecuteTime": {
     "end_time": "2024-06-20T18:45:50.246753Z",
     "start_time": "2024-06-20T18:45:50.222740Z"
    }
   },
   "id": "9094beed959d6507",
   "execution_count": 41
  },
  {
   "cell_type": "code",
   "outputs": [],
   "source": [
    "id = '8d2e40fa-54c7-411d-94a6-ade8dc48c312'\n"
   ],
   "metadata": {
    "collapsed": false
   },
   "id": "9a2452f591baac25"
  },
  {
   "cell_type": "code",
   "outputs": [
    {
     "data": {
      "text/plain": "                                                input  \\\n0   Hi Chris, great to talk to you!\\nHi there! Gre...   \n1   Hi Chris\\nHello there! How can I assist you to...   \n2   Hi, I've been having a tough time dealing with...   \n3   Hi Chris, how are you?\\nI'm doing well, thanks...   \n4   Hi Chris, how are you?\\nI'm doing well, thank ...   \n5   Hey, so I've been thinking a lot about what yo...   \n6   Hey, I've been reading up on some behavioral e...   \n7   Hey, Derek. Good to see you again. Thanks for ...   \n8   Hey, I've been thinking a lot about tactical e...   \n9   Hey Chris.\\nHey there! What's on your mind?\\nJ...   \n10  Hi Chris, I recently read about the Gawker law...   \n11  Hey, Derek. Good to see you again. Thanks for ...   \n12  Hi Chris, can we talk about handling contentio...   \n13  Hi Chris, great to talk to you!\\nHi there! Gre...   \n14  Hey Chris. How's it going?\\nI'm doing well, th...   \n15  Hi Chris!\\nHello! If you could live anywhere i...   \n16  Hey Chris! I've always been curious, did you e...   \n17  Hi Chris, can you tell me about a particularly...   \n18  Hey, I'm really struggling to figure out how t...   \n19  Hi, I've been grappling with a professional ne...   \n20  Hi Chris, can we talk about handling contentio...   \n21  Hi Chris, I'd love to hear a story about a les...   \n22  Hi Chris, can you share a bit about your early...   \n23  I just can't take this anymore. This project i...   \n24  Hi Chris, can you tell me a story about a time...   \n\n                                             contents  \\\n0   [Hi, I'm Chris. I'm here to talk to you about ...   \n1   [It provided me the opportunity to travel arou...   \n2   [So that she can propose back a better deal fo...   \n3   [Enjoy the show. Hi, Chris. Welcome to Young a...   \n4   [You know, how they respond to that question. ...   \n5   [That's good. That goes right to that fear of ...   \n6   [But then in 2002, Daniel Kahneman won the Nob...   \n7   [So it sounds like if you can go back to your ...   \n8   [going into that a little bit more what tactic...   \n9   [What was traffic like? What'd you have for br...   \n10  [So we thought that would be a really cool opp...   \n11  [Good to see you again. Thanks for taking the ...   \n12  [Yeah. And everybody that I know that was Jewi...   \n13  [First question that really comes to mind, Chr...   \n14  [Very powerful message. Chris, my last questio...   \n15  [Chris, my final question for you. This is my ...   \n16  [It's much worse than if you just got shot wit...   \n17  [It just means you win more than anybody else ...   \n18  [What impact is it going to have on you? What ...   \n19  [I'm sorry it's taking so long to get you a de...   \n20  [Gotcha. Gotcha. Now, Chris, what about dealin...   \n21  [Well, Chris, we're heading towards the end of...   \n22  [Chris, would you mind sharing a little bit ab...   \n23  [Two of the techniques that we've covered alre...   \n24  [When I negotiated the Chase Manhattan Bank ro...   \n\n                                             metadata  \n0   [{'int_id': 42, 'kind': 'interview', 'title': ...  \n1   [{'int_id': 30, 'kind': 'interview', 'title': ...  \n2   [{'int_id': 172, 'kind': 'lesson', 'title': 'P...  \n3   [{'int_id': 48, 'kind': 'interview', 'title': ...  \n4   [{'int_id': 23, 'kind': 'interview', 'title': ...  \n5   [{'int_id': 128, 'kind': 'interview', 'title':...  \n6   [{'int_id': 4, 'kind': 'interview', 'title': '...  \n7   [{'int_id': 169, 'kind': 'lesson', 'title': 'F...  \n8   [{'int_id': 30, 'kind': 'interview', 'title': ...  \n9   [{'int_id': 91, 'kind': 'interview', 'title': ...  \n10  [{'int_id': 23, 'kind': 'interview', 'title': ...  \n11  [{'int_id': 169, 'kind': 'lesson', 'title': 'F...  \n12  [{'int_id': 38, 'kind': 'interview', 'title': ...  \n13  [{'int_id': 22, 'kind': 'interview', 'title': ...  \n14  [{'int_id': 53, 'kind': 'interview', 'title': ...  \n15  [{'int_id': 13, 'kind': 'interview', 'title': ...  \n16  [{'int_id': 6, 'kind': 'interview', 'title': '...  \n17  [{'int_id': 8, 'kind': 'interview', 'title': '...  \n18  [{'int_id': 61, 'kind': 'interview', 'title': ...  \n19  [{'int_id': 184, 'kind': 'lesson', 'title': 'I...  \n20  [{'int_id': 38, 'kind': 'interview', 'title': ...  \n21  [{'int_id': 16, 'kind': 'interview', 'title': ...  \n22  [{'int_id': 16, 'kind': 'interview', 'title': ...  \n23  [{'int_id': 147, 'kind': 'lesson', 'title': 'B...  \n24  [{'int_id': 89, 'kind': 'interview', 'title': ...  ",
      "text/html": "<div>\n<style scoped>\n    .dataframe tbody tr th:only-of-type {\n        vertical-align: middle;\n    }\n\n    .dataframe tbody tr th {\n        vertical-align: top;\n    }\n\n    .dataframe thead th {\n        text-align: right;\n    }\n</style>\n<table border=\"1\" class=\"dataframe\">\n  <thead>\n    <tr style=\"text-align: right;\">\n      <th></th>\n      <th>input</th>\n      <th>contents</th>\n      <th>metadata</th>\n    </tr>\n  </thead>\n  <tbody>\n    <tr>\n      <th>0</th>\n      <td>Hi Chris, great to talk to you!\\nHi there! Gre...</td>\n      <td>[Hi, I'm Chris. I'm here to talk to you about ...</td>\n      <td>[{'int_id': 42, 'kind': 'interview', 'title': ...</td>\n    </tr>\n    <tr>\n      <th>1</th>\n      <td>Hi Chris\\nHello there! How can I assist you to...</td>\n      <td>[It provided me the opportunity to travel arou...</td>\n      <td>[{'int_id': 30, 'kind': 'interview', 'title': ...</td>\n    </tr>\n    <tr>\n      <th>2</th>\n      <td>Hi, I've been having a tough time dealing with...</td>\n      <td>[So that she can propose back a better deal fo...</td>\n      <td>[{'int_id': 172, 'kind': 'lesson', 'title': 'P...</td>\n    </tr>\n    <tr>\n      <th>3</th>\n      <td>Hi Chris, how are you?\\nI'm doing well, thanks...</td>\n      <td>[Enjoy the show. Hi, Chris. Welcome to Young a...</td>\n      <td>[{'int_id': 48, 'kind': 'interview', 'title': ...</td>\n    </tr>\n    <tr>\n      <th>4</th>\n      <td>Hi Chris, how are you?\\nI'm doing well, thank ...</td>\n      <td>[You know, how they respond to that question. ...</td>\n      <td>[{'int_id': 23, 'kind': 'interview', 'title': ...</td>\n    </tr>\n    <tr>\n      <th>5</th>\n      <td>Hey, so I've been thinking a lot about what yo...</td>\n      <td>[That's good. That goes right to that fear of ...</td>\n      <td>[{'int_id': 128, 'kind': 'interview', 'title':...</td>\n    </tr>\n    <tr>\n      <th>6</th>\n      <td>Hey, I've been reading up on some behavioral e...</td>\n      <td>[But then in 2002, Daniel Kahneman won the Nob...</td>\n      <td>[{'int_id': 4, 'kind': 'interview', 'title': '...</td>\n    </tr>\n    <tr>\n      <th>7</th>\n      <td>Hey, Derek. Good to see you again. Thanks for ...</td>\n      <td>[So it sounds like if you can go back to your ...</td>\n      <td>[{'int_id': 169, 'kind': 'lesson', 'title': 'F...</td>\n    </tr>\n    <tr>\n      <th>8</th>\n      <td>Hey, I've been thinking a lot about tactical e...</td>\n      <td>[going into that a little bit more what tactic...</td>\n      <td>[{'int_id': 30, 'kind': 'interview', 'title': ...</td>\n    </tr>\n    <tr>\n      <th>9</th>\n      <td>Hey Chris.\\nHey there! What's on your mind?\\nJ...</td>\n      <td>[What was traffic like? What'd you have for br...</td>\n      <td>[{'int_id': 91, 'kind': 'interview', 'title': ...</td>\n    </tr>\n    <tr>\n      <th>10</th>\n      <td>Hi Chris, I recently read about the Gawker law...</td>\n      <td>[So we thought that would be a really cool opp...</td>\n      <td>[{'int_id': 23, 'kind': 'interview', 'title': ...</td>\n    </tr>\n    <tr>\n      <th>11</th>\n      <td>Hey, Derek. Good to see you again. Thanks for ...</td>\n      <td>[Good to see you again. Thanks for taking the ...</td>\n      <td>[{'int_id': 169, 'kind': 'lesson', 'title': 'F...</td>\n    </tr>\n    <tr>\n      <th>12</th>\n      <td>Hi Chris, can we talk about handling contentio...</td>\n      <td>[Yeah. And everybody that I know that was Jewi...</td>\n      <td>[{'int_id': 38, 'kind': 'interview', 'title': ...</td>\n    </tr>\n    <tr>\n      <th>13</th>\n      <td>Hi Chris, great to talk to you!\\nHi there! Gre...</td>\n      <td>[First question that really comes to mind, Chr...</td>\n      <td>[{'int_id': 22, 'kind': 'interview', 'title': ...</td>\n    </tr>\n    <tr>\n      <th>14</th>\n      <td>Hey Chris. How's it going?\\nI'm doing well, th...</td>\n      <td>[Very powerful message. Chris, my last questio...</td>\n      <td>[{'int_id': 53, 'kind': 'interview', 'title': ...</td>\n    </tr>\n    <tr>\n      <th>15</th>\n      <td>Hi Chris!\\nHello! If you could live anywhere i...</td>\n      <td>[Chris, my final question for you. This is my ...</td>\n      <td>[{'int_id': 13, 'kind': 'interview', 'title': ...</td>\n    </tr>\n    <tr>\n      <th>16</th>\n      <td>Hey Chris! I've always been curious, did you e...</td>\n      <td>[It's much worse than if you just got shot wit...</td>\n      <td>[{'int_id': 6, 'kind': 'interview', 'title': '...</td>\n    </tr>\n    <tr>\n      <th>17</th>\n      <td>Hi Chris, can you tell me about a particularly...</td>\n      <td>[It just means you win more than anybody else ...</td>\n      <td>[{'int_id': 8, 'kind': 'interview', 'title': '...</td>\n    </tr>\n    <tr>\n      <th>18</th>\n      <td>Hey, I'm really struggling to figure out how t...</td>\n      <td>[What impact is it going to have on you? What ...</td>\n      <td>[{'int_id': 61, 'kind': 'interview', 'title': ...</td>\n    </tr>\n    <tr>\n      <th>19</th>\n      <td>Hi, I've been grappling with a professional ne...</td>\n      <td>[I'm sorry it's taking so long to get you a de...</td>\n      <td>[{'int_id': 184, 'kind': 'lesson', 'title': 'I...</td>\n    </tr>\n    <tr>\n      <th>20</th>\n      <td>Hi Chris, can we talk about handling contentio...</td>\n      <td>[Gotcha. Gotcha. Now, Chris, what about dealin...</td>\n      <td>[{'int_id': 38, 'kind': 'interview', 'title': ...</td>\n    </tr>\n    <tr>\n      <th>21</th>\n      <td>Hi Chris, I'd love to hear a story about a les...</td>\n      <td>[Well, Chris, we're heading towards the end of...</td>\n      <td>[{'int_id': 16, 'kind': 'interview', 'title': ...</td>\n    </tr>\n    <tr>\n      <th>22</th>\n      <td>Hi Chris, can you share a bit about your early...</td>\n      <td>[Chris, would you mind sharing a little bit ab...</td>\n      <td>[{'int_id': 16, 'kind': 'interview', 'title': ...</td>\n    </tr>\n    <tr>\n      <th>23</th>\n      <td>I just can't take this anymore. This project i...</td>\n      <td>[Two of the techniques that we've covered alre...</td>\n      <td>[{'int_id': 147, 'kind': 'lesson', 'title': 'B...</td>\n    </tr>\n    <tr>\n      <th>24</th>\n      <td>Hi Chris, can you tell me a story about a time...</td>\n      <td>[When I negotiated the Chase Manhattan Bank ro...</td>\n      <td>[{'int_id': 89, 'kind': 'interview', 'title': ...</td>\n    </tr>\n  </tbody>\n</table>\n</div>"
     },
     "execution_count": 2,
     "metadata": {},
     "output_type": "execute_result"
    }
   ],
   "source": [
    "import pandas as pd\n",
    "v1smalldf_qa = pd.read_parquet('eval/livev2_rag-test-conversations.parquet')\n",
    "v1smalldf_qa.head(50)"
   ],
   "metadata": {
    "collapsed": false,
    "ExecuteTime": {
     "end_time": "2024-06-21T00:52:02.307094Z",
     "start_time": "2024-06-21T00:52:02.048908Z"
    }
   },
   "id": "d89c5a290557b2eb",
   "execution_count": 2
  },
  {
   "cell_type": "code",
   "outputs": [
    {
     "data": {
      "text/plain": "                                             question  \\\n0   What is the importance of client assessment in...   \n1   Why is ridicule considered a powerful factor i...   \n2   What is the difference between listening and h...   \n3   What are some effective communication techniqu...   \n4   What strategies do full fee real estate agents...   \n5   What does it mean to listen as a team during a...   \n6    What is the Black Swan Group and who founded it?   \n7   What was Chris Voss's role in handling interna...   \n8   What is the benefit of using calibrated questi...   \n9   What are some signs that indicate a problem wi...   \n10  How does mirroring demonstrate that you are li...   \n11  How do hubris and risk-taking manifest in indi...   \n12  Why is empathic listening considered to be so ...   \n13  How did the experience of working on a suicide...   \n14  How can a longer lease term potentially benefi...   \n15  How can reacting to an accusatory tone of voic...   \n16  How does tactical empathy influence the outcom...   \n17  How are negotiation skills applied in both hos...   \n18  Would you recommend writing down a script ahea...   \n19  How can calling out negative emotions help whe...   \n20  What is the main concept behind the book \"Neve...   \n21  What challenges are faced when running an inte...   \n22  How does proactive listening differ from passi...   \n23              What trait helps salespeople succeed?   \n24          Why did Kahneman win the 2002 Econ Nobel?   \n25        Why does 'No' give control in negotiations?   \n26  How can predictable communication ease emotion...   \n27  How does knowing a customer's frustration with...   \n28            How can women lower their voice octave?   \n29      How does labeling emotions calm the amygdala?   \n30  How does the amygdala affect coping with bad n...   \n31   How does autopilot help with cognitive overload?   \n32  How does tactical empathy gain from letting ot...   \n33  How does knowing negotiator types help in toug...   \n34  How do tone and labeling affect question recep...   \n35  How does labeling emotions affect amygdala act...   \n\n                                             contexts  \\\n0   [\" the ability to utilize the skeleton of that...   \n1   [\" want to have happen, they're the things the...   \n2   [\", among negotiation. What you just said is a...   \n3   [': That’s good, Farley. Now you’re learning. ...   \n4   [\"? Like if you bring two people together and ...   \n5   [\" no. Right. I know from my experience that w...   \n6   [\" different things that happened to me that k...   \n7   [\": 108\\ncontent: Kidnappings and missing peop...   \n8   [\" trying, eventually they'll respond to that ...   \n9   [\" I threw out a price and you're staring ther...   \n10  [\"brace it.\\nTakeaways\\nLearning the skills of...   \n11  [' \\nCasey was dumbfounded. \\nRiordan was sati...   \n12  [\" to shut your mouth so I can jump into the c...   \n13  [\" did you ever cross paths with the fbi i mea...   \n14  [\"'s going to end. OK. Parking for our employe...   \n15  [': 165\\ncontent: I\\'m sure you\\'ve been in th...   \n16  [\" that happens in business negotiations far m...   \n17  [\" that's their choice. It's, you know, we, we...   \n18  [\" powerful weapon. Wow. Yeah, that's huge. No...   \n19  [' how to deliver bad news \\nand confront nega...   \n20  [\" our business. And then a month ago, I got t...   \n21  [\" insulting. And so I started in a funny kind...   \n22  [\". And you're going to buy in. And that polit...   \n23  [\" thing. You know, it's fun to help people ta...   \n24  [' valuable information. A win-win.\\nLaw #3: L...   \n25  [' nice and to respect  people’s feelings \\nat...   \n26  [\" real estate agent? Well, let's change the w...   \n27  [\" Now, you know... Got it. You guys know what...   \n28  [\" the child down. The question I get the most...   \n29  [\" the hotline might make. So write down what ...   \n30  [' accusations on it until the person they\\'re...   \n31  ['swanltd.com.20\\nTHE FULL FEE AGENTcounterint...   \n32  [\" so those are the two main things. I mean, a...   \n33  [' reactive biases. While our negative biases ...   \n34  [\", you're going to throw a little bit of empa...   \n35  [': 133\\ncontent: The amygdala is this little ...   \n\n                                         ground_truth evolution_type  \\\n0   The importance of client assessment in buildin...         simple   \n1   Ridicule is considered a powerful factor in pu...         simple   \n2   Listening is not just being silent; it involve...         simple   \n3   Some effective communication techniques for sa...         simple   \n4   Full fee real estate agents use strategies suc...         simple   \n5   Listening as a team during a negotiation or ho...         simple   \n6   The Black Swan Group is an organization founde...         simple   \n7   Chris Voss was dedicated to handling internati...         simple   \n8   The benefit of using calibrated questions in c...         simple   \n9   Some signs that indicate a problem with the pr...         simple   \n10  Mirroring demonstrates that you are listening ...         simple   \n11  Hubris and risk-taking manifest in individuals...         simple   \n12  Empathic listening is considered to be energy-...         simple   \n13  The experience of working on a suicide hotline...         simple   \n14  A longer lease term can potentially benefit bo...         simple   \n15  Reacting to an accusatory tone of voice can tr...         simple   \n16  Tactical empathy influences the outcome of neg...         simple   \n17  Negotiation skills are applied in both hostage...         simple   \n18  Yes, I think it's a great way to get yourself ...         simple   \n19  Calling out negative emotions can help when de...         simple   \n20  The main concept behind the book 'Never Split ...         simple   \n21  When running an international kidnap response,...         simple   \n22  Proactive listening differs from passive liste...         simple   \n23  A trait that helps salespeople succeed is havi...      reasoning   \n24  Kahneman won the 2002 Nobel Prize in Economics...      reasoning   \n25  Saying 'No' gives the speaker the feeling of s...      reasoning   \n26  Predictable communication can ease emotions in...      reasoning   \n27  Knowing a customer's frustration with service ...      reasoning   \n28  Women can lower their voice octave by relaxing...      reasoning   \n29  Labeling emotions calms the amygdala by dimini...      reasoning   \n30  The amygdala, part of the limbic system, has a...      reasoning   \n31  Autopilot helps with cognitive overload by all...      reasoning   \n32  Tactical empathy gains from letting others spe...      reasoning   \n33  Knowing negotiator types helps in tough talks ...      reasoning   \n34  Tone and labeling significantly affect questio...  multi_context   \n35  Labeling emotions in negative states decreases...  multi_context   \n\n                                             metadata  episode_done  \n0   [{'int_id': '92', 'kind': 'interview', 'row': ...          True  \n1   [{'int_id': '127', 'kind': 'interview', 'row':...          True  \n2   [{'int_id': '107', 'kind': 'interview', 'row':...          True  \n3   [{'int_id': '231', 'kind': 'book', 'row': 230,...          True  \n4   [{'int_id': '84', 'kind': 'interview', 'row': ...          True  \n5   [{'int_id': '19', 'kind': 'interview', 'row': ...          True  \n6   [{'int_id': '117', 'kind': 'interview', 'row':...          True  \n7   [{'int_id': '109', 'kind': 'interview', 'row':...          True  \n8   [{'int_id': '118', 'kind': 'interview', 'row':...          True  \n9   [{'int_id': '17', 'kind': 'interview', 'row': ...          True  \n10  [{'int_id': '228', 'kind': 'book', 'row': 227,...          True  \n11  [{'int_id': '226', 'kind': 'book', 'row': 225,...          True  \n12  [{'int_id': '17', 'kind': 'interview', 'row': ...          True  \n13  [{'int_id': '5', 'kind': 'interview', 'row': 4...          True  \n14  [{'int_id': '169', 'kind': 'lesson', 'row': 16...          True  \n15  [{'int_id': '166', 'kind': 'lesson', 'row': 16...          True  \n16  [{'int_id': '54', 'kind': 'interview', 'row': ...          True  \n17  [{'int_id': '117', 'kind': 'interview', 'row':...          True  \n18  [{'int_id': '20', 'kind': 'interview', 'row': ...          True  \n19  [{'int_id': '243', 'kind': 'book', 'row': 242,...          True  \n20  [{'int_id': '24', 'kind': 'interview', 'row': ...          True  \n21  [{'int_id': '88', 'kind': 'interview', 'row': ...          True  \n22  [{'int_id': '113', 'kind': 'interview', 'row':...          True  \n23  [{'int_id': '68', 'kind': 'interview', 'row': ...          True  \n24  [{'int_id': '239', 'kind': 'book', 'row': 238,...          True  \n25  [{'int_id': '211', 'kind': 'book', 'row': 210,...          True  \n26  [{'int_id': '83', 'kind': 'interview', 'row': ...          True  \n27  [{'int_id': '30', 'kind': 'interview', 'row': ...          True  \n28  [{'int_id': '187', 'kind': 'lesson', 'row': 18...          True  \n29  [{'int_id': '88', 'kind': 'interview', 'row': ...          True  \n30  [{'int_id': '185', 'kind': 'lesson', 'row': 18...          True  \n31  [{'int_id': '240', 'kind': 'book', 'row': 239,...          True  \n32  [{'int_id': '39', 'kind': 'interview', 'row': ...          True  \n33  [{'int_id': '230', 'kind': 'book', 'row': 229,...          True  \n34  [{'int_id': '199', 'kind': 'lesson', 'row': 19...          True  \n35  [{'int_id': '134', 'kind': 'lesson', 'row': 13...          True  ",
      "text/html": "<div>\n<style scoped>\n    .dataframe tbody tr th:only-of-type {\n        vertical-align: middle;\n    }\n\n    .dataframe tbody tr th {\n        vertical-align: top;\n    }\n\n    .dataframe thead th {\n        text-align: right;\n    }\n</style>\n<table border=\"1\" class=\"dataframe\">\n  <thead>\n    <tr style=\"text-align: right;\">\n      <th></th>\n      <th>question</th>\n      <th>contexts</th>\n      <th>ground_truth</th>\n      <th>evolution_type</th>\n      <th>metadata</th>\n      <th>episode_done</th>\n    </tr>\n  </thead>\n  <tbody>\n    <tr>\n      <th>0</th>\n      <td>What is the importance of client assessment in...</td>\n      <td>[\" the ability to utilize the skeleton of that...</td>\n      <td>The importance of client assessment in buildin...</td>\n      <td>simple</td>\n      <td>[{'int_id': '92', 'kind': 'interview', 'row': ...</td>\n      <td>True</td>\n    </tr>\n    <tr>\n      <th>1</th>\n      <td>Why is ridicule considered a powerful factor i...</td>\n      <td>[\" want to have happen, they're the things the...</td>\n      <td>Ridicule is considered a powerful factor in pu...</td>\n      <td>simple</td>\n      <td>[{'int_id': '127', 'kind': 'interview', 'row':...</td>\n      <td>True</td>\n    </tr>\n    <tr>\n      <th>2</th>\n      <td>What is the difference between listening and h...</td>\n      <td>[\", among negotiation. What you just said is a...</td>\n      <td>Listening is not just being silent; it involve...</td>\n      <td>simple</td>\n      <td>[{'int_id': '107', 'kind': 'interview', 'row':...</td>\n      <td>True</td>\n    </tr>\n    <tr>\n      <th>3</th>\n      <td>What are some effective communication techniqu...</td>\n      <td>[': That’s good, Farley. Now you’re learning. ...</td>\n      <td>Some effective communication techniques for sa...</td>\n      <td>simple</td>\n      <td>[{'int_id': '231', 'kind': 'book', 'row': 230,...</td>\n      <td>True</td>\n    </tr>\n    <tr>\n      <th>4</th>\n      <td>What strategies do full fee real estate agents...</td>\n      <td>[\"? Like if you bring two people together and ...</td>\n      <td>Full fee real estate agents use strategies suc...</td>\n      <td>simple</td>\n      <td>[{'int_id': '84', 'kind': 'interview', 'row': ...</td>\n      <td>True</td>\n    </tr>\n    <tr>\n      <th>5</th>\n      <td>What does it mean to listen as a team during a...</td>\n      <td>[\" no. Right. I know from my experience that w...</td>\n      <td>Listening as a team during a negotiation or ho...</td>\n      <td>simple</td>\n      <td>[{'int_id': '19', 'kind': 'interview', 'row': ...</td>\n      <td>True</td>\n    </tr>\n    <tr>\n      <th>6</th>\n      <td>What is the Black Swan Group and who founded it?</td>\n      <td>[\" different things that happened to me that k...</td>\n      <td>The Black Swan Group is an organization founde...</td>\n      <td>simple</td>\n      <td>[{'int_id': '117', 'kind': 'interview', 'row':...</td>\n      <td>True</td>\n    </tr>\n    <tr>\n      <th>7</th>\n      <td>What was Chris Voss's role in handling interna...</td>\n      <td>[\": 108\\ncontent: Kidnappings and missing peop...</td>\n      <td>Chris Voss was dedicated to handling internati...</td>\n      <td>simple</td>\n      <td>[{'int_id': '109', 'kind': 'interview', 'row':...</td>\n      <td>True</td>\n    </tr>\n    <tr>\n      <th>8</th>\n      <td>What is the benefit of using calibrated questi...</td>\n      <td>[\" trying, eventually they'll respond to that ...</td>\n      <td>The benefit of using calibrated questions in c...</td>\n      <td>simple</td>\n      <td>[{'int_id': '118', 'kind': 'interview', 'row':...</td>\n      <td>True</td>\n    </tr>\n    <tr>\n      <th>9</th>\n      <td>What are some signs that indicate a problem wi...</td>\n      <td>[\" I threw out a price and you're staring ther...</td>\n      <td>Some signs that indicate a problem with the pr...</td>\n      <td>simple</td>\n      <td>[{'int_id': '17', 'kind': 'interview', 'row': ...</td>\n      <td>True</td>\n    </tr>\n    <tr>\n      <th>10</th>\n      <td>How does mirroring demonstrate that you are li...</td>\n      <td>[\"brace it.\\nTakeaways\\nLearning the skills of...</td>\n      <td>Mirroring demonstrates that you are listening ...</td>\n      <td>simple</td>\n      <td>[{'int_id': '228', 'kind': 'book', 'row': 227,...</td>\n      <td>True</td>\n    </tr>\n    <tr>\n      <th>11</th>\n      <td>How do hubris and risk-taking manifest in indi...</td>\n      <td>[' \\nCasey was dumbfounded. \\nRiordan was sati...</td>\n      <td>Hubris and risk-taking manifest in individuals...</td>\n      <td>simple</td>\n      <td>[{'int_id': '226', 'kind': 'book', 'row': 225,...</td>\n      <td>True</td>\n    </tr>\n    <tr>\n      <th>12</th>\n      <td>Why is empathic listening considered to be so ...</td>\n      <td>[\" to shut your mouth so I can jump into the c...</td>\n      <td>Empathic listening is considered to be energy-...</td>\n      <td>simple</td>\n      <td>[{'int_id': '17', 'kind': 'interview', 'row': ...</td>\n      <td>True</td>\n    </tr>\n    <tr>\n      <th>13</th>\n      <td>How did the experience of working on a suicide...</td>\n      <td>[\" did you ever cross paths with the fbi i mea...</td>\n      <td>The experience of working on a suicide hotline...</td>\n      <td>simple</td>\n      <td>[{'int_id': '5', 'kind': 'interview', 'row': 4...</td>\n      <td>True</td>\n    </tr>\n    <tr>\n      <th>14</th>\n      <td>How can a longer lease term potentially benefi...</td>\n      <td>[\"'s going to end. OK. Parking for our employe...</td>\n      <td>A longer lease term can potentially benefit bo...</td>\n      <td>simple</td>\n      <td>[{'int_id': '169', 'kind': 'lesson', 'row': 16...</td>\n      <td>True</td>\n    </tr>\n    <tr>\n      <th>15</th>\n      <td>How can reacting to an accusatory tone of voic...</td>\n      <td>[': 165\\ncontent: I\\'m sure you\\'ve been in th...</td>\n      <td>Reacting to an accusatory tone of voice can tr...</td>\n      <td>simple</td>\n      <td>[{'int_id': '166', 'kind': 'lesson', 'row': 16...</td>\n      <td>True</td>\n    </tr>\n    <tr>\n      <th>16</th>\n      <td>How does tactical empathy influence the outcom...</td>\n      <td>[\" that happens in business negotiations far m...</td>\n      <td>Tactical empathy influences the outcome of neg...</td>\n      <td>simple</td>\n      <td>[{'int_id': '54', 'kind': 'interview', 'row': ...</td>\n      <td>True</td>\n    </tr>\n    <tr>\n      <th>17</th>\n      <td>How are negotiation skills applied in both hos...</td>\n      <td>[\" that's their choice. It's, you know, we, we...</td>\n      <td>Negotiation skills are applied in both hostage...</td>\n      <td>simple</td>\n      <td>[{'int_id': '117', 'kind': 'interview', 'row':...</td>\n      <td>True</td>\n    </tr>\n    <tr>\n      <th>18</th>\n      <td>Would you recommend writing down a script ahea...</td>\n      <td>[\" powerful weapon. Wow. Yeah, that's huge. No...</td>\n      <td>Yes, I think it's a great way to get yourself ...</td>\n      <td>simple</td>\n      <td>[{'int_id': '20', 'kind': 'interview', 'row': ...</td>\n      <td>True</td>\n    </tr>\n    <tr>\n      <th>19</th>\n      <td>How can calling out negative emotions help whe...</td>\n      <td>[' how to deliver bad news \\nand confront nega...</td>\n      <td>Calling out negative emotions can help when de...</td>\n      <td>simple</td>\n      <td>[{'int_id': '243', 'kind': 'book', 'row': 242,...</td>\n      <td>True</td>\n    </tr>\n    <tr>\n      <th>20</th>\n      <td>What is the main concept behind the book \"Neve...</td>\n      <td>[\" our business. And then a month ago, I got t...</td>\n      <td>The main concept behind the book 'Never Split ...</td>\n      <td>simple</td>\n      <td>[{'int_id': '24', 'kind': 'interview', 'row': ...</td>\n      <td>True</td>\n    </tr>\n    <tr>\n      <th>21</th>\n      <td>What challenges are faced when running an inte...</td>\n      <td>[\" insulting. And so I started in a funny kind...</td>\n      <td>When running an international kidnap response,...</td>\n      <td>simple</td>\n      <td>[{'int_id': '88', 'kind': 'interview', 'row': ...</td>\n      <td>True</td>\n    </tr>\n    <tr>\n      <th>22</th>\n      <td>How does proactive listening differ from passi...</td>\n      <td>[\". And you're going to buy in. And that polit...</td>\n      <td>Proactive listening differs from passive liste...</td>\n      <td>simple</td>\n      <td>[{'int_id': '113', 'kind': 'interview', 'row':...</td>\n      <td>True</td>\n    </tr>\n    <tr>\n      <th>23</th>\n      <td>What trait helps salespeople succeed?</td>\n      <td>[\" thing. You know, it's fun to help people ta...</td>\n      <td>A trait that helps salespeople succeed is havi...</td>\n      <td>reasoning</td>\n      <td>[{'int_id': '68', 'kind': 'interview', 'row': ...</td>\n      <td>True</td>\n    </tr>\n    <tr>\n      <th>24</th>\n      <td>Why did Kahneman win the 2002 Econ Nobel?</td>\n      <td>[' valuable information. A win-win.\\nLaw #3: L...</td>\n      <td>Kahneman won the 2002 Nobel Prize in Economics...</td>\n      <td>reasoning</td>\n      <td>[{'int_id': '239', 'kind': 'book', 'row': 238,...</td>\n      <td>True</td>\n    </tr>\n    <tr>\n      <th>25</th>\n      <td>Why does 'No' give control in negotiations?</td>\n      <td>[' nice and to respect  people’s feelings \\nat...</td>\n      <td>Saying 'No' gives the speaker the feeling of s...</td>\n      <td>reasoning</td>\n      <td>[{'int_id': '211', 'kind': 'book', 'row': 210,...</td>\n      <td>True</td>\n    </tr>\n    <tr>\n      <th>26</th>\n      <td>How can predictable communication ease emotion...</td>\n      <td>[\" real estate agent? Well, let's change the w...</td>\n      <td>Predictable communication can ease emotions in...</td>\n      <td>reasoning</td>\n      <td>[{'int_id': '83', 'kind': 'interview', 'row': ...</td>\n      <td>True</td>\n    </tr>\n    <tr>\n      <th>27</th>\n      <td>How does knowing a customer's frustration with...</td>\n      <td>[\" Now, you know... Got it. You guys know what...</td>\n      <td>Knowing a customer's frustration with service ...</td>\n      <td>reasoning</td>\n      <td>[{'int_id': '30', 'kind': 'interview', 'row': ...</td>\n      <td>True</td>\n    </tr>\n    <tr>\n      <th>28</th>\n      <td>How can women lower their voice octave?</td>\n      <td>[\" the child down. The question I get the most...</td>\n      <td>Women can lower their voice octave by relaxing...</td>\n      <td>reasoning</td>\n      <td>[{'int_id': '187', 'kind': 'lesson', 'row': 18...</td>\n      <td>True</td>\n    </tr>\n    <tr>\n      <th>29</th>\n      <td>How does labeling emotions calm the amygdala?</td>\n      <td>[\" the hotline might make. So write down what ...</td>\n      <td>Labeling emotions calms the amygdala by dimini...</td>\n      <td>reasoning</td>\n      <td>[{'int_id': '88', 'kind': 'interview', 'row': ...</td>\n      <td>True</td>\n    </tr>\n    <tr>\n      <th>30</th>\n      <td>How does the amygdala affect coping with bad n...</td>\n      <td>[' accusations on it until the person they\\'re...</td>\n      <td>The amygdala, part of the limbic system, has a...</td>\n      <td>reasoning</td>\n      <td>[{'int_id': '185', 'kind': 'lesson', 'row': 18...</td>\n      <td>True</td>\n    </tr>\n    <tr>\n      <th>31</th>\n      <td>How does autopilot help with cognitive overload?</td>\n      <td>['swanltd.com.20\\nTHE FULL FEE AGENTcounterint...</td>\n      <td>Autopilot helps with cognitive overload by all...</td>\n      <td>reasoning</td>\n      <td>[{'int_id': '240', 'kind': 'book', 'row': 239,...</td>\n      <td>True</td>\n    </tr>\n    <tr>\n      <th>32</th>\n      <td>How does tactical empathy gain from letting ot...</td>\n      <td>[\" so those are the two main things. I mean, a...</td>\n      <td>Tactical empathy gains from letting others spe...</td>\n      <td>reasoning</td>\n      <td>[{'int_id': '39', 'kind': 'interview', 'row': ...</td>\n      <td>True</td>\n    </tr>\n    <tr>\n      <th>33</th>\n      <td>How does knowing negotiator types help in toug...</td>\n      <td>[' reactive biases. While our negative biases ...</td>\n      <td>Knowing negotiator types helps in tough talks ...</td>\n      <td>reasoning</td>\n      <td>[{'int_id': '230', 'kind': 'book', 'row': 229,...</td>\n      <td>True</td>\n    </tr>\n    <tr>\n      <th>34</th>\n      <td>How do tone and labeling affect question recep...</td>\n      <td>[\", you're going to throw a little bit of empa...</td>\n      <td>Tone and labeling significantly affect questio...</td>\n      <td>multi_context</td>\n      <td>[{'int_id': '199', 'kind': 'lesson', 'row': 19...</td>\n      <td>True</td>\n    </tr>\n    <tr>\n      <th>35</th>\n      <td>How does labeling emotions affect amygdala act...</td>\n      <td>[': 133\\ncontent: The amygdala is this little ...</td>\n      <td>Labeling emotions in negative states decreases...</td>\n      <td>multi_context</td>\n      <td>[{'int_id': '134', 'kind': 'lesson', 'row': 13...</td>\n      <td>True</td>\n    </tr>\n  </tbody>\n</table>\n</div>"
     },
     "execution_count": 44,
     "metadata": {},
     "output_type": "execute_result"
    }
   ],
   "source": [
    "v0df_qa = pd.read_parquet('util/live_template_eval_.parquet')\n",
    "v0df_qa.head(50)"
   ],
   "metadata": {
    "collapsed": false,
    "ExecuteTime": {
     "end_time": "2024-06-20T19:11:42.218383Z",
     "start_time": "2024-06-20T19:11:42.194071Z"
    }
   },
   "id": "279d29bdabcef03c",
   "execution_count": 44
  },
  {
   "cell_type": "code",
   "outputs": [],
   "source": [],
   "metadata": {
    "collapsed": false
   },
   "id": "ddc80bdaaca51d1d"
  },
  {
   "cell_type": "markdown",
   "source": [
    "**Creating multi-context, filtered, corpus datasets**"
   ],
   "metadata": {
    "collapsed": false
   },
   "id": "c2739dfa417ed5e5"
  },
  {
   "cell_type": "code",
   "outputs": [
    {
     "name": "stdout",
     "output_type": "stream",
     "text": [
      "Child DataFrame 1:\n",
      "                                               contents  int_id       kind  \\\n",
      "664   Welcome to the Wealth Time Freedom Podcast, w...       4  interview   \n",
      "665  If you're looking for answers, looking for mot...       4  interview   \n",
      "666  Welcome to episode 56. This is Terry. I believ...       4  interview   \n",
      "667  And so those who do this well are going to be ...       4  interview   \n",
      "668  So in this episode, we're going to be learning...       4  interview   \n",
      "..                                                 ...     ...        ...   \n",
      "843  Yes. You get a long way with the book and our ...       4  interview   \n",
      "844  My pleasure, Terry. Thanks for having me on. H...       4  interview   \n",
      "845  If you are, and you'd love to show us your app...       4  interview   \n",
      "846  Now, these might feel like small gestures for ...       4  interview   \n",
      "847                            Many thanks in advance.       4  interview   \n",
      "\n",
      "                                                 title  \\\n",
      "664  #56 Chris Voss - How to earn what you_re worth...   \n",
      "665  #56 Chris Voss - How to earn what you_re worth...   \n",
      "666  #56 Chris Voss - How to earn what you_re worth...   \n",
      "667  #56 Chris Voss - How to earn what you_re worth...   \n",
      "668  #56 Chris Voss - How to earn what you_re worth...   \n",
      "..                                                 ...   \n",
      "843  #56 Chris Voss - How to earn what you_re worth...   \n",
      "844  #56 Chris Voss - How to earn what you_re worth...   \n",
      "845  #56 Chris Voss - How to earn what you_re worth...   \n",
      "846  #56 Chris Voss - How to earn what you_re worth...   \n",
      "847  #56 Chris Voss - How to earn what you_re worth...   \n",
      "\n",
      "                                              metadata  \\\n",
      "664  {'int_id': 4, 'kind': 'interview', 'title': '#...   \n",
      "665  {'int_id': 4, 'kind': 'interview', 'title': '#...   \n",
      "666  {'int_id': 4, 'kind': 'interview', 'title': '#...   \n",
      "667  {'int_id': 4, 'kind': 'interview', 'title': '#...   \n",
      "668  {'int_id': 4, 'kind': 'interview', 'title': '#...   \n",
      "..                                                 ...   \n",
      "843  {'int_id': 4, 'kind': 'interview', 'title': '#...   \n",
      "844  {'int_id': 4, 'kind': 'interview', 'title': '#...   \n",
      "845  {'int_id': 4, 'kind': 'interview', 'title': '#...   \n",
      "846  {'int_id': 4, 'kind': 'interview', 'title': '#...   \n",
      "847  {'int_id': 4, 'kind': 'interview', 'title': '#...   \n",
      "\n",
      "                                   doc_id  \n",
      "664  1a1bff43-94ff-4d12-a861-1161bead7fe2  \n",
      "665  67611320-413e-4032-950c-1d5ffab9937d  \n",
      "666  53bb47ee-b56a-405d-8f65-77a37c7f7f01  \n",
      "667  e7a81c18-f07e-4a69-b64a-a779ed33c13a  \n",
      "668  37a6913f-5409-4ffa-8c58-564e2a90fd42  \n",
      "..                                    ...  \n",
      "843  9e3f2498-0d45-478d-a846-cb014dda292c  \n",
      "844  25d75268-d6d0-41fc-9d56-708eeb8bfda8  \n",
      "845  fcffcf37-fdad-44c7-9128-7c4b5c3a8757  \n",
      "846  0c58faad-50fd-414a-a110-7e14c1561cd3  \n",
      "847  c57fda38-5ab2-45df-94a8-7f1a5bec0b54  \n",
      "\n",
      "[184 rows x 6 columns] \n",
      "\n",
      "Child DataFrame 2:\n",
      "                                                 contents  int_id       kind  \\\n",
      "14318   Two of the three remaining hostages were kill...      96  interview   \n",
      "14319  Best-selling co-author and the founder and pri...      96  interview   \n",
      "14320  If I take the time to really hear somebody out...      96  interview   \n",
      "14321  The closer you are to someone, sometimes it's ...      96  interview   \n",
      "14322  So without further ado I'm Stephen Bartlett an...      96  interview   \n",
      "...                                                  ...     ...        ...   \n",
      "14453     Oh. Good handwriting. So this is useful. Okay.      96  interview   \n",
      "14454  Okay. Is there someone in your life that reall...      96  interview   \n",
      "14455  I think we can all relate to that in some resp...      96  interview   \n",
      "14456  Thank you for writing such a great book on a t...      96  interview   \n",
      "14457       Thanks for having me on. Thanks, Chris. Bye.      96  interview   \n",
      "\n",
      "                                                   title  \\\n",
      "14318  FBI’s Top Hostage Negotiator - The Art Of Nego...   \n",
      "14319  FBI’s Top Hostage Negotiator - The Art Of Nego...   \n",
      "14320  FBI’s Top Hostage Negotiator - The Art Of Nego...   \n",
      "14321  FBI’s Top Hostage Negotiator - The Art Of Nego...   \n",
      "14322  FBI’s Top Hostage Negotiator - The Art Of Nego...   \n",
      "...                                                  ...   \n",
      "14453  FBI’s Top Hostage Negotiator - The Art Of Nego...   \n",
      "14454  FBI’s Top Hostage Negotiator - The Art Of Nego...   \n",
      "14455  FBI’s Top Hostage Negotiator - The Art Of Nego...   \n",
      "14456  FBI’s Top Hostage Negotiator - The Art Of Nego...   \n",
      "14457  FBI’s Top Hostage Negotiator - The Art Of Nego...   \n",
      "\n",
      "                                                metadata  \\\n",
      "14318  {'int_id': 96, 'kind': 'interview', 'title': '...   \n",
      "14319  {'int_id': 96, 'kind': 'interview', 'title': '...   \n",
      "14320  {'int_id': 96, 'kind': 'interview', 'title': '...   \n",
      "14321  {'int_id': 96, 'kind': 'interview', 'title': '...   \n",
      "14322  {'int_id': 96, 'kind': 'interview', 'title': '...   \n",
      "...                                                  ...   \n",
      "14453  {'int_id': 96, 'kind': 'interview', 'title': '...   \n",
      "14454  {'int_id': 96, 'kind': 'interview', 'title': '...   \n",
      "14455  {'int_id': 96, 'kind': 'interview', 'title': '...   \n",
      "14456  {'int_id': 96, 'kind': 'interview', 'title': '...   \n",
      "14457  {'int_id': 96, 'kind': 'interview', 'title': '...   \n",
      "\n",
      "                                     doc_id  \n",
      "14318  ed0430d3-16cd-43e4-93c7-c54d032c0f00  \n",
      "14319  9f966d90-897d-4101-aff0-dca0f72b5924  \n",
      "14320  c0271358-9f77-4c33-aabc-0fed4b1fa20c  \n",
      "14321  8faa403f-f4b1-4d2c-a336-f161eaafbc89  \n",
      "14322  32f6e931-1acd-4e43-970b-b99602478c26  \n",
      "...                                     ...  \n",
      "14453  50da30f1-0ebe-4ffe-99bb-efebf85e26a5  \n",
      "14454  82c62923-5fd8-4aa3-81ab-5b6c1d755e3c  \n",
      "14455  47306a44-7a70-402d-b0e5-fd9c6560d050  \n",
      "14456  d683a83b-154d-464e-a3cd-230dee6f1800  \n",
      "14457  91548dfa-1425-48c6-9a6d-37e513a33a27  \n",
      "\n",
      "[140 rows x 6 columns] \n",
      "\n",
      "Child DataFrame 3:\n",
      "                                                 contents  int_id  kind  \\\n",
      "23380  The Action Imperative\\nSummary\\nIt takes real ...     224  book   \n",
      "23381  Leaders who build trust are leaders who inspir...     224  book   \n",
      "23382  As you’ll see, this imperative can lead to dan...     224  book   \n",
      "23383  It’s a striking dichotomy. On one particularly...     224  book   \n",
      "23384  David expressed his intent to take the boy hom...     224  book   \n",
      "23385  Responding officers searched David’s car, left...     224  book   \n",
      "23386  Shortly thereafter, Sean called his grandmothe...     224  book   \n",
      "23387  As the sun came up, forward observers reported...     224  book   \n",
      "23388  Kelly called Sean’s godmother. He told her he ...     224  book   \n",
      "23389  This time we sent a negotiator to sit with her...     224  book   \n",
      "23390  It was time for them to get some rest. I stuck...     224  book   \n",
      "23391  It is difficult to describe, but you know how,...     224  book   \n",
      "23392  On my way to the command post (CP), I walked p...     224  book   \n",
      "23393  This was wrong on many levels. Why are we expo...     224  book   \n",
      "23394  In these conversations, David sounded as if he...     224  book   \n",
      "23395  The repeated pleadings with David to let his s...     224  book   \n",
      "23396  The team gave David the next best option and a...     224  book   \n",
      "23397  There’s no choice.” \\nA negotiator engaged Dav...     224  book   \n",
      "23398  They also noted that Sean was the center of Da...     224  book   \n",
      "23399  As I neared the CP, I could see my team superv...     224  book   \n",
      "23400  It seemed that the senior executives saw fit t...     224  book   \n",
      "23401  My team supervisor at the time was Amy (who Mi...     224  book   \n",
      "23402  She is a consummate professional who demonstra...     224  book   \n",
      "23403  Leaders like Amy challenge leaders who are bou...     224  book   \n",
      "23404  He rose when he saw me, walked past me, and sa...     224  book   \n",
      "23405  However, in this case, senior executives gave ...     224  book   \n",
      "23406  As observers of the IC, they directed him, pri...     224  book   \n",
      "23407  “We are moving [a third agency’s SWAT team] up...     224  book   \n",
      "23408  “What…changed?” I asked, pausing slightly betw...     224  book   \n",
      "23409  I could see it on his face. I could see it on ...     224  book   \n",
      "23410  They should not be directly involved in planni...     224  book   \n",
      "23411  That way you can validate yourself and your ra...     224  book   \n",
      "23412  While it was never spoken, the IC quietly cede...     224  book   \n",
      "23413  If they got the support, it validated them. On...     224  book   \n",
      "23414  The “action criteria” was developed by the CNU...     224  book   \n",
      "23415  Did we fully explore and attempt less-risky al...     224  book   \n",
      "23416  Under the pressure of this event, risks were i...     224  book   \n",
      "23417  Remember, the action imperative takes hold whe...     224  book   \n",
      "23418  But who was really in control? Think about it....     224  book   \n",
      "23419  He then came back to me and said, “Well, we go...     224  book   \n",
      "23420  His patience with me was starting to evaporate...     224  book   \n",
      "23421  In the course of five minutes, actions the IC ...     224  book   \n",
      "23422  He wanted to do something to show everyone he ...     224  book   \n",
      "23423  Perhaps more importantly, he wanted to show th...     224  book   \n",
      "23424  Nor did any come from SOT because they had alr...     224  book   \n",
      "23425  The plan called for one element of SOT operato...     224  book   \n",
      "23426  The operators assigned to subdue David were pr...     224  book   \n",
      "23427  He was carrying a handgun in his right hand. I...     224  book   \n",
      "23428  The sniper team radioed other members of the t...     224  book   \n",
      "23429  There was no intervening cover, and a magnolia...     224  book   \n",
      "23430  David turned toward the officers in the second...     224  book   \n",
      "23431  Facing the operators in the second group, he b...     224  book   \n",
      "23432  One round struck him in the jaw and exited the...     224  book   \n",
      "23433  But whatever occurred next, Kelly would not be...     224  book   \n",
      "23434  Officers rushed onto the porch and summoned me...     224  book   \n",
      "23435  Takeaways\\nEgo and authority produce emotions ...     224  book   \n",
      "23436  Why is the contemplated action risk-effective?...     224  book   \n",
      "23437  Hasty action for the sake of action usually en...     224  book   \n",
      "\n",
      "                                                   title  \\\n",
      "23380  Ego, Authority, Failure: Using Emotional Intel...   \n",
      "23381  Ego, Authority, Failure: Using Emotional Intel...   \n",
      "23382  Ego, Authority, Failure: Using Emotional Intel...   \n",
      "23383  Ego, Authority, Failure: Using Emotional Intel...   \n",
      "23384  Ego, Authority, Failure: Using Emotional Intel...   \n",
      "23385  Ego, Authority, Failure: Using Emotional Intel...   \n",
      "23386  Ego, Authority, Failure: Using Emotional Intel...   \n",
      "23387  Ego, Authority, Failure: Using Emotional Intel...   \n",
      "23388  Ego, Authority, Failure: Using Emotional Intel...   \n",
      "23389  Ego, Authority, Failure: Using Emotional Intel...   \n",
      "23390  Ego, Authority, Failure: Using Emotional Intel...   \n",
      "23391  Ego, Authority, Failure: Using Emotional Intel...   \n",
      "23392  Ego, Authority, Failure: Using Emotional Intel...   \n",
      "23393  Ego, Authority, Failure: Using Emotional Intel...   \n",
      "23394  Ego, Authority, Failure: Using Emotional Intel...   \n",
      "23395  Ego, Authority, Failure: Using Emotional Intel...   \n",
      "23396  Ego, Authority, Failure: Using Emotional Intel...   \n",
      "23397  Ego, Authority, Failure: Using Emotional Intel...   \n",
      "23398  Ego, Authority, Failure: Using Emotional Intel...   \n",
      "23399  Ego, Authority, Failure: Using Emotional Intel...   \n",
      "23400  Ego, Authority, Failure: Using Emotional Intel...   \n",
      "23401  Ego, Authority, Failure: Using Emotional Intel...   \n",
      "23402  Ego, Authority, Failure: Using Emotional Intel...   \n",
      "23403  Ego, Authority, Failure: Using Emotional Intel...   \n",
      "23404  Ego, Authority, Failure: Using Emotional Intel...   \n",
      "23405  Ego, Authority, Failure: Using Emotional Intel...   \n",
      "23406  Ego, Authority, Failure: Using Emotional Intel...   \n",
      "23407  Ego, Authority, Failure: Using Emotional Intel...   \n",
      "23408  Ego, Authority, Failure: Using Emotional Intel...   \n",
      "23409  Ego, Authority, Failure: Using Emotional Intel...   \n",
      "23410  Ego, Authority, Failure: Using Emotional Intel...   \n",
      "23411  Ego, Authority, Failure: Using Emotional Intel...   \n",
      "23412  Ego, Authority, Failure: Using Emotional Intel...   \n",
      "23413  Ego, Authority, Failure: Using Emotional Intel...   \n",
      "23414  Ego, Authority, Failure: Using Emotional Intel...   \n",
      "23415  Ego, Authority, Failure: Using Emotional Intel...   \n",
      "23416  Ego, Authority, Failure: Using Emotional Intel...   \n",
      "23417  Ego, Authority, Failure: Using Emotional Intel...   \n",
      "23418  Ego, Authority, Failure: Using Emotional Intel...   \n",
      "23419  Ego, Authority, Failure: Using Emotional Intel...   \n",
      "23420  Ego, Authority, Failure: Using Emotional Intel...   \n",
      "23421  Ego, Authority, Failure: Using Emotional Intel...   \n",
      "23422  Ego, Authority, Failure: Using Emotional Intel...   \n",
      "23423  Ego, Authority, Failure: Using Emotional Intel...   \n",
      "23424  Ego, Authority, Failure: Using Emotional Intel...   \n",
      "23425  Ego, Authority, Failure: Using Emotional Intel...   \n",
      "23426  Ego, Authority, Failure: Using Emotional Intel...   \n",
      "23427  Ego, Authority, Failure: Using Emotional Intel...   \n",
      "23428  Ego, Authority, Failure: Using Emotional Intel...   \n",
      "23429  Ego, Authority, Failure: Using Emotional Intel...   \n",
      "23430  Ego, Authority, Failure: Using Emotional Intel...   \n",
      "23431  Ego, Authority, Failure: Using Emotional Intel...   \n",
      "23432  Ego, Authority, Failure: Using Emotional Intel...   \n",
      "23433  Ego, Authority, Failure: Using Emotional Intel...   \n",
      "23434  Ego, Authority, Failure: Using Emotional Intel...   \n",
      "23435  Ego, Authority, Failure: Using Emotional Intel...   \n",
      "23436  Ego, Authority, Failure: Using Emotional Intel...   \n",
      "23437  Ego, Authority, Failure: Using Emotional Intel...   \n",
      "\n",
      "                                                metadata  \\\n",
      "23380  {'int_id': 224, 'kind': 'book', 'title': 'Ego,...   \n",
      "23381  {'int_id': 224, 'kind': 'book', 'title': 'Ego,...   \n",
      "23382  {'int_id': 224, 'kind': 'book', 'title': 'Ego,...   \n",
      "23383  {'int_id': 224, 'kind': 'book', 'title': 'Ego,...   \n",
      "23384  {'int_id': 224, 'kind': 'book', 'title': 'Ego,...   \n",
      "23385  {'int_id': 224, 'kind': 'book', 'title': 'Ego,...   \n",
      "23386  {'int_id': 224, 'kind': 'book', 'title': 'Ego,...   \n",
      "23387  {'int_id': 224, 'kind': 'book', 'title': 'Ego,...   \n",
      "23388  {'int_id': 224, 'kind': 'book', 'title': 'Ego,...   \n",
      "23389  {'int_id': 224, 'kind': 'book', 'title': 'Ego,...   \n",
      "23390  {'int_id': 224, 'kind': 'book', 'title': 'Ego,...   \n",
      "23391  {'int_id': 224, 'kind': 'book', 'title': 'Ego,...   \n",
      "23392  {'int_id': 224, 'kind': 'book', 'title': 'Ego,...   \n",
      "23393  {'int_id': 224, 'kind': 'book', 'title': 'Ego,...   \n",
      "23394  {'int_id': 224, 'kind': 'book', 'title': 'Ego,...   \n",
      "23395  {'int_id': 224, 'kind': 'book', 'title': 'Ego,...   \n",
      "23396  {'int_id': 224, 'kind': 'book', 'title': 'Ego,...   \n",
      "23397  {'int_id': 224, 'kind': 'book', 'title': 'Ego,...   \n",
      "23398  {'int_id': 224, 'kind': 'book', 'title': 'Ego,...   \n",
      "23399  {'int_id': 224, 'kind': 'book', 'title': 'Ego,...   \n",
      "23400  {'int_id': 224, 'kind': 'book', 'title': 'Ego,...   \n",
      "23401  {'int_id': 224, 'kind': 'book', 'title': 'Ego,...   \n",
      "23402  {'int_id': 224, 'kind': 'book', 'title': 'Ego,...   \n",
      "23403  {'int_id': 224, 'kind': 'book', 'title': 'Ego,...   \n",
      "23404  {'int_id': 224, 'kind': 'book', 'title': 'Ego,...   \n",
      "23405  {'int_id': 224, 'kind': 'book', 'title': 'Ego,...   \n",
      "23406  {'int_id': 224, 'kind': 'book', 'title': 'Ego,...   \n",
      "23407  {'int_id': 224, 'kind': 'book', 'title': 'Ego,...   \n",
      "23408  {'int_id': 224, 'kind': 'book', 'title': 'Ego,...   \n",
      "23409  {'int_id': 224, 'kind': 'book', 'title': 'Ego,...   \n",
      "23410  {'int_id': 224, 'kind': 'book', 'title': 'Ego,...   \n",
      "23411  {'int_id': 224, 'kind': 'book', 'title': 'Ego,...   \n",
      "23412  {'int_id': 224, 'kind': 'book', 'title': 'Ego,...   \n",
      "23413  {'int_id': 224, 'kind': 'book', 'title': 'Ego,...   \n",
      "23414  {'int_id': 224, 'kind': 'book', 'title': 'Ego,...   \n",
      "23415  {'int_id': 224, 'kind': 'book', 'title': 'Ego,...   \n",
      "23416  {'int_id': 224, 'kind': 'book', 'title': 'Ego,...   \n",
      "23417  {'int_id': 224, 'kind': 'book', 'title': 'Ego,...   \n",
      "23418  {'int_id': 224, 'kind': 'book', 'title': 'Ego,...   \n",
      "23419  {'int_id': 224, 'kind': 'book', 'title': 'Ego,...   \n",
      "23420  {'int_id': 224, 'kind': 'book', 'title': 'Ego,...   \n",
      "23421  {'int_id': 224, 'kind': 'book', 'title': 'Ego,...   \n",
      "23422  {'int_id': 224, 'kind': 'book', 'title': 'Ego,...   \n",
      "23423  {'int_id': 224, 'kind': 'book', 'title': 'Ego,...   \n",
      "23424  {'int_id': 224, 'kind': 'book', 'title': 'Ego,...   \n",
      "23425  {'int_id': 224, 'kind': 'book', 'title': 'Ego,...   \n",
      "23426  {'int_id': 224, 'kind': 'book', 'title': 'Ego,...   \n",
      "23427  {'int_id': 224, 'kind': 'book', 'title': 'Ego,...   \n",
      "23428  {'int_id': 224, 'kind': 'book', 'title': 'Ego,...   \n",
      "23429  {'int_id': 224, 'kind': 'book', 'title': 'Ego,...   \n",
      "23430  {'int_id': 224, 'kind': 'book', 'title': 'Ego,...   \n",
      "23431  {'int_id': 224, 'kind': 'book', 'title': 'Ego,...   \n",
      "23432  {'int_id': 224, 'kind': 'book', 'title': 'Ego,...   \n",
      "23433  {'int_id': 224, 'kind': 'book', 'title': 'Ego,...   \n",
      "23434  {'int_id': 224, 'kind': 'book', 'title': 'Ego,...   \n",
      "23435  {'int_id': 224, 'kind': 'book', 'title': 'Ego,...   \n",
      "23436  {'int_id': 224, 'kind': 'book', 'title': 'Ego,...   \n",
      "23437  {'int_id': 224, 'kind': 'book', 'title': 'Ego,...   \n",
      "\n",
      "                                     doc_id  \n",
      "23380  beffb7cf-a99f-493c-bb4a-b05627d146ea  \n",
      "23381  d216cf32-b298-4e54-ae82-fd91609aae96  \n",
      "23382  ff8f5f07-d199-4d3d-86e4-e2c0df2eb241  \n",
      "23383  936adc4e-a11a-4185-9cb9-2faf3c398b7e  \n",
      "23384  2d882f82-cd90-41eb-8a12-c98bd4159fd1  \n",
      "23385  8131a1ea-2002-4c6a-860e-8cf5562000c1  \n",
      "23386  71bd7cdb-bd9c-4756-a3ba-a6d862bf53d2  \n",
      "23387  3e1f0a68-1f26-42de-83fe-ee8804f8486f  \n",
      "23388  adb3cb09-6598-437d-a3e8-9ab90bfadae1  \n",
      "23389  7f3961f6-dcef-4979-a08f-0c99f5f1d90f  \n",
      "23390  a7c98e18-c299-4304-a740-494fbe484e3e  \n",
      "23391  b1808f4c-dee3-4c6f-9005-24c8c75d2aa2  \n",
      "23392  da47d181-422e-4af6-8512-24048bfe7051  \n",
      "23393  d1ca2f4a-94ec-41d4-9709-8842cad481e1  \n",
      "23394  07c37f85-7ea9-4c93-b6f9-9b402b7dd5e9  \n",
      "23395  f6ed9930-325e-493c-913f-a45fd9f21f23  \n",
      "23396  9228b9c9-e09a-421e-82b4-1823b256fad8  \n",
      "23397  f98d1008-2725-4f1d-9401-d307b8f5fd59  \n",
      "23398  5f59f0f5-fe20-4379-aee7-af82ef3e051f  \n",
      "23399  87dfd17e-0574-4489-a03a-6296b7013f09  \n",
      "23400  99e01e16-088e-4242-ae8e-4c3f5f78e4e4  \n",
      "23401  29e58f34-3b01-49a6-86eb-b1312701c611  \n",
      "23402  a8e2c4f7-0d14-4304-8eeb-b7851efa3479  \n",
      "23403  0c9afe2b-d7fe-46f8-8bff-72aa91f867f0  \n",
      "23404  045c2e97-f01c-4dcc-986d-6fceccf1475e  \n",
      "23405  0e270fcd-c763-4975-aed7-06abbecab441  \n",
      "23406  60833db1-1b32-4007-89e0-f71d632299f4  \n",
      "23407  5dce0e97-af3c-4775-a4f8-981513e0c3a8  \n",
      "23408  a1f2d369-d93e-47a4-85ae-5008f85e801f  \n",
      "23409  7205bece-a52b-41b1-96f4-00314d94046c  \n",
      "23410  7ccccf45-7add-4a3f-91ee-5f3ef97fdb30  \n",
      "23411  7c1851d5-c90c-4a6b-b1ad-73f498f67ac2  \n",
      "23412  59ed3dde-793d-443b-9831-d84bc89b1f02  \n",
      "23413  76debece-6492-4e60-8fad-caccfcee0afd  \n",
      "23414  a192a9ba-90c8-4589-8164-145c6bacd031  \n",
      "23415  cb92f607-3414-4e91-8ca7-773e71637913  \n",
      "23416  969026e4-fedc-4450-9567-2803b3e1369e  \n",
      "23417  41d2d4c0-cd89-4f06-8013-af5e046a8d3e  \n",
      "23418  73b34bbb-8609-45d4-a50d-7da3e785f5d4  \n",
      "23419  0840ee79-7870-4604-ad4a-059794f2342a  \n",
      "23420  ac2cc01a-6e36-4145-b284-2eb696b9b9e6  \n",
      "23421  ca648db4-62c3-4fa2-b8cb-c3e5f1aa96de  \n",
      "23422  a1b83bd0-3314-45f6-9419-c1f51bdcd336  \n",
      "23423  3c3c51c3-daf0-434c-a410-cb89e6c99b8a  \n",
      "23424  b5d8a810-b2e3-447b-9528-4e44a1c6c786  \n",
      "23425  b46bdeb3-ca8b-41cb-8041-624f487969ad  \n",
      "23426  497d8fb5-95b6-4da2-bd36-ce4d34413930  \n",
      "23427  00c83c68-7883-4d2c-b6cd-14e5861dbadc  \n",
      "23428  cdd87f71-f53b-4b4e-a33f-c66f89990a7f  \n",
      "23429  7d862ee5-dc51-410c-a7c0-f536d18510ce  \n",
      "23430  342336ab-afb8-4567-95c5-07d4ba2bd757  \n",
      "23431  31d15f55-415c-4c4b-844d-5e6e19e1144c  \n",
      "23432  40f4b75c-485a-4b2f-a00a-827748ed3f33  \n",
      "23433  76687d3f-130d-4d22-9399-0f739ddcbebd  \n",
      "23434  86ac079b-cd67-476f-94cd-5be165454203  \n",
      "23435  2d7b1b40-16e0-4c3a-9fb2-fb8ad3b75432  \n",
      "23436  58fb10c9-e99d-4b7a-b09a-1f753e0a6d70  \n",
      "23437  2d7b7731-940c-4c26-886f-3607a995e3f6   \n",
      "\n",
      "Child DataFrame 4:\n",
      "                                                 contents  int_id  kind  \\\n",
      "24594  NO MORE FREE  \\nCONSULTING\\nYour only real val...     242  book   \n",
      "24595  When he sits down in the first presentation, t...     242  book   \n",
      "24596  What do you think?” This \\ntime, Vinny just wa...     242  book   \n",
      "24597  If you’re focused on convincing \\nprospects to...     242  book   \n",
      "24598  Just because \\neveryone else is jumping off a ...     242  book   \n",
      "...                                                  ...     ...   ...   \n",
      "24664  It takes less time, feels better, and occupies...     242  book   \n",
      "24665  This is what happens when you do business as a...     242  book   \n",
      "24666  → The first one seems easier, but it doesn’t w...     242  book   \n",
      "24667  That’s what allows you to focus your complete ...     242  book   \n",
      "24668  Tactical Empathy Toolbox\\n → Proactive Listeni...     242  book   \n",
      "\n",
      "                                                   title  \\\n",
      "24594  The Full Fee Agent: How to Stack the Odds in Y...   \n",
      "24595  The Full Fee Agent: How to Stack the Odds in Y...   \n",
      "24596  The Full Fee Agent: How to Stack the Odds in Y...   \n",
      "24597  The Full Fee Agent: How to Stack the Odds in Y...   \n",
      "24598  The Full Fee Agent: How to Stack the Odds in Y...   \n",
      "...                                                  ...   \n",
      "24664  The Full Fee Agent: How to Stack the Odds in Y...   \n",
      "24665  The Full Fee Agent: How to Stack the Odds in Y...   \n",
      "24666  The Full Fee Agent: How to Stack the Odds in Y...   \n",
      "24667  The Full Fee Agent: How to Stack the Odds in Y...   \n",
      "24668  The Full Fee Agent: How to Stack the Odds in Y...   \n",
      "\n",
      "                                                metadata  \\\n",
      "24594  {'int_id': 242, 'kind': 'book', 'title': 'The ...   \n",
      "24595  {'int_id': 242, 'kind': 'book', 'title': 'The ...   \n",
      "24596  {'int_id': 242, 'kind': 'book', 'title': 'The ...   \n",
      "24597  {'int_id': 242, 'kind': 'book', 'title': 'The ...   \n",
      "24598  {'int_id': 242, 'kind': 'book', 'title': 'The ...   \n",
      "...                                                  ...   \n",
      "24664  {'int_id': 242, 'kind': 'book', 'title': 'The ...   \n",
      "24665  {'int_id': 242, 'kind': 'book', 'title': 'The ...   \n",
      "24666  {'int_id': 242, 'kind': 'book', 'title': 'The ...   \n",
      "24667  {'int_id': 242, 'kind': 'book', 'title': 'The ...   \n",
      "24668  {'int_id': 242, 'kind': 'book', 'title': 'The ...   \n",
      "\n",
      "                                     doc_id  \n",
      "24594  6a8cb25a-c163-4e09-ba30-be6e2eb87b79  \n",
      "24595  bf600d1b-9d49-456d-a539-b363d4458eb6  \n",
      "24596  8e4832b4-6a74-4fb2-bf41-1a32e24bc1b0  \n",
      "24597  577520b1-48ba-4eb9-8638-80155f25ae41  \n",
      "24598  38b4ee24-42dd-4181-935d-4d8843fb7818  \n",
      "...                                     ...  \n",
      "24664  009b02c9-81f0-4773-8d00-3f2b3b3c2a18  \n",
      "24665  6228c822-fe8e-44a1-a4e5-ec399f67f507  \n",
      "24666  647963f8-b646-4e30-a1c9-6fefd90798a8  \n",
      "24667  6f861f64-b561-47a0-bb11-4bb2f0da323e  \n",
      "24668  f0b21c4c-05a5-44fe-9298-6d29402cd0a2  \n",
      "\n",
      "[75 rows x 6 columns] \n",
      "\n",
      "Child DataFrame 5:\n",
      "                                                contents  int_id       kind  \\\n",
      "7133   All right, folks, welcome back to the Propert...      53  interview   \n",
      "7134  Mate, the whole episode is full of gold. So ha...      53  interview   \n",
      "7135  I'll give you a big update in terms of rental ...      53  interview   \n",
      "7136  Let's rip into the show. Welcome to The Proper...      53  interview   \n",
      "7137  And Ben Kingsley, chair of Property Investors ...      53  interview   \n",
      "...                                                 ...     ...        ...   \n",
      "7373  Big episode today. Hopefully you've enjoyed th...      53  interview   \n",
      "7374  We now are a full production on YouTube. We ar...      53  interview   \n",
      "7375  them they're in the train they're driving to w...      53  interview   \n",
      "7376  So go to the show description on whatever devi...      53  interview   \n",
      "7377                                   Until next week.      53  interview   \n",
      "\n",
      "                                                  title  \\\n",
      "7133  CHRIS VOSS - FBI Hostage Negotiation Mastercla...   \n",
      "7134  CHRIS VOSS - FBI Hostage Negotiation Mastercla...   \n",
      "7135  CHRIS VOSS - FBI Hostage Negotiation Mastercla...   \n",
      "7136  CHRIS VOSS - FBI Hostage Negotiation Mastercla...   \n",
      "7137  CHRIS VOSS - FBI Hostage Negotiation Mastercla...   \n",
      "...                                                 ...   \n",
      "7373  CHRIS VOSS - FBI Hostage Negotiation Mastercla...   \n",
      "7374  CHRIS VOSS - FBI Hostage Negotiation Mastercla...   \n",
      "7375  CHRIS VOSS - FBI Hostage Negotiation Mastercla...   \n",
      "7376  CHRIS VOSS - FBI Hostage Negotiation Mastercla...   \n",
      "7377  CHRIS VOSS - FBI Hostage Negotiation Mastercla...   \n",
      "\n",
      "                                               metadata  \\\n",
      "7133  {'int_id': 53, 'kind': 'interview', 'title': '...   \n",
      "7134  {'int_id': 53, 'kind': 'interview', 'title': '...   \n",
      "7135  {'int_id': 53, 'kind': 'interview', 'title': '...   \n",
      "7136  {'int_id': 53, 'kind': 'interview', 'title': '...   \n",
      "7137  {'int_id': 53, 'kind': 'interview', 'title': '...   \n",
      "...                                                 ...   \n",
      "7373  {'int_id': 53, 'kind': 'interview', 'title': '...   \n",
      "7374  {'int_id': 53, 'kind': 'interview', 'title': '...   \n",
      "7375  {'int_id': 53, 'kind': 'interview', 'title': '...   \n",
      "7376  {'int_id': 53, 'kind': 'interview', 'title': '...   \n",
      "7377  {'int_id': 53, 'kind': 'interview', 'title': '...   \n",
      "\n",
      "                                    doc_id  \n",
      "7133  20b4f83d-bc96-4f3c-8a98-18adc47d97e9  \n",
      "7134  8fc9afa1-fa47-4d4c-8b54-bd92448abe04  \n",
      "7135  4e311758-bc92-4c2f-9e56-f4f0a0c7fa6d  \n",
      "7136  c15f505d-6f95-4978-be2f-8a5f98b51564  \n",
      "7137  bb51ebc1-11d2-4f99-a9e5-6a9f1f5fc463  \n",
      "...                                    ...  \n",
      "7373  cb2c1b2f-e884-491c-ac48-d841cfbb2690  \n",
      "7374  df33fb8c-1816-4a7a-a714-ee92bcef1cb3  \n",
      "7375  9bc349f6-0e8b-42ee-83a2-ef517a3cae14  \n",
      "7376  1358230d-1519-49b2-9582-13ecc1f83170  \n",
      "7377  6c713e5b-1bf7-4be1-a30b-4c75ba9913fc  \n",
      "\n",
      "[245 rows x 6 columns] \n"
     ]
    },
    {
     "data": {
      "text/plain": "                                              contents  int_id       kind  \\\n664   Welcome to the Wealth Time Freedom Podcast, w...       4  interview   \n665  If you're looking for answers, looking for mot...       4  interview   \n666  Welcome to episode 56. This is Terry. I believ...       4  interview   \n667  And so those who do this well are going to be ...       4  interview   \n668  So in this episode, we're going to be learning...       4  interview   \n..                                                 ...     ...        ...   \n843  Yes. You get a long way with the book and our ...       4  interview   \n844  My pleasure, Terry. Thanks for having me on. H...       4  interview   \n845  If you are, and you'd love to show us your app...       4  interview   \n846  Now, these might feel like small gestures for ...       4  interview   \n847                            Many thanks in advance.       4  interview   \n\n                                                 title  \\\n664  #56 Chris Voss - How to earn what you_re worth...   \n665  #56 Chris Voss - How to earn what you_re worth...   \n666  #56 Chris Voss - How to earn what you_re worth...   \n667  #56 Chris Voss - How to earn what you_re worth...   \n668  #56 Chris Voss - How to earn what you_re worth...   \n..                                                 ...   \n843  #56 Chris Voss - How to earn what you_re worth...   \n844  #56 Chris Voss - How to earn what you_re worth...   \n845  #56 Chris Voss - How to earn what you_re worth...   \n846  #56 Chris Voss - How to earn what you_re worth...   \n847  #56 Chris Voss - How to earn what you_re worth...   \n\n                                              metadata  \\\n664  {'int_id': 4, 'kind': 'interview', 'title': '#...   \n665  {'int_id': 4, 'kind': 'interview', 'title': '#...   \n666  {'int_id': 4, 'kind': 'interview', 'title': '#...   \n667  {'int_id': 4, 'kind': 'interview', 'title': '#...   \n668  {'int_id': 4, 'kind': 'interview', 'title': '#...   \n..                                                 ...   \n843  {'int_id': 4, 'kind': 'interview', 'title': '#...   \n844  {'int_id': 4, 'kind': 'interview', 'title': '#...   \n845  {'int_id': 4, 'kind': 'interview', 'title': '#...   \n846  {'int_id': 4, 'kind': 'interview', 'title': '#...   \n847  {'int_id': 4, 'kind': 'interview', 'title': '#...   \n\n                                   doc_id  \n664  1a1bff43-94ff-4d12-a861-1161bead7fe2  \n665  67611320-413e-4032-950c-1d5ffab9937d  \n666  53bb47ee-b56a-405d-8f65-77a37c7f7f01  \n667  e7a81c18-f07e-4a69-b64a-a779ed33c13a  \n668  37a6913f-5409-4ffa-8c58-564e2a90fd42  \n..                                    ...  \n843  9e3f2498-0d45-478d-a846-cb014dda292c  \n844  25d75268-d6d0-41fc-9d56-708eeb8bfda8  \n845  fcffcf37-fdad-44c7-9128-7c4b5c3a8757  \n846  0c58faad-50fd-414a-a110-7e14c1561cd3  \n847  c57fda38-5ab2-45df-94a8-7f1a5bec0b54  \n\n[184 rows x 6 columns]",
      "text/html": "<div>\n<style scoped>\n    .dataframe tbody tr th:only-of-type {\n        vertical-align: middle;\n    }\n\n    .dataframe tbody tr th {\n        vertical-align: top;\n    }\n\n    .dataframe thead th {\n        text-align: right;\n    }\n</style>\n<table border=\"1\" class=\"dataframe\">\n  <thead>\n    <tr style=\"text-align: right;\">\n      <th></th>\n      <th>contents</th>\n      <th>int_id</th>\n      <th>kind</th>\n      <th>title</th>\n      <th>metadata</th>\n      <th>doc_id</th>\n    </tr>\n  </thead>\n  <tbody>\n    <tr>\n      <th>664</th>\n      <td>Welcome to the Wealth Time Freedom Podcast, w...</td>\n      <td>4</td>\n      <td>interview</td>\n      <td>#56 Chris Voss - How to earn what you_re worth...</td>\n      <td>{'int_id': 4, 'kind': 'interview', 'title': '#...</td>\n      <td>1a1bff43-94ff-4d12-a861-1161bead7fe2</td>\n    </tr>\n    <tr>\n      <th>665</th>\n      <td>If you're looking for answers, looking for mot...</td>\n      <td>4</td>\n      <td>interview</td>\n      <td>#56 Chris Voss - How to earn what you_re worth...</td>\n      <td>{'int_id': 4, 'kind': 'interview', 'title': '#...</td>\n      <td>67611320-413e-4032-950c-1d5ffab9937d</td>\n    </tr>\n    <tr>\n      <th>666</th>\n      <td>Welcome to episode 56. This is Terry. I believ...</td>\n      <td>4</td>\n      <td>interview</td>\n      <td>#56 Chris Voss - How to earn what you_re worth...</td>\n      <td>{'int_id': 4, 'kind': 'interview', 'title': '#...</td>\n      <td>53bb47ee-b56a-405d-8f65-77a37c7f7f01</td>\n    </tr>\n    <tr>\n      <th>667</th>\n      <td>And so those who do this well are going to be ...</td>\n      <td>4</td>\n      <td>interview</td>\n      <td>#56 Chris Voss - How to earn what you_re worth...</td>\n      <td>{'int_id': 4, 'kind': 'interview', 'title': '#...</td>\n      <td>e7a81c18-f07e-4a69-b64a-a779ed33c13a</td>\n    </tr>\n    <tr>\n      <th>668</th>\n      <td>So in this episode, we're going to be learning...</td>\n      <td>4</td>\n      <td>interview</td>\n      <td>#56 Chris Voss - How to earn what you_re worth...</td>\n      <td>{'int_id': 4, 'kind': 'interview', 'title': '#...</td>\n      <td>37a6913f-5409-4ffa-8c58-564e2a90fd42</td>\n    </tr>\n    <tr>\n      <th>...</th>\n      <td>...</td>\n      <td>...</td>\n      <td>...</td>\n      <td>...</td>\n      <td>...</td>\n      <td>...</td>\n    </tr>\n    <tr>\n      <th>843</th>\n      <td>Yes. You get a long way with the book and our ...</td>\n      <td>4</td>\n      <td>interview</td>\n      <td>#56 Chris Voss - How to earn what you_re worth...</td>\n      <td>{'int_id': 4, 'kind': 'interview', 'title': '#...</td>\n      <td>9e3f2498-0d45-478d-a846-cb014dda292c</td>\n    </tr>\n    <tr>\n      <th>844</th>\n      <td>My pleasure, Terry. Thanks for having me on. H...</td>\n      <td>4</td>\n      <td>interview</td>\n      <td>#56 Chris Voss - How to earn what you_re worth...</td>\n      <td>{'int_id': 4, 'kind': 'interview', 'title': '#...</td>\n      <td>25d75268-d6d0-41fc-9d56-708eeb8bfda8</td>\n    </tr>\n    <tr>\n      <th>845</th>\n      <td>If you are, and you'd love to show us your app...</td>\n      <td>4</td>\n      <td>interview</td>\n      <td>#56 Chris Voss - How to earn what you_re worth...</td>\n      <td>{'int_id': 4, 'kind': 'interview', 'title': '#...</td>\n      <td>fcffcf37-fdad-44c7-9128-7c4b5c3a8757</td>\n    </tr>\n    <tr>\n      <th>846</th>\n      <td>Now, these might feel like small gestures for ...</td>\n      <td>4</td>\n      <td>interview</td>\n      <td>#56 Chris Voss - How to earn what you_re worth...</td>\n      <td>{'int_id': 4, 'kind': 'interview', 'title': '#...</td>\n      <td>0c58faad-50fd-414a-a110-7e14c1561cd3</td>\n    </tr>\n    <tr>\n      <th>847</th>\n      <td>Many thanks in advance.</td>\n      <td>4</td>\n      <td>interview</td>\n      <td>#56 Chris Voss - How to earn what you_re worth...</td>\n      <td>{'int_id': 4, 'kind': 'interview', 'title': '#...</td>\n      <td>c57fda38-5ab2-45df-94a8-7f1a5bec0b54</td>\n    </tr>\n  </tbody>\n</table>\n<p>184 rows × 6 columns</p>\n</div>"
     },
     "execution_count": 52,
     "metadata": {},
     "output_type": "execute_result"
    }
   ],
   "source": [
    "import numpy as np\n",
    "\n",
    "df = pd.read_parquet('util/live_dataset_autorag.parquet')\n",
    "\n",
    "# identify unique id's\n",
    "unique_int_ids = df['int_id'].unique()\n",
    "\n",
    "# Let's randomly select 5 unique int_ids for our child df's\n",
    "selected_int_ids = np.random.choice(unique_int_ids, size=5, replace=False)\n",
    "\n",
    "# Create the list of child DataFrames\n",
    "child_dataframes = [df[df['int_id'] == int_id] for int_id in selected_int_ids]\n",
    "\n",
    "# Merge the child dfs into one df for evaluation corpus\n",
    "total_corpus_df = pd.concat(child_dataframes, ignore_index=True)\n",
    "\n",
    "child_dataframes[0].head(500)\n",
    "\n"
   ],
   "metadata": {
    "collapsed": false,
    "ExecuteTime": {
     "end_time": "2024-06-20T19:48:30.803729Z",
     "start_time": "2024-06-20T19:48:30.747043Z"
    }
   },
   "id": "ce7690c7a89f6f66",
   "execution_count": 52
  },
  {
   "cell_type": "code",
   "outputs": [
    {
     "data": {
      "text/plain": "                                            contents  int_id       kind  \\\n0   Many things in life are based on negotiation ...       1  interview   \n1  Derek Gaunt is a lecturer, author of Ego Autho...       1  interview   \n2  I'm Arianna Summer, and I have passionately de...       1  interview   \n3  Interesting set of circumstances put me on thi...       1  interview   \n4  And that's where I gravitated to. I was select...       1  interview   \n\n                                               title  \\\n0  Derek Gaunt On Hostage Negotiation Tactics For...   \n1  Derek Gaunt On Hostage Negotiation Tactics For...   \n2  Derek Gaunt On Hostage Negotiation Tactics For...   \n3  Derek Gaunt On Hostage Negotiation Tactics For...   \n4  Derek Gaunt On Hostage Negotiation Tactics For...   \n\n                                            metadata  \\\n0  {'int_id': 1, 'kind': 'interview', 'last_modif...   \n1  {'int_id': 1, 'kind': 'interview', 'last_modif...   \n2  {'int_id': 1, 'kind': 'interview', 'last_modif...   \n3  {'int_id': 1, 'kind': 'interview', 'last_modif...   \n4  {'int_id': 1, 'kind': 'interview', 'last_modif...   \n\n                                 doc_id  \n0  2bcde7bc-cde1-437c-9118-ca72ef8ad9dc  \n1  4e8f4036-063a-41f1-beb9-31b5e7e70f8c  \n2  d31e5990-f994-427c-b9fe-ece5e54a5fb1  \n3  a3658597-62d7-46b2-a053-4bd5a5dfdf07  \n4  a2b60624-e81c-4205-b56b-14aa3eb93c29  ",
      "text/html": "<div>\n<style scoped>\n    .dataframe tbody tr th:only-of-type {\n        vertical-align: middle;\n    }\n\n    .dataframe tbody tr th {\n        vertical-align: top;\n    }\n\n    .dataframe thead th {\n        text-align: right;\n    }\n</style>\n<table border=\"1\" class=\"dataframe\">\n  <thead>\n    <tr style=\"text-align: right;\">\n      <th></th>\n      <th>contents</th>\n      <th>int_id</th>\n      <th>kind</th>\n      <th>title</th>\n      <th>metadata</th>\n      <th>doc_id</th>\n    </tr>\n  </thead>\n  <tbody>\n    <tr>\n      <th>0</th>\n      <td>Many things in life are based on negotiation ...</td>\n      <td>1</td>\n      <td>interview</td>\n      <td>Derek Gaunt On Hostage Negotiation Tactics For...</td>\n      <td>{'int_id': 1, 'kind': 'interview', 'last_modif...</td>\n      <td>2bcde7bc-cde1-437c-9118-ca72ef8ad9dc</td>\n    </tr>\n    <tr>\n      <th>1</th>\n      <td>Derek Gaunt is a lecturer, author of Ego Autho...</td>\n      <td>1</td>\n      <td>interview</td>\n      <td>Derek Gaunt On Hostage Negotiation Tactics For...</td>\n      <td>{'int_id': 1, 'kind': 'interview', 'last_modif...</td>\n      <td>4e8f4036-063a-41f1-beb9-31b5e7e70f8c</td>\n    </tr>\n    <tr>\n      <th>2</th>\n      <td>I'm Arianna Summer, and I have passionately de...</td>\n      <td>1</td>\n      <td>interview</td>\n      <td>Derek Gaunt On Hostage Negotiation Tactics For...</td>\n      <td>{'int_id': 1, 'kind': 'interview', 'last_modif...</td>\n      <td>d31e5990-f994-427c-b9fe-ece5e54a5fb1</td>\n    </tr>\n    <tr>\n      <th>3</th>\n      <td>Interesting set of circumstances put me on thi...</td>\n      <td>1</td>\n      <td>interview</td>\n      <td>Derek Gaunt On Hostage Negotiation Tactics For...</td>\n      <td>{'int_id': 1, 'kind': 'interview', 'last_modif...</td>\n      <td>a3658597-62d7-46b2-a053-4bd5a5dfdf07</td>\n    </tr>\n    <tr>\n      <th>4</th>\n      <td>And that's where I gravitated to. I was select...</td>\n      <td>1</td>\n      <td>interview</td>\n      <td>Derek Gaunt On Hostage Negotiation Tactics For...</td>\n      <td>{'int_id': 1, 'kind': 'interview', 'last_modif...</td>\n      <td>a2b60624-e81c-4205-b56b-14aa3eb93c29</td>\n    </tr>\n  </tbody>\n</table>\n</div>"
     },
     "execution_count": 54,
     "metadata": {},
     "output_type": "execute_result"
    }
   ],
   "source": [
    "# Now, we're going to generate QA df's for each of these dataframes, and then merge them together into one large dataframes (total_qa_df for the results)\n",
    "\n",
    "df = pd.read_parquet('run3/data/corpus.parquet')\n",
    "df.head()"
   ],
   "metadata": {
    "collapsed": false,
    "ExecuteTime": {
     "end_time": "2024-06-20T23:35:24.594955Z",
     "start_time": "2024-06-20T23:35:24.573344Z"
    }
   },
   "id": "cc3221ec4ec038a2",
   "execution_count": 54
  },
  {
   "cell_type": "code",
   "outputs": [
    {
     "name": "stdout",
     "output_type": "stream",
     "text": [
      "[{'int_id': 1, 'kind': 'interview', 'title': 'Derek Gaunt On Hostage Negotiation Tactics For Business And Life, Managing Egos And Difficult Emotions'}, {'int_id': 1, 'kind': 'interview', 'title': 'Derek Gaunt On Hostage Negotiation Tactics For Business And Life, Managing Egos And Difficult Emotions'}]\n"
     ]
    }
   ],
   "source": [
    "\n",
    "id_s = [\"d31e5990-f994-427c-b9fe-ece5e54a5fb1\", \"a3658597-62d7-46b2-a053-4bd5a5dfdf07\"]\n",
    "\n",
    "contents = df.loc[df['doc_id'].isin(id_s), 'contents'].tolist()\n",
    "\n",
    "metadata = df.loc[df['doc_id'].isin(id_s), 'metadata'].apply(lambda fm: {'int_id': fm['int_id'], 'kind': fm['kind'], 'title': fm['title']}).tolist()\n",
    "\n",
    "print(metadata)\n",
    "    "
   ],
   "metadata": {
    "collapsed": false,
    "ExecuteTime": {
     "end_time": "2024-06-21T00:01:48.904321Z",
     "start_time": "2024-06-21T00:01:48.895002Z"
    }
   },
   "id": "38ae6d76a1c0f0d6",
   "execution_count": 80
  },
  {
   "cell_type": "markdown",
   "source": [],
   "metadata": {
    "collapsed": false
   },
   "id": "b54c32007e40093"
  },
  {
   "cell_type": "code",
   "outputs": [],
   "source": [
    "\n",
    "f_df = df.loc[df['doc_id'] == id_s]\n",
    "f_df.head()\n",
    "x= f_df['metadata'].values[0]\n",
    "#contents.append()\n",
    "metadata = {'int_id': x.int_id, 'kind': x.kind, 'title': x.title}\n"
   ],
   "metadata": {
    "collapsed": false
   },
   "id": "d370a5e978e7c8bc"
  },
  {
   "cell_type": "code",
   "outputs": [],
   "source": [],
   "metadata": {
    "collapsed": false
   },
   "id": "a33ade27bf801309"
  }
 ],
 "metadata": {
  "kernelspec": {
   "display_name": "Python 3",
   "language": "python",
   "name": "python3"
  },
  "language_info": {
   "codemirror_mode": {
    "name": "ipython",
    "version": 2
   },
   "file_extension": ".py",
   "mimetype": "text/x-python",
   "name": "python",
   "nbconvert_exporter": "python",
   "pygments_lexer": "ipython2",
   "version": "2.7.6"
  }
 },
 "nbformat": 4,
 "nbformat_minor": 5
}
