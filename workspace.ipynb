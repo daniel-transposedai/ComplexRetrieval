{
 "cells": [
  {
   "cell_type": "code",
   "outputs": [
    {
     "name": "stdout",
     "output_type": "stream",
     "text": [
      "precision: 0.8958333332971067, recall: 0.5787037037037037\n"
     ]
    },
    {
     "data": {
      "text/plain": "                                            question  \\\n0  What is the importance of client assessment in...   \n1  Why is ridicule considered a powerful factor i...   \n2  What is the difference between listening and h...   \n3  What are some effective communication techniqu...   \n4  What strategies do full fee real estate agents...   \n\n                                      synth_contexts  \\\n0  [\" the ability to utilize the skeleton of that...   \n1  [\" want to have happen, they're the things the...   \n2  [\", among negotiation. What you just said is a...   \n3  [': That’s good, Farley. Now you’re learning. ...   \n4  [\"? Like if you bring two people together and ...   \n\n                                        ground_truth evolution_type  \\\n0  The importance of client assessment in buildin...         simple   \n1  Ridicule is considered a powerful factor in pu...         simple   \n2  Listening is not just being silent; it involve...         simple   \n3  Some effective communication techniques for sa...         simple   \n4  Full fee real estate agents use strategies suc...         simple   \n\n                                      synth_metadata  episode_done  \\\n0  [{'int_id': '92', 'kind': 'interview', 'row': ...          True   \n1  [{'int_id': '127', 'kind': 'interview', 'row':...          True   \n2  [{'int_id': '107', 'kind': 'interview', 'row':...          True   \n3  [{'int_id': '231', 'kind': 'book', 'row': 230,...          True   \n4  [{'int_id': '84', 'kind': 'interview', 'row': ...          True   \n\n                                            contexts  \\\n0  [\"Find out what's really important to your cli...   \n1  ['Ridiculously effective?' 'So why is that so ...   \n2  ['How important is it generally in negotiation...   \n3  ['How do you say no?' 'How can you say no prod...   \n4  [\"What a real estate agent's got to do for you...   \n\n                                            metadata  context_precision  \\\n0  [{'int_id': 83.0, 'kind': 'interview', 'title'...                1.0   \n1  [{'int_id': 96.0, 'kind': 'interview', 'title'...                1.0   \n2  [{'int_id': 96.0, 'kind': 'interview', 'title'...                1.0   \n3  [{'int_id': 99.0, 'kind': 'interview', 'title'...                1.0   \n4  [{'int_id': 101.0, 'kind': 'interview', 'title...                1.0   \n\n   context_recall  \n0             0.0  \n1             1.0  \n2             0.0  \n3             0.0  \n4             0.5  ",
      "text/html": "<div>\n<style scoped>\n    .dataframe tbody tr th:only-of-type {\n        vertical-align: middle;\n    }\n\n    .dataframe tbody tr th {\n        vertical-align: top;\n    }\n\n    .dataframe thead th {\n        text-align: right;\n    }\n</style>\n<table border=\"1\" class=\"dataframe\">\n  <thead>\n    <tr style=\"text-align: right;\">\n      <th></th>\n      <th>question</th>\n      <th>synth_contexts</th>\n      <th>ground_truth</th>\n      <th>evolution_type</th>\n      <th>synth_metadata</th>\n      <th>episode_done</th>\n      <th>contexts</th>\n      <th>metadata</th>\n      <th>context_precision</th>\n      <th>context_recall</th>\n    </tr>\n  </thead>\n  <tbody>\n    <tr>\n      <th>0</th>\n      <td>What is the importance of client assessment in...</td>\n      <td>[\" the ability to utilize the skeleton of that...</td>\n      <td>The importance of client assessment in buildin...</td>\n      <td>simple</td>\n      <td>[{'int_id': '92', 'kind': 'interview', 'row': ...</td>\n      <td>True</td>\n      <td>[\"Find out what's really important to your cli...</td>\n      <td>[{'int_id': 83.0, 'kind': 'interview', 'title'...</td>\n      <td>1.0</td>\n      <td>0.0</td>\n    </tr>\n    <tr>\n      <th>1</th>\n      <td>Why is ridicule considered a powerful factor i...</td>\n      <td>[\" want to have happen, they're the things the...</td>\n      <td>Ridicule is considered a powerful factor in pu...</td>\n      <td>simple</td>\n      <td>[{'int_id': '127', 'kind': 'interview', 'row':...</td>\n      <td>True</td>\n      <td>['Ridiculously effective?' 'So why is that so ...</td>\n      <td>[{'int_id': 96.0, 'kind': 'interview', 'title'...</td>\n      <td>1.0</td>\n      <td>1.0</td>\n    </tr>\n    <tr>\n      <th>2</th>\n      <td>What is the difference between listening and h...</td>\n      <td>[\", among negotiation. What you just said is a...</td>\n      <td>Listening is not just being silent; it involve...</td>\n      <td>simple</td>\n      <td>[{'int_id': '107', 'kind': 'interview', 'row':...</td>\n      <td>True</td>\n      <td>['How important is it generally in negotiation...</td>\n      <td>[{'int_id': 96.0, 'kind': 'interview', 'title'...</td>\n      <td>1.0</td>\n      <td>0.0</td>\n    </tr>\n    <tr>\n      <th>3</th>\n      <td>What are some effective communication techniqu...</td>\n      <td>[': That’s good, Farley. Now you’re learning. ...</td>\n      <td>Some effective communication techniques for sa...</td>\n      <td>simple</td>\n      <td>[{'int_id': '231', 'kind': 'book', 'row': 230,...</td>\n      <td>True</td>\n      <td>['How do you say no?' 'How can you say no prod...</td>\n      <td>[{'int_id': 99.0, 'kind': 'interview', 'title'...</td>\n      <td>1.0</td>\n      <td>0.0</td>\n    </tr>\n    <tr>\n      <th>4</th>\n      <td>What strategies do full fee real estate agents...</td>\n      <td>[\"? Like if you bring two people together and ...</td>\n      <td>Full fee real estate agents use strategies suc...</td>\n      <td>simple</td>\n      <td>[{'int_id': '84', 'kind': 'interview', 'row': ...</td>\n      <td>True</td>\n      <td>[\"What a real estate agent's got to do for you...</td>\n      <td>[{'int_id': 101.0, 'kind': 'interview', 'title...</td>\n      <td>1.0</td>\n      <td>0.5</td>\n    </tr>\n  </tbody>\n</table>\n</div>"
     },
     "execution_count": 168,
     "metadata": {},
     "output_type": "execute_result"
    }
   ],
   "source": [
    "import pandas as pd\n",
    "\n",
    "df = pd.read_csv('util/livev1_final_eval.csv')\n",
    "context_precision_avg = df['context_precision'].mean()\n",
    "context_recall_avg = df['context_recall'].mean()\n",
    "print(\"precision: \" + str(context_precision_avg) + \", recall: \" + str(context_recall_avg))\n",
    "df.head()\n"
   ],
   "metadata": {
    "collapsed": false,
    "ExecuteTime": {
     "end_time": "2024-06-19T22:11:31.048358Z",
     "start_time": "2024-06-19T22:11:31.039108Z"
    }
   },
   "id": "ae42f8a42705ad2d",
   "execution_count": 168
  },
  {
   "cell_type": "code",
   "execution_count": 145,
   "id": "initial_id",
   "metadata": {
    "collapsed": true,
    "ExecuteTime": {
     "end_time": "2024-06-19T18:26:16.066063Z",
     "start_time": "2024-06-19T18:26:16.035613Z"
    }
   },
   "outputs": [
    {
     "data": {
      "text/plain": "     int_id                                           contents  \\\n0         1   Many things in life are based on negotiation ...   \n1         2   There is one book that I have my entire team ...   \n2         3   The hostage had the opportunity to simply wal...   \n3         4   Welcome to the Wealth Time Freedom Podcast, w...   \n4         5   Episode 99, former top FBI hostage negotiator...   \n..      ...                                                ...   \n245     246  NAIL THE LASTING \\nIMPRESSION\\nSend people awa...   \n246     247  BE A FULL-SERVICE,  \\nFULL FEE AGENT\\nAt 6 per...   \n247     248  CONCLUSION\\nIt’s time to get your humanity— \\n...   \n248     249  What is it like negotiating for a hostage with...   \n249     250  This book would not have been possible without...   \n\n                   id                                              title  \\\n0    c0554397d41f0a5b  Derek Gaunt On Hostage Negotiation Tactics For...   \n1    a67e345e008c3529  Chris Voss Interview - Live Hostage Negotiatio...   \n2    fb2468a4779529e5  Chris Voss — FBI Negotiation Tactics for Busin...   \n3    186853b44580de8a  #56 Chris Voss - How to earn what you_re worth...   \n4    38b1ce85b1e16315  Chris Voss - Former top FBI hostage negotiator...   \n..                ...                                                ...   \n245  6a2c4450747411d0  The Full Fee Agent: How to Stack the Odds in Y...   \n246  838e0b00481876e3  The Full Fee Agent: How to Stack the Odds in Y...   \n247  1ee38eec944ee95c  The Full Fee Agent: How to Stack the Odds in Y...   \n248  cd17c3d030874e58  Chris Voss: FBI Hostage Negotiator | Lex Fridm...   \n249  bd203649db99c9cf       Never Split The Difference | Acknowledgments   \n\n          kind                                           metadata  \\\n0    interview  {'kind': 'interview', 'parent_title': None, 'p...   \n1    interview  {'kind': 'interview', 'parent_title': None, 'p...   \n2    interview  {'kind': 'interview', 'parent_title': None, 'p...   \n3    interview  {'kind': 'interview', 'parent_title': None, 'p...   \n4    interview  {'kind': 'interview', 'parent_title': None, 'p...   \n..         ...                                                ...   \n245       book  {'kind': 'book', 'parent_title': None, 'publis...   \n246       book  {'kind': 'book', 'parent_title': None, 'publis...   \n247       book  {'kind': 'book', 'parent_title': None, 'publis...   \n248  interview  {'kind': 'interview', 'parent_title': None, 'p...   \n249       book  {'kind': 'book', 'parent_title': 'Never Split ...   \n\n                                   doc_id  \n0    33a35363-02aa-4eec-badc-a0b517838b5d  \n1    4c29652c-a47a-4c55-8e4f-614964c48c9f  \n2    b35459f1-60cb-4a9c-9efd-3114390f0a9e  \n3    f16e6bb5-f473-4c8c-96ba-634750ebed46  \n4    341683cb-d4c2-463e-9859-ee32069ecc02  \n..                                    ...  \n245  a1c46d45-f42b-4a6f-a905-e36382cdf333  \n246  c68c2321-ac78-4df2-90e8-b87e7702ec95  \n247  09f35cf1-a465-4bed-be36-c15880e97c61  \n248  3c530a4f-e8da-473a-9809-ad46a9980e2e  \n249  18be2aec-1ab2-45aa-9c3d-4a4d967c469a  \n\n[250 rows x 7 columns]",
      "text/html": "<div>\n<style scoped>\n    .dataframe tbody tr th:only-of-type {\n        vertical-align: middle;\n    }\n\n    .dataframe tbody tr th {\n        vertical-align: top;\n    }\n\n    .dataframe thead th {\n        text-align: right;\n    }\n</style>\n<table border=\"1\" class=\"dataframe\">\n  <thead>\n    <tr style=\"text-align: right;\">\n      <th></th>\n      <th>int_id</th>\n      <th>contents</th>\n      <th>id</th>\n      <th>title</th>\n      <th>kind</th>\n      <th>metadata</th>\n      <th>doc_id</th>\n    </tr>\n  </thead>\n  <tbody>\n    <tr>\n      <th>0</th>\n      <td>1</td>\n      <td>Many things in life are based on negotiation ...</td>\n      <td>c0554397d41f0a5b</td>\n      <td>Derek Gaunt On Hostage Negotiation Tactics For...</td>\n      <td>interview</td>\n      <td>{'kind': 'interview', 'parent_title': None, 'p...</td>\n      <td>33a35363-02aa-4eec-badc-a0b517838b5d</td>\n    </tr>\n    <tr>\n      <th>1</th>\n      <td>2</td>\n      <td>There is one book that I have my entire team ...</td>\n      <td>a67e345e008c3529</td>\n      <td>Chris Voss Interview - Live Hostage Negotiatio...</td>\n      <td>interview</td>\n      <td>{'kind': 'interview', 'parent_title': None, 'p...</td>\n      <td>4c29652c-a47a-4c55-8e4f-614964c48c9f</td>\n    </tr>\n    <tr>\n      <th>2</th>\n      <td>3</td>\n      <td>The hostage had the opportunity to simply wal...</td>\n      <td>fb2468a4779529e5</td>\n      <td>Chris Voss — FBI Negotiation Tactics for Busin...</td>\n      <td>interview</td>\n      <td>{'kind': 'interview', 'parent_title': None, 'p...</td>\n      <td>b35459f1-60cb-4a9c-9efd-3114390f0a9e</td>\n    </tr>\n    <tr>\n      <th>3</th>\n      <td>4</td>\n      <td>Welcome to the Wealth Time Freedom Podcast, w...</td>\n      <td>186853b44580de8a</td>\n      <td>#56 Chris Voss - How to earn what you_re worth...</td>\n      <td>interview</td>\n      <td>{'kind': 'interview', 'parent_title': None, 'p...</td>\n      <td>f16e6bb5-f473-4c8c-96ba-634750ebed46</td>\n    </tr>\n    <tr>\n      <th>4</th>\n      <td>5</td>\n      <td>Episode 99, former top FBI hostage negotiator...</td>\n      <td>38b1ce85b1e16315</td>\n      <td>Chris Voss - Former top FBI hostage negotiator...</td>\n      <td>interview</td>\n      <td>{'kind': 'interview', 'parent_title': None, 'p...</td>\n      <td>341683cb-d4c2-463e-9859-ee32069ecc02</td>\n    </tr>\n    <tr>\n      <th>...</th>\n      <td>...</td>\n      <td>...</td>\n      <td>...</td>\n      <td>...</td>\n      <td>...</td>\n      <td>...</td>\n      <td>...</td>\n    </tr>\n    <tr>\n      <th>245</th>\n      <td>246</td>\n      <td>NAIL THE LASTING \\nIMPRESSION\\nSend people awa...</td>\n      <td>6a2c4450747411d0</td>\n      <td>The Full Fee Agent: How to Stack the Odds in Y...</td>\n      <td>book</td>\n      <td>{'kind': 'book', 'parent_title': None, 'publis...</td>\n      <td>a1c46d45-f42b-4a6f-a905-e36382cdf333</td>\n    </tr>\n    <tr>\n      <th>246</th>\n      <td>247</td>\n      <td>BE A FULL-SERVICE,  \\nFULL FEE AGENT\\nAt 6 per...</td>\n      <td>838e0b00481876e3</td>\n      <td>The Full Fee Agent: How to Stack the Odds in Y...</td>\n      <td>book</td>\n      <td>{'kind': 'book', 'parent_title': None, 'publis...</td>\n      <td>c68c2321-ac78-4df2-90e8-b87e7702ec95</td>\n    </tr>\n    <tr>\n      <th>247</th>\n      <td>248</td>\n      <td>CONCLUSION\\nIt’s time to get your humanity— \\n...</td>\n      <td>1ee38eec944ee95c</td>\n      <td>The Full Fee Agent: How to Stack the Odds in Y...</td>\n      <td>book</td>\n      <td>{'kind': 'book', 'parent_title': None, 'publis...</td>\n      <td>09f35cf1-a465-4bed-be36-c15880e97c61</td>\n    </tr>\n    <tr>\n      <th>248</th>\n      <td>249</td>\n      <td>What is it like negotiating for a hostage with...</td>\n      <td>cd17c3d030874e58</td>\n      <td>Chris Voss: FBI Hostage Negotiator | Lex Fridm...</td>\n      <td>interview</td>\n      <td>{'kind': 'interview', 'parent_title': None, 'p...</td>\n      <td>3c530a4f-e8da-473a-9809-ad46a9980e2e</td>\n    </tr>\n    <tr>\n      <th>249</th>\n      <td>250</td>\n      <td>This book would not have been possible without...</td>\n      <td>bd203649db99c9cf</td>\n      <td>Never Split The Difference | Acknowledgments</td>\n      <td>book</td>\n      <td>{'kind': 'book', 'parent_title': 'Never Split ...</td>\n      <td>18be2aec-1ab2-45aa-9c3d-4a4d967c469a</td>\n    </tr>\n  </tbody>\n</table>\n<p>250 rows × 7 columns</p>\n</div>"
     },
     "execution_count": 145,
     "metadata": {},
     "output_type": "execute_result"
    }
   ],
   "source": [
    "import pandas as pd\n",
    "#parquet_file_path = 'util/live_dataset.parquet'\n",
    "\n",
    "df = pd.read_parquet('util/live_dataset_autorag.parquet')\n",
    "#df.to_parquet(f\"./util/live_template_eval_autorag.parquet\")\n",
    "#filtered_df = df.loc[df['column_name'] == search_value]\n",
    "df.head(250)\n",
    "#filtered_df = df.loc[df['doc_id'] == '3f1ad9c2bc30eda8']\n",
    "#filtered_df.head()"
   ]
  },
  {
   "cell_type": "code",
   "outputs": [
    {
     "name": "stdout",
     "output_type": "stream",
     "text": [
      "<class 'str'>\n",
      "<class 'numpy.ndarray'>\n",
      "<class 'str'>\n",
      "<class 'numpy.ndarray'>\n"
     ]
    },
    {
     "data": {
      "text/plain": "                                    qid  \\\n0  f236d593-2bef-49eb-bb76-023c000f2240   \n1  57d2c63b-9e87-4bea-b8ee-d2b5b1dbf755   \n2  b64e4be8-7844-4202-b3e2-2a52694d551d   \n3  359bafdc-89f4-49ce-ae76-1824db702934   \n4  4298de9f-e0ae-4795-9835-b17abd020710   \n\n                                               query  \\\n0  What are the initial steps an FBI hostage nego...   \n1  What is the significance of a hostage taker's ...   \n2  How can demonstrating tactical empathy help in...   \n3  What is the technique known as the hostage neg...   \n4  How are emotional intelligence tools used in h...   \n\n                                       generation_gt  \\\n0  ['The initial steps an FBI hostage negotiator ...   \n1  [\"The significance of a hostage taker's psycho...   \n2  ['Demonstrating tactical empathy helps in buil...   \n3  [\"The hostage negotiators' mirror, also known ...   \n4  ['Hostage negotiation skills are just emotiona...   \n\n                                        retrieval_gt  \n0  [[Chris Voss - Negotiating As If Your Life Dep...  \n1  [[Hostage Negotiator Reveals Psychological Tri...  \n2  [[Episode 87 - Ego, Authority, Failure - Speci...  \n3  [[Never Split the Difference - Chris Voss Inte...  \n4  [[Hostage Negotiator Reveals Psychological Tri...  ",
      "text/html": "<div>\n<style scoped>\n    .dataframe tbody tr th:only-of-type {\n        vertical-align: middle;\n    }\n\n    .dataframe tbody tr th {\n        vertical-align: top;\n    }\n\n    .dataframe thead th {\n        text-align: right;\n    }\n</style>\n<table border=\"1\" class=\"dataframe\">\n  <thead>\n    <tr style=\"text-align: right;\">\n      <th></th>\n      <th>qid</th>\n      <th>query</th>\n      <th>generation_gt</th>\n      <th>retrieval_gt</th>\n    </tr>\n  </thead>\n  <tbody>\n    <tr>\n      <th>0</th>\n      <td>f236d593-2bef-49eb-bb76-023c000f2240</td>\n      <td>What are the initial steps an FBI hostage nego...</td>\n      <td>['The initial steps an FBI hostage negotiator ...</td>\n      <td>[[Chris Voss - Negotiating As If Your Life Dep...</td>\n    </tr>\n    <tr>\n      <th>1</th>\n      <td>57d2c63b-9e87-4bea-b8ee-d2b5b1dbf755</td>\n      <td>What is the significance of a hostage taker's ...</td>\n      <td>[\"The significance of a hostage taker's psycho...</td>\n      <td>[[Hostage Negotiator Reveals Psychological Tri...</td>\n    </tr>\n    <tr>\n      <th>2</th>\n      <td>b64e4be8-7844-4202-b3e2-2a52694d551d</td>\n      <td>How can demonstrating tactical empathy help in...</td>\n      <td>['Demonstrating tactical empathy helps in buil...</td>\n      <td>[[Episode 87 - Ego, Authority, Failure - Speci...</td>\n    </tr>\n    <tr>\n      <th>3</th>\n      <td>359bafdc-89f4-49ce-ae76-1824db702934</td>\n      <td>What is the technique known as the hostage neg...</td>\n      <td>[\"The hostage negotiators' mirror, also known ...</td>\n      <td>[[Never Split the Difference - Chris Voss Inte...</td>\n    </tr>\n    <tr>\n      <th>4</th>\n      <td>4298de9f-e0ae-4795-9835-b17abd020710</td>\n      <td>How are emotional intelligence tools used in h...</td>\n      <td>['Hostage negotiation skills are just emotiona...</td>\n      <td>[[Hostage Negotiator Reveals Psychological Tri...</td>\n    </tr>\n  </tbody>\n</table>\n</div>"
     },
     "execution_count": 116,
     "metadata": {},
     "output_type": "execute_result"
    }
   ],
   "source": [
    "import ast \n",
    "\n",
    "\n",
    "df = pd.read_parquet('util/live_dataset.parquet')\n",
    "df = df.rename(columns={'id': 'doc_id', 'content': 'contents'})\n",
    "#df['doc_id'] = df['doc_id'].apply(lambda x: [[x]])\n",
    "#df = df.drop(columns=['int_id', 'kind'], axis=1)\n",
    "df.to_parquet('util/live_dataset_autorag.parquet')\n",
    "\n",
    "\n",
    "qa_df = pd.read_parquet('util/live_template_eval_autorag.parquet')\n",
    "#qa_df['retrieval_gt'] = qa_df['retrieval_gt'].apply(lambda x: ast.literal_eval(x))\n",
    "#type(qa_df['retrieval_gt'][0][0])\n",
    "#.to_parquet('util/live_template_eval_autorag.parquet')\n",
    "\n",
    "print(type(df['doc_id'][0]))\n",
    "print(type(qa_df['retrieval_gt'][0]))\n",
    "\n",
    "corpus_df = pd.read_parquet('util/live_dataset_autorag.parquet')\n",
    "qa_df = pd.read_parquet('util/live_template_eval_autorag.parquet')\n",
    "print(type(corpus_df['doc_id'][0]))\n",
    "print(type(qa_df['retrieval_gt'][0]))\n",
    "qa_df.head()\n"
   ],
   "metadata": {
    "collapsed": false,
    "ExecuteTime": {
     "end_time": "2024-06-19T17:35:52.696418Z",
     "start_time": "2024-06-19T17:35:52.644107Z"
    }
   },
   "id": "131bf60deb741077",
   "execution_count": 116
  },
  {
   "cell_type": "code",
   "outputs": [
    {
     "data": {
      "text/plain": "   int_id                                           contents  \\\n0       1   Many things in life are based on negotiation ...   \n1       2   There is one book that I have my entire team ...   \n2       3   The hostage had the opportunity to simply wal...   \n3       4   Welcome to the Wealth Time Freedom Podcast, w...   \n4       5   Episode 99, former top FBI hostage negotiator...   \n\n             doc_id                                              title  \\\n0  c0554397d41f0a5b  Derek Gaunt On Hostage Negotiation Tactics For...   \n1  a67e345e008c3529  Chris Voss Interview - Live Hostage Negotiatio...   \n2  fb2468a4779529e5  Chris Voss — FBI Negotiation Tactics for Busin...   \n3  186853b44580de8a  #56 Chris Voss - How to earn what you_re worth...   \n4  38b1ce85b1e16315  Chris Voss - Former top FBI hostage negotiator...   \n\n        kind                                           metadata  \n0  interview  {'kind': 'interview', 'parent_title': None, 'p...  \n1  interview  {'kind': 'interview', 'parent_title': None, 'p...  \n2  interview  {'kind': 'interview', 'parent_title': None, 'p...  \n3  interview  {'kind': 'interview', 'parent_title': None, 'p...  \n4  interview  {'kind': 'interview', 'parent_title': None, 'p...  ",
      "text/html": "<div>\n<style scoped>\n    .dataframe tbody tr th:only-of-type {\n        vertical-align: middle;\n    }\n\n    .dataframe tbody tr th {\n        vertical-align: top;\n    }\n\n    .dataframe thead th {\n        text-align: right;\n    }\n</style>\n<table border=\"1\" class=\"dataframe\">\n  <thead>\n    <tr style=\"text-align: right;\">\n      <th></th>\n      <th>int_id</th>\n      <th>contents</th>\n      <th>doc_id</th>\n      <th>title</th>\n      <th>kind</th>\n      <th>metadata</th>\n    </tr>\n  </thead>\n  <tbody>\n    <tr>\n      <th>0</th>\n      <td>1</td>\n      <td>Many things in life are based on negotiation ...</td>\n      <td>c0554397d41f0a5b</td>\n      <td>Derek Gaunt On Hostage Negotiation Tactics For...</td>\n      <td>interview</td>\n      <td>{'kind': 'interview', 'parent_title': None, 'p...</td>\n    </tr>\n    <tr>\n      <th>1</th>\n      <td>2</td>\n      <td>There is one book that I have my entire team ...</td>\n      <td>a67e345e008c3529</td>\n      <td>Chris Voss Interview - Live Hostage Negotiatio...</td>\n      <td>interview</td>\n      <td>{'kind': 'interview', 'parent_title': None, 'p...</td>\n    </tr>\n    <tr>\n      <th>2</th>\n      <td>3</td>\n      <td>The hostage had the opportunity to simply wal...</td>\n      <td>fb2468a4779529e5</td>\n      <td>Chris Voss — FBI Negotiation Tactics for Busin...</td>\n      <td>interview</td>\n      <td>{'kind': 'interview', 'parent_title': None, 'p...</td>\n    </tr>\n    <tr>\n      <th>3</th>\n      <td>4</td>\n      <td>Welcome to the Wealth Time Freedom Podcast, w...</td>\n      <td>186853b44580de8a</td>\n      <td>#56 Chris Voss - How to earn what you_re worth...</td>\n      <td>interview</td>\n      <td>{'kind': 'interview', 'parent_title': None, 'p...</td>\n    </tr>\n    <tr>\n      <th>4</th>\n      <td>5</td>\n      <td>Episode 99, former top FBI hostage negotiator...</td>\n      <td>38b1ce85b1e16315</td>\n      <td>Chris Voss - Former top FBI hostage negotiator...</td>\n      <td>interview</td>\n      <td>{'kind': 'interview', 'parent_title': None, 'p...</td>\n    </tr>\n  </tbody>\n</table>\n</div>"
     },
     "execution_count": 119,
     "metadata": {},
     "output_type": "execute_result"
    }
   ],
   "source": [
    "df.head()\n",
    "#df['doc_id'][0][0][0]"
   ],
   "metadata": {
    "collapsed": false,
    "ExecuteTime": {
     "end_time": "2024-06-19T17:41:17.486858Z",
     "start_time": "2024-06-19T17:41:17.481670Z"
    }
   },
   "id": "b2afc482d26a8d14",
   "execution_count": 119
  },
  {
   "cell_type": "code",
   "outputs": [
    {
     "name": "stdout",
     "output_type": "stream",
     "text": [
      "<class 'numpy.ndarray'>\n",
      "<class 'numpy.ndarray'>\n",
      "<class 'numpy.ndarray'>\n",
      "[array(['Chris Voss - Negotiating As If Your Life Depended On It - The Wolf_s Den #105'],\n",
      "       dtype=object)                                                                     ]\n",
      "now corpus\n",
      "[array(['Derek Gaunt On Hostage Negotiation Tactics For Business And Life, Managing Egos And Difficult Emotions'],\n",
      "       dtype=object)                                                                                              ]\n",
      "<class 'numpy.ndarray'>\n",
      "[array(['Chris Voss Interview - Live Hostage Negotiation Role Play'],\n",
      "       dtype=object)                                                 ]\n",
      "<class 'numpy.ndarray'>\n",
      "[array(['Chris Voss — FBI Negotiation Tactics for Business And Life'],\n",
      "       dtype=object)                                                  ]\n",
      "<class 'numpy.ndarray'>\n",
      "[array(['#56 Chris Voss - How to earn what you_re worth by nailing the negotiation conversation'],\n",
      "       dtype=object)                                                                              ]\n",
      "<class 'numpy.ndarray'>\n",
      "[array(['Chris Voss - Former top FBI hostage negotiator and CEO of The Black Swan Group'],\n",
      "       dtype=object)                                                                      ]\n",
      "<class 'numpy.ndarray'>\n",
      "[array(['Why Expert Negotiators Love to Hear “No”'], dtype=object)]\n",
      "<class 'numpy.ndarray'>\n",
      "[array(['Chris Voss - Negotiating As If Your Life Depended On It - The Wolf_s Den #105'],\n",
      "       dtype=object)                                                                     ]\n",
      "<class 'numpy.ndarray'>\n",
      "[array(['Former FBI Hostage Negotiator Reveals Top Negotiating Tips - Chris Voss'],\n",
      "       dtype=object)                                                               ]\n",
      "<class 'numpy.ndarray'>\n",
      "[array(['Never Split the Difference - Chris Voss Interview'], dtype=object)]\n",
      "<class 'numpy.ndarray'>\n",
      "[array(['Green Pill Health - Chris Voss - Negotiating Health, Navigating Difficult Conversations with Family and How to Change Mindsets'],\n",
      "       dtype=object)                                                                                                                      ]\n",
      "<class 'numpy.ndarray'>\n",
      "[array(['We Have a Meeting with Brandon Voss'], dtype=object)]\n",
      "<class 'numpy.ndarray'>\n",
      "[array(['Ego, Negotiation And Emotional Intelligence With Derek Gaunt'],\n",
      "       dtype=object)                                                    ]\n",
      "<class 'numpy.ndarray'>\n",
      "[array(['The Art of Negotiation & Why You Should NEVER Lie - Chris Voss'],\n",
      "       dtype=object)                                                      ]\n",
      "<class 'numpy.ndarray'>\n",
      "[array(['Leading Like a Hostage Negotiator-Derek Gaunt'], dtype=object)]\n",
      "<class 'numpy.ndarray'>\n",
      "[array(['#116 — The Art of Negotiation — Chris Voss'], dtype=object)]\n",
      "<class 'numpy.ndarray'>\n",
      "[array(['Inside the Mind of a Hostage Negotiator - Chris Voss - On The Homefront #24'],\n",
      "       dtype=object)                                                                   ]\n",
      "<class 'numpy.ndarray'>\n",
      "[array(['Four Strategies To Win ANY Negotiation w Head Trainer of _The Black Swan Group_ Derek Gaunt'],\n",
      "       dtype=object)                                                                                   ]\n",
      "<class 'numpy.ndarray'>\n",
      "[array(['Derek Gaunt'], dtype=object)]\n",
      "<class 'numpy.ndarray'>\n",
      "[array(['Hostage Negotiator Reveals Psychological Tricks To Win Any Deal - Chris Voss'],\n",
      "       dtype=object)                                                                    ]\n",
      "<class 'numpy.ndarray'>\n",
      "[array(['ADHD Communication Made Easy with Former FBI Hostage Negotiator Chris Voss'],\n",
      "       dtype=object)                                                                  ]\n",
      "<class 'numpy.ndarray'>\n",
      "[array(['Hostage Negotiation Tactics For Business Derek Gaunt'],\n",
      "       dtype=object)                                            ]\n",
      "<class 'numpy.ndarray'>\n",
      "[array(['Leap of Faith - CHRIS VOSS I Negotiate Like Your Life Depends On It'],\n",
      "       dtype=object)                                                           ]\n",
      "<class 'numpy.ndarray'>\n",
      "[array(['CFK- Episode 70- Getting Paid for what you are worth with Chris Voss and Steve Shull'],\n",
      "       dtype=object)                                                                            ]\n",
      "<class 'numpy.ndarray'>\n",
      "[array(['1121 - Chris Voss’ Guide to Gaining the Edge in ANY Negotiation'],\n",
      "       dtype=object)                                                       ]\n",
      "<class 'numpy.ndarray'>\n",
      "[array(['How To Never Lose A Negotiation With Chris Voss'], dtype=object)]\n",
      "<class 'numpy.ndarray'>\n",
      "[array(['Mastering Negotiation — with Chris Voss'], dtype=object)]\n",
      "<class 'numpy.ndarray'>\n",
      "[array(['Intentional Performers with Brian Levenson - Chris Voss on Knowing Negotiation Skills'],\n",
      "       dtype=object)                                                                             ]\n",
      "<class 'numpy.ndarray'>\n",
      "[array(['How ATHLETES Can Use FBI Tactics To Up Their Game with Chris Voss'],\n",
      "       dtype=object)                                                         ]\n",
      "<class 'numpy.ndarray'>\n",
      "[array(['The Swypit Show - Episode 22 (The Art of Negotiation with Chris Voss)'],\n",
      "       dtype=object)                                                             ]\n",
      "<class 'numpy.ndarray'>\n",
      "[array(['Episode 87 - Ego, Authority, Failure - Special Guest Derek Gaunt of the Black Swan Group'],\n",
      "       dtype=object)                                                                                ]\n",
      "<class 'numpy.ndarray'>\n",
      "[array(['616 - Using emotional intelligence like a hostage negotiator, with Derek Gaunt'],\n",
      "       dtype=object)                                                                      ]\n",
      "<class 'numpy.ndarray'>\n",
      "[array(['Episode 826 - Never Split the Difference with Chris Voss'],\n",
      "       dtype=object)                                                ]\n",
      "<class 'numpy.ndarray'>\n",
      "[array(['Derek Gaunt - Hostage Negotiator, Trainer and Coach'],\n",
      "       dtype=object)                                           ]\n",
      "<class 'numpy.ndarray'>\n",
      "[array(['E67 - Chris Voss - How to be a killer communicator'], dtype=object)]\n",
      "<class 'numpy.ndarray'>\n",
      "[array(['Chris Voss on Negotiating in Business and Life'], dtype=object)]\n",
      "<class 'numpy.ndarray'>\n",
      "[array(['Effective Negotiation - Remaining Calm and Nimble During Difficult Conversations - Derek Gaunt'],\n",
      "       dtype=object)                                                                                      ]\n",
      "<class 'numpy.ndarray'>\n",
      "[array(['Ep.503 ~ Applying FBI Expert Negotiation Skills in Business  ~ Brandon Voss'],\n",
      "       dtype=object)                                                                   ]\n",
      "<class 'numpy.ndarray'>\n",
      "[array(['Ep. 41 - Spy the Lie Understanding Negotiation, Deception and Body Language from a FBI Special Agent'],\n",
      "       dtype=object)                                                                                            ]\n",
      "<class 'numpy.ndarray'>\n",
      "[array(['How to negotiate in property like a Voss - Episode 79'],\n",
      "       dtype=object)                                             ]\n",
      "<class 'numpy.ndarray'>\n",
      "[array(['Master Difficult Conversations with Negotiator Brandon Voss'],\n",
      "       dtype=object)                                                   ]\n",
      "<class 'numpy.ndarray'>\n",
      "[array(['Chris Voss on Negotiating the Sale of Your Business - Built to Sell Radio'],\n",
      "       dtype=object)                                                                 ]\n",
      "<class 'numpy.ndarray'>\n",
      "[array(['Chris Voss, Former FBI Lead Negotiator and Author of Never Split The Difference On The Most Effective Negotiation Tactics To Use At Work And Life'],\n",
      "       dtype=object)                                                                                                                                         ]\n",
      "<class 'numpy.ndarray'>\n",
      "[array(['Negotiate Better Outcomes w Derek Gaunt'], dtype=object)]\n",
      "<class 'numpy.ndarray'>\n",
      "[array(['Never Split the Difference with Chris Voss'], dtype=object)]\n",
      "<class 'numpy.ndarray'>\n",
      "[array(['Episode 23 - Christopher Voss of The Black Swan Group'],\n",
      "       dtype=object)                                             ]\n",
      "<class 'numpy.ndarray'>\n",
      "[array(['High-Stakes - Former FBI Hostage Negotiator Chris Voss'],\n",
      "       dtype=object)                                              ]\n",
      "<class 'numpy.ndarray'>\n",
      "[array(['Leading with Emotional Intelligence with Derek Gaunt'],\n",
      "       dtype=object)                                            ]\n",
      "<class 'numpy.ndarray'>\n",
      "[array(['Chris Voss - Advanced Negotiation - E144'], dtype=object)]\n",
      "<class 'numpy.ndarray'>\n",
      "[array(['How To Use Negotiation Tactics To Build Relationships - Episode 37'],\n",
      "       dtype=object)                                                          ]\n",
      "<class 'numpy.ndarray'>\n",
      "[array(['Chris Voss - Top Tips for becoming an EXCELLENT negotiator'],\n",
      "       dtype=object)                                                  ]\n",
      "<class 'numpy.ndarray'>\n",
      "[array(['#113 - Welcome To Your FIRST Day At Harvard! Join My Class & Learn How To Get The BEST Deal Every Time with Chris Voss'],\n",
      "       dtype=object)                                                                                                              ]\n",
      "<class 'numpy.ndarray'>\n",
      "[array(['Mastering the Art of #Negotiation with Chris Voss - Spin It #Podcast'],\n",
      "       dtype=object)                                                            ]\n",
      "<class 'numpy.ndarray'>\n",
      "[array(['CHRIS VOSS - FBI Hostage Negotiation Masterclass on Why You Should Never Split the Difference'],\n",
      "       dtype=object)                                                                                     ]\n",
      "<class 'numpy.ndarray'>\n",
      "[array(['116 - Hostage Negotiator Chris Voss - Collaborative Beats Cutthroat'],\n",
      "       dtype=object)                                                           ]\n",
      "<class 'numpy.ndarray'>\n",
      "[array(['Making Sense of Encounters With Violence'], dtype=object)]\n",
      "<class 'numpy.ndarray'>\n",
      "[array(['Ep.542 ~ 1 Hour with The FBI’s Lead International Hostage Negotiator ~ Chris Voss'],\n",
      "       dtype=object)                                                                         ]\n",
      "<class 'numpy.ndarray'>\n",
      "[array(['What_s your best chance at success - Lessons from FBI Negotiator Chris Voss'],\n",
      "       dtype=object)                                                                   ]\n",
      "<class 'numpy.ndarray'>\n",
      "[array(['How2Exit Episode 41 Derek Gaunt - Expert Trainer, Coach & Author.'],\n",
      "       dtype=object)                                                         ]\n",
      "<class 'numpy.ndarray'>\n",
      "[array(['#74 ex-F.B.I. hostage negotiator, WSJ Bestselling Author of Never Split The Difference, Chris Voss'],\n",
      "       dtype=object)                                                                                          ]\n",
      "<class 'numpy.ndarray'>\n",
      "[array(['Winning Moves & Strategies with FBI Hostage Negotiator Chris Voss'],\n",
      "       dtype=object)                                                         ]\n",
      "<class 'numpy.ndarray'>\n",
      "[array(['Episode 43 - How to Have Hard Conversations and WIN w Hostage Negotiator Derek Gaunt'],\n",
      "       dtype=object)                                                                            ]\n",
      "<class 'numpy.ndarray'>\n",
      "[array(['Chris Voss is Taking MM6 Hostage!! - Jake & Gino Podcast'],\n",
      "       dtype=object)                                                ]\n",
      "<class 'numpy.ndarray'>\n",
      "[array(['The High Performing Student - Derek Gaunt - Hostage Negotiator, Trainer and Coach'],\n",
      "       dtype=object)                                                                         ]\n",
      "<class 'numpy.ndarray'>\n",
      "[array(['FBI’s Top Hostage Negotiator, The Art Of Negotiating To Get Whatever You Want - Chris Voss'],\n",
      "       dtype=object)                                                                                  ]\n",
      "<class 'numpy.ndarray'>\n",
      "[array(['Derek Gaunt - Negotiations Trainer and Coach at The Black Swan Group, Ltd - Author, Ego Authority Failure [Tactical Empathy]'],\n",
      "       dtype=object)                                                                                                                    ]\n",
      "<class 'numpy.ndarray'>\n",
      "[array(['The Million Dollar Branders Podcast-Episode 17 Never Split the Difference Ft Chris Voss'],\n",
      "       dtype=object)                                                                               ]\n",
      "<class 'numpy.ndarray'>\n",
      "[array(['Saving Marriages & Closing Deals - An FBI Hostage Negotiators Secrets for Building Stronger Relationships Ft. Chris Voss'],\n",
      "       dtype=object)                                                                                                                ]\n",
      "<class 'numpy.ndarray'>\n",
      "[array(['E19 - It_s ALL Communication. The Truth About Business & Negotiation - Brandon Voss'],\n",
      "       dtype=object)                                                                           ]\n",
      "<class 'numpy.ndarray'>\n",
      "[array(['Interview with Derek Gaunt (Business Negotiation Expert) from Black Swan Ltd - Episode 22'],\n",
      "       dtype=object)                                                                                 ]\n",
      "<class 'numpy.ndarray'>\n",
      "[array(['SPI 481 - How to Negotiate Like a PRO with FBI Negotiator Chris Voss'],\n",
      "       dtype=object)                                                            ]\n",
      "<class 'numpy.ndarray'>\n",
      "[array(['Effective Communication the Key to a Successful Practice with Derek Gaunt'],\n",
      "       dtype=object)                                                                 ]\n",
      "<class 'numpy.ndarray'>\n",
      "[array(['Derek Gaunt - Hostage Negotiator Skills'], dtype=object)]\n",
      "<class 'numpy.ndarray'>\n",
      "[array(['Never Split the Difference w Chris Voss'], dtype=object)]\n",
      "<class 'numpy.ndarray'>\n",
      "[array(['How to win a negotiation, with former FBI hostage chief Chris Voss'],\n",
      "       dtype=object)                                                          ]\n",
      "<class 'numpy.ndarray'>\n",
      "[array(['102. Negotiation Boss, Brandon Voss!'], dtype=object)]\n",
      "<class 'numpy.ndarray'>\n",
      "[array(['Ep 132 - Never Split the Difference with Chris Voss and Steve Shull'],\n",
      "       dtype=object)                                                           ]\n",
      "<class 'numpy.ndarray'>\n",
      "[array(['Everything You [PROBABLY] Don_t Know About Negotiation - Chris Voss'],\n",
      "       dtype=object)                                                           ]\n",
      "<class 'numpy.ndarray'>\n",
      "[array(['50. Chris Voss - FBI Hostage Negotiator and Author of Never Split The Difference'],\n",
      "       dtype=object)                                                                        ]\n",
      "<class 'numpy.ndarray'>\n",
      "[array(['Improve Your Communication Skills How To Manage Conflict & Transform Relationships - Chris Voss'],\n",
      "       dtype=object)                                                                                       ]\n",
      "<class 'numpy.ndarray'>\n",
      "[array(['Negotiating Like Your Life Depends On It with Chris Voss - Ep 83 - Win the Day with James Whittaker'],\n",
      "       dtype=object)                                                                                           ]\n",
      "<class 'numpy.ndarray'>\n",
      "[array(['Tips from the FBI_s top Hostage Negotiator - Chris Voss'],\n",
      "       dtype=object)                                               ]\n",
      "<class 'numpy.ndarray'>\n",
      "[array(['Negotiating, Entrepreneurship, & Personal Relationships with FBI Hostage Negotiator Chris Voss'],\n",
      "       dtype=object)                                                                                      ]\n",
      "<class 'numpy.ndarray'>\n",
      "[array(['Chris Voss - Former FBI Negotiator Unveils the Myths of Negotiation_RUNGPG'],\n",
      "       dtype=object)                                                                  ]\n",
      "<class 'numpy.ndarray'>\n",
      "[array(['Real Estate Agent Can Get A Full Commission Every Time - Episode #339 with Steve Shull and Chris Voss'],\n",
      "       dtype=object)                                                                                             ]\n",
      "<class 'numpy.ndarray'>\n",
      "[array(['Negotiate like an FBI agent! Chris Voss talks secrets to navigating relationships, business + more!'],\n",
      "       dtype=object)                                                                                           ]\n",
      "<class 'numpy.ndarray'>\n",
      "[array(['WBP – The 3 Types of Negotiator with Derek Gaunt'], dtype=object)]\n",
      "<class 'numpy.ndarray'>\n",
      "[array(['Derek Gaunt - Applying Lessons Learned in Hostage Negotiation to Leadership & Life'],\n",
      "       dtype=object)                                                                          ]\n",
      "<class 'numpy.ndarray'>\n",
      "[array(['354 - Everything in Life Is A Negotiation. With Chris Voss.'],\n",
      "       dtype=object)                                                   ]\n",
      "<class 'numpy.ndarray'>\n",
      "[array(['Insights from Chris Voss - Mastering the Art of Negotiation'],\n",
      "       dtype=object)                                                   ]\n",
      "<class 'numpy.ndarray'>\n",
      "[array(['Chris Voss - How to Succeed at Hard Conversations'], dtype=object)]\n",
      "<class 'numpy.ndarray'>\n",
      "[array(['YAPLive - Negotiate Like A Boss With Chris Voss & Alex Carter - Uncut Version'],\n",
      "       dtype=object)                                                                     ]\n",
      "<class 'numpy.ndarray'>\n",
      "[array(['Never Split the Difference with Chris Voss of The Black Swan Group'],\n",
      "       dtype=object)                                                          ]\n",
      "<class 'numpy.ndarray'>\n",
      "[array(['WHY SUCCESS Comes From Mastering Negotiation In BUSINESS & LIFE - Chris Voss & Lewis Howes'],\n",
      "       dtype=object)                                                                                  ]\n",
      "<class 'numpy.ndarray'>\n",
      "[array(['THE TYRANNY OF THE MINORITY - W CHRIS VOSS'], dtype=object)]\n",
      "<class 'numpy.ndarray'>\n",
      "[array(['Chris Voss - Founder & CEO of The Black Swan Group and Author of Never Split The Difference'],\n",
      "       dtype=object)                                                                                   ]\n",
      "<class 'numpy.ndarray'>\n",
      "[array(['FBI’s Top Hostage Negotiator - The Art Of Negotiating To Get Whatever You Want Chris Voss - E147'],\n",
      "       dtype=object)                                                                                        ]\n",
      "<class 'numpy.ndarray'>\n",
      "[array(['Chris Voss - World-Class Negotiation Tips - Insights From FBI Agent'],\n",
      "       dtype=object)                                                           ]\n",
      "<class 'numpy.ndarray'>\n",
      "[array(['Chris Voss Reveals His Negotiation Secrets'], dtype=object)]\n",
      "<class 'numpy.ndarray'>\n",
      "[array(['FBI Hostage Negotiation Tactics for Business with Chris Voss'],\n",
      "       dtype=object)                                                    ]\n",
      "<class 'numpy.ndarray'>\n",
      "[array(['Chris Voss Shares 3 FBI Negotiation Tactics to Win ANY Negotiation'],\n",
      "       dtype=object)                                                          ]\n",
      "<class 'numpy.ndarray'>\n",
      "[array(['Decoding AQ with Ross Thornley Feat. Christopher Voss World_s #1 Negotiation Coach'],\n",
      "       dtype=object)                                                                          ]\n",
      "<class 'numpy.ndarray'>\n",
      "[array(['High-Stakes Former FBI Hostage Negotiator Chris Voss'],\n",
      "       dtype=object)                                            ]\n",
      "<class 'numpy.ndarray'>\n",
      "[array(['EP 30 - Negotiate Like a Voss!'], dtype=object)]\n",
      "<class 'numpy.ndarray'>\n",
      "[array(['139 - Chris Voss  Hostage Negotiation Tactics for Everyday Life'],\n",
      "       dtype=object)                                                       ]\n",
      "<class 'numpy.ndarray'>\n",
      "[array(['Forget Logic - Negotiate A Win In Difficult Conversations - Derek Gaunt'],\n",
      "       dtype=object)                                                               ]\n",
      "<class 'numpy.ndarray'>\n",
      "[array(['Learning from a negotiation expert - the role of ‘tactical empathy’ - with Chris Voss'],\n",
      "       dtype=object)                                                                             ]\n",
      "<class 'numpy.ndarray'>\n",
      "[array(['Life is Negotiation w Chris Voss - Whats Your Ceiling'],\n",
      "       dtype=object)                                             ]\n",
      "<class 'numpy.ndarray'>\n",
      "[array(['E61 - Troy Smith On Upgrading Your Conversational Tactics'],\n",
      "       dtype=object)                                                 ]\n",
      "<class 'numpy.ndarray'>\n",
      "[array(['Hostage Negotiations, Reading People & Ending Every Conversation Positively - DSH #348'],\n",
      "       dtype=object)                                                                              ]\n",
      "<class 'numpy.ndarray'>\n",
      "[array(['Negotiation - Points of Know Returns'], dtype=object)]\n",
      "<class 'numpy.ndarray'>\n",
      "[array(['How to Manage Egos and Difficult Emotions with Derek Gaunt'],\n",
      "       dtype=object)                                                  ]\n",
      "<class 'numpy.ndarray'>\n",
      "[array(['Chris Voss, former hostage negotiator, CEO & author'],\n",
      "       dtype=object)                                           ]\n",
      "<class 'numpy.ndarray'>\n",
      "[array(['How to Get What You Want All the Time with Former FBI Negotiator Chris Voss - Real Talk'],\n",
      "       dtype=object)                                                                               ]\n",
      "<class 'numpy.ndarray'>\n",
      "[array(['Episode 151 - Negotiate as if Your Life Depended on it With International Hostage Negotiator and Author Chris Voss'],\n",
      "       dtype=object)                                                                                                          ]\n",
      "<class 'numpy.ndarray'>\n",
      "[array(['How to Get What You Want All the Time with Former FBI Negotiator Chris Voss - The Art of Negotiation'],\n",
      "       dtype=object)                                                                                            ]\n",
      "<class 'numpy.ndarray'>\n",
      "[array(['Chris Voss - Proven NEGOTIATION Tactics to Get What You WANT From a Former FBI Negotiator'],\n",
      "       dtype=object)                                                                                 ]\n",
      "<class 'numpy.ndarray'>\n",
      "[array(['The Smart Connector - Mastering The Art Of Negotiation With Sandy Hein'],\n",
      "       dtype=object)                                                              ]\n",
      "<class 'numpy.ndarray'>\n",
      "[array(['How Do You Negotiate'], dtype=object)]\n",
      "<class 'numpy.ndarray'>\n",
      "[array(['Employing Tactical Empathy in the Workplace with Chris Voss, Former FBI Hostage Negotiator'],\n",
      "       dtype=object)                                                                                  ]\n",
      "<class 'numpy.ndarray'>\n",
      "[array(['Hone Your Negotiation Skills With Derek Gaunt'], dtype=object)]\n",
      "<class 'numpy.ndarray'>\n",
      "[array(['2586 - CHRIS VOSS HOW TO CONSCIOUSLY NEVER SPLIT THE DIFFERENCE'],\n",
      "       dtype=object)                                                       ]\n",
      "<class 'numpy.ndarray'>\n",
      "[array(['Interview with Derek Gaunt (Business Negotiation Expert) from Black Swan Ltd - Episode 1'],\n",
      "       dtype=object)                                                                                ]\n",
      "<class 'numpy.ndarray'>\n",
      "[array(['Derek Gaunt on why thinking like a hostage negotiator can help you have better conversations'],\n",
      "       dtype=object)                                                                                    ]\n",
      "<class 'numpy.ndarray'>\n",
      "[array(['Preparing Yourself to Get The Best of Every Deal With Chris Voss'],\n",
      "       dtype=object)                                                        ]\n",
      "<class 'numpy.ndarray'>\n",
      "[array(['Top Tips for Negotiation & Persuasion from an FBI Hostage Negotiator - Derek Gaunt'],\n",
      "       dtype=object)                                                                          ]\n",
      "<class 'numpy.ndarray'>\n",
      "[array(['Negotiation Mastery with Chris Voss'], dtype=object)]\n",
      "<class 'numpy.ndarray'>\n",
      "[array(['Never Split the Difference - Chris Voss - Talks at Google'],\n",
      "       dtype=object)                                                 ]\n",
      "<class 'numpy.ndarray'>\n",
      "[array(['Brandon Voss—Negotiating When the Stakes Are High'], dtype=object)]\n",
      "<class 'numpy.ndarray'>\n",
      "[array(['Ep'], dtype=object)]\n",
      "<class 'numpy.ndarray'>\n",
      "[array(['011 - Derek Gaunt - how to use tactics from hostage negotiation into your everyday life'],\n",
      "       dtype=object)                                                                               ]\n",
      "<class 'numpy.ndarray'>\n",
      "[array(['#223 - Negotiating like a Hostage Negotiator with Troy Smith'],\n",
      "       dtype=object)                                                    ]\n",
      "<class 'numpy.ndarray'>\n",
      "[array(['Use Emotional Currency, Not Leverage - The Disruptors Network - Chris Voss, the FBI Negotiator'],\n",
      "       dtype=object)                                                                                      ]\n",
      "<class 'numpy.ndarray'>\n",
      "[array(['Exercise Mirroring And Labeling'], dtype=object)]\n",
      "<class 'numpy.ndarray'>\n",
      "[array(['Labeling'], dtype=object)]\n",
      "<class 'numpy.ndarray'>\n",
      "[array(['Bargaining'], dtype=object)]\n",
      "<class 'numpy.ndarray'>\n",
      "[array(['Case Study Chase Manhattan Bank Robbery'], dtype=object)]\n",
      "<class 'numpy.ndarray'>\n",
      "[array(['Mock Negotiation Teenager'], dtype=object)]\n",
      "<class 'numpy.ndarray'>\n",
      "[array(['Mastering Delivery'], dtype=object)]\n",
      "<class 'numpy.ndarray'>\n",
      "[array(['The Accusations Audit'], dtype=object)]\n",
      "<class 'numpy.ndarray'>\n",
      "[array(['Tactical Empathy'], dtype=object)]\n",
      "<class 'numpy.ndarray'>\n",
      "[array(['Black Swans'], dtype=object)]\n",
      "<class 'numpy.ndarray'>\n",
      "[array(['The Power Of Negotiation'], dtype=object)]\n",
      "<class 'numpy.ndarray'>\n",
      "[array(['Mock Negotiation 60 Seconds Or She Dies'], dtype=object)]\n",
      "<class 'numpy.ndarray'>\n",
      "[array(['Body Language Speech Patterns'], dtype=object)]\n",
      "<class 'numpy.ndarray'>\n",
      "[array(['Mirroring'], dtype=object)]\n",
      "<class 'numpy.ndarray'>\n",
      "[array(['The Value Of No'], dtype=object)]\n",
      "<class 'numpy.ndarray'>\n",
      "[array(['Bending Reality'], dtype=object)]\n",
      "<class 'numpy.ndarray'>\n",
      "[array(['Mock Negotiation Rival'], dtype=object)]\n",
      "<class 'numpy.ndarray'>\n",
      "[array(['Mock Negotiation Salary'], dtype=object)]\n",
      "<class 'numpy.ndarray'>\n",
      "[array(['Creating The Illusion Of Control'], dtype=object)]\n",
      "<class 'numpy.ndarray'>\n",
      "[array(['Session Wrap-Up and Review'], dtype=object)]\n",
      "<class 'numpy.ndarray'>\n",
      "[array(['Using Deadlines To Close An Indecisive Client'], dtype=object)]\n",
      "<class 'numpy.ndarray'>\n",
      "[array(['Follow Along The Growing Candymaker Scene Practice'], dtype=object)]\n",
      "<class 'numpy.ndarray'>\n",
      "[array(['Introduction Getting To The Agreement'], dtype=object)]\n",
      "<class 'numpy.ndarray'>\n",
      "[array(['Introduction Create Epiphanies To Land The Deal'], dtype=object)]\n",
      "<class 'numpy.ndarray'>\n",
      "[array(['Skill Introduction Fairness'], dtype=object)]\n",
      "<class 'numpy.ndarray'>\n",
      "[array(['Play By Play Salary Negotiations'], dtype=object)]\n",
      "<class 'numpy.ndarray'>\n",
      "[array(['Skill Introduction Paraphrasing And Summary'], dtype=object)]\n",
      "<class 'numpy.ndarray'>\n",
      "[array(['Introduction Negotiating Your Future'], dtype=object)]\n",
      "<class 'numpy.ndarray'>\n",
      "[array(['Session Overview'], dtype=object)]\n",
      "<class 'numpy.ndarray'>\n",
      "[array(['Follow Along Salary Negotiations'], dtype=object)]\n",
      "<class 'numpy.ndarray'>\n",
      "[array(['Introduction Strengthen Your Workplace Influence'], dtype=object)]\n",
      "<class 'numpy.ndarray'>\n",
      "[array(['Interactive Practice Overwhelmed Employee'], dtype=object)]\n",
      "<class 'numpy.ndarray'>\n",
      "[array(['Your Overwhelmed Team Member'], dtype=object)]\n",
      "<class 'numpy.ndarray'>\n",
      "[array(['Introduction Become The Most Trusted Person At Work'],\n",
      "       dtype=object)                                           ]\n",
      "<class 'numpy.ndarray'>\n",
      "[array(['Interactive Practice Mirroring Your Upset Manager'], dtype=object)]\n",
      "<class 'numpy.ndarray'>\n",
      "[array(['Play By Play Lease Negotiation'], dtype=object)]\n",
      "<class 'numpy.ndarray'>\n",
      "[array(['Play By Play Negotiating Pay Structure'], dtype=object)]\n",
      "<class 'numpy.ndarray'>\n",
      "[array(['Follow Along Lease Negotiation Scene Practice'], dtype=object)]\n",
      "<class 'numpy.ndarray'>\n",
      "[array(['Interactive Practice Combining Mirroring Labeling And Dynamic Silence'],\n",
      "       dtype=object)                                                             ]\n",
      "<class 'numpy.ndarray'>\n",
      "[array(['Skill Introduction Labeling'], dtype=object)]\n",
      "<class 'numpy.ndarray'>\n",
      "[array(['Play By Play The Growing Candymaker'], dtype=object)]\n",
      "<class 'numpy.ndarray'>\n",
      "[array(['Play By Play Unproductive Team Member'], dtype=object)]\n",
      "<class 'numpy.ndarray'>\n",
      "[array(['Meet Your Instructors Chris Voss And The Black Swan Team'],\n",
      "       dtype=object)                                                ]\n",
      "<class 'numpy.ndarray'>\n",
      "[array(['Skill Introduction Deadlines'], dtype=object)]\n",
      "<class 'numpy.ndarray'>\n",
      "[array(['Tactical Empathy And Inclusivity'], dtype=object)]\n",
      "<class 'numpy.ndarray'>\n",
      "[array(['Play By Play Unhappy Employee'], dtype=object)]\n",
      "<class 'numpy.ndarray'>\n",
      "[array(['Skill Introduction Mirroring'], dtype=object)]\n",
      "<class 'numpy.ndarray'>\n",
      "[array(['Follow Along Negotiating Pay Structure'], dtype=object)]\n",
      "<class 'numpy.ndarray'>\n",
      "[array(['Follow Along Managing Up Scene Practice'], dtype=object)]\n",
      "<class 'numpy.ndarray'>\n",
      "[array(['Play By Play Building Rapport'], dtype=object)]\n",
      "<class 'numpy.ndarray'>\n",
      "[array(['Low Stakes Practice 355F041C D83A 4D38 B824 88D0B4A688Ce'],\n",
      "       dtype=object)                                                ]\n",
      "<class 'numpy.ndarray'>\n",
      "[array(['Skill Introduction No Oriented Questions'], dtype=object)]\n",
      "<class 'numpy.ndarray'>\n",
      "[array(['Interactive Practice Delayed Job Offer'], dtype=object)]\n",
      "<class 'numpy.ndarray'>\n",
      "[array(['Interactive Practice Using The Accusation Audit At Work'],\n",
      "       dtype=object)                                               ]\n",
      "<class 'numpy.ndarray'>\n",
      "[array(['Follow Along Unhappy Employee Scene Practice'], dtype=object)]\n",
      "<class 'numpy.ndarray'>\n",
      "[array(['Challenges And Solutions For Women'], dtype=object)]\n",
      "<class 'numpy.ndarray'>\n",
      "[array(['Follow Along Unproductive Team Member Scene Practice'],\n",
      "       dtype=object)                                            ]\n",
      "<class 'numpy.ndarray'>\n",
      "[array(['Interactive Practice Your Frustrated Employee'], dtype=object)]\n",
      "<class 'numpy.ndarray'>\n",
      "[array(['Introduction Inclusive Negotiation'], dtype=object)]\n",
      "<class 'numpy.ndarray'>\n",
      "[array(['Skill Introduction Accusation Audit Prep Sheet'], dtype=object)]\n",
      "<class 'numpy.ndarray'>\n",
      "[array(['Low Stakes Practice'], dtype=object)]\n",
      "<class 'numpy.ndarray'>\n",
      "[array(['Follow Along Building Rapport Scene Practice'], dtype=object)]\n",
      "<class 'numpy.ndarray'>\n",
      "[array(['Skill Introduction Loss Aversion'], dtype=object)]\n",
      "<class 'numpy.ndarray'>\n",
      "[array(['Write Down Your Goals'], dtype=object)]\n",
      "<class 'numpy.ndarray'>\n",
      "[array(['Interactive Practice Encouraging A Different Approach'],\n",
      "       dtype=object)                                             ]\n",
      "<class 'numpy.ndarray'>\n",
      "[array(['Skill Introduction The Accusation Audit'], dtype=object)]\n",
      "<class 'numpy.ndarray'>\n",
      "[array(['Skill Introduction Dynamic Silence'], dtype=object)]\n",
      "<class 'numpy.ndarray'>\n",
      "[array(['Skill Introduction Calibrated Questions'], dtype=object)]\n",
      "<class 'numpy.ndarray'>\n",
      "[array(['Never Split The Difference | Chris Voss | TEDxUniversityofNevada'],\n",
      "       dtype=object)                                                        ]\n",
      "<class 'numpy.ndarray'>\n",
      "[array(['Never Split The Difference | Chris Voss | TEDxUniversityofNevada'],\n",
      "       dtype=object)                                                        ]\n",
      "<class 'numpy.ndarray'>\n",
      "[array(['Never Split The Difference | Chris Voss | TEDxUniversityofNevada'],\n",
      "       dtype=object)                                                        ]\n",
      "<class 'numpy.ndarray'>\n",
      "[array(['Never Split The Difference | Chris Voss | TEDxUniversityofNevada'],\n",
      "       dtype=object)                                                        ]\n",
      "<class 'numpy.ndarray'>\n",
      "[array(['Never Split The Difference | Chris Voss | TEDxUniversityofNevada'],\n",
      "       dtype=object)                                                        ]\n",
      "<class 'numpy.ndarray'>\n",
      "[array(['Never Split The Difference | Chris Voss | TEDxUniversityofNevada'],\n",
      "       dtype=object)                                                        ]\n",
      "<class 'numpy.ndarray'>\n",
      "[array(['Never Split The Difference | Chris Voss | TEDxUniversityofNevada'],\n",
      "       dtype=object)                                                        ]\n",
      "<class 'numpy.ndarray'>\n",
      "[array(['Never Split The Difference | Chris Voss | TEDxUniversityofNevada'],\n",
      "       dtype=object)                                                        ]\n",
      "<class 'numpy.ndarray'>\n",
      "[array(['Never Split the Difference: Negotiating As If Your Life Depended On It'],\n",
      "       dtype=object)                                                              ]\n",
      "<class 'numpy.ndarray'>\n",
      "[array(['Never Split the Difference: Negotiating As If Your Life Depended On It'],\n",
      "       dtype=object)                                                              ]\n",
      "<class 'numpy.ndarray'>\n",
      "[array(['Never Split the Difference: Negotiating As If Your Life Depended On It'],\n",
      "       dtype=object)                                                              ]\n",
      "<class 'numpy.ndarray'>\n",
      "[array(['Never Split the Difference: Negotiating As If Your Life Depended On It'],\n",
      "       dtype=object)                                                              ]\n",
      "<class 'numpy.ndarray'>\n",
      "[array(['Never Split the Difference: Negotiating As If Your Life Depended On It'],\n",
      "       dtype=object)                                                              ]\n",
      "<class 'numpy.ndarray'>\n",
      "[array(['Never Split the Difference: Negotiating As If Your Life Depended On It'],\n",
      "       dtype=object)                                                              ]\n",
      "<class 'numpy.ndarray'>\n",
      "[array(['Never Split the Difference: Negotiating As If Your Life Depended On It'],\n",
      "       dtype=object)                                                              ]\n",
      "<class 'numpy.ndarray'>\n",
      "[array(['Never Split the Difference: Negotiating As If Your Life Depended On It'],\n",
      "       dtype=object)                                                              ]\n",
      "<class 'numpy.ndarray'>\n",
      "[array(['Never Split the Difference: Negotiating As If Your Life Depended On It'],\n",
      "       dtype=object)                                                              ]\n",
      "<class 'numpy.ndarray'>\n",
      "[array(['Never Split the Difference: Negotiating As If Your Life Depended On It'],\n",
      "       dtype=object)                                                              ]\n",
      "<class 'numpy.ndarray'>\n",
      "[array(['Ego, Authority, Failure: Using Emotional Intelligence Like A Hostage Negotiator to Succeed as a Leader'],\n",
      "       dtype=object)                                                                                              ]\n",
      "<class 'numpy.ndarray'>\n",
      "[array(['Ego, Authority, Failure: Using Emotional Intelligence Like A Hostage Negotiator to Succeed as a Leader'],\n",
      "       dtype=object)                                                                                              ]\n",
      "<class 'numpy.ndarray'>\n",
      "[array(['Ego, Authority, Failure: Using Emotional Intelligence Like A Hostage Negotiator to Succeed as a Leader'],\n",
      "       dtype=object)                                                                                              ]\n",
      "<class 'numpy.ndarray'>\n",
      "[array(['Ego, Authority, Failure: Using Emotional Intelligence Like A Hostage Negotiator to Succeed as a Leader'],\n",
      "       dtype=object)                                                                                              ]\n",
      "<class 'numpy.ndarray'>\n",
      "[array(['Ego, Authority, Failure: Using Emotional Intelligence Like A Hostage Negotiator to Succeed as a Leader'],\n",
      "       dtype=object)                                                                                              ]\n",
      "<class 'numpy.ndarray'>\n",
      "[array(['Ego, Authority, Failure: Using Emotional Intelligence Like A Hostage Negotiator to Succeed as a Leader'],\n",
      "       dtype=object)                                                                                              ]\n",
      "<class 'numpy.ndarray'>\n",
      "[array(['Ego, Authority, Failure: Using Emotional Intelligence Like A Hostage Negotiator to Succeed as a Leader'],\n",
      "       dtype=object)                                                                                              ]\n",
      "<class 'numpy.ndarray'>\n",
      "[array(['Ego, Authority, Failure: Using Emotional Intelligence Like A Hostage Negotiator to Succeed as a Leader'],\n",
      "       dtype=object)                                                                                              ]\n",
      "<class 'numpy.ndarray'>\n",
      "[array(['Ego, Authority, Failure: Using Emotional Intelligence Like A Hostage Negotiator to Succeed as a Leader'],\n",
      "       dtype=object)                                                                                              ]\n",
      "<class 'numpy.ndarray'>\n",
      "[array(['Ego, Authority, Failure: Using Emotional Intelligence Like A Hostage Negotiator to Succeed as a Leader'],\n",
      "       dtype=object)                                                                                              ]\n",
      "<class 'numpy.ndarray'>\n",
      "[array(['Ego, Authority, Failure: Using Emotional Intelligence Like A Hostage Negotiator to Succeed as a Leader'],\n",
      "       dtype=object)                                                                                              ]\n",
      "<class 'numpy.ndarray'>\n",
      "[array(['Ego, Authority, Failure: Using Emotional Intelligence Like A Hostage Negotiator to Succeed as a Leader'],\n",
      "       dtype=object)                                                                                              ]\n",
      "<class 'numpy.ndarray'>\n",
      "[array(['Ego, Authority, Failure: Using Emotional Intelligence Like A Hostage Negotiator to Succeed as a Leader'],\n",
      "       dtype=object)                                                                                              ]\n",
      "<class 'numpy.ndarray'>\n",
      "[array(['Ego, Authority, Failure: Using Emotional Intelligence Like A Hostage Negotiator to Succeed as a Leader'],\n",
      "       dtype=object)                                                                                              ]\n",
      "<class 'numpy.ndarray'>\n",
      "[array(['How Am I Supposed To Do That?'], dtype=object)]\n",
      "<class 'numpy.ndarray'>\n",
      "[array(['How Am I Supposed To Do That?'], dtype=object)]\n",
      "<class 'numpy.ndarray'>\n",
      "[array(['How Am I Supposed To Do That?'], dtype=object)]\n",
      "<class 'numpy.ndarray'>\n",
      "[array(['How Am I Supposed To Do That?'], dtype=object)]\n",
      "<class 'numpy.ndarray'>\n",
      "[array(['How Am I Supposed To Do That?'], dtype=object)]\n",
      "<class 'numpy.ndarray'>\n",
      "[array(['How Am I Supposed To Do That?'], dtype=object)]\n",
      "<class 'numpy.ndarray'>\n",
      "[array(['How Am I Supposed To Do That?'], dtype=object)]\n",
      "<class 'numpy.ndarray'>\n",
      "[array(['How Am I Supposed To Do That?'], dtype=object)]\n",
      "<class 'numpy.ndarray'>\n",
      "[array(['The Full Fee Agent: How to Stack the Odds in Your Favor as a Real Estate Professional'],\n",
      "       dtype=object)                                                                             ]\n",
      "<class 'numpy.ndarray'>\n",
      "[array(['The Full Fee Agent: How to Stack the Odds in Your Favor as a Real Estate Professional'],\n",
      "       dtype=object)                                                                             ]\n",
      "<class 'numpy.ndarray'>\n",
      "[array(['The Full Fee Agent: How to Stack the Odds in Your Favor as a Real Estate Professional'],\n",
      "       dtype=object)                                                                             ]\n",
      "<class 'numpy.ndarray'>\n",
      "[array(['The Full Fee Agent: How to Stack the Odds in Your Favor as a Real Estate Professional'],\n",
      "       dtype=object)                                                                             ]\n",
      "<class 'numpy.ndarray'>\n",
      "[array(['The Full Fee Agent: How to Stack the Odds in Your Favor as a Real Estate Professional'],\n",
      "       dtype=object)                                                                             ]\n",
      "<class 'numpy.ndarray'>\n",
      "[array(['The Full Fee Agent: How to Stack the Odds in Your Favor as a Real Estate Professional'],\n",
      "       dtype=object)                                                                             ]\n",
      "<class 'numpy.ndarray'>\n",
      "[array(['The Full Fee Agent: How to Stack the Odds in Your Favor as a Real Estate Professional'],\n",
      "       dtype=object)                                                                             ]\n",
      "<class 'numpy.ndarray'>\n",
      "[array(['The Full Fee Agent: How to Stack the Odds in Your Favor as a Real Estate Professional'],\n",
      "       dtype=object)                                                                             ]\n",
      "<class 'numpy.ndarray'>\n",
      "[array(['The Full Fee Agent: How to Stack the Odds in Your Favor as a Real Estate Professional'],\n",
      "       dtype=object)                                                                             ]\n",
      "<class 'numpy.ndarray'>\n",
      "[array(['Chris Voss: FBI Hostage Negotiator | Lex Fridman Podcast #364'],\n",
      "       dtype=object)                                                     ]\n",
      "<class 'numpy.ndarray'>\n",
      "[array(['Never Split The Difference | Acknowledgments'], dtype=object)]\n",
      "<class 'numpy.ndarray'>\n",
      "now no_exist_ids\n",
      "now retrieval length\n",
      "40\n",
      "building autorag template\n",
      "Eval Autorag template set for live already exists. Skipping...\n",
      "Now entering autorag pipeline...\n",
      "/Users/dcampbel/Nextcloud/Repositories/masterclassRetrieval\n",
      "Starting trial\n"
     ]
    },
    {
     "data": {
      "text/plain": "\u001B[2;36m[06/19/24 13:32:20]\u001B[0m\u001B[2;36m \u001B[0m\u001B[34mINFO    \u001B[0m \u001B[1m[\u001B[0mevaluator.py:\u001B[1;36m80\u001B[0m\u001B[1m]\u001B[0m >>                                                   \u001B]8;id=369005;file:///Users/dcampbel/Nextcloud/Repositories/masterclassRetrieval/.venv/lib/python3.11/site-packages/autorag/evaluator.py\u001B\\\u001B[2mevaluator.py\u001B[0m\u001B]8;;\u001B\\\u001B[2m:\u001B[0m\u001B]8;id=292705;file:///Users/dcampbel/Nextcloud/Repositories/masterclassRetrieval/.venv/lib/python3.11/site-packages/autorag/evaluator.py#80\u001B\\\u001B[2m80\u001B[0m\u001B]8;;\u001B\\\n\u001B[2;36m                    \u001B[0m                         _        _____            _____                        \u001B[2m               \u001B[0m\n\u001B[2;36m                    \u001B[0m              \u001B[35m/\u001B[0m\\        | |      |  __ \\     \u001B[35m/\u001B[0m\\   \u001B[35m/\u001B[0m ____|                       \u001B[2m               \u001B[0m\n\u001B[2;36m                    \u001B[0m             \u001B[35m/\u001B[0m  \\  _   _| |_ ___ | |__\u001B[1m)\u001B[0m |   \u001B[35m/\u001B[0m  \\ | |  __                        \u001B[2m               \u001B[0m\n\u001B[2;36m                    \u001B[0m            \u001B[35m/\u001B[0m \u001B[35m/\u001B[0m\\ \\| | | | __/ _ \\|  _  \u001B[35m/\u001B[0m   \u001B[35m/\u001B[0m \u001B[35m/\u001B[0m\\ \\| | |_ |                       \u001B[2m               \u001B[0m\n\u001B[2;36m                    \u001B[0m           \u001B[35m/\u001B[0m ____ \\ |_| | || \u001B[1m(\u001B[0m_\u001B[1m)\u001B[0m | | \\ \\  \u001B[35m/\u001B[0m ____ \\ |__| |                       \u001B[2m               \u001B[0m\n\u001B[2;36m                    \u001B[0m          \u001B[35m/_/\u001B[0m    \\_\\__,_|\\__\\___/|_|  \\_\\\u001B[35m/_/\u001B[0m    \\_\\_____|                       \u001B[2m               \u001B[0m\n\u001B[2;36m                    \u001B[0m                                                                                \u001B[2m               \u001B[0m\n\u001B[2;36m                    \u001B[0m                                                                                \u001B[2m               \u001B[0m\n",
      "text/html": "<pre style=\"white-space:pre;overflow-x:auto;line-height:normal;font-family:Menlo,'DejaVu Sans Mono',consolas,'Courier New',monospace\"><span style=\"color: #7fbfbf; text-decoration-color: #7fbfbf\">[06/19/24 13:32:20] </span><span style=\"color: #000080; text-decoration-color: #000080\">INFO    </span> <span style=\"font-weight: bold\">[</span>evaluator.py:<span style=\"color: #008080; text-decoration-color: #008080; font-weight: bold\">80</span><span style=\"font-weight: bold\">]</span> &gt;&gt;                                                   <a href=\"file:///Users/dcampbel/Nextcloud/Repositories/masterclassRetrieval/.venv/lib/python3.11/site-packages/autorag/evaluator.py\" target=\"_blank\"><span style=\"color: #7f7f7f; text-decoration-color: #7f7f7f\">evaluator.py</span></a><span style=\"color: #7f7f7f; text-decoration-color: #7f7f7f\">:</span><a href=\"file:///Users/dcampbel/Nextcloud/Repositories/masterclassRetrieval/.venv/lib/python3.11/site-packages/autorag/evaluator.py#80\" target=\"_blank\"><span style=\"color: #7f7f7f; text-decoration-color: #7f7f7f\">80</span></a>\n<span style=\"color: #7fbfbf; text-decoration-color: #7fbfbf\">                    </span>                         _        _____            _____                        <span style=\"color: #7f7f7f; text-decoration-color: #7f7f7f\">               </span>\n<span style=\"color: #7fbfbf; text-decoration-color: #7fbfbf\">                    </span>              <span style=\"color: #800080; text-decoration-color: #800080\">/</span>\\        | |      |  __ \\     <span style=\"color: #800080; text-decoration-color: #800080\">/</span>\\   <span style=\"color: #800080; text-decoration-color: #800080\">/</span> ____|                       <span style=\"color: #7f7f7f; text-decoration-color: #7f7f7f\">               </span>\n<span style=\"color: #7fbfbf; text-decoration-color: #7fbfbf\">                    </span>             <span style=\"color: #800080; text-decoration-color: #800080\">/</span>  \\  _   _| |_ ___ | |__<span style=\"font-weight: bold\">)</span> |   <span style=\"color: #800080; text-decoration-color: #800080\">/</span>  \\ | |  __                        <span style=\"color: #7f7f7f; text-decoration-color: #7f7f7f\">               </span>\n<span style=\"color: #7fbfbf; text-decoration-color: #7fbfbf\">                    </span>            <span style=\"color: #800080; text-decoration-color: #800080\">/</span> <span style=\"color: #800080; text-decoration-color: #800080\">/</span>\\ \\| | | | __/ _ \\|  _  <span style=\"color: #800080; text-decoration-color: #800080\">/</span>   <span style=\"color: #800080; text-decoration-color: #800080\">/</span> <span style=\"color: #800080; text-decoration-color: #800080\">/</span>\\ \\| | |_ |                       <span style=\"color: #7f7f7f; text-decoration-color: #7f7f7f\">               </span>\n<span style=\"color: #7fbfbf; text-decoration-color: #7fbfbf\">                    </span>           <span style=\"color: #800080; text-decoration-color: #800080\">/</span> ____ \\ |_| | || <span style=\"font-weight: bold\">(</span>_<span style=\"font-weight: bold\">)</span> | | \\ \\  <span style=\"color: #800080; text-decoration-color: #800080\">/</span> ____ \\ |__| |                       <span style=\"color: #7f7f7f; text-decoration-color: #7f7f7f\">               </span>\n<span style=\"color: #7fbfbf; text-decoration-color: #7fbfbf\">                    </span>          <span style=\"color: #800080; text-decoration-color: #800080\">/_/</span>    \\_\\__,_|\\__\\___/|_|  \\_\\<span style=\"color: #800080; text-decoration-color: #800080\">/_/</span>    \\_\\_____|                       <span style=\"color: #7f7f7f; text-decoration-color: #7f7f7f\">               </span>\n<span style=\"color: #7fbfbf; text-decoration-color: #7fbfbf\">                    </span>                                                                                <span style=\"color: #7f7f7f; text-decoration-color: #7f7f7f\">               </span>\n<span style=\"color: #7fbfbf; text-decoration-color: #7fbfbf\">                    </span>                                                                                <span style=\"color: #7f7f7f; text-decoration-color: #7f7f7f\">               </span>\n</pre>\n"
     },
     "metadata": {},
     "output_type": "display_data"
    },
    {
     "data": {
      "text/plain": "\u001B[2;36m[06/19/24 13:32:21]\u001B[0m\u001B[2;36m \u001B[0m\u001B[34mINFO    \u001B[0m \u001B[1m[\u001B[0mposthog.py:\u001B[1;36m20\u001B[0m\u001B[1m]\u001B[0m >> Anonymized telemetry enabled. See                     \u001B]8;id=585404;file:///Users/dcampbel/Nextcloud/Repositories/masterclassRetrieval/.venv/lib/python3.11/site-packages/chromadb/telemetry/product/posthog.py\u001B\\\u001B[2mposthog.py\u001B[0m\u001B]8;;\u001B\\\u001B[2m:\u001B[0m\u001B]8;id=76232;file:///Users/dcampbel/Nextcloud/Repositories/masterclassRetrieval/.venv/lib/python3.11/site-packages/chromadb/telemetry/product/posthog.py#20\u001B\\\u001B[2m20\u001B[0m\u001B]8;;\u001B\\\n\u001B[2;36m                    \u001B[0m         \u001B[4;94mhttps://docs.trychroma.com/telemetry\u001B[0m for more information.               \u001B[2m             \u001B[0m\n",
      "text/html": "<pre style=\"white-space:pre;overflow-x:auto;line-height:normal;font-family:Menlo,'DejaVu Sans Mono',consolas,'Courier New',monospace\"><span style=\"color: #7fbfbf; text-decoration-color: #7fbfbf\">[06/19/24 13:32:21] </span><span style=\"color: #000080; text-decoration-color: #000080\">INFO    </span> <span style=\"font-weight: bold\">[</span>posthog.py:<span style=\"color: #008080; text-decoration-color: #008080; font-weight: bold\">20</span><span style=\"font-weight: bold\">]</span> &gt;&gt; Anonymized telemetry enabled. See                     <a href=\"file:///Users/dcampbel/Nextcloud/Repositories/masterclassRetrieval/.venv/lib/python3.11/site-packages/chromadb/telemetry/product/posthog.py\" target=\"_blank\"><span style=\"color: #7f7f7f; text-decoration-color: #7f7f7f\">posthog.py</span></a><span style=\"color: #7f7f7f; text-decoration-color: #7f7f7f\">:</span><a href=\"file:///Users/dcampbel/Nextcloud/Repositories/masterclassRetrieval/.venv/lib/python3.11/site-packages/chromadb/telemetry/product/posthog.py#20\" target=\"_blank\"><span style=\"color: #7f7f7f; text-decoration-color: #7f7f7f\">20</span></a>\n<span style=\"color: #7fbfbf; text-decoration-color: #7fbfbf\">                    </span>         <span style=\"color: #0000ff; text-decoration-color: #0000ff; text-decoration: underline\">https://docs.trychroma.com/telemetry</span> for more information.               <span style=\"color: #7f7f7f; text-decoration-color: #7f7f7f\">             </span>\n</pre>\n"
     },
     "metadata": {},
     "output_type": "display_data"
    },
    {
     "data": {
      "text/plain": "\u001B[2;36m                   \u001B[0m\u001B[2;36m \u001B[0m\u001B[34mINFO    \u001B[0m \u001B[1m[\u001B[0mevaluator.py:\u001B[1;36m140\u001B[0m\u001B[1m]\u001B[0m >> Embedding VectorDB corpus with openai\u001B[33m...\u001B[0m        \u001B]8;id=158363;file:///Users/dcampbel/Nextcloud/Repositories/masterclassRetrieval/.venv/lib/python3.11/site-packages/autorag/evaluator.py\u001B\\\u001B[2mevaluator.py\u001B[0m\u001B]8;;\u001B\\\u001B[2m:\u001B[0m\u001B]8;id=268039;file:///Users/dcampbel/Nextcloud/Repositories/masterclassRetrieval/.venv/lib/python3.11/site-packages/autorag/evaluator.py#140\u001B\\\u001B[2m140\u001B[0m\u001B]8;;\u001B\\\n",
      "text/html": "<pre style=\"white-space:pre;overflow-x:auto;line-height:normal;font-family:Menlo,'DejaVu Sans Mono',consolas,'Courier New',monospace\"><span style=\"color: #7fbfbf; text-decoration-color: #7fbfbf\">                    </span><span style=\"color: #000080; text-decoration-color: #000080\">INFO    </span> <span style=\"font-weight: bold\">[</span>evaluator.py:<span style=\"color: #008080; text-decoration-color: #008080; font-weight: bold\">140</span><span style=\"font-weight: bold\">]</span> &gt;&gt; Embedding VectorDB corpus with openai<span style=\"color: #808000; text-decoration-color: #808000\">...</span>        <a href=\"file:///Users/dcampbel/Nextcloud/Repositories/masterclassRetrieval/.venv/lib/python3.11/site-packages/autorag/evaluator.py\" target=\"_blank\"><span style=\"color: #7f7f7f; text-decoration-color: #7f7f7f\">evaluator.py</span></a><span style=\"color: #7f7f7f; text-decoration-color: #7f7f7f\">:</span><a href=\"file:///Users/dcampbel/Nextcloud/Repositories/masterclassRetrieval/.venv/lib/python3.11/site-packages/autorag/evaluator.py#140\" target=\"_blank\"><span style=\"color: #7f7f7f; text-decoration-color: #7f7f7f\">140</span></a>\n</pre>\n"
     },
     "metadata": {},
     "output_type": "display_data"
    },
    {
     "ename": "ValueError",
     "evalue": "Expected ID to be a str, got [array(['Derek Gaunt On Hostage Negotiation Tactics For Business And Life, Managing Egos And Difficult Emotions'],\n       dtype=object)                                                                                              ]",
     "output_type": "error",
     "traceback": [
      "\u001B[0;31m---------------------------------------------------------------------------\u001B[0m",
      "\u001B[0;31mValueError\u001B[0m                                Traceback (most recent call last)",
      "Cell \u001B[0;32mIn[108], line 35\u001B[0m\n\u001B[1;32m     33\u001B[0m build_synthetic_template_autorag(\u001B[38;5;124m\"\u001B[39m\u001B[38;5;124mlive\u001B[39m\u001B[38;5;124m\"\u001B[39m, use_existing\u001B[38;5;241m=\u001B[39m\u001B[38;5;28;01mTrue\u001B[39;00m)\n\u001B[1;32m     34\u001B[0m \u001B[38;5;28mprint\u001B[39m(\u001B[38;5;124m\"\u001B[39m\u001B[38;5;124mNow entering autorag pipeline...\u001B[39m\u001B[38;5;124m\"\u001B[39m)\n\u001B[0;32m---> 35\u001B[0m \u001B[43mtry_autorag\u001B[49m\u001B[43m(\u001B[49m\u001B[43m)\u001B[49m\n",
      "File \u001B[0;32m~/Nextcloud/Repositories/masterclassRetrieval/app/eval.py:220\u001B[0m, in \u001B[0;36mtry_autorag\u001B[0;34m()\u001B[0m\n\u001B[1;32m    218\u001B[0m evaluator \u001B[38;5;241m=\u001B[39m Evaluator(qa_data_path\u001B[38;5;241m=\u001B[39m\u001B[38;5;124m'\u001B[39m\u001B[38;5;124mutil/live_template_eval_autorag.parquet\u001B[39m\u001B[38;5;124m'\u001B[39m, corpus_data_path\u001B[38;5;241m=\u001B[39m\u001B[38;5;124m'\u001B[39m\u001B[38;5;124mutil/live_dataset_autorag.parquet\u001B[39m\u001B[38;5;124m'\u001B[39m)\n\u001B[1;32m    219\u001B[0m \u001B[38;5;28mprint\u001B[39m(\u001B[38;5;124m\"\u001B[39m\u001B[38;5;124mStarting trial\u001B[39m\u001B[38;5;124m\"\u001B[39m)\n\u001B[0;32m--> 220\u001B[0m \u001B[43mevaluator\u001B[49m\u001B[38;5;241;43m.\u001B[39;49m\u001B[43mstart_trial\u001B[49m\u001B[43m(\u001B[49m\u001B[38;5;124;43m'\u001B[39;49m\u001B[38;5;124;43mfull.yaml\u001B[39;49m\u001B[38;5;124;43m'\u001B[39;49m\u001B[43m)\u001B[49m\n",
      "File \u001B[0;32m~/Nextcloud/Repositories/masterclassRetrieval/.venv/lib/python3.11/site-packages/autorag/evaluator.py:88\u001B[0m, in \u001B[0;36mEvaluator.start_trial\u001B[0;34m(self, yaml_path)\u001B[0m\n\u001B[1;32m     86\u001B[0m shutil\u001B[38;5;241m.\u001B[39mcopy(yaml_path, os\u001B[38;5;241m.\u001B[39mpath\u001B[38;5;241m.\u001B[39mjoin(\u001B[38;5;28mself\u001B[39m\u001B[38;5;241m.\u001B[39mproject_dir, trial_name, \u001B[38;5;124m'\u001B[39m\u001B[38;5;124mconfig.yaml\u001B[39m\u001B[38;5;124m'\u001B[39m))\n\u001B[1;32m     87\u001B[0m node_lines \u001B[38;5;241m=\u001B[39m \u001B[38;5;28mself\u001B[39m\u001B[38;5;241m.\u001B[39m_load_node_lines(yaml_path)\n\u001B[0;32m---> 88\u001B[0m \u001B[38;5;28;43mself\u001B[39;49m\u001B[38;5;241;43m.\u001B[39;49m\u001B[43m__embed\u001B[49m\u001B[43m(\u001B[49m\u001B[43mnode_lines\u001B[49m\u001B[43m)\u001B[49m\n\u001B[1;32m     90\u001B[0m trial_summary_df \u001B[38;5;241m=\u001B[39m pd\u001B[38;5;241m.\u001B[39mDataFrame(columns\u001B[38;5;241m=\u001B[39m[\u001B[38;5;124m'\u001B[39m\u001B[38;5;124mnode_line_name\u001B[39m\u001B[38;5;124m'\u001B[39m, \u001B[38;5;124m'\u001B[39m\u001B[38;5;124mnode_type\u001B[39m\u001B[38;5;124m'\u001B[39m, \u001B[38;5;124m'\u001B[39m\u001B[38;5;124mbest_module_filename\u001B[39m\u001B[38;5;124m'\u001B[39m,\n\u001B[1;32m     91\u001B[0m                                          \u001B[38;5;124m'\u001B[39m\u001B[38;5;124mbest_module_name\u001B[39m\u001B[38;5;124m'\u001B[39m, \u001B[38;5;124m'\u001B[39m\u001B[38;5;124mbest_module_params\u001B[39m\u001B[38;5;124m'\u001B[39m, \u001B[38;5;124m'\u001B[39m\u001B[38;5;124mbest_execution_time\u001B[39m\u001B[38;5;124m'\u001B[39m])\n\u001B[1;32m     92\u001B[0m \u001B[38;5;28;01mfor\u001B[39;00m i, (node_line_name, node_line) \u001B[38;5;129;01min\u001B[39;00m \u001B[38;5;28menumerate\u001B[39m(node_lines\u001B[38;5;241m.\u001B[39mitems()):\n",
      "File \u001B[0;32m~/Nextcloud/Repositories/masterclassRetrieval/.venv/lib/python3.11/site-packages/autorag/evaluator.py:151\u001B[0m, in \u001B[0;36mEvaluator.__embed\u001B[0;34m(self, node_lines)\u001B[0m\n\u001B[1;32m    149\u001B[0m     logger\u001B[38;5;241m.\u001B[39merror(\u001B[38;5;124mf\u001B[39m\u001B[38;5;124m\"\u001B[39m\u001B[38;5;124membedding_model_str \u001B[39m\u001B[38;5;132;01m{\u001B[39;00membedding_model_str\u001B[38;5;132;01m}\u001B[39;00m\u001B[38;5;124m does not exist.\u001B[39m\u001B[38;5;124m\"\u001B[39m)\n\u001B[1;32m    150\u001B[0m     \u001B[38;5;28;01mraise\u001B[39;00m \u001B[38;5;167;01mKeyError\u001B[39;00m(\u001B[38;5;124mf\u001B[39m\u001B[38;5;124m\"\u001B[39m\u001B[38;5;124membedding_model_str \u001B[39m\u001B[38;5;132;01m{\u001B[39;00membedding_model_str\u001B[38;5;132;01m}\u001B[39;00m\u001B[38;5;124m does not exist.\u001B[39m\u001B[38;5;124m\"\u001B[39m)\n\u001B[0;32m--> 151\u001B[0m \u001B[43mvectordb_ingest\u001B[49m\u001B[43m(\u001B[49m\u001B[43mcollection\u001B[49m\u001B[43m,\u001B[49m\u001B[43m \u001B[49m\u001B[38;5;28;43mself\u001B[39;49m\u001B[38;5;241;43m.\u001B[39;49m\u001B[43mcorpus_data\u001B[49m\u001B[43m,\u001B[49m\u001B[43m \u001B[49m\u001B[43membedding_model\u001B[49m\u001B[43m,\u001B[49m\u001B[43m \u001B[49m\u001B[43membedding_batch\u001B[49m\u001B[38;5;241;43m=\u001B[39;49m\u001B[43membedding_batch\u001B[49m\u001B[43m)\u001B[49m\n\u001B[1;32m    152\u001B[0m logger\u001B[38;5;241m.\u001B[39minfo(\u001B[38;5;124mf\u001B[39m\u001B[38;5;124m'\u001B[39m\u001B[38;5;124mVectorDB corpus embedding complete with \u001B[39m\u001B[38;5;132;01m{\u001B[39;00membedding_model_str\u001B[38;5;132;01m}\u001B[39;00m\u001B[38;5;124m.\u001B[39m\u001B[38;5;124m'\u001B[39m)\n\u001B[1;32m    153\u001B[0m \u001B[38;5;28;01mdel\u001B[39;00m embedding_model\n",
      "File \u001B[0;32m~/Nextcloud/Repositories/masterclassRetrieval/.venv/lib/python3.11/site-packages/autorag/nodes/retrieval/vectordb.py:86\u001B[0m, in \u001B[0;36mvectordb_ingest\u001B[0;34m(collection, corpus_data, embedding_model, embedding_batch)\u001B[0m\n\u001B[1;32m     83\u001B[0m ids \u001B[38;5;241m=\u001B[39m corpus_data[\u001B[38;5;124m'\u001B[39m\u001B[38;5;124mdoc_id\u001B[39m\u001B[38;5;124m'\u001B[39m]\u001B[38;5;241m.\u001B[39mtolist()\n\u001B[1;32m     85\u001B[0m \u001B[38;5;66;03m# Query the collection to check if IDs already exist\u001B[39;00m\n\u001B[0;32m---> 86\u001B[0m existing_ids \u001B[38;5;241m=\u001B[39m \u001B[38;5;28mset\u001B[39m(\u001B[43mcollection\u001B[49m\u001B[38;5;241;43m.\u001B[39;49m\u001B[43mget\u001B[49m\u001B[43m(\u001B[49m\u001B[43mids\u001B[49m\u001B[38;5;241;43m=\u001B[39;49m\u001B[43mids\u001B[49m\u001B[43m)\u001B[49m[\u001B[38;5;124m'\u001B[39m\u001B[38;5;124mids\u001B[39m\u001B[38;5;124m'\u001B[39m])  \u001B[38;5;66;03m# Assuming 'ids' is the key in the response\u001B[39;00m\n\u001B[1;32m     87\u001B[0m new_passage \u001B[38;5;241m=\u001B[39m corpus_data[\u001B[38;5;241m~\u001B[39mcorpus_data[\u001B[38;5;124m'\u001B[39m\u001B[38;5;124mdoc_id\u001B[39m\u001B[38;5;124m'\u001B[39m]\u001B[38;5;241m.\u001B[39misin(existing_ids)]\n\u001B[1;32m     89\u001B[0m \u001B[38;5;28;01mif\u001B[39;00m \u001B[38;5;129;01mnot\u001B[39;00m new_passage\u001B[38;5;241m.\u001B[39mempty:\n",
      "File \u001B[0;32m~/Nextcloud/Repositories/masterclassRetrieval/.venv/lib/python3.11/site-packages/chromadb/api/models/Collection.py:115\u001B[0m, in \u001B[0;36mCollection.get\u001B[0;34m(self, ids, where, limit, offset, where_document, include)\u001B[0m\n\u001B[1;32m     86\u001B[0m \u001B[38;5;28;01mdef\u001B[39;00m \u001B[38;5;21mget\u001B[39m(\n\u001B[1;32m     87\u001B[0m     \u001B[38;5;28mself\u001B[39m,\n\u001B[1;32m     88\u001B[0m     ids: Optional[OneOrMany[ID]] \u001B[38;5;241m=\u001B[39m \u001B[38;5;28;01mNone\u001B[39;00m,\n\u001B[0;32m   (...)\u001B[0m\n\u001B[1;32m     93\u001B[0m     include: Include \u001B[38;5;241m=\u001B[39m [\u001B[38;5;124m\"\u001B[39m\u001B[38;5;124mmetadatas\u001B[39m\u001B[38;5;124m\"\u001B[39m, \u001B[38;5;124m\"\u001B[39m\u001B[38;5;124mdocuments\u001B[39m\u001B[38;5;124m\"\u001B[39m],\n\u001B[1;32m     94\u001B[0m ) \u001B[38;5;241m-\u001B[39m\u001B[38;5;241m>\u001B[39m GetResult:\n\u001B[1;32m     95\u001B[0m \u001B[38;5;250m    \u001B[39m\u001B[38;5;124;03m\"\"\"Get embeddings and their associate data from the data store. If no ids or where filter is provided returns\u001B[39;00m\n\u001B[1;32m     96\u001B[0m \u001B[38;5;124;03m    all embeddings up to limit starting at offset.\u001B[39;00m\n\u001B[1;32m     97\u001B[0m \n\u001B[0;32m   (...)\u001B[0m\n\u001B[1;32m    108\u001B[0m \n\u001B[1;32m    109\u001B[0m \u001B[38;5;124;03m    \"\"\"\u001B[39;00m\n\u001B[1;32m    110\u001B[0m     (\n\u001B[1;32m    111\u001B[0m         valid_ids,\n\u001B[1;32m    112\u001B[0m         valid_where,\n\u001B[1;32m    113\u001B[0m         valid_where_document,\n\u001B[1;32m    114\u001B[0m         valid_include,\n\u001B[0;32m--> 115\u001B[0m     ) \u001B[38;5;241m=\u001B[39m \u001B[38;5;28;43mself\u001B[39;49m\u001B[38;5;241;43m.\u001B[39;49m\u001B[43m_validate_and_prepare_get_request\u001B[49m\u001B[43m(\u001B[49m\u001B[43mids\u001B[49m\u001B[43m,\u001B[49m\u001B[43m \u001B[49m\u001B[43mwhere\u001B[49m\u001B[43m,\u001B[49m\u001B[43m \u001B[49m\u001B[43mwhere_document\u001B[49m\u001B[43m,\u001B[49m\u001B[43m \u001B[49m\u001B[43minclude\u001B[49m\u001B[43m)\u001B[49m\n\u001B[1;32m    117\u001B[0m     get_results \u001B[38;5;241m=\u001B[39m \u001B[38;5;28mself\u001B[39m\u001B[38;5;241m.\u001B[39m_client\u001B[38;5;241m.\u001B[39m_get(\n\u001B[1;32m    118\u001B[0m         \u001B[38;5;28mself\u001B[39m\u001B[38;5;241m.\u001B[39mid,\n\u001B[1;32m    119\u001B[0m         valid_ids,\n\u001B[0;32m   (...)\u001B[0m\n\u001B[1;32m    125\u001B[0m         include\u001B[38;5;241m=\u001B[39mvalid_include,\n\u001B[1;32m    126\u001B[0m     )\n\u001B[1;32m    128\u001B[0m     \u001B[38;5;28;01mreturn\u001B[39;00m \u001B[38;5;28mself\u001B[39m\u001B[38;5;241m.\u001B[39m_transform_get_response(get_results, include)\n",
      "File \u001B[0;32m~/Nextcloud/Repositories/masterclassRetrieval/.venv/lib/python3.11/site-packages/chromadb/api/models/CollectionCommon.py:296\u001B[0m, in \u001B[0;36mCollectionCommon._validate_and_prepare_get_request\u001B[0;34m(self, ids, where, where_document, include)\u001B[0m\n\u001B[1;32m    292\u001B[0m valid_where \u001B[38;5;241m=\u001B[39m validate_where(where) \u001B[38;5;28;01mif\u001B[39;00m where \u001B[38;5;28;01melse\u001B[39;00m \u001B[38;5;28;01mNone\u001B[39;00m\n\u001B[1;32m    293\u001B[0m valid_where_document \u001B[38;5;241m=\u001B[39m (\n\u001B[1;32m    294\u001B[0m     validate_where_document(where_document) \u001B[38;5;28;01mif\u001B[39;00m where_document \u001B[38;5;28;01melse\u001B[39;00m \u001B[38;5;28;01mNone\u001B[39;00m\n\u001B[1;32m    295\u001B[0m )\n\u001B[0;32m--> 296\u001B[0m valid_ids \u001B[38;5;241m=\u001B[39m \u001B[43mvalidate_ids\u001B[49m\u001B[43m(\u001B[49m\u001B[43mmaybe_cast_one_to_many_ids\u001B[49m\u001B[43m(\u001B[49m\u001B[43mids\u001B[49m\u001B[43m)\u001B[49m\u001B[43m)\u001B[49m \u001B[38;5;28;01mif\u001B[39;00m ids \u001B[38;5;28;01melse\u001B[39;00m \u001B[38;5;28;01mNone\u001B[39;00m\n\u001B[1;32m    297\u001B[0m valid_include \u001B[38;5;241m=\u001B[39m validate_include(include, allow_distances\u001B[38;5;241m=\u001B[39m\u001B[38;5;28;01mFalse\u001B[39;00m)\n\u001B[1;32m    299\u001B[0m \u001B[38;5;28;01mif\u001B[39;00m \u001B[38;5;124m\"\u001B[39m\u001B[38;5;124mdata\u001B[39m\u001B[38;5;124m\"\u001B[39m \u001B[38;5;129;01min\u001B[39;00m include \u001B[38;5;129;01mand\u001B[39;00m \u001B[38;5;28mself\u001B[39m\u001B[38;5;241m.\u001B[39m_data_loader \u001B[38;5;129;01mis\u001B[39;00m \u001B[38;5;28;01mNone\u001B[39;00m:\n",
      "File \u001B[0;32m~/Nextcloud/Repositories/masterclassRetrieval/.venv/lib/python3.11/site-packages/chromadb/api/types.py:237\u001B[0m, in \u001B[0;36mvalidate_ids\u001B[0;34m(ids)\u001B[0m\n\u001B[1;32m    235\u001B[0m \u001B[38;5;28;01mfor\u001B[39;00m id_ \u001B[38;5;129;01min\u001B[39;00m ids:\n\u001B[1;32m    236\u001B[0m     \u001B[38;5;28;01mif\u001B[39;00m \u001B[38;5;129;01mnot\u001B[39;00m \u001B[38;5;28misinstance\u001B[39m(id_, \u001B[38;5;28mstr\u001B[39m):\n\u001B[0;32m--> 237\u001B[0m         \u001B[38;5;28;01mraise\u001B[39;00m \u001B[38;5;167;01mValueError\u001B[39;00m(\u001B[38;5;124mf\u001B[39m\u001B[38;5;124m\"\u001B[39m\u001B[38;5;124mExpected ID to be a str, got \u001B[39m\u001B[38;5;132;01m{\u001B[39;00mid_\u001B[38;5;132;01m}\u001B[39;00m\u001B[38;5;124m\"\u001B[39m)\n\u001B[1;32m    238\u001B[0m     \u001B[38;5;28;01mif\u001B[39;00m id_ \u001B[38;5;129;01min\u001B[39;00m seen:\n\u001B[1;32m    239\u001B[0m         dups\u001B[38;5;241m.\u001B[39madd(id_)\n",
      "\u001B[0;31mValueError\u001B[0m: Expected ID to be a str, got [array(['Derek Gaunt On Hostage Negotiation Tactics For Business And Life, Managing Egos And Difficult Emotions'],\n       dtype=object)                                                                                              ]"
     ]
    }
   ],
   "source": [
    "import numpy as np\n",
    "\n",
    "corpus_df = pd.read_parquet('util/live_dataset_autorag.parquet')\n",
    "qa_df = pd.read_parquet('util/live_template_eval_autorag.parquet')\n",
    "print(type(corpus_df['doc_id'][0]))\n",
    "from app.eval import build_synthetic_template_autorag, try_autorag\n",
    "\n",
    "def validate_qa_from_corpus_dataset(qa_df: pd.DataFrame, corpus_df: pd.DataFrame):\n",
    "    qa_ids = []\n",
    "    print(type(corpus_df['doc_id'][0]))\n",
    "    print(type(qa_df['retrieval_gt'][0]))\n",
    "    print(qa_df['retrieval_gt'][0])\n",
    "\n",
    "    no_exist_ids = list(filter(lambda qa_id: corpus_df[corpus_df['doc_id'] == qa_id].empty, qa_ids))\n",
    "    for i in range(len(qa_ids)):\n",
    "        print(qa_ids[i])\n",
    "        print(type(qa_ids[i]))\n",
    "    print(\"now corpus\")\n",
    "    for i in range(len(corpus_df['doc_id'])):\n",
    "        print(corpus_df['doc_id'][i])\n",
    "        print(type(corpus_df['doc_id'][i]))\n",
    "    print(\"now no_exist_ids\")\n",
    "    for i in range(len(no_exist_ids)):\n",
    "        print(no_exist_ids[i])\n",
    "        print(type(no_exist_ids[i]))\n",
    "        \n",
    "    print(\"now retrieval length\")\n",
    "    print(len(qa_df['retrieval_gt']))\n",
    "    assert len(no_exist_ids) == 0, f\"{len(no_exist_ids)} doc_ids in retrieval_gt do not exist in corpus_df.\"\n",
    "    \n",
    "validate_qa_from_corpus_dataset(qa_df, corpus_df)\n",
    "\n",
    "build_synthetic_template_autorag(\"live\", use_existing=True)\n",
    "print(\"Now entering autorag pipeline...\")\n",
    "try_autorag()"
   ],
   "metadata": {
    "collapsed": false,
    "ExecuteTime": {
     "end_time": "2024-06-19T17:32:21.211563Z",
     "start_time": "2024-06-19T17:32:20.908398Z"
    }
   },
   "id": "c12ab91109ae582e",
   "execution_count": 108
  },
  {
   "cell_type": "code",
   "outputs": [
    {
     "data": {
      "text/plain": "                                                input  \\\n0   Hi Chris, great to talk to you!\\nHi there! Gre...   \n1   Hi Chris\\nHello there! How can I assist you to...   \n2   Hi, I've been having a tough time dealing with...   \n3   Hi Chris, how are you?\\nI'm doing well, thanks...   \n4   Hi Chris, how are you?\\nI'm doing well, thank ...   \n5   Hey, so I've been thinking a lot about what yo...   \n6   Hey, I've been reading up on some behavioral e...   \n7   Hey, Derek. Good to see you again. Thanks for ...   \n8   Hey, I've been thinking a lot about tactical e...   \n9   Hey Chris.\\nHey there! What's on your mind?\\nJ...   \n10  Hi Chris, I recently read about the Gawker law...   \n11  Hey, Derek. Good to see you again. Thanks for ...   \n12  Hi Chris, can we talk about handling contentio...   \n13  Hi Chris, great to talk to you!\\nHi there! Gre...   \n14  Hey Chris. How's it going?\\nI'm doing well, th...   \n15  Hi Chris!\\nHello! If you could live anywhere i...   \n16  Hey Chris! I've always been curious, did you e...   \n17  Hi Chris, can you tell me about a particularly...   \n18  Hey, I'm really struggling to figure out how t...   \n19  Hi, I've been grappling with a professional ne...   \n20  Hi Chris, can we talk about handling contentio...   \n21  Hi Chris, I'd love to hear a story about a les...   \n22  Hi Chris, can you share a bit about your early...   \n23  I just can't take this anymore. This project i...   \n24  Hi Chris, can you tell me a story about a time...   \n\n                                               output  \n0   [Document(page_content=\"You know, I'd love to ...  \n1   [Document(page_content='So, Chris, can I say i...  \n2   [Document(page_content=\"I mean, like, at any g...  \n3   [Document(page_content=\"Chris, I'd love to und...  \n4   [Document(page_content=\"And then two, what are...  \n5   [Document(page_content=\"And actually the worst...  \n6   [Document(page_content=\"You talk about loss av...  \n7   [Document(page_content=\"It's going to be a 30-...  \n8   [Document(page_content='Can you give me an exa...  \n9   [Document(page_content=\"Chris, how's it going?...  \n10  [Document(page_content=\"There was Peter Thiel ...  \n11  [Document(page_content=\"So back to this window...  \n12  [Document(page_content=\"And so I got I got an ...  \n13  [Document(page_content=\"You know, I'd love to ...  \n14  [Document(page_content='So, Chris, can I say i...  \n15  [Document(page_content='Is that the best place...  \n16  [Document(page_content='What was that like for...  \n17  [Document(page_content='Can you maybe give us ...  \n18  [Document(page_content=\"I'd love to see how yo...  \n19  [Document(page_content=\"And I think that is a ...  \n20  [Document(page_content=\"Chris, today we want t...  \n21  [Document(page_content='Chris, would you mind ...  \n22  [Document(page_content=\"Chris, I'd love to und...  \n23  [Document(page_content=\"And the first thing yo...  \n24  [Document(page_content=\"The first question I a...  ",
      "text/html": "<div>\n<style scoped>\n    .dataframe tbody tr th:only-of-type {\n        vertical-align: middle;\n    }\n\n    .dataframe tbody tr th {\n        vertical-align: top;\n    }\n\n    .dataframe thead th {\n        text-align: right;\n    }\n</style>\n<table border=\"1\" class=\"dataframe\">\n  <thead>\n    <tr style=\"text-align: right;\">\n      <th></th>\n      <th>input</th>\n      <th>output</th>\n    </tr>\n  </thead>\n  <tbody>\n    <tr>\n      <th>0</th>\n      <td>Hi Chris, great to talk to you!\\nHi there! Gre...</td>\n      <td>[Document(page_content=\"You know, I'd love to ...</td>\n    </tr>\n    <tr>\n      <th>1</th>\n      <td>Hi Chris\\nHello there! How can I assist you to...</td>\n      <td>[Document(page_content='So, Chris, can I say i...</td>\n    </tr>\n    <tr>\n      <th>2</th>\n      <td>Hi, I've been having a tough time dealing with...</td>\n      <td>[Document(page_content=\"I mean, like, at any g...</td>\n    </tr>\n    <tr>\n      <th>3</th>\n      <td>Hi Chris, how are you?\\nI'm doing well, thanks...</td>\n      <td>[Document(page_content=\"Chris, I'd love to und...</td>\n    </tr>\n    <tr>\n      <th>4</th>\n      <td>Hi Chris, how are you?\\nI'm doing well, thank ...</td>\n      <td>[Document(page_content=\"And then two, what are...</td>\n    </tr>\n    <tr>\n      <th>5</th>\n      <td>Hey, so I've been thinking a lot about what yo...</td>\n      <td>[Document(page_content=\"And actually the worst...</td>\n    </tr>\n    <tr>\n      <th>6</th>\n      <td>Hey, I've been reading up on some behavioral e...</td>\n      <td>[Document(page_content=\"You talk about loss av...</td>\n    </tr>\n    <tr>\n      <th>7</th>\n      <td>Hey, Derek. Good to see you again. Thanks for ...</td>\n      <td>[Document(page_content=\"It's going to be a 30-...</td>\n    </tr>\n    <tr>\n      <th>8</th>\n      <td>Hey, I've been thinking a lot about tactical e...</td>\n      <td>[Document(page_content='Can you give me an exa...</td>\n    </tr>\n    <tr>\n      <th>9</th>\n      <td>Hey Chris.\\nHey there! What's on your mind?\\nJ...</td>\n      <td>[Document(page_content=\"Chris, how's it going?...</td>\n    </tr>\n    <tr>\n      <th>10</th>\n      <td>Hi Chris, I recently read about the Gawker law...</td>\n      <td>[Document(page_content=\"There was Peter Thiel ...</td>\n    </tr>\n    <tr>\n      <th>11</th>\n      <td>Hey, Derek. Good to see you again. Thanks for ...</td>\n      <td>[Document(page_content=\"So back to this window...</td>\n    </tr>\n    <tr>\n      <th>12</th>\n      <td>Hi Chris, can we talk about handling contentio...</td>\n      <td>[Document(page_content=\"And so I got I got an ...</td>\n    </tr>\n    <tr>\n      <th>13</th>\n      <td>Hi Chris, great to talk to you!\\nHi there! Gre...</td>\n      <td>[Document(page_content=\"You know, I'd love to ...</td>\n    </tr>\n    <tr>\n      <th>14</th>\n      <td>Hey Chris. How's it going?\\nI'm doing well, th...</td>\n      <td>[Document(page_content='So, Chris, can I say i...</td>\n    </tr>\n    <tr>\n      <th>15</th>\n      <td>Hi Chris!\\nHello! If you could live anywhere i...</td>\n      <td>[Document(page_content='Is that the best place...</td>\n    </tr>\n    <tr>\n      <th>16</th>\n      <td>Hey Chris! I've always been curious, did you e...</td>\n      <td>[Document(page_content='What was that like for...</td>\n    </tr>\n    <tr>\n      <th>17</th>\n      <td>Hi Chris, can you tell me about a particularly...</td>\n      <td>[Document(page_content='Can you maybe give us ...</td>\n    </tr>\n    <tr>\n      <th>18</th>\n      <td>Hey, I'm really struggling to figure out how t...</td>\n      <td>[Document(page_content=\"I'd love to see how yo...</td>\n    </tr>\n    <tr>\n      <th>19</th>\n      <td>Hi, I've been grappling with a professional ne...</td>\n      <td>[Document(page_content=\"And I think that is a ...</td>\n    </tr>\n    <tr>\n      <th>20</th>\n      <td>Hi Chris, can we talk about handling contentio...</td>\n      <td>[Document(page_content=\"Chris, today we want t...</td>\n    </tr>\n    <tr>\n      <th>21</th>\n      <td>Hi Chris, I'd love to hear a story about a les...</td>\n      <td>[Document(page_content='Chris, would you mind ...</td>\n    </tr>\n    <tr>\n      <th>22</th>\n      <td>Hi Chris, can you share a bit about your early...</td>\n      <td>[Document(page_content=\"Chris, I'd love to und...</td>\n    </tr>\n    <tr>\n      <th>23</th>\n      <td>I just can't take this anymore. This project i...</td>\n      <td>[Document(page_content=\"And the first thing yo...</td>\n    </tr>\n    <tr>\n      <th>24</th>\n      <td>Hi Chris, can you tell me a story about a time...</td>\n      <td>[Document(page_content=\"The first question I a...</td>\n    </tr>\n  </tbody>\n</table>\n</div>"
     },
     "execution_count": 11,
     "metadata": {},
     "output_type": "execute_result"
    }
   ],
   "source": [
    "df = pd.read_csv('util/live_rag-test-conversations.csv')\n",
    "df.head(50)"
   ],
   "metadata": {
    "collapsed": false,
    "ExecuteTime": {
     "end_time": "2024-06-19T04:42:10.252985Z",
     "start_time": "2024-06-19T04:42:10.237437Z"
    }
   },
   "id": "a24786ad2887def8",
   "execution_count": 11
  },
  {
   "cell_type": "code",
   "outputs": [
    {
     "name": "stdout",
     "output_type": "stream",
     "text": [
      "Hi Chris, great to talk to you!\n",
      "Hi there! Great to connect. What's on your mind?\n",
      "I was wondering if you could share a story about a negotiation that had a tight deadline.\n"
     ]
    }
   ],
   "source": [
    "concatenated_content = \"\\n\".join([entry['content'] for entry in df.loc[0, 'conv_prefix']])\n",
    "\n",
    "print(concatenated_content)"
   ],
   "metadata": {
    "collapsed": false,
    "ExecuteTime": {
     "end_time": "2024-06-19T02:30:39.790626Z",
     "start_time": "2024-06-19T02:30:39.788296Z"
    }
   },
   "id": "c4ee3ca6c449355c",
   "execution_count": 8
  },
  {
   "cell_type": "code",
   "outputs": [],
   "source": [
    "df.to_csv('util/conversational_inputs.csv', index=False)"
   ],
   "metadata": {
    "collapsed": false,
    "ExecuteTime": {
     "end_time": "2024-06-18T23:16:31.688242Z",
     "start_time": "2024-06-18T23:16:31.681783Z"
    }
   },
   "id": "ea355026b994151e",
   "execution_count": 5
  },
  {
   "cell_type": "code",
   "outputs": [],
   "source": [
    "parquet_content_file_path ='util/content_dataset.parquet'\n",
    "df = pd.read_parquet(parquet_content_file_path)\n"
   ],
   "metadata": {
    "collapsed": false,
    "ExecuteTime": {
     "end_time": "2024-06-18T23:17:11.581151Z",
     "start_time": "2024-06-18T23:17:11.561508Z"
    }
   },
   "id": "cd556c171584648a",
   "execution_count": 6
  },
  {
   "cell_type": "code",
   "outputs": [
    {
     "data": {
      "text/plain": "     int_id                                            content  \\\n0         1   Many things in life are based on negotiation ...   \n1         2   There is one book that I have my entire team ...   \n2         3   The hostage had the opportunity to simply wal...   \n3         4   Welcome to the Wealth Time Freedom Podcast, w...   \n4         5   Episode 99, former top FBI hostage negotiator...   \n..      ...                                                ...   \n245     246  NAIL THE LASTING \\nIMPRESSION\\nSend people awa...   \n246     247  BE A FULL-SERVICE,  \\nFULL FEE AGENT\\nAt 6 per...   \n247     248  CONCLUSION\\nIt’s time to get your humanity— \\n...   \n248     249  What is it like negotiating for a hostage with...   \n249     250  This book would not have been possible without...   \n\n                   id                                              title  \\\n0    c0554397d41f0a5b  Derek Gaunt On Hostage Negotiation Tactics For...   \n1    a67e345e008c3529  Chris Voss Interview - Live Hostage Negotiatio...   \n2    fb2468a4779529e5  Chris Voss — FBI Negotiation Tactics for Busin...   \n3    186853b44580de8a  #56 Chris Voss - How to earn what you_re worth...   \n4    38b1ce85b1e16315  Chris Voss - Former top FBI hostage negotiator...   \n..                ...                                                ...   \n245  6a2c4450747411d0  The Full Fee Agent: How to Stack the Odds in Y...   \n246  838e0b00481876e3  The Full Fee Agent: How to Stack the Odds in Y...   \n247  1ee38eec944ee95c  The Full Fee Agent: How to Stack the Odds in Y...   \n248  cd17c3d030874e58  Chris Voss: FBI Hostage Negotiator | Lex Fridm...   \n249  bd203649db99c9cf       Never Split The Difference | Acknowledgments   \n\n          kind                                           metadata  \n0    interview  {'kind': 'interview', 'parent_title': None, 'p...  \n1    interview  {'kind': 'interview', 'parent_title': None, 'p...  \n2    interview  {'kind': 'interview', 'parent_title': None, 'p...  \n3    interview  {'kind': 'interview', 'parent_title': None, 'p...  \n4    interview  {'kind': 'interview', 'parent_title': None, 'p...  \n..         ...                                                ...  \n245       book  {'kind': 'book', 'parent_title': None, 'publis...  \n246       book  {'kind': 'book', 'parent_title': None, 'publis...  \n247       book  {'kind': 'book', 'parent_title': None, 'publis...  \n248  interview  {'kind': 'interview', 'parent_title': None, 'p...  \n249       book  {'kind': 'book', 'parent_title': 'Never Split ...  \n\n[250 rows x 6 columns]",
      "text/html": "<div>\n<style scoped>\n    .dataframe tbody tr th:only-of-type {\n        vertical-align: middle;\n    }\n\n    .dataframe tbody tr th {\n        vertical-align: top;\n    }\n\n    .dataframe thead th {\n        text-align: right;\n    }\n</style>\n<table border=\"1\" class=\"dataframe\">\n  <thead>\n    <tr style=\"text-align: right;\">\n      <th></th>\n      <th>int_id</th>\n      <th>content</th>\n      <th>id</th>\n      <th>title</th>\n      <th>kind</th>\n      <th>metadata</th>\n    </tr>\n  </thead>\n  <tbody>\n    <tr>\n      <th>0</th>\n      <td>1</td>\n      <td>Many things in life are based on negotiation ...</td>\n      <td>c0554397d41f0a5b</td>\n      <td>Derek Gaunt On Hostage Negotiation Tactics For...</td>\n      <td>interview</td>\n      <td>{'kind': 'interview', 'parent_title': None, 'p...</td>\n    </tr>\n    <tr>\n      <th>1</th>\n      <td>2</td>\n      <td>There is one book that I have my entire team ...</td>\n      <td>a67e345e008c3529</td>\n      <td>Chris Voss Interview - Live Hostage Negotiatio...</td>\n      <td>interview</td>\n      <td>{'kind': 'interview', 'parent_title': None, 'p...</td>\n    </tr>\n    <tr>\n      <th>2</th>\n      <td>3</td>\n      <td>The hostage had the opportunity to simply wal...</td>\n      <td>fb2468a4779529e5</td>\n      <td>Chris Voss — FBI Negotiation Tactics for Busin...</td>\n      <td>interview</td>\n      <td>{'kind': 'interview', 'parent_title': None, 'p...</td>\n    </tr>\n    <tr>\n      <th>3</th>\n      <td>4</td>\n      <td>Welcome to the Wealth Time Freedom Podcast, w...</td>\n      <td>186853b44580de8a</td>\n      <td>#56 Chris Voss - How to earn what you_re worth...</td>\n      <td>interview</td>\n      <td>{'kind': 'interview', 'parent_title': None, 'p...</td>\n    </tr>\n    <tr>\n      <th>4</th>\n      <td>5</td>\n      <td>Episode 99, former top FBI hostage negotiator...</td>\n      <td>38b1ce85b1e16315</td>\n      <td>Chris Voss - Former top FBI hostage negotiator...</td>\n      <td>interview</td>\n      <td>{'kind': 'interview', 'parent_title': None, 'p...</td>\n    </tr>\n    <tr>\n      <th>...</th>\n      <td>...</td>\n      <td>...</td>\n      <td>...</td>\n      <td>...</td>\n      <td>...</td>\n      <td>...</td>\n    </tr>\n    <tr>\n      <th>245</th>\n      <td>246</td>\n      <td>NAIL THE LASTING \\nIMPRESSION\\nSend people awa...</td>\n      <td>6a2c4450747411d0</td>\n      <td>The Full Fee Agent: How to Stack the Odds in Y...</td>\n      <td>book</td>\n      <td>{'kind': 'book', 'parent_title': None, 'publis...</td>\n    </tr>\n    <tr>\n      <th>246</th>\n      <td>247</td>\n      <td>BE A FULL-SERVICE,  \\nFULL FEE AGENT\\nAt 6 per...</td>\n      <td>838e0b00481876e3</td>\n      <td>The Full Fee Agent: How to Stack the Odds in Y...</td>\n      <td>book</td>\n      <td>{'kind': 'book', 'parent_title': None, 'publis...</td>\n    </tr>\n    <tr>\n      <th>247</th>\n      <td>248</td>\n      <td>CONCLUSION\\nIt’s time to get your humanity— \\n...</td>\n      <td>1ee38eec944ee95c</td>\n      <td>The Full Fee Agent: How to Stack the Odds in Y...</td>\n      <td>book</td>\n      <td>{'kind': 'book', 'parent_title': None, 'publis...</td>\n    </tr>\n    <tr>\n      <th>248</th>\n      <td>249</td>\n      <td>What is it like negotiating for a hostage with...</td>\n      <td>cd17c3d030874e58</td>\n      <td>Chris Voss: FBI Hostage Negotiator | Lex Fridm...</td>\n      <td>interview</td>\n      <td>{'kind': 'interview', 'parent_title': None, 'p...</td>\n    </tr>\n    <tr>\n      <th>249</th>\n      <td>250</td>\n      <td>This book would not have been possible without...</td>\n      <td>bd203649db99c9cf</td>\n      <td>Never Split The Difference | Acknowledgments</td>\n      <td>book</td>\n      <td>{'kind': 'book', 'parent_title': 'Never Split ...</td>\n    </tr>\n  </tbody>\n</table>\n<p>250 rows × 6 columns</p>\n</div>"
     },
     "execution_count": 12,
     "metadata": {},
     "output_type": "execute_result"
    }
   ],
   "source": [
    "df.head(250)"
   ],
   "metadata": {
    "collapsed": false,
    "ExecuteTime": {
     "end_time": "2024-06-18T23:21:15.223542Z",
     "start_time": "2024-06-18T23:21:15.220222Z"
    }
   },
   "id": "888dafe9d94c7009",
   "execution_count": 12
  },
  {
   "cell_type": "code",
   "outputs": [],
   "source": [
    "from langchain.schema import Document\n",
    "doc = Document(\n",
    "                page_content = \"test\",\n",
    "                metadata = {\"int_id\": 123, \"kind\": \"book\", \"title\": \"cool\"}\n",
    "            )\n",
    "doc2 = Document(\n",
    "                page_content = \"tes222\",\n",
    "                metadata = {\"int_id\": 1223, \"kind\": \"movie\", \"title\": \"cosssl\"}\n",
    "            )\n",
    "docs = []\n",
    "docs.append(doc)\n",
    "docs.append(doc2)"
   ],
   "metadata": {
    "collapsed": false,
    "ExecuteTime": {
     "end_time": "2024-06-19T19:08:41.177193Z",
     "start_time": "2024-06-19T19:08:41.170778Z"
    }
   },
   "id": "9b9d6ddb6e4356e4",
   "execution_count": 154
  },
  {
   "cell_type": "code",
   "outputs": [
    {
     "data": {
      "text/plain": "  contents  int_id   kind                                           metadata\n0     test     123   book   {'int_id': 123, 'kind': 'book', 'title': 'cool'}\n1   tes222    1223  movie  {'int_id': 1223, 'kind': 'movie', 'title': 'co...",
      "text/html": "<div>\n<style scoped>\n    .dataframe tbody tr th:only-of-type {\n        vertical-align: middle;\n    }\n\n    .dataframe tbody tr th {\n        vertical-align: top;\n    }\n\n    .dataframe thead th {\n        text-align: right;\n    }\n</style>\n<table border=\"1\" class=\"dataframe\">\n  <thead>\n    <tr style=\"text-align: right;\">\n      <th></th>\n      <th>contents</th>\n      <th>int_id</th>\n      <th>kind</th>\n      <th>metadata</th>\n    </tr>\n  </thead>\n  <tbody>\n    <tr>\n      <th>0</th>\n      <td>test</td>\n      <td>123</td>\n      <td>book</td>\n      <td>{'int_id': 123, 'kind': 'book', 'title': 'cool'}</td>\n    </tr>\n    <tr>\n      <th>1</th>\n      <td>tes222</td>\n      <td>1223</td>\n      <td>movie</td>\n      <td>{'int_id': 1223, 'kind': 'movie', 'title': 'co...</td>\n    </tr>\n  </tbody>\n</table>\n</div>"
     },
     "execution_count": 155,
     "metadata": {},
     "output_type": "execute_result"
    }
   ],
   "source": [
    "rows = []\n",
    "for doc in docs:\n",
    "    row = {'contents': doc.page_content,\n",
    "           'int_id': doc.metadata['int_id'],\n",
    "           'kind': doc.metadata['kind'],\n",
    "           'metadata': doc.metadata}\n",
    "    rows.append(row)\n",
    "df = pd.DataFrame(rows)\n",
    "df.head(2)"
   ],
   "metadata": {
    "collapsed": false,
    "ExecuteTime": {
     "end_time": "2024-06-19T19:08:42.750120Z",
     "start_time": "2024-06-19T19:08:42.747955Z"
    }
   },
   "id": "43bf824b526956ab",
   "execution_count": 155
  },
  {
   "cell_type": "code",
   "outputs": [],
   "source": [],
   "metadata": {
    "collapsed": false
   },
   "id": "2a9c2c2fd0eeb112"
  },
  {
   "cell_type": "code",
   "outputs": [
    {
     "data": {
      "text/plain": "                                     qid  \\\n0   8d2b1cf7-430b-477d-b74f-240d5bfef73a   \n1   4df8f3bf-13dd-4aeb-aae2-c0b088dc8f0b   \n2   e9ca8191-7de0-4e6d-95ce-3819bacd8a52   \n3   dbd92361-0a12-42b4-b3e2-3fcb2e5ac74a   \n4   0f0bed1f-7697-4bc0-b41c-fd3225a3bebb   \n5   538fd868-1f0c-4f30-9839-a011a0064b93   \n6   930b72d6-38cd-4c93-b2d0-059d9a2e4102   \n7   9def3e68-c243-4369-989d-f1bf44d279b3   \n8   ca78dfaf-4897-46c3-970e-b6547d7e2102   \n9   2a82cd04-4a8b-4d17-a621-d41dbc747172   \n10  43d85817-5d4c-4719-8eb5-0b92088dd8b7   \n11  0069dc70-658d-44bd-8cc4-3003624a0041   \n12  19b917ed-7a7f-4b61-807f-b11e2a66e509   \n13  c9a1f460-d98f-454d-a256-02dccf23ffe9   \n14  7635989d-1f19-482d-b3b8-e2bb499c1413   \n\n                                                query  \\\n0   Why do people dislike feeling obligated to som...   \n1   How does a heightened emotional state impact r...   \n2   What kind of job training does the FBI provide...   \n3   What is the role of 'no' as a word in negotiat...   \n4   Why would calling someone a coward indicate th...   \n5   Why might someone ask you to cut your commission?   \n6        What does it mean to be vested in a process?   \n7   How does proactive listening help in evaluatin...   \n8   Why is it beneficial to get on your feet, even...   \n9   How does the perception of loss influence huma...   \n10  How do you get a read on your opponent in a ne...   \n11                 What does it mean to be concerned?   \n12  What does splitting the difference mean in the...   \n13  How does the use of silence help in convincing...   \n14  Why is mimicking someone's tone of voice consi...   \n\n                                        generation_gt  \\\n0                                               [nan]   \n1   [A heightened emotional state impacts reasonin...   \n2   [The context suggests that the FBI provides on...   \n3                                               [nan]   \n4   [Calling someone a coward indicates that you d...   \n5   [Someone might ask you to cut your commission ...   \n6   [To be vested in a process means to participat...   \n7   [Proactive listening helps in evaluating infor...   \n8                                               [nan]   \n9   [According to Daniel Kahneman's prospect theor...   \n10  [You get a read on your opponent in a negotiat...   \n11  [To be concerned means to be worried about som...   \n12  [In the context of resolving disputes between ...   \n13  [The use of silence helps in convincing and in...   \n14  [Mimicking someone's tone of voice is consider...   \n\n                                retrieval_gt  \n0   [[6dcb0031-6d83-4aa4-b7f6-e6af878952ce]]  \n1   [[2a17400a-dbc0-4fca-a1b5-a308460114d3]]  \n2   [[c6cccacd-cb1d-49ea-8fba-2bd2667e03ce]]  \n3   [[72c901d4-47e4-4fdf-93aa-cecbd00bc8f2]]  \n4   [[f552d27f-c1e2-48f2-af1d-3d2392ec291b]]  \n5   [[f40b3e8b-9c54-41b6-9699-50c83da473b1]]  \n6   [[071b9608-68cd-49eb-9924-ffe8bc2e1b94]]  \n7   [[1505a848-64eb-4625-87a9-4bc121ca35f0]]  \n8   [[5a251366-b418-439f-a83a-ea1b3df08d92]]  \n9   [[b2fff91f-fe98-44e4-8406-94180ef2ef4a]]  \n10  [[15deca93-759a-4f3b-94e2-3ba207134abc]]  \n11  [[1cd2e547-b849-40e7-8152-29489bdd840a]]  \n12  [[27412c72-d592-497f-a80e-6802941a1aca]]  \n13  [[19f759b5-f741-4e1f-94ff-37df9dba2e9d]]  \n14  [[3d587e1a-e1ac-4d59-8cd7-83b874e1aae0]]  ",
      "text/html": "<div>\n<style scoped>\n    .dataframe tbody tr th:only-of-type {\n        vertical-align: middle;\n    }\n\n    .dataframe tbody tr th {\n        vertical-align: top;\n    }\n\n    .dataframe thead th {\n        text-align: right;\n    }\n</style>\n<table border=\"1\" class=\"dataframe\">\n  <thead>\n    <tr style=\"text-align: right;\">\n      <th></th>\n      <th>qid</th>\n      <th>query</th>\n      <th>generation_gt</th>\n      <th>retrieval_gt</th>\n    </tr>\n  </thead>\n  <tbody>\n    <tr>\n      <th>0</th>\n      <td>8d2b1cf7-430b-477d-b74f-240d5bfef73a</td>\n      <td>Why do people dislike feeling obligated to som...</td>\n      <td>[nan]</td>\n      <td>[[6dcb0031-6d83-4aa4-b7f6-e6af878952ce]]</td>\n    </tr>\n    <tr>\n      <th>1</th>\n      <td>4df8f3bf-13dd-4aeb-aae2-c0b088dc8f0b</td>\n      <td>How does a heightened emotional state impact r...</td>\n      <td>[A heightened emotional state impacts reasonin...</td>\n      <td>[[2a17400a-dbc0-4fca-a1b5-a308460114d3]]</td>\n    </tr>\n    <tr>\n      <th>2</th>\n      <td>e9ca8191-7de0-4e6d-95ce-3819bacd8a52</td>\n      <td>What kind of job training does the FBI provide...</td>\n      <td>[The context suggests that the FBI provides on...</td>\n      <td>[[c6cccacd-cb1d-49ea-8fba-2bd2667e03ce]]</td>\n    </tr>\n    <tr>\n      <th>3</th>\n      <td>dbd92361-0a12-42b4-b3e2-3fcb2e5ac74a</td>\n      <td>What is the role of 'no' as a word in negotiat...</td>\n      <td>[nan]</td>\n      <td>[[72c901d4-47e4-4fdf-93aa-cecbd00bc8f2]]</td>\n    </tr>\n    <tr>\n      <th>4</th>\n      <td>0f0bed1f-7697-4bc0-b41c-fd3225a3bebb</td>\n      <td>Why would calling someone a coward indicate th...</td>\n      <td>[Calling someone a coward indicates that you d...</td>\n      <td>[[f552d27f-c1e2-48f2-af1d-3d2392ec291b]]</td>\n    </tr>\n    <tr>\n      <th>5</th>\n      <td>538fd868-1f0c-4f30-9839-a011a0064b93</td>\n      <td>Why might someone ask you to cut your commission?</td>\n      <td>[Someone might ask you to cut your commission ...</td>\n      <td>[[f40b3e8b-9c54-41b6-9699-50c83da473b1]]</td>\n    </tr>\n    <tr>\n      <th>6</th>\n      <td>930b72d6-38cd-4c93-b2d0-059d9a2e4102</td>\n      <td>What does it mean to be vested in a process?</td>\n      <td>[To be vested in a process means to participat...</td>\n      <td>[[071b9608-68cd-49eb-9924-ffe8bc2e1b94]]</td>\n    </tr>\n    <tr>\n      <th>7</th>\n      <td>9def3e68-c243-4369-989d-f1bf44d279b3</td>\n      <td>How does proactive listening help in evaluatin...</td>\n      <td>[Proactive listening helps in evaluating infor...</td>\n      <td>[[1505a848-64eb-4625-87a9-4bc121ca35f0]]</td>\n    </tr>\n    <tr>\n      <th>8</th>\n      <td>ca78dfaf-4897-46c3-970e-b6547d7e2102</td>\n      <td>Why is it beneficial to get on your feet, even...</td>\n      <td>[nan]</td>\n      <td>[[5a251366-b418-439f-a83a-ea1b3df08d92]]</td>\n    </tr>\n    <tr>\n      <th>9</th>\n      <td>2a82cd04-4a8b-4d17-a621-d41dbc747172</td>\n      <td>How does the perception of loss influence huma...</td>\n      <td>[According to Daniel Kahneman's prospect theor...</td>\n      <td>[[b2fff91f-fe98-44e4-8406-94180ef2ef4a]]</td>\n    </tr>\n    <tr>\n      <th>10</th>\n      <td>43d85817-5d4c-4719-8eb5-0b92088dd8b7</td>\n      <td>How do you get a read on your opponent in a ne...</td>\n      <td>[You get a read on your opponent in a negotiat...</td>\n      <td>[[15deca93-759a-4f3b-94e2-3ba207134abc]]</td>\n    </tr>\n    <tr>\n      <th>11</th>\n      <td>0069dc70-658d-44bd-8cc4-3003624a0041</td>\n      <td>What does it mean to be concerned?</td>\n      <td>[To be concerned means to be worried about som...</td>\n      <td>[[1cd2e547-b849-40e7-8152-29489bdd840a]]</td>\n    </tr>\n    <tr>\n      <th>12</th>\n      <td>19b917ed-7a7f-4b61-807f-b11e2a66e509</td>\n      <td>What does splitting the difference mean in the...</td>\n      <td>[In the context of resolving disputes between ...</td>\n      <td>[[27412c72-d592-497f-a80e-6802941a1aca]]</td>\n    </tr>\n    <tr>\n      <th>13</th>\n      <td>c9a1f460-d98f-454d-a256-02dccf23ffe9</td>\n      <td>How does the use of silence help in convincing...</td>\n      <td>[The use of silence helps in convincing and in...</td>\n      <td>[[19f759b5-f741-4e1f-94ff-37df9dba2e9d]]</td>\n    </tr>\n    <tr>\n      <th>14</th>\n      <td>7635989d-1f19-482d-b3b8-e2bb499c1413</td>\n      <td>Why is mimicking someone's tone of voice consi...</td>\n      <td>[Mimicking someone's tone of voice is consider...</td>\n      <td>[[3d587e1a-e1ac-4d59-8cd7-83b874e1aae0]]</td>\n    </tr>\n  </tbody>\n</table>\n</div>"
     },
     "execution_count": 159,
     "metadata": {},
     "output_type": "execute_result"
    }
   ],
   "source": [
    "df = pd.read_parquet('util/live_template_eval_autorag.parquet')\n",
    "df.head(15)"
   ],
   "metadata": {
    "collapsed": false,
    "ExecuteTime": {
     "end_time": "2024-06-19T21:11:03.679913Z",
     "start_time": "2024-06-19T21:11:03.669130Z"
    }
   },
   "id": "1e16c486542af044",
   "execution_count": 159
  },
  {
   "cell_type": "code",
   "outputs": [
    {
     "data": {
      "text/plain": "                                     qid  \\\n0   8d2b1cf7-430b-477d-b74f-240d5bfef73a   \n1   4df8f3bf-13dd-4aeb-aae2-c0b088dc8f0b   \n2   e9ca8191-7de0-4e6d-95ce-3819bacd8a52   \n3   dbd92361-0a12-42b4-b3e2-3fcb2e5ac74a   \n4   0f0bed1f-7697-4bc0-b41c-fd3225a3bebb   \n5   538fd868-1f0c-4f30-9839-a011a0064b93   \n6   930b72d6-38cd-4c93-b2d0-059d9a2e4102   \n7   9def3e68-c243-4369-989d-f1bf44d279b3   \n8   ca78dfaf-4897-46c3-970e-b6547d7e2102   \n9   2a82cd04-4a8b-4d17-a621-d41dbc747172   \n10  43d85817-5d4c-4719-8eb5-0b92088dd8b7   \n11  0069dc70-658d-44bd-8cc4-3003624a0041   \n12  19b917ed-7a7f-4b61-807f-b11e2a66e509   \n13  c9a1f460-d98f-454d-a256-02dccf23ffe9   \n14  7635989d-1f19-482d-b3b8-e2bb499c1413   \n15  4a142d75-4784-4a21-949a-e000eef6c73e   \n16  6b9dcdb2-19e6-4518-9954-376f2d78ddbe   \n17  6f084181-7698-4e5c-8c50-84ea6257a667   \n18  d1fc4701-9aab-4d19-acd0-e3a35c444bfb   \n19  7d1e18b8-af08-47cc-9250-530eb6ee20ec   \n20  d954828c-e24c-45da-abc3-109284dbbb04   \n21  b7e8a8c8-a63b-4677-b556-714057bf4da0   \n22  8f1bff3d-5266-4e6f-9c3a-f8ba7b4d51ca   \n23  5964f01b-6b7e-47e7-abb6-e198074e5099   \n24  85c3809d-0122-4b2e-a457-8dc84aa57311   \n25  06151922-f119-4b04-b4ab-f35262795404   \n26  8e325307-83b1-4d26-a084-52fed06b17f7   \n27  047aec7d-26a8-4e6f-a512-863bcdb4452b   \n\n                                                query  \\\n0   Why do people dislike feeling obligated to som...   \n1   How does a heightened emotional state impact r...   \n2   What kind of job training does the FBI provide...   \n3   What is the role of 'no' as a word in negotiat...   \n4   Why would calling someone a coward indicate th...   \n5   Why might someone ask you to cut your commission?   \n6        What does it mean to be vested in a process?   \n7   How does proactive listening help in evaluatin...   \n8   Why is it beneficial to get on your feet, even...   \n9   How does the perception of loss influence huma...   \n10  How do you get a read on your opponent in a ne...   \n11                 What does it mean to be concerned?   \n12  What does splitting the difference mean in the...   \n13  How does the use of silence help in convincing...   \n14  Why is mimicking someone's tone of voice consi...   \n15  Why is it important to proactively mitigate ne...   \n16  Why are lasting impressions just as important ...   \n17  How can focusing on making the company more su...   \n18  Why is being good at shutting up considered be...   \n19  Why does the speaker listen to certain people ...   \n20  Why are people more likely to take a risk to a...   \n21  What becomes problematic if emotions aren't co...   \n22   Who's the ex-FBI negotiator at Black Swan Group?   \n23      What trait, besides EQ, helps in negotiation?   \n24  Which brain side is tied to logic vs. creativity?   \n25  How do energy and body language affect in-pers...   \n26  How does recognizing anxiety affect self-aware...   \n27  How do misaligned incentives occur with non-ou...   \n\n                                        generation_gt  \\\n0                                               [nan]   \n1   [A heightened emotional state impacts reasonin...   \n2   [The context suggests that the FBI provides on...   \n3                                               [nan]   \n4   [Calling someone a coward indicates that you d...   \n5   [Someone might ask you to cut your commission ...   \n6   [To be vested in a process means to participat...   \n7   [Proactive listening helps in evaluating infor...   \n8                                               [nan]   \n9   [According to Daniel Kahneman's prospect theor...   \n10  [You get a read on your opponent in a negotiat...   \n11  [To be concerned means to be worried about som...   \n12  [In the context of resolving disputes between ...   \n13  [The use of silence helps in convincing and in...   \n14  [Mimicking someone's tone of voice is consider...   \n15  [It is important to proactively mitigate negat...   \n16                                              [nan]   \n17  [Focusing on making the company more successfu...   \n18                                              [nan]   \n19  [The speaker listens to certain people to stud...   \n20  [People are more likely to take a risk to avoi...   \n21  [If emotions aren't controlled, you can't cont...   \n22  [The ex-FBI negotiator at Black Swan Group is ...   \n23  [Openness is a trait that helps in negotiation...   \n24  [The left brain is tied to logic, while the ri...   \n25  [Energy and body language affect in-person com...   \n26  [Recognizing anxiety affects self-awareness an...   \n27  [Misaligned incentives occur with non-outcome-...   \n\n                                retrieval_gt  \n0   [[6dcb0031-6d83-4aa4-b7f6-e6af878952ce]]  \n1   [[2a17400a-dbc0-4fca-a1b5-a308460114d3]]  \n2   [[c6cccacd-cb1d-49ea-8fba-2bd2667e03ce]]  \n3   [[72c901d4-47e4-4fdf-93aa-cecbd00bc8f2]]  \n4   [[f552d27f-c1e2-48f2-af1d-3d2392ec291b]]  \n5   [[f40b3e8b-9c54-41b6-9699-50c83da473b1]]  \n6   [[071b9608-68cd-49eb-9924-ffe8bc2e1b94]]  \n7   [[1505a848-64eb-4625-87a9-4bc121ca35f0]]  \n8   [[5a251366-b418-439f-a83a-ea1b3df08d92]]  \n9   [[b2fff91f-fe98-44e4-8406-94180ef2ef4a]]  \n10  [[15deca93-759a-4f3b-94e2-3ba207134abc]]  \n11  [[1cd2e547-b849-40e7-8152-29489bdd840a]]  \n12  [[27412c72-d592-497f-a80e-6802941a1aca]]  \n13  [[19f759b5-f741-4e1f-94ff-37df9dba2e9d]]  \n14  [[3d587e1a-e1ac-4d59-8cd7-83b874e1aae0]]  \n15  [[da69e3ec-87ac-432b-b566-38bff39f5985]]  \n16  [[4a51e777-38d6-49b7-ba94-b5e9af370bb8]]  \n17  [[e434aa3e-e1a4-4f80-895f-3edd80fc1fd8]]  \n18  [[4f253c1d-5455-4913-baf1-9c8d18cc60d7]]  \n19  [[8ce532e6-d209-4a32-b068-c4a14369b846]]  \n20  [[b4ebf404-e78b-4997-812c-cb24eab5a62f]]  \n21  [[e170e59f-fae9-4397-be10-d5efd768a8bd]]  \n22  [[36b15925-254b-4ba5-aa43-34da4d586a4a]]  \n23  [[2cae9cc1-dce2-46dc-b547-00551480c594]]  \n24  [[8f96e478-591d-44d7-8781-9693015a3bdf]]  \n25  [[f9ae4ac7-ed95-4bbc-841c-efa39cca7980]]  \n26  [[d1f57744-4cfa-497f-8205-6fbd750fdb24]]  \n27  [[a462fa93-26f4-4988-ac9f-08bd5c434dd5]]  ",
      "text/html": "<div>\n<style scoped>\n    .dataframe tbody tr th:only-of-type {\n        vertical-align: middle;\n    }\n\n    .dataframe tbody tr th {\n        vertical-align: top;\n    }\n\n    .dataframe thead th {\n        text-align: right;\n    }\n</style>\n<table border=\"1\" class=\"dataframe\">\n  <thead>\n    <tr style=\"text-align: right;\">\n      <th></th>\n      <th>qid</th>\n      <th>query</th>\n      <th>generation_gt</th>\n      <th>retrieval_gt</th>\n    </tr>\n  </thead>\n  <tbody>\n    <tr>\n      <th>0</th>\n      <td>8d2b1cf7-430b-477d-b74f-240d5bfef73a</td>\n      <td>Why do people dislike feeling obligated to som...</td>\n      <td>[nan]</td>\n      <td>[[6dcb0031-6d83-4aa4-b7f6-e6af878952ce]]</td>\n    </tr>\n    <tr>\n      <th>1</th>\n      <td>4df8f3bf-13dd-4aeb-aae2-c0b088dc8f0b</td>\n      <td>How does a heightened emotional state impact r...</td>\n      <td>[A heightened emotional state impacts reasonin...</td>\n      <td>[[2a17400a-dbc0-4fca-a1b5-a308460114d3]]</td>\n    </tr>\n    <tr>\n      <th>2</th>\n      <td>e9ca8191-7de0-4e6d-95ce-3819bacd8a52</td>\n      <td>What kind of job training does the FBI provide...</td>\n      <td>[The context suggests that the FBI provides on...</td>\n      <td>[[c6cccacd-cb1d-49ea-8fba-2bd2667e03ce]]</td>\n    </tr>\n    <tr>\n      <th>3</th>\n      <td>dbd92361-0a12-42b4-b3e2-3fcb2e5ac74a</td>\n      <td>What is the role of 'no' as a word in negotiat...</td>\n      <td>[nan]</td>\n      <td>[[72c901d4-47e4-4fdf-93aa-cecbd00bc8f2]]</td>\n    </tr>\n    <tr>\n      <th>4</th>\n      <td>0f0bed1f-7697-4bc0-b41c-fd3225a3bebb</td>\n      <td>Why would calling someone a coward indicate th...</td>\n      <td>[Calling someone a coward indicates that you d...</td>\n      <td>[[f552d27f-c1e2-48f2-af1d-3d2392ec291b]]</td>\n    </tr>\n    <tr>\n      <th>5</th>\n      <td>538fd868-1f0c-4f30-9839-a011a0064b93</td>\n      <td>Why might someone ask you to cut your commission?</td>\n      <td>[Someone might ask you to cut your commission ...</td>\n      <td>[[f40b3e8b-9c54-41b6-9699-50c83da473b1]]</td>\n    </tr>\n    <tr>\n      <th>6</th>\n      <td>930b72d6-38cd-4c93-b2d0-059d9a2e4102</td>\n      <td>What does it mean to be vested in a process?</td>\n      <td>[To be vested in a process means to participat...</td>\n      <td>[[071b9608-68cd-49eb-9924-ffe8bc2e1b94]]</td>\n    </tr>\n    <tr>\n      <th>7</th>\n      <td>9def3e68-c243-4369-989d-f1bf44d279b3</td>\n      <td>How does proactive listening help in evaluatin...</td>\n      <td>[Proactive listening helps in evaluating infor...</td>\n      <td>[[1505a848-64eb-4625-87a9-4bc121ca35f0]]</td>\n    </tr>\n    <tr>\n      <th>8</th>\n      <td>ca78dfaf-4897-46c3-970e-b6547d7e2102</td>\n      <td>Why is it beneficial to get on your feet, even...</td>\n      <td>[nan]</td>\n      <td>[[5a251366-b418-439f-a83a-ea1b3df08d92]]</td>\n    </tr>\n    <tr>\n      <th>9</th>\n      <td>2a82cd04-4a8b-4d17-a621-d41dbc747172</td>\n      <td>How does the perception of loss influence huma...</td>\n      <td>[According to Daniel Kahneman's prospect theor...</td>\n      <td>[[b2fff91f-fe98-44e4-8406-94180ef2ef4a]]</td>\n    </tr>\n    <tr>\n      <th>10</th>\n      <td>43d85817-5d4c-4719-8eb5-0b92088dd8b7</td>\n      <td>How do you get a read on your opponent in a ne...</td>\n      <td>[You get a read on your opponent in a negotiat...</td>\n      <td>[[15deca93-759a-4f3b-94e2-3ba207134abc]]</td>\n    </tr>\n    <tr>\n      <th>11</th>\n      <td>0069dc70-658d-44bd-8cc4-3003624a0041</td>\n      <td>What does it mean to be concerned?</td>\n      <td>[To be concerned means to be worried about som...</td>\n      <td>[[1cd2e547-b849-40e7-8152-29489bdd840a]]</td>\n    </tr>\n    <tr>\n      <th>12</th>\n      <td>19b917ed-7a7f-4b61-807f-b11e2a66e509</td>\n      <td>What does splitting the difference mean in the...</td>\n      <td>[In the context of resolving disputes between ...</td>\n      <td>[[27412c72-d592-497f-a80e-6802941a1aca]]</td>\n    </tr>\n    <tr>\n      <th>13</th>\n      <td>c9a1f460-d98f-454d-a256-02dccf23ffe9</td>\n      <td>How does the use of silence help in convincing...</td>\n      <td>[The use of silence helps in convincing and in...</td>\n      <td>[[19f759b5-f741-4e1f-94ff-37df9dba2e9d]]</td>\n    </tr>\n    <tr>\n      <th>14</th>\n      <td>7635989d-1f19-482d-b3b8-e2bb499c1413</td>\n      <td>Why is mimicking someone's tone of voice consi...</td>\n      <td>[Mimicking someone's tone of voice is consider...</td>\n      <td>[[3d587e1a-e1ac-4d59-8cd7-83b874e1aae0]]</td>\n    </tr>\n    <tr>\n      <th>15</th>\n      <td>4a142d75-4784-4a21-949a-e000eef6c73e</td>\n      <td>Why is it important to proactively mitigate ne...</td>\n      <td>[It is important to proactively mitigate negat...</td>\n      <td>[[da69e3ec-87ac-432b-b566-38bff39f5985]]</td>\n    </tr>\n    <tr>\n      <th>16</th>\n      <td>6b9dcdb2-19e6-4518-9954-376f2d78ddbe</td>\n      <td>Why are lasting impressions just as important ...</td>\n      <td>[nan]</td>\n      <td>[[4a51e777-38d6-49b7-ba94-b5e9af370bb8]]</td>\n    </tr>\n    <tr>\n      <th>17</th>\n      <td>6f084181-7698-4e5c-8c50-84ea6257a667</td>\n      <td>How can focusing on making the company more su...</td>\n      <td>[Focusing on making the company more successfu...</td>\n      <td>[[e434aa3e-e1a4-4f80-895f-3edd80fc1fd8]]</td>\n    </tr>\n    <tr>\n      <th>18</th>\n      <td>d1fc4701-9aab-4d19-acd0-e3a35c444bfb</td>\n      <td>Why is being good at shutting up considered be...</td>\n      <td>[nan]</td>\n      <td>[[4f253c1d-5455-4913-baf1-9c8d18cc60d7]]</td>\n    </tr>\n    <tr>\n      <th>19</th>\n      <td>7d1e18b8-af08-47cc-9250-530eb6ee20ec</td>\n      <td>Why does the speaker listen to certain people ...</td>\n      <td>[The speaker listens to certain people to stud...</td>\n      <td>[[8ce532e6-d209-4a32-b068-c4a14369b846]]</td>\n    </tr>\n    <tr>\n      <th>20</th>\n      <td>d954828c-e24c-45da-abc3-109284dbbb04</td>\n      <td>Why are people more likely to take a risk to a...</td>\n      <td>[People are more likely to take a risk to avoi...</td>\n      <td>[[b4ebf404-e78b-4997-812c-cb24eab5a62f]]</td>\n    </tr>\n    <tr>\n      <th>21</th>\n      <td>b7e8a8c8-a63b-4677-b556-714057bf4da0</td>\n      <td>What becomes problematic if emotions aren't co...</td>\n      <td>[If emotions aren't controlled, you can't cont...</td>\n      <td>[[e170e59f-fae9-4397-be10-d5efd768a8bd]]</td>\n    </tr>\n    <tr>\n      <th>22</th>\n      <td>8f1bff3d-5266-4e6f-9c3a-f8ba7b4d51ca</td>\n      <td>Who's the ex-FBI negotiator at Black Swan Group?</td>\n      <td>[The ex-FBI negotiator at Black Swan Group is ...</td>\n      <td>[[36b15925-254b-4ba5-aa43-34da4d586a4a]]</td>\n    </tr>\n    <tr>\n      <th>23</th>\n      <td>5964f01b-6b7e-47e7-abb6-e198074e5099</td>\n      <td>What trait, besides EQ, helps in negotiation?</td>\n      <td>[Openness is a trait that helps in negotiation...</td>\n      <td>[[2cae9cc1-dce2-46dc-b547-00551480c594]]</td>\n    </tr>\n    <tr>\n      <th>24</th>\n      <td>85c3809d-0122-4b2e-a457-8dc84aa57311</td>\n      <td>Which brain side is tied to logic vs. creativity?</td>\n      <td>[The left brain is tied to logic, while the ri...</td>\n      <td>[[8f96e478-591d-44d7-8781-9693015a3bdf]]</td>\n    </tr>\n    <tr>\n      <th>25</th>\n      <td>06151922-f119-4b04-b4ab-f35262795404</td>\n      <td>How do energy and body language affect in-pers...</td>\n      <td>[Energy and body language affect in-person com...</td>\n      <td>[[f9ae4ac7-ed95-4bbc-841c-efa39cca7980]]</td>\n    </tr>\n    <tr>\n      <th>26</th>\n      <td>8e325307-83b1-4d26-a084-52fed06b17f7</td>\n      <td>How does recognizing anxiety affect self-aware...</td>\n      <td>[Recognizing anxiety affects self-awareness an...</td>\n      <td>[[d1f57744-4cfa-497f-8205-6fbd750fdb24]]</td>\n    </tr>\n    <tr>\n      <th>27</th>\n      <td>047aec7d-26a8-4e6f-a512-863bcdb4452b</td>\n      <td>How do misaligned incentives occur with non-ou...</td>\n      <td>[Misaligned incentives occur with non-outcome-...</td>\n      <td>[[a462fa93-26f4-4988-ac9f-08bd5c434dd5]]</td>\n    </tr>\n  </tbody>\n</table>\n</div>"
     },
     "execution_count": 161,
     "metadata": {},
     "output_type": "execute_result"
    }
   ],
   "source": [
    "df.head(50)"
   ],
   "metadata": {
    "collapsed": false,
    "ExecuteTime": {
     "end_time": "2024-06-19T21:21:25.035807Z",
     "start_time": "2024-06-19T21:21:25.029128Z"
    }
   },
   "id": "4a22d9bc53dc74e",
   "execution_count": 161
  },
  {
   "cell_type": "code",
   "outputs": [
    {
     "data": {
      "text/plain": "                                     qid  \\\n0   8d2b1cf7-430b-477d-b74f-240d5bfef73a   \n1   4df8f3bf-13dd-4aeb-aae2-c0b088dc8f0b   \n2   e9ca8191-7de0-4e6d-95ce-3819bacd8a52   \n3   dbd92361-0a12-42b4-b3e2-3fcb2e5ac74a   \n4   0f0bed1f-7697-4bc0-b41c-fd3225a3bebb   \n5   538fd868-1f0c-4f30-9839-a011a0064b93   \n6   930b72d6-38cd-4c93-b2d0-059d9a2e4102   \n7   9def3e68-c243-4369-989d-f1bf44d279b3   \n8   ca78dfaf-4897-46c3-970e-b6547d7e2102   \n9   2a82cd04-4a8b-4d17-a621-d41dbc747172   \n10  43d85817-5d4c-4719-8eb5-0b92088dd8b7   \n11  0069dc70-658d-44bd-8cc4-3003624a0041   \n12  19b917ed-7a7f-4b61-807f-b11e2a66e509   \n13  c9a1f460-d98f-454d-a256-02dccf23ffe9   \n14  7635989d-1f19-482d-b3b8-e2bb499c1413   \n15  4a142d75-4784-4a21-949a-e000eef6c73e   \n16  6b9dcdb2-19e6-4518-9954-376f2d78ddbe   \n17  6f084181-7698-4e5c-8c50-84ea6257a667   \n18  d1fc4701-9aab-4d19-acd0-e3a35c444bfb   \n19  7d1e18b8-af08-47cc-9250-530eb6ee20ec   \n20  d954828c-e24c-45da-abc3-109284dbbb04   \n21  b7e8a8c8-a63b-4677-b556-714057bf4da0   \n22  8f1bff3d-5266-4e6f-9c3a-f8ba7b4d51ca   \n23  5964f01b-6b7e-47e7-abb6-e198074e5099   \n24  85c3809d-0122-4b2e-a457-8dc84aa57311   \n25  06151922-f119-4b04-b4ab-f35262795404   \n26  8e325307-83b1-4d26-a084-52fed06b17f7   \n27  047aec7d-26a8-4e6f-a512-863bcdb4452b   \n\n                                                query  \\\n0   Why do people dislike feeling obligated to som...   \n1   How does a heightened emotional state impact r...   \n2   What kind of job training does the FBI provide...   \n3   What is the role of 'no' as a word in negotiat...   \n4   Why would calling someone a coward indicate th...   \n5   Why might someone ask you to cut your commission?   \n6        What does it mean to be vested in a process?   \n7   How does proactive listening help in evaluatin...   \n8   Why is it beneficial to get on your feet, even...   \n9   How does the perception of loss influence huma...   \n10  How do you get a read on your opponent in a ne...   \n11                 What does it mean to be concerned?   \n12  What does splitting the difference mean in the...   \n13  How does the use of silence help in convincing...   \n14  Why is mimicking someone's tone of voice consi...   \n15  Why is it important to proactively mitigate ne...   \n16  Why are lasting impressions just as important ...   \n17  How can focusing on making the company more su...   \n18  Why is being good at shutting up considered be...   \n19  Why does the speaker listen to certain people ...   \n20  Why are people more likely to take a risk to a...   \n21  What becomes problematic if emotions aren't co...   \n22   Who's the ex-FBI negotiator at Black Swan Group?   \n23      What trait, besides EQ, helps in negotiation?   \n24  Which brain side is tied to logic vs. creativity?   \n25  How do energy and body language affect in-pers...   \n26  How does recognizing anxiety affect self-aware...   \n27  How do misaligned incentives occur with non-ou...   \n\n                                        generation_gt  \\\n0                                               [nan]   \n1   [A heightened emotional state impacts reasonin...   \n2   [The context suggests that the FBI provides on...   \n3                                               [nan]   \n4   [Calling someone a coward indicates that you d...   \n5   [Someone might ask you to cut your commission ...   \n6   [To be vested in a process means to participat...   \n7   [Proactive listening helps in evaluating infor...   \n8                                               [nan]   \n9   [According to Daniel Kahneman's prospect theor...   \n10  [You get a read on your opponent in a negotiat...   \n11  [To be concerned means to be worried about som...   \n12  [In the context of resolving disputes between ...   \n13  [The use of silence helps in convincing and in...   \n14  [Mimicking someone's tone of voice is consider...   \n15  [It is important to proactively mitigate negat...   \n16                                              [nan]   \n17  [Focusing on making the company more successfu...   \n18                                              [nan]   \n19  [The speaker listens to certain people to stud...   \n20  [People are more likely to take a risk to avoi...   \n21  [If emotions aren't controlled, you can't cont...   \n22  [The ex-FBI negotiator at Black Swan Group is ...   \n23  [Openness is a trait that helps in negotiation...   \n24  [The left brain is tied to logic, while the ri...   \n25  [Energy and body language affect in-person com...   \n26  [Recognizing anxiety affects self-awareness an...   \n27  [Misaligned incentives occur with non-outcome-...   \n\n                                retrieval_gt  \n0   [[6dcb0031-6d83-4aa4-b7f6-e6af878952ce]]  \n1   [[2a17400a-dbc0-4fca-a1b5-a308460114d3]]  \n2   [[c6cccacd-cb1d-49ea-8fba-2bd2667e03ce]]  \n3   [[72c901d4-47e4-4fdf-93aa-cecbd00bc8f2]]  \n4   [[f552d27f-c1e2-48f2-af1d-3d2392ec291b]]  \n5   [[f40b3e8b-9c54-41b6-9699-50c83da473b1]]  \n6   [[071b9608-68cd-49eb-9924-ffe8bc2e1b94]]  \n7   [[1505a848-64eb-4625-87a9-4bc121ca35f0]]  \n8   [[5a251366-b418-439f-a83a-ea1b3df08d92]]  \n9   [[b2fff91f-fe98-44e4-8406-94180ef2ef4a]]  \n10  [[15deca93-759a-4f3b-94e2-3ba207134abc]]  \n11  [[1cd2e547-b849-40e7-8152-29489bdd840a]]  \n12  [[27412c72-d592-497f-a80e-6802941a1aca]]  \n13  [[19f759b5-f741-4e1f-94ff-37df9dba2e9d]]  \n14  [[3d587e1a-e1ac-4d59-8cd7-83b874e1aae0]]  \n15  [[da69e3ec-87ac-432b-b566-38bff39f5985]]  \n16  [[4a51e777-38d6-49b7-ba94-b5e9af370bb8]]  \n17  [[e434aa3e-e1a4-4f80-895f-3edd80fc1fd8]]  \n18  [[4f253c1d-5455-4913-baf1-9c8d18cc60d7]]  \n19  [[8ce532e6-d209-4a32-b068-c4a14369b846]]  \n20  [[b4ebf404-e78b-4997-812c-cb24eab5a62f]]  \n21  [[e170e59f-fae9-4397-be10-d5efd768a8bd]]  \n22  [[36b15925-254b-4ba5-aa43-34da4d586a4a]]  \n23  [[2cae9cc1-dce2-46dc-b547-00551480c594]]  \n24  [[8f96e478-591d-44d7-8781-9693015a3bdf]]  \n25  [[f9ae4ac7-ed95-4bbc-841c-efa39cca7980]]  \n26  [[d1f57744-4cfa-497f-8205-6fbd750fdb24]]  \n27  [[a462fa93-26f4-4988-ac9f-08bd5c434dd5]]  ",
      "text/html": "<div>\n<style scoped>\n    .dataframe tbody tr th:only-of-type {\n        vertical-align: middle;\n    }\n\n    .dataframe tbody tr th {\n        vertical-align: top;\n    }\n\n    .dataframe thead th {\n        text-align: right;\n    }\n</style>\n<table border=\"1\" class=\"dataframe\">\n  <thead>\n    <tr style=\"text-align: right;\">\n      <th></th>\n      <th>qid</th>\n      <th>query</th>\n      <th>generation_gt</th>\n      <th>retrieval_gt</th>\n    </tr>\n  </thead>\n  <tbody>\n    <tr>\n      <th>0</th>\n      <td>8d2b1cf7-430b-477d-b74f-240d5bfef73a</td>\n      <td>Why do people dislike feeling obligated to som...</td>\n      <td>[nan]</td>\n      <td>[[6dcb0031-6d83-4aa4-b7f6-e6af878952ce]]</td>\n    </tr>\n    <tr>\n      <th>1</th>\n      <td>4df8f3bf-13dd-4aeb-aae2-c0b088dc8f0b</td>\n      <td>How does a heightened emotional state impact r...</td>\n      <td>[A heightened emotional state impacts reasonin...</td>\n      <td>[[2a17400a-dbc0-4fca-a1b5-a308460114d3]]</td>\n    </tr>\n    <tr>\n      <th>2</th>\n      <td>e9ca8191-7de0-4e6d-95ce-3819bacd8a52</td>\n      <td>What kind of job training does the FBI provide...</td>\n      <td>[The context suggests that the FBI provides on...</td>\n      <td>[[c6cccacd-cb1d-49ea-8fba-2bd2667e03ce]]</td>\n    </tr>\n    <tr>\n      <th>3</th>\n      <td>dbd92361-0a12-42b4-b3e2-3fcb2e5ac74a</td>\n      <td>What is the role of 'no' as a word in negotiat...</td>\n      <td>[nan]</td>\n      <td>[[72c901d4-47e4-4fdf-93aa-cecbd00bc8f2]]</td>\n    </tr>\n    <tr>\n      <th>4</th>\n      <td>0f0bed1f-7697-4bc0-b41c-fd3225a3bebb</td>\n      <td>Why would calling someone a coward indicate th...</td>\n      <td>[Calling someone a coward indicates that you d...</td>\n      <td>[[f552d27f-c1e2-48f2-af1d-3d2392ec291b]]</td>\n    </tr>\n    <tr>\n      <th>5</th>\n      <td>538fd868-1f0c-4f30-9839-a011a0064b93</td>\n      <td>Why might someone ask you to cut your commission?</td>\n      <td>[Someone might ask you to cut your commission ...</td>\n      <td>[[f40b3e8b-9c54-41b6-9699-50c83da473b1]]</td>\n    </tr>\n    <tr>\n      <th>6</th>\n      <td>930b72d6-38cd-4c93-b2d0-059d9a2e4102</td>\n      <td>What does it mean to be vested in a process?</td>\n      <td>[To be vested in a process means to participat...</td>\n      <td>[[071b9608-68cd-49eb-9924-ffe8bc2e1b94]]</td>\n    </tr>\n    <tr>\n      <th>7</th>\n      <td>9def3e68-c243-4369-989d-f1bf44d279b3</td>\n      <td>How does proactive listening help in evaluatin...</td>\n      <td>[Proactive listening helps in evaluating infor...</td>\n      <td>[[1505a848-64eb-4625-87a9-4bc121ca35f0]]</td>\n    </tr>\n    <tr>\n      <th>8</th>\n      <td>ca78dfaf-4897-46c3-970e-b6547d7e2102</td>\n      <td>Why is it beneficial to get on your feet, even...</td>\n      <td>[nan]</td>\n      <td>[[5a251366-b418-439f-a83a-ea1b3df08d92]]</td>\n    </tr>\n    <tr>\n      <th>9</th>\n      <td>2a82cd04-4a8b-4d17-a621-d41dbc747172</td>\n      <td>How does the perception of loss influence huma...</td>\n      <td>[According to Daniel Kahneman's prospect theor...</td>\n      <td>[[b2fff91f-fe98-44e4-8406-94180ef2ef4a]]</td>\n    </tr>\n    <tr>\n      <th>10</th>\n      <td>43d85817-5d4c-4719-8eb5-0b92088dd8b7</td>\n      <td>How do you get a read on your opponent in a ne...</td>\n      <td>[You get a read on your opponent in a negotiat...</td>\n      <td>[[15deca93-759a-4f3b-94e2-3ba207134abc]]</td>\n    </tr>\n    <tr>\n      <th>11</th>\n      <td>0069dc70-658d-44bd-8cc4-3003624a0041</td>\n      <td>What does it mean to be concerned?</td>\n      <td>[To be concerned means to be worried about som...</td>\n      <td>[[1cd2e547-b849-40e7-8152-29489bdd840a]]</td>\n    </tr>\n    <tr>\n      <th>12</th>\n      <td>19b917ed-7a7f-4b61-807f-b11e2a66e509</td>\n      <td>What does splitting the difference mean in the...</td>\n      <td>[In the context of resolving disputes between ...</td>\n      <td>[[27412c72-d592-497f-a80e-6802941a1aca]]</td>\n    </tr>\n    <tr>\n      <th>13</th>\n      <td>c9a1f460-d98f-454d-a256-02dccf23ffe9</td>\n      <td>How does the use of silence help in convincing...</td>\n      <td>[The use of silence helps in convincing and in...</td>\n      <td>[[19f759b5-f741-4e1f-94ff-37df9dba2e9d]]</td>\n    </tr>\n    <tr>\n      <th>14</th>\n      <td>7635989d-1f19-482d-b3b8-e2bb499c1413</td>\n      <td>Why is mimicking someone's tone of voice consi...</td>\n      <td>[Mimicking someone's tone of voice is consider...</td>\n      <td>[[3d587e1a-e1ac-4d59-8cd7-83b874e1aae0]]</td>\n    </tr>\n    <tr>\n      <th>15</th>\n      <td>4a142d75-4784-4a21-949a-e000eef6c73e</td>\n      <td>Why is it important to proactively mitigate ne...</td>\n      <td>[It is important to proactively mitigate negat...</td>\n      <td>[[da69e3ec-87ac-432b-b566-38bff39f5985]]</td>\n    </tr>\n    <tr>\n      <th>16</th>\n      <td>6b9dcdb2-19e6-4518-9954-376f2d78ddbe</td>\n      <td>Why are lasting impressions just as important ...</td>\n      <td>[nan]</td>\n      <td>[[4a51e777-38d6-49b7-ba94-b5e9af370bb8]]</td>\n    </tr>\n    <tr>\n      <th>17</th>\n      <td>6f084181-7698-4e5c-8c50-84ea6257a667</td>\n      <td>How can focusing on making the company more su...</td>\n      <td>[Focusing on making the company more successfu...</td>\n      <td>[[e434aa3e-e1a4-4f80-895f-3edd80fc1fd8]]</td>\n    </tr>\n    <tr>\n      <th>18</th>\n      <td>d1fc4701-9aab-4d19-acd0-e3a35c444bfb</td>\n      <td>Why is being good at shutting up considered be...</td>\n      <td>[nan]</td>\n      <td>[[4f253c1d-5455-4913-baf1-9c8d18cc60d7]]</td>\n    </tr>\n    <tr>\n      <th>19</th>\n      <td>7d1e18b8-af08-47cc-9250-530eb6ee20ec</td>\n      <td>Why does the speaker listen to certain people ...</td>\n      <td>[The speaker listens to certain people to stud...</td>\n      <td>[[8ce532e6-d209-4a32-b068-c4a14369b846]]</td>\n    </tr>\n    <tr>\n      <th>20</th>\n      <td>d954828c-e24c-45da-abc3-109284dbbb04</td>\n      <td>Why are people more likely to take a risk to a...</td>\n      <td>[People are more likely to take a risk to avoi...</td>\n      <td>[[b4ebf404-e78b-4997-812c-cb24eab5a62f]]</td>\n    </tr>\n    <tr>\n      <th>21</th>\n      <td>b7e8a8c8-a63b-4677-b556-714057bf4da0</td>\n      <td>What becomes problematic if emotions aren't co...</td>\n      <td>[If emotions aren't controlled, you can't cont...</td>\n      <td>[[e170e59f-fae9-4397-be10-d5efd768a8bd]]</td>\n    </tr>\n    <tr>\n      <th>22</th>\n      <td>8f1bff3d-5266-4e6f-9c3a-f8ba7b4d51ca</td>\n      <td>Who's the ex-FBI negotiator at Black Swan Group?</td>\n      <td>[The ex-FBI negotiator at Black Swan Group is ...</td>\n      <td>[[36b15925-254b-4ba5-aa43-34da4d586a4a]]</td>\n    </tr>\n    <tr>\n      <th>23</th>\n      <td>5964f01b-6b7e-47e7-abb6-e198074e5099</td>\n      <td>What trait, besides EQ, helps in negotiation?</td>\n      <td>[Openness is a trait that helps in negotiation...</td>\n      <td>[[2cae9cc1-dce2-46dc-b547-00551480c594]]</td>\n    </tr>\n    <tr>\n      <th>24</th>\n      <td>85c3809d-0122-4b2e-a457-8dc84aa57311</td>\n      <td>Which brain side is tied to logic vs. creativity?</td>\n      <td>[The left brain is tied to logic, while the ri...</td>\n      <td>[[8f96e478-591d-44d7-8781-9693015a3bdf]]</td>\n    </tr>\n    <tr>\n      <th>25</th>\n      <td>06151922-f119-4b04-b4ab-f35262795404</td>\n      <td>How do energy and body language affect in-pers...</td>\n      <td>[Energy and body language affect in-person com...</td>\n      <td>[[f9ae4ac7-ed95-4bbc-841c-efa39cca7980]]</td>\n    </tr>\n    <tr>\n      <th>26</th>\n      <td>8e325307-83b1-4d26-a084-52fed06b17f7</td>\n      <td>How does recognizing anxiety affect self-aware...</td>\n      <td>[Recognizing anxiety affects self-awareness an...</td>\n      <td>[[d1f57744-4cfa-497f-8205-6fbd750fdb24]]</td>\n    </tr>\n    <tr>\n      <th>27</th>\n      <td>047aec7d-26a8-4e6f-a512-863bcdb4452b</td>\n      <td>How do misaligned incentives occur with non-ou...</td>\n      <td>[Misaligned incentives occur with non-outcome-...</td>\n      <td>[[a462fa93-26f4-4988-ac9f-08bd5c434dd5]]</td>\n    </tr>\n  </tbody>\n</table>\n</div>"
     },
     "execution_count": 162,
     "metadata": {},
     "output_type": "execute_result"
    }
   ],
   "source": [
    "sd = pd.read_parquet('util/live_template_eval_autorag.parquet')\n",
    "sd.head(100)"
   ],
   "metadata": {
    "collapsed": false,
    "ExecuteTime": {
     "end_time": "2024-06-19T21:22:53.010440Z",
     "start_time": "2024-06-19T21:22:52.970369Z"
    }
   },
   "id": "b89ca3edf515d63a",
   "execution_count": 162
  },
  {
   "cell_type": "code",
   "outputs": [
    {
     "data": {
      "text/plain": "       node_line_name  node_type best_module_filename best_module_name  \\\n0  retrieve_node_line  retrieval            6.parquet        hybrid_cc   \n\n                                  best_module_params  best_execution_time  \n0  {'top_k': 10, 'weights': (0.7, 0.3), 'target_m...              0.27566  ",
      "text/html": "<div>\n<style scoped>\n    .dataframe tbody tr th:only-of-type {\n        vertical-align: middle;\n    }\n\n    .dataframe tbody tr th {\n        vertical-align: top;\n    }\n\n    .dataframe thead th {\n        text-align: right;\n    }\n</style>\n<table border=\"1\" class=\"dataframe\">\n  <thead>\n    <tr style=\"text-align: right;\">\n      <th></th>\n      <th>node_line_name</th>\n      <th>node_type</th>\n      <th>best_module_filename</th>\n      <th>best_module_name</th>\n      <th>best_module_params</th>\n      <th>best_execution_time</th>\n    </tr>\n  </thead>\n  <tbody>\n    <tr>\n      <th>0</th>\n      <td>retrieve_node_line</td>\n      <td>retrieval</td>\n      <td>6.parquet</td>\n      <td>hybrid_cc</td>\n      <td>{'top_k': 10, 'weights': (0.7, 0.3), 'target_m...</td>\n      <td>0.27566</td>\n    </tr>\n  </tbody>\n</table>\n</div>"
     },
     "execution_count": 163,
     "metadata": {},
     "output_type": "execute_result"
    }
   ],
   "source": [
    "eval_df = pd.read_csv('1/summary.csv')\n",
    "\n",
    "eval_df.head(50)"
   ],
   "metadata": {
    "collapsed": false,
    "ExecuteTime": {
     "end_time": "2024-06-19T21:55:10.666809Z",
     "start_time": "2024-06-19T21:55:10.660104Z"
    }
   },
   "id": "ae01cd80744293d3",
   "execution_count": 163
  },
  {
   "cell_type": "code",
   "outputs": [],
   "source": [
    "df = pd.read_parquet(f\"util/live_dataset_autorag.parquet\")\n",
    "\n",
    "# use iloc to slice shorter\n",
    "quarter_length = len(df) // 10\n",
    "first_quarter_df = df.iloc[:quarter_length]\n",
    "\n",
    "first_quarter_df.to_parquet(f\"util/live_dataset_autorag_eval_fquarter.parquet\")"
   ],
   "metadata": {
    "collapsed": false,
    "ExecuteTime": {
     "end_time": "2024-06-19T22:02:59.424265Z",
     "start_time": "2024-06-19T22:02:59.373804Z"
    }
   },
   "id": "962be9bdd175cf5",
   "execution_count": 164
  },
  {
   "cell_type": "code",
   "outputs": [
    {
     "data": {
      "text/plain": "                                   retrieved_contents  \\\n0   [It's nonsense. Stop doing it because people k...   \n1   [That's why when you speak on the phone with a...   \n2   [I imagine the FBI doesn't want just anyone to...   \n3   [What is the role of no and why is it so impor...   \n4   [Yeah. You Like if fighting words for me are c...   \n5   [And the translation is they're telling you, w...   \n6   [Do they participate in a process? Then they'r...   \n7   [You'll think better when you're listening bet...   \n8   [Get on your feet, even if it's just to stand ...   \n9   [But then in 2002, Daniel Kahneman won the Nob...   \n10  [You're looking at the way they take a drink f...   \n11  [Whatever's on your mind, get it off your mind...   \n12  [I mean, it's just so bad. Splitting the diffe...   \n13  [And so they figure that if I leave the silenc...   \n14  [And I'm always very concerned about somebody ...   \n15  [Absolutely. And if they know what's coming, t...   \n16  [The first impression is the second most impor...   \n17  [What happens if what they have in mind for yo...   \n18  [And then I refocus on my own internal monolog...   \n19  [There's certain people that I'll study. I'll ...   \n20  [I mean, what you hit on the second part, whic...   \n21  [We have specific skills that we can use to mi...   \n22  [ Episode 99, former top FBI hostage negotiato...   \n23  [Yeah. And would you say that there are partic...   \n24  [But is that tied to what you were just talkin...   \n25  [So, you know, the game is in the tone of voic...   \n26  [And it doesn't increase their awareness. But ...   \n27  [Now, that doesn't mean that both sides don't ...   \n\n                                        retrieved_ids  \\\n0   [6dcb0031-6d83-4aa4-b7f6-e6af878952ce, 4f729d5...   \n1   [2a17400a-dbc0-4fca-a1b5-a308460114d3, e93f18d...   \n2   [c6cccacd-cb1d-49ea-8fba-2bd2667e03ce, 48b7092...   \n3   [72c901d4-47e4-4fdf-93aa-cecbd00bc8f2, b59276a...   \n4   [f552d27f-c1e2-48f2-af1d-3d2392ec291b, 6e84f56...   \n5   [f40b3e8b-9c54-41b6-9699-50c83da473b1, 555f859...   \n6   [071b9608-68cd-49eb-9924-ffe8bc2e1b94, 4f44522...   \n7   [1505a848-64eb-4625-87a9-4bc121ca35f0, 491ceec...   \n8   [5a251366-b418-439f-a83a-ea1b3df08d92, c128596...   \n9   [b2fff91f-fe98-44e4-8406-94180ef2ef4a, 772100b...   \n10  [15deca93-759a-4f3b-94e2-3ba207134abc, 95fbf5d...   \n11  [451b8ee6-224e-4867-9b5c-b5df7d45fb8d, 43b0828...   \n12  [27412c72-d592-497f-a80e-6802941a1aca, 0dd0d7e...   \n13  [19f759b5-f741-4e1f-94ff-37df9dba2e9d, 3199faf...   \n14  [3d587e1a-e1ac-4d59-8cd7-83b874e1aae0, a7573ec...   \n15  [da69e3ec-87ac-432b-b566-38bff39f5985, c83d40d...   \n16  [5bed6223-f671-4241-b6ba-1d56447edfe7, 4a51e77...   \n17  [e434aa3e-e1a4-4f80-895f-3edd80fc1fd8, 1502d47...   \n18  [4b2892ae-1921-4b52-85f6-378ebb4466d9, 1502d47...   \n19  [8ce532e6-d209-4a32-b068-c4a14369b846, 246e273...   \n20  [b4ebf404-e78b-4997-812c-cb24eab5a62f, 390696c...   \n21  [e170e59f-fae9-4397-be10-d5efd768a8bd, 1b62022...   \n22  [369f7c85-234f-435c-9c8f-272f796fd8f6, cb20fdb...   \n23  [2cae9cc1-dce2-46dc-b547-00551480c594, df1d535...   \n24  [8f96e478-591d-44d7-8781-9693015a3bdf, 693060a...   \n25  [f9ae4ac7-ed95-4bbc-841c-efa39cca7980, 1a83392...   \n26  [ca497a36-c8fe-4244-8d16-d3370edb18d3, 390696c...   \n27  [a462fa93-26f4-4988-ac9f-08bd5c434dd5, 27a6d8d...   \n\n                                      retrieve_scores  retrieval_f1  \\\n0   [13.44122127188481, 12.488390482199286, 10.838...      0.181818   \n1   [18.00158127875022, 8.183888136298025, 8.13795...      0.181818   \n2   [16.87941190076247, 9.773397172255695, 9.40784...      0.181818   \n3   [17.34119841365897, 9.911580047231487, 6.55395...      0.181818   \n4   [17.71495749158247, 15.313081586500306, 8.2640...      0.181818   \n5   [15.636988815088198, 11.027851201842402, 10.78...      0.181818   \n6   [15.085383876129743, 7.5472453019546375, 7.081...      0.181818   \n7   [22.254421307184593, 9.543140857793372, 9.3677...      0.181818   \n8   [34.26575057313519, 11.126980369234644, 9.8109...      0.181818   \n9   [31.612282246290285, 18.24545016886861, 15.774...      0.181818   \n10  [14.159819963937085, 13.765094707274592, 6.971...      0.181818   \n11  [6.207977081285276, 6.207977081285276, 6.03989...      0.181818   \n12  [26.79183110350415, 10.704682929969492, 10.099...      0.181818   \n13  [14.986118488737088, 10.875554149457821, 9.366...      0.181818   \n14  [19.615986447869503, 13.388159602202368, 11.46...      0.181818   \n15  [36.820994057262695, 14.169558581086546, 11.80...      0.181818   \n16  [14.41400534468979, 11.788224076838034, 11.432...      0.181818   \n17  [24.829721870986823, 11.31946251574631, 11.102...      0.181818   \n18  [7.957283399171587, 7.548717090378547, 7.43757...      0.181818   \n19  [22.48722446667341, 9.095791553173596, 8.83132...      0.181818   \n20  [31.19396042225311, 13.498419896655902, 13.100...      0.181818   \n21  [11.12876902713774, 10.350342172582874, 8.8831...      0.181818   \n22  [14.522840370461832, 13.321018966338848, 12.83...      0.181818   \n23  [8.367681445277022, 7.085999036815955, 7.01578...      0.181818   \n24  [26.560021952088306, 10.520593440779233, 8.806...      0.181818   \n25  [19.717729752985612, 12.414882137929364, 12.29...      0.181818   \n26  [15.640955779655554, 12.55618134778294, 12.181...      0.181818   \n27  [17.668022417289933, 11.239243477544761, 9.244...      0.181818   \n\n    retrieval_recall  retrieval_precision  retrieval_ndcg  retrieval_map  \\\n0                1.0                  0.1        1.000000       1.000000   \n1                1.0                  0.1        1.000000       1.000000   \n2                1.0                  0.1        1.000000       1.000000   \n3                1.0                  0.1        1.000000       1.000000   \n4                1.0                  0.1        1.000000       1.000000   \n5                1.0                  0.1        1.000000       1.000000   \n6                1.0                  0.1        1.000000       1.000000   \n7                1.0                  0.1        1.000000       1.000000   \n8                1.0                  0.1        1.000000       1.000000   \n9                1.0                  0.1        1.000000       1.000000   \n10               1.0                  0.1        1.000000       1.000000   \n11               1.0                  0.1        0.356207       0.166667   \n12               1.0                  0.1        1.000000       1.000000   \n13               1.0                  0.1        1.000000       1.000000   \n14               1.0                  0.1        1.000000       1.000000   \n15               1.0                  0.1        1.000000       1.000000   \n16               1.0                  0.1        0.630930       0.500000   \n17               1.0                  0.1        1.000000       1.000000   \n18               1.0                  0.1        0.301030       0.111111   \n19               1.0                  0.1        1.000000       1.000000   \n20               1.0                  0.1        1.000000       1.000000   \n21               1.0                  0.1        1.000000       1.000000   \n22               1.0                  0.1        0.301030       0.111111   \n23               1.0                  0.1        1.000000       1.000000   \n24               1.0                  0.1        1.000000       1.000000   \n25               1.0                  0.1        1.000000       1.000000   \n26               1.0                  0.1        0.430677       0.250000   \n27               1.0                  0.1        1.000000       1.000000   \n\n    retrieval_mrr  \n0        1.000000  \n1        1.000000  \n2        1.000000  \n3        1.000000  \n4        1.000000  \n5        1.000000  \n6        1.000000  \n7        1.000000  \n8        1.000000  \n9        1.000000  \n10       1.000000  \n11       0.166667  \n12       1.000000  \n13       1.000000  \n14       1.000000  \n15       1.000000  \n16       0.500000  \n17       1.000000  \n18       0.111111  \n19       1.000000  \n20       1.000000  \n21       1.000000  \n22       0.111111  \n23       1.000000  \n24       1.000000  \n25       1.000000  \n26       0.250000  \n27       1.000000  ",
      "text/html": "<div>\n<style scoped>\n    .dataframe tbody tr th:only-of-type {\n        vertical-align: middle;\n    }\n\n    .dataframe tbody tr th {\n        vertical-align: top;\n    }\n\n    .dataframe thead th {\n        text-align: right;\n    }\n</style>\n<table border=\"1\" class=\"dataframe\">\n  <thead>\n    <tr style=\"text-align: right;\">\n      <th></th>\n      <th>retrieved_contents</th>\n      <th>retrieved_ids</th>\n      <th>retrieve_scores</th>\n      <th>retrieval_f1</th>\n      <th>retrieval_recall</th>\n      <th>retrieval_precision</th>\n      <th>retrieval_ndcg</th>\n      <th>retrieval_map</th>\n      <th>retrieval_mrr</th>\n    </tr>\n  </thead>\n  <tbody>\n    <tr>\n      <th>0</th>\n      <td>[It's nonsense. Stop doing it because people k...</td>\n      <td>[6dcb0031-6d83-4aa4-b7f6-e6af878952ce, 4f729d5...</td>\n      <td>[13.44122127188481, 12.488390482199286, 10.838...</td>\n      <td>0.181818</td>\n      <td>1.0</td>\n      <td>0.1</td>\n      <td>1.000000</td>\n      <td>1.000000</td>\n      <td>1.000000</td>\n    </tr>\n    <tr>\n      <th>1</th>\n      <td>[That's why when you speak on the phone with a...</td>\n      <td>[2a17400a-dbc0-4fca-a1b5-a308460114d3, e93f18d...</td>\n      <td>[18.00158127875022, 8.183888136298025, 8.13795...</td>\n      <td>0.181818</td>\n      <td>1.0</td>\n      <td>0.1</td>\n      <td>1.000000</td>\n      <td>1.000000</td>\n      <td>1.000000</td>\n    </tr>\n    <tr>\n      <th>2</th>\n      <td>[I imagine the FBI doesn't want just anyone to...</td>\n      <td>[c6cccacd-cb1d-49ea-8fba-2bd2667e03ce, 48b7092...</td>\n      <td>[16.87941190076247, 9.773397172255695, 9.40784...</td>\n      <td>0.181818</td>\n      <td>1.0</td>\n      <td>0.1</td>\n      <td>1.000000</td>\n      <td>1.000000</td>\n      <td>1.000000</td>\n    </tr>\n    <tr>\n      <th>3</th>\n      <td>[What is the role of no and why is it so impor...</td>\n      <td>[72c901d4-47e4-4fdf-93aa-cecbd00bc8f2, b59276a...</td>\n      <td>[17.34119841365897, 9.911580047231487, 6.55395...</td>\n      <td>0.181818</td>\n      <td>1.0</td>\n      <td>0.1</td>\n      <td>1.000000</td>\n      <td>1.000000</td>\n      <td>1.000000</td>\n    </tr>\n    <tr>\n      <th>4</th>\n      <td>[Yeah. You Like if fighting words for me are c...</td>\n      <td>[f552d27f-c1e2-48f2-af1d-3d2392ec291b, 6e84f56...</td>\n      <td>[17.71495749158247, 15.313081586500306, 8.2640...</td>\n      <td>0.181818</td>\n      <td>1.0</td>\n      <td>0.1</td>\n      <td>1.000000</td>\n      <td>1.000000</td>\n      <td>1.000000</td>\n    </tr>\n    <tr>\n      <th>5</th>\n      <td>[And the translation is they're telling you, w...</td>\n      <td>[f40b3e8b-9c54-41b6-9699-50c83da473b1, 555f859...</td>\n      <td>[15.636988815088198, 11.027851201842402, 10.78...</td>\n      <td>0.181818</td>\n      <td>1.0</td>\n      <td>0.1</td>\n      <td>1.000000</td>\n      <td>1.000000</td>\n      <td>1.000000</td>\n    </tr>\n    <tr>\n      <th>6</th>\n      <td>[Do they participate in a process? Then they'r...</td>\n      <td>[071b9608-68cd-49eb-9924-ffe8bc2e1b94, 4f44522...</td>\n      <td>[15.085383876129743, 7.5472453019546375, 7.081...</td>\n      <td>0.181818</td>\n      <td>1.0</td>\n      <td>0.1</td>\n      <td>1.000000</td>\n      <td>1.000000</td>\n      <td>1.000000</td>\n    </tr>\n    <tr>\n      <th>7</th>\n      <td>[You'll think better when you're listening bet...</td>\n      <td>[1505a848-64eb-4625-87a9-4bc121ca35f0, 491ceec...</td>\n      <td>[22.254421307184593, 9.543140857793372, 9.3677...</td>\n      <td>0.181818</td>\n      <td>1.0</td>\n      <td>0.1</td>\n      <td>1.000000</td>\n      <td>1.000000</td>\n      <td>1.000000</td>\n    </tr>\n    <tr>\n      <th>8</th>\n      <td>[Get on your feet, even if it's just to stand ...</td>\n      <td>[5a251366-b418-439f-a83a-ea1b3df08d92, c128596...</td>\n      <td>[34.26575057313519, 11.126980369234644, 9.8109...</td>\n      <td>0.181818</td>\n      <td>1.0</td>\n      <td>0.1</td>\n      <td>1.000000</td>\n      <td>1.000000</td>\n      <td>1.000000</td>\n    </tr>\n    <tr>\n      <th>9</th>\n      <td>[But then in 2002, Daniel Kahneman won the Nob...</td>\n      <td>[b2fff91f-fe98-44e4-8406-94180ef2ef4a, 772100b...</td>\n      <td>[31.612282246290285, 18.24545016886861, 15.774...</td>\n      <td>0.181818</td>\n      <td>1.0</td>\n      <td>0.1</td>\n      <td>1.000000</td>\n      <td>1.000000</td>\n      <td>1.000000</td>\n    </tr>\n    <tr>\n      <th>10</th>\n      <td>[You're looking at the way they take a drink f...</td>\n      <td>[15deca93-759a-4f3b-94e2-3ba207134abc, 95fbf5d...</td>\n      <td>[14.159819963937085, 13.765094707274592, 6.971...</td>\n      <td>0.181818</td>\n      <td>1.0</td>\n      <td>0.1</td>\n      <td>1.000000</td>\n      <td>1.000000</td>\n      <td>1.000000</td>\n    </tr>\n    <tr>\n      <th>11</th>\n      <td>[Whatever's on your mind, get it off your mind...</td>\n      <td>[451b8ee6-224e-4867-9b5c-b5df7d45fb8d, 43b0828...</td>\n      <td>[6.207977081285276, 6.207977081285276, 6.03989...</td>\n      <td>0.181818</td>\n      <td>1.0</td>\n      <td>0.1</td>\n      <td>0.356207</td>\n      <td>0.166667</td>\n      <td>0.166667</td>\n    </tr>\n    <tr>\n      <th>12</th>\n      <td>[I mean, it's just so bad. Splitting the diffe...</td>\n      <td>[27412c72-d592-497f-a80e-6802941a1aca, 0dd0d7e...</td>\n      <td>[26.79183110350415, 10.704682929969492, 10.099...</td>\n      <td>0.181818</td>\n      <td>1.0</td>\n      <td>0.1</td>\n      <td>1.000000</td>\n      <td>1.000000</td>\n      <td>1.000000</td>\n    </tr>\n    <tr>\n      <th>13</th>\n      <td>[And so they figure that if I leave the silenc...</td>\n      <td>[19f759b5-f741-4e1f-94ff-37df9dba2e9d, 3199faf...</td>\n      <td>[14.986118488737088, 10.875554149457821, 9.366...</td>\n      <td>0.181818</td>\n      <td>1.0</td>\n      <td>0.1</td>\n      <td>1.000000</td>\n      <td>1.000000</td>\n      <td>1.000000</td>\n    </tr>\n    <tr>\n      <th>14</th>\n      <td>[And I'm always very concerned about somebody ...</td>\n      <td>[3d587e1a-e1ac-4d59-8cd7-83b874e1aae0, a7573ec...</td>\n      <td>[19.615986447869503, 13.388159602202368, 11.46...</td>\n      <td>0.181818</td>\n      <td>1.0</td>\n      <td>0.1</td>\n      <td>1.000000</td>\n      <td>1.000000</td>\n      <td>1.000000</td>\n    </tr>\n    <tr>\n      <th>15</th>\n      <td>[Absolutely. And if they know what's coming, t...</td>\n      <td>[da69e3ec-87ac-432b-b566-38bff39f5985, c83d40d...</td>\n      <td>[36.820994057262695, 14.169558581086546, 11.80...</td>\n      <td>0.181818</td>\n      <td>1.0</td>\n      <td>0.1</td>\n      <td>1.000000</td>\n      <td>1.000000</td>\n      <td>1.000000</td>\n    </tr>\n    <tr>\n      <th>16</th>\n      <td>[The first impression is the second most impor...</td>\n      <td>[5bed6223-f671-4241-b6ba-1d56447edfe7, 4a51e77...</td>\n      <td>[14.41400534468979, 11.788224076838034, 11.432...</td>\n      <td>0.181818</td>\n      <td>1.0</td>\n      <td>0.1</td>\n      <td>0.630930</td>\n      <td>0.500000</td>\n      <td>0.500000</td>\n    </tr>\n    <tr>\n      <th>17</th>\n      <td>[What happens if what they have in mind for yo...</td>\n      <td>[e434aa3e-e1a4-4f80-895f-3edd80fc1fd8, 1502d47...</td>\n      <td>[24.829721870986823, 11.31946251574631, 11.102...</td>\n      <td>0.181818</td>\n      <td>1.0</td>\n      <td>0.1</td>\n      <td>1.000000</td>\n      <td>1.000000</td>\n      <td>1.000000</td>\n    </tr>\n    <tr>\n      <th>18</th>\n      <td>[And then I refocus on my own internal monolog...</td>\n      <td>[4b2892ae-1921-4b52-85f6-378ebb4466d9, 1502d47...</td>\n      <td>[7.957283399171587, 7.548717090378547, 7.43757...</td>\n      <td>0.181818</td>\n      <td>1.0</td>\n      <td>0.1</td>\n      <td>0.301030</td>\n      <td>0.111111</td>\n      <td>0.111111</td>\n    </tr>\n    <tr>\n      <th>19</th>\n      <td>[There's certain people that I'll study. I'll ...</td>\n      <td>[8ce532e6-d209-4a32-b068-c4a14369b846, 246e273...</td>\n      <td>[22.48722446667341, 9.095791553173596, 8.83132...</td>\n      <td>0.181818</td>\n      <td>1.0</td>\n      <td>0.1</td>\n      <td>1.000000</td>\n      <td>1.000000</td>\n      <td>1.000000</td>\n    </tr>\n    <tr>\n      <th>20</th>\n      <td>[I mean, what you hit on the second part, whic...</td>\n      <td>[b4ebf404-e78b-4997-812c-cb24eab5a62f, 390696c...</td>\n      <td>[31.19396042225311, 13.498419896655902, 13.100...</td>\n      <td>0.181818</td>\n      <td>1.0</td>\n      <td>0.1</td>\n      <td>1.000000</td>\n      <td>1.000000</td>\n      <td>1.000000</td>\n    </tr>\n    <tr>\n      <th>21</th>\n      <td>[We have specific skills that we can use to mi...</td>\n      <td>[e170e59f-fae9-4397-be10-d5efd768a8bd, 1b62022...</td>\n      <td>[11.12876902713774, 10.350342172582874, 8.8831...</td>\n      <td>0.181818</td>\n      <td>1.0</td>\n      <td>0.1</td>\n      <td>1.000000</td>\n      <td>1.000000</td>\n      <td>1.000000</td>\n    </tr>\n    <tr>\n      <th>22</th>\n      <td>[ Episode 99, former top FBI hostage negotiato...</td>\n      <td>[369f7c85-234f-435c-9c8f-272f796fd8f6, cb20fdb...</td>\n      <td>[14.522840370461832, 13.321018966338848, 12.83...</td>\n      <td>0.181818</td>\n      <td>1.0</td>\n      <td>0.1</td>\n      <td>0.301030</td>\n      <td>0.111111</td>\n      <td>0.111111</td>\n    </tr>\n    <tr>\n      <th>23</th>\n      <td>[Yeah. And would you say that there are partic...</td>\n      <td>[2cae9cc1-dce2-46dc-b547-00551480c594, df1d535...</td>\n      <td>[8.367681445277022, 7.085999036815955, 7.01578...</td>\n      <td>0.181818</td>\n      <td>1.0</td>\n      <td>0.1</td>\n      <td>1.000000</td>\n      <td>1.000000</td>\n      <td>1.000000</td>\n    </tr>\n    <tr>\n      <th>24</th>\n      <td>[But is that tied to what you were just talkin...</td>\n      <td>[8f96e478-591d-44d7-8781-9693015a3bdf, 693060a...</td>\n      <td>[26.560021952088306, 10.520593440779233, 8.806...</td>\n      <td>0.181818</td>\n      <td>1.0</td>\n      <td>0.1</td>\n      <td>1.000000</td>\n      <td>1.000000</td>\n      <td>1.000000</td>\n    </tr>\n    <tr>\n      <th>25</th>\n      <td>[So, you know, the game is in the tone of voic...</td>\n      <td>[f9ae4ac7-ed95-4bbc-841c-efa39cca7980, 1a83392...</td>\n      <td>[19.717729752985612, 12.414882137929364, 12.29...</td>\n      <td>0.181818</td>\n      <td>1.0</td>\n      <td>0.1</td>\n      <td>1.000000</td>\n      <td>1.000000</td>\n      <td>1.000000</td>\n    </tr>\n    <tr>\n      <th>26</th>\n      <td>[And it doesn't increase their awareness. But ...</td>\n      <td>[ca497a36-c8fe-4244-8d16-d3370edb18d3, 390696c...</td>\n      <td>[15.640955779655554, 12.55618134778294, 12.181...</td>\n      <td>0.181818</td>\n      <td>1.0</td>\n      <td>0.1</td>\n      <td>0.430677</td>\n      <td>0.250000</td>\n      <td>0.250000</td>\n    </tr>\n    <tr>\n      <th>27</th>\n      <td>[Now, that doesn't mean that both sides don't ...</td>\n      <td>[a462fa93-26f4-4988-ac9f-08bd5c434dd5, 27a6d8d...</td>\n      <td>[17.668022417289933, 11.239243477544761, 9.244...</td>\n      <td>0.181818</td>\n      <td>1.0</td>\n      <td>0.1</td>\n      <td>1.000000</td>\n      <td>1.000000</td>\n      <td>1.000000</td>\n    </tr>\n  </tbody>\n</table>\n</div>"
     },
     "execution_count": 170,
     "metadata": {},
     "output_type": "execute_result"
    }
   ],
   "source": [
    "\n",
    "\n",
    "test_retrieval_df = pd.read_parquet('0/retrieve_node_line/retrieval/0.parquet')\n",
    "test_retrieval_df.head(50)"
   ],
   "metadata": {
    "collapsed": false,
    "ExecuteTime": {
     "end_time": "2024-06-19T22:16:39.892997Z",
     "start_time": "2024-06-19T22:16:39.873530Z"
    }
   },
   "id": "ee82713441a7c6c0",
   "execution_count": 170
  },
  {
   "cell_type": "code",
   "outputs": [
    {
     "data": {
      "text/plain": "                                             contents  int_id       kind  \\\n0    Many things in life are based on negotiation ...       1  interview   \n1   Derek Gaunt is a lecturer, author of Ego Autho...       1  interview   \n2   I'm Arianna Summer, and I have passionately de...       1  interview   \n3   Interesting set of circumstances put me on thi...       1  interview   \n4   And that's where I gravitated to. I was select...       1  interview   \n5   And I found that I was able to say specific th...       1  interview   \n6   And I said, there's got to be more to it. And ...       1  interview   \n7   And I was hooked at that point because I was s...       1  interview   \n8   So in 1997, got to be more. And then I heard a...       1  interview   \n9   And the rest, as they say, is history. I becam...       1  interview   \n10  And that's all that we did in hostage negotiat...       1  interview   \n11  And when he left the FBI in 2007, he says, I'm...       1  interview   \n12  And of course, Chris Voss is also a name that ...       1  interview   \n13  How do you train your mind to keep calm in hig...       1  interview   \n14  Your mindset has to be one of genuine curiosit...       1  interview   \n15  No matter how long you've known them, there's ...       1  interview   \n16  You can't be curious and anxious at the same t...       1  interview   \n17  And in the moment, as silly as it may sound, i...       1  interview   \n18  Let's say for the sake of this discussion, let...       1  interview   \n19  So when you label those emotions, you'll self-...       1  interview   \n20  When emotions or thoughts arise, just call the...       1  interview   \n21  For sure. Without question. And the attack tha...       1  interview   \n22  And our mindset should be not that she started...       1  interview   \n23  There's something that is important to them th...       1  interview   \n24  They're trying to manipulate you. They know th...       1  interview   \n25  You'll capitulate. You'll give away things tha...       1  interview   \n26  You have to figure out which one of the three ...       1  interview   \n27  It's still there and it's going to come back l...       1  interview   \n28  And of course, when we get attacked and what y...       1  interview   \n29  Yeah, I've been asked by clients and participa...       1  interview   \n30  When that amygdala fires up, you see your amyg...       1  interview   \n31  It'll fire up just the same. It's the prefront...       1  interview   \n32  But at the end of the day, you need to underst...       1  interview   \n33  So they also make better and more balanced dec...       1  interview   \n34  This is after I got promoted. And so I was man...       1  interview   \n35  We were using a bullhorn outside of his locati...       1  interview   \n36  He had, in violation of court order, snatched ...       1  interview   \n37  The length of time, it went for 20 hours, 21 h...       1  interview   \n38  And so what that involved was a negotiation wi...       1  interview   \n39  And so that's a message that I had to convey t...       1  interview   \n40  So that's what was important to me was to conv...       1  interview   \n41  Yes, and it seems like that was a negotiation ...       1  interview   \n42  That's a great point. And the short answer is ...       1  interview   \n43  The skills are awkward, which is the biggest h...       1  interview   \n44  Of the type of skill? Okay. So the accusations...       1  interview   \n45  If they were standing on a street corner and t...       1  interview   \n46  You're probably going to wonder why you agreed...       1  interview   \n47  And I let those sit for effect. They may or ma...       1  interview   \n48  This conversation is about you. And with that,...       1  interview   \n49  You're taking a negative light and you're poin...       1  interview   \n\n                                                title  \\\n0   Derek Gaunt On Hostage Negotiation Tactics For...   \n1   Derek Gaunt On Hostage Negotiation Tactics For...   \n2   Derek Gaunt On Hostage Negotiation Tactics For...   \n3   Derek Gaunt On Hostage Negotiation Tactics For...   \n4   Derek Gaunt On Hostage Negotiation Tactics For...   \n5   Derek Gaunt On Hostage Negotiation Tactics For...   \n6   Derek Gaunt On Hostage Negotiation Tactics For...   \n7   Derek Gaunt On Hostage Negotiation Tactics For...   \n8   Derek Gaunt On Hostage Negotiation Tactics For...   \n9   Derek Gaunt On Hostage Negotiation Tactics For...   \n10  Derek Gaunt On Hostage Negotiation Tactics For...   \n11  Derek Gaunt On Hostage Negotiation Tactics For...   \n12  Derek Gaunt On Hostage Negotiation Tactics For...   \n13  Derek Gaunt On Hostage Negotiation Tactics For...   \n14  Derek Gaunt On Hostage Negotiation Tactics For...   \n15  Derek Gaunt On Hostage Negotiation Tactics For...   \n16  Derek Gaunt On Hostage Negotiation Tactics For...   \n17  Derek Gaunt On Hostage Negotiation Tactics For...   \n18  Derek Gaunt On Hostage Negotiation Tactics For...   \n19  Derek Gaunt On Hostage Negotiation Tactics For...   \n20  Derek Gaunt On Hostage Negotiation Tactics For...   \n21  Derek Gaunt On Hostage Negotiation Tactics For...   \n22  Derek Gaunt On Hostage Negotiation Tactics For...   \n23  Derek Gaunt On Hostage Negotiation Tactics For...   \n24  Derek Gaunt On Hostage Negotiation Tactics For...   \n25  Derek Gaunt On Hostage Negotiation Tactics For...   \n26  Derek Gaunt On Hostage Negotiation Tactics For...   \n27  Derek Gaunt On Hostage Negotiation Tactics For...   \n28  Derek Gaunt On Hostage Negotiation Tactics For...   \n29  Derek Gaunt On Hostage Negotiation Tactics For...   \n30  Derek Gaunt On Hostage Negotiation Tactics For...   \n31  Derek Gaunt On Hostage Negotiation Tactics For...   \n32  Derek Gaunt On Hostage Negotiation Tactics For...   \n33  Derek Gaunt On Hostage Negotiation Tactics For...   \n34  Derek Gaunt On Hostage Negotiation Tactics For...   \n35  Derek Gaunt On Hostage Negotiation Tactics For...   \n36  Derek Gaunt On Hostage Negotiation Tactics For...   \n37  Derek Gaunt On Hostage Negotiation Tactics For...   \n38  Derek Gaunt On Hostage Negotiation Tactics For...   \n39  Derek Gaunt On Hostage Negotiation Tactics For...   \n40  Derek Gaunt On Hostage Negotiation Tactics For...   \n41  Derek Gaunt On Hostage Negotiation Tactics For...   \n42  Derek Gaunt On Hostage Negotiation Tactics For...   \n43  Derek Gaunt On Hostage Negotiation Tactics For...   \n44  Derek Gaunt On Hostage Negotiation Tactics For...   \n45  Derek Gaunt On Hostage Negotiation Tactics For...   \n46  Derek Gaunt On Hostage Negotiation Tactics For...   \n47  Derek Gaunt On Hostage Negotiation Tactics For...   \n48  Derek Gaunt On Hostage Negotiation Tactics For...   \n49  Derek Gaunt On Hostage Negotiation Tactics For...   \n\n                                             metadata  \\\n0   {'int_id': 1, 'kind': 'interview', 'title': 'D...   \n1   {'int_id': 1, 'kind': 'interview', 'title': 'D...   \n2   {'int_id': 1, 'kind': 'interview', 'title': 'D...   \n3   {'int_id': 1, 'kind': 'interview', 'title': 'D...   \n4   {'int_id': 1, 'kind': 'interview', 'title': 'D...   \n5   {'int_id': 1, 'kind': 'interview', 'title': 'D...   \n6   {'int_id': 1, 'kind': 'interview', 'title': 'D...   \n7   {'int_id': 1, 'kind': 'interview', 'title': 'D...   \n8   {'int_id': 1, 'kind': 'interview', 'title': 'D...   \n9   {'int_id': 1, 'kind': 'interview', 'title': 'D...   \n10  {'int_id': 1, 'kind': 'interview', 'title': 'D...   \n11  {'int_id': 1, 'kind': 'interview', 'title': 'D...   \n12  {'int_id': 1, 'kind': 'interview', 'title': 'D...   \n13  {'int_id': 1, 'kind': 'interview', 'title': 'D...   \n14  {'int_id': 1, 'kind': 'interview', 'title': 'D...   \n15  {'int_id': 1, 'kind': 'interview', 'title': 'D...   \n16  {'int_id': 1, 'kind': 'interview', 'title': 'D...   \n17  {'int_id': 1, 'kind': 'interview', 'title': 'D...   \n18  {'int_id': 1, 'kind': 'interview', 'title': 'D...   \n19  {'int_id': 1, 'kind': 'interview', 'title': 'D...   \n20  {'int_id': 1, 'kind': 'interview', 'title': 'D...   \n21  {'int_id': 1, 'kind': 'interview', 'title': 'D...   \n22  {'int_id': 1, 'kind': 'interview', 'title': 'D...   \n23  {'int_id': 1, 'kind': 'interview', 'title': 'D...   \n24  {'int_id': 1, 'kind': 'interview', 'title': 'D...   \n25  {'int_id': 1, 'kind': 'interview', 'title': 'D...   \n26  {'int_id': 1, 'kind': 'interview', 'title': 'D...   \n27  {'int_id': 1, 'kind': 'interview', 'title': 'D...   \n28  {'int_id': 1, 'kind': 'interview', 'title': 'D...   \n29  {'int_id': 1, 'kind': 'interview', 'title': 'D...   \n30  {'int_id': 1, 'kind': 'interview', 'title': 'D...   \n31  {'int_id': 1, 'kind': 'interview', 'title': 'D...   \n32  {'int_id': 1, 'kind': 'interview', 'title': 'D...   \n33  {'int_id': 1, 'kind': 'interview', 'title': 'D...   \n34  {'int_id': 1, 'kind': 'interview', 'title': 'D...   \n35  {'int_id': 1, 'kind': 'interview', 'title': 'D...   \n36  {'int_id': 1, 'kind': 'interview', 'title': 'D...   \n37  {'int_id': 1, 'kind': 'interview', 'title': 'D...   \n38  {'int_id': 1, 'kind': 'interview', 'title': 'D...   \n39  {'int_id': 1, 'kind': 'interview', 'title': 'D...   \n40  {'int_id': 1, 'kind': 'interview', 'title': 'D...   \n41  {'int_id': 1, 'kind': 'interview', 'title': 'D...   \n42  {'int_id': 1, 'kind': 'interview', 'title': 'D...   \n43  {'int_id': 1, 'kind': 'interview', 'title': 'D...   \n44  {'int_id': 1, 'kind': 'interview', 'title': 'D...   \n45  {'int_id': 1, 'kind': 'interview', 'title': 'D...   \n46  {'int_id': 1, 'kind': 'interview', 'title': 'D...   \n47  {'int_id': 1, 'kind': 'interview', 'title': 'D...   \n48  {'int_id': 1, 'kind': 'interview', 'title': 'D...   \n49  {'int_id': 1, 'kind': 'interview', 'title': 'D...   \n\n                                  doc_id  \n0   ee7df0e7-05f7-4447-8086-561582b0d50e  \n1   048d85f8-ebc6-4822-aa84-f984e38c1154  \n2   42d1b2c6-8c31-4c86-aae5-2ace9bf077f1  \n3   6998d8dd-6787-4bc6-a026-fceb04d64b71  \n4   a63962c6-e140-4be9-babf-132c6f88913b  \n5   15e3fa6c-4b00-431d-bb24-9f76af6717dc  \n6   f67ebf87-4a2f-438c-b16f-f47529ef64cc  \n7   7b59fdaf-775a-4c5b-93a3-82142988acbb  \n8   72141fea-432d-43f6-b417-f0eb4d8e4985  \n9   ffb1ff56-1a33-422d-896b-e253659ec1d2  \n10  0f1c6fa1-e653-4a44-b32a-5373a0b9bd25  \n11  e2c9f7df-66b5-4ec6-a9a6-a8a04b382ec4  \n12  f01211f2-3112-422e-98e3-2fc93e9b1fe5  \n13  be14ed9b-4e3b-4bd0-b05a-762b09e0fc82  \n14  e8da2ffa-4de5-49b1-866b-0cc986ccf399  \n15  44b27461-1aeb-483f-a434-db4ed6cc7d8a  \n16  70c96961-07dd-481b-aeae-cafd0ad61e37  \n17  dc0beb3c-f9c9-45d6-95e6-67e668181da0  \n18  3a0d4c94-bc5a-4957-8ab3-bce7612e01e8  \n19  c79a649e-fb34-4dc0-8ef2-9b44955ca75d  \n20  4d78442d-bdc0-46cf-b885-2c6f4394319c  \n21  0d9968d5-7fc4-40ba-9730-608c30cf765e  \n22  627ff463-c281-47d5-862a-892cc8c8b12a  \n23  831b2d09-a60a-42e5-b65c-160668c9221a  \n24  0918cce4-702d-4ee6-8ca5-1b231125230f  \n25  794fac9d-588c-4a17-9a94-479c4cff0236  \n26  0443f045-a421-4791-b043-2262fd1fdca4  \n27  7598d280-7618-4c84-91a4-c25f7a4c641a  \n28  e629c9b2-fab2-4124-9e33-8f175e0859d1  \n29  00c54956-e765-4033-b864-95f58bebe3db  \n30  5fccd147-cf02-4988-9cda-b9a2daccf643  \n31  0861fbb3-564a-4883-b5e7-46907b27f8ef  \n32  e0b4e59c-874f-4814-920b-c57a5cd3e87d  \n33  f16df1bb-99c8-431a-8b46-d2719aef7bc2  \n34  5e82b650-c4aa-48eb-9ece-aec127a3f7aa  \n35  2a076818-8b2c-44d1-b8a3-6d6810444453  \n36  1540f8df-c4e9-4008-8f84-7ddf716b388f  \n37  03569202-f6c5-4013-932e-f6b192b35029  \n38  72c06442-bff6-46bd-8bbc-ad9f63ac4b3a  \n39  cb0e18fb-c93b-4f7f-bf60-1955105d701c  \n40  f06ac541-322f-47e7-b991-6f00f031eef1  \n41  1e25b45f-2671-43a9-8e5a-201b5f66f602  \n42  845ad83b-e5fb-4a08-9f7e-9790e9fa7856  \n43  643e7ff6-c857-4788-95b4-c914344c41fe  \n44  3b7d7f0f-5e50-4780-ad6b-3da816ea76de  \n45  a1dc74c0-226c-450a-9541-b78e7388ff44  \n46  933931b6-57c3-4dcc-9515-0460dc58daaa  \n47  3a0f1f94-2a99-4fe1-92f2-66f78f9dff40  \n48  5ec7d61e-e0ee-4c9d-961a-b3cb9ffb2690  \n49  baad8325-cdcd-4e93-a590-f388372a3cf8  ",
      "text/html": "<div>\n<style scoped>\n    .dataframe tbody tr th:only-of-type {\n        vertical-align: middle;\n    }\n\n    .dataframe tbody tr th {\n        vertical-align: top;\n    }\n\n    .dataframe thead th {\n        text-align: right;\n    }\n</style>\n<table border=\"1\" class=\"dataframe\">\n  <thead>\n    <tr style=\"text-align: right;\">\n      <th></th>\n      <th>contents</th>\n      <th>int_id</th>\n      <th>kind</th>\n      <th>title</th>\n      <th>metadata</th>\n      <th>doc_id</th>\n    </tr>\n  </thead>\n  <tbody>\n    <tr>\n      <th>0</th>\n      <td>Many things in life are based on negotiation ...</td>\n      <td>1</td>\n      <td>interview</td>\n      <td>Derek Gaunt On Hostage Negotiation Tactics For...</td>\n      <td>{'int_id': 1, 'kind': 'interview', 'title': 'D...</td>\n      <td>ee7df0e7-05f7-4447-8086-561582b0d50e</td>\n    </tr>\n    <tr>\n      <th>1</th>\n      <td>Derek Gaunt is a lecturer, author of Ego Autho...</td>\n      <td>1</td>\n      <td>interview</td>\n      <td>Derek Gaunt On Hostage Negotiation Tactics For...</td>\n      <td>{'int_id': 1, 'kind': 'interview', 'title': 'D...</td>\n      <td>048d85f8-ebc6-4822-aa84-f984e38c1154</td>\n    </tr>\n    <tr>\n      <th>2</th>\n      <td>I'm Arianna Summer, and I have passionately de...</td>\n      <td>1</td>\n      <td>interview</td>\n      <td>Derek Gaunt On Hostage Negotiation Tactics For...</td>\n      <td>{'int_id': 1, 'kind': 'interview', 'title': 'D...</td>\n      <td>42d1b2c6-8c31-4c86-aae5-2ace9bf077f1</td>\n    </tr>\n    <tr>\n      <th>3</th>\n      <td>Interesting set of circumstances put me on thi...</td>\n      <td>1</td>\n      <td>interview</td>\n      <td>Derek Gaunt On Hostage Negotiation Tactics For...</td>\n      <td>{'int_id': 1, 'kind': 'interview', 'title': 'D...</td>\n      <td>6998d8dd-6787-4bc6-a026-fceb04d64b71</td>\n    </tr>\n    <tr>\n      <th>4</th>\n      <td>And that's where I gravitated to. I was select...</td>\n      <td>1</td>\n      <td>interview</td>\n      <td>Derek Gaunt On Hostage Negotiation Tactics For...</td>\n      <td>{'int_id': 1, 'kind': 'interview', 'title': 'D...</td>\n      <td>a63962c6-e140-4be9-babf-132c6f88913b</td>\n    </tr>\n    <tr>\n      <th>5</th>\n      <td>And I found that I was able to say specific th...</td>\n      <td>1</td>\n      <td>interview</td>\n      <td>Derek Gaunt On Hostage Negotiation Tactics For...</td>\n      <td>{'int_id': 1, 'kind': 'interview', 'title': 'D...</td>\n      <td>15e3fa6c-4b00-431d-bb24-9f76af6717dc</td>\n    </tr>\n    <tr>\n      <th>6</th>\n      <td>And I said, there's got to be more to it. And ...</td>\n      <td>1</td>\n      <td>interview</td>\n      <td>Derek Gaunt On Hostage Negotiation Tactics For...</td>\n      <td>{'int_id': 1, 'kind': 'interview', 'title': 'D...</td>\n      <td>f67ebf87-4a2f-438c-b16f-f47529ef64cc</td>\n    </tr>\n    <tr>\n      <th>7</th>\n      <td>And I was hooked at that point because I was s...</td>\n      <td>1</td>\n      <td>interview</td>\n      <td>Derek Gaunt On Hostage Negotiation Tactics For...</td>\n      <td>{'int_id': 1, 'kind': 'interview', 'title': 'D...</td>\n      <td>7b59fdaf-775a-4c5b-93a3-82142988acbb</td>\n    </tr>\n    <tr>\n      <th>8</th>\n      <td>So in 1997, got to be more. And then I heard a...</td>\n      <td>1</td>\n      <td>interview</td>\n      <td>Derek Gaunt On Hostage Negotiation Tactics For...</td>\n      <td>{'int_id': 1, 'kind': 'interview', 'title': 'D...</td>\n      <td>72141fea-432d-43f6-b417-f0eb4d8e4985</td>\n    </tr>\n    <tr>\n      <th>9</th>\n      <td>And the rest, as they say, is history. I becam...</td>\n      <td>1</td>\n      <td>interview</td>\n      <td>Derek Gaunt On Hostage Negotiation Tactics For...</td>\n      <td>{'int_id': 1, 'kind': 'interview', 'title': 'D...</td>\n      <td>ffb1ff56-1a33-422d-896b-e253659ec1d2</td>\n    </tr>\n    <tr>\n      <th>10</th>\n      <td>And that's all that we did in hostage negotiat...</td>\n      <td>1</td>\n      <td>interview</td>\n      <td>Derek Gaunt On Hostage Negotiation Tactics For...</td>\n      <td>{'int_id': 1, 'kind': 'interview', 'title': 'D...</td>\n      <td>0f1c6fa1-e653-4a44-b32a-5373a0b9bd25</td>\n    </tr>\n    <tr>\n      <th>11</th>\n      <td>And when he left the FBI in 2007, he says, I'm...</td>\n      <td>1</td>\n      <td>interview</td>\n      <td>Derek Gaunt On Hostage Negotiation Tactics For...</td>\n      <td>{'int_id': 1, 'kind': 'interview', 'title': 'D...</td>\n      <td>e2c9f7df-66b5-4ec6-a9a6-a8a04b382ec4</td>\n    </tr>\n    <tr>\n      <th>12</th>\n      <td>And of course, Chris Voss is also a name that ...</td>\n      <td>1</td>\n      <td>interview</td>\n      <td>Derek Gaunt On Hostage Negotiation Tactics For...</td>\n      <td>{'int_id': 1, 'kind': 'interview', 'title': 'D...</td>\n      <td>f01211f2-3112-422e-98e3-2fc93e9b1fe5</td>\n    </tr>\n    <tr>\n      <th>13</th>\n      <td>How do you train your mind to keep calm in hig...</td>\n      <td>1</td>\n      <td>interview</td>\n      <td>Derek Gaunt On Hostage Negotiation Tactics For...</td>\n      <td>{'int_id': 1, 'kind': 'interview', 'title': 'D...</td>\n      <td>be14ed9b-4e3b-4bd0-b05a-762b09e0fc82</td>\n    </tr>\n    <tr>\n      <th>14</th>\n      <td>Your mindset has to be one of genuine curiosit...</td>\n      <td>1</td>\n      <td>interview</td>\n      <td>Derek Gaunt On Hostage Negotiation Tactics For...</td>\n      <td>{'int_id': 1, 'kind': 'interview', 'title': 'D...</td>\n      <td>e8da2ffa-4de5-49b1-866b-0cc986ccf399</td>\n    </tr>\n    <tr>\n      <th>15</th>\n      <td>No matter how long you've known them, there's ...</td>\n      <td>1</td>\n      <td>interview</td>\n      <td>Derek Gaunt On Hostage Negotiation Tactics For...</td>\n      <td>{'int_id': 1, 'kind': 'interview', 'title': 'D...</td>\n      <td>44b27461-1aeb-483f-a434-db4ed6cc7d8a</td>\n    </tr>\n    <tr>\n      <th>16</th>\n      <td>You can't be curious and anxious at the same t...</td>\n      <td>1</td>\n      <td>interview</td>\n      <td>Derek Gaunt On Hostage Negotiation Tactics For...</td>\n      <td>{'int_id': 1, 'kind': 'interview', 'title': 'D...</td>\n      <td>70c96961-07dd-481b-aeae-cafd0ad61e37</td>\n    </tr>\n    <tr>\n      <th>17</th>\n      <td>And in the moment, as silly as it may sound, i...</td>\n      <td>1</td>\n      <td>interview</td>\n      <td>Derek Gaunt On Hostage Negotiation Tactics For...</td>\n      <td>{'int_id': 1, 'kind': 'interview', 'title': 'D...</td>\n      <td>dc0beb3c-f9c9-45d6-95e6-67e668181da0</td>\n    </tr>\n    <tr>\n      <th>18</th>\n      <td>Let's say for the sake of this discussion, let...</td>\n      <td>1</td>\n      <td>interview</td>\n      <td>Derek Gaunt On Hostage Negotiation Tactics For...</td>\n      <td>{'int_id': 1, 'kind': 'interview', 'title': 'D...</td>\n      <td>3a0d4c94-bc5a-4957-8ab3-bce7612e01e8</td>\n    </tr>\n    <tr>\n      <th>19</th>\n      <td>So when you label those emotions, you'll self-...</td>\n      <td>1</td>\n      <td>interview</td>\n      <td>Derek Gaunt On Hostage Negotiation Tactics For...</td>\n      <td>{'int_id': 1, 'kind': 'interview', 'title': 'D...</td>\n      <td>c79a649e-fb34-4dc0-8ef2-9b44955ca75d</td>\n    </tr>\n    <tr>\n      <th>20</th>\n      <td>When emotions or thoughts arise, just call the...</td>\n      <td>1</td>\n      <td>interview</td>\n      <td>Derek Gaunt On Hostage Negotiation Tactics For...</td>\n      <td>{'int_id': 1, 'kind': 'interview', 'title': 'D...</td>\n      <td>4d78442d-bdc0-46cf-b885-2c6f4394319c</td>\n    </tr>\n    <tr>\n      <th>21</th>\n      <td>For sure. Without question. And the attack tha...</td>\n      <td>1</td>\n      <td>interview</td>\n      <td>Derek Gaunt On Hostage Negotiation Tactics For...</td>\n      <td>{'int_id': 1, 'kind': 'interview', 'title': 'D...</td>\n      <td>0d9968d5-7fc4-40ba-9730-608c30cf765e</td>\n    </tr>\n    <tr>\n      <th>22</th>\n      <td>And our mindset should be not that she started...</td>\n      <td>1</td>\n      <td>interview</td>\n      <td>Derek Gaunt On Hostage Negotiation Tactics For...</td>\n      <td>{'int_id': 1, 'kind': 'interview', 'title': 'D...</td>\n      <td>627ff463-c281-47d5-862a-892cc8c8b12a</td>\n    </tr>\n    <tr>\n      <th>23</th>\n      <td>There's something that is important to them th...</td>\n      <td>1</td>\n      <td>interview</td>\n      <td>Derek Gaunt On Hostage Negotiation Tactics For...</td>\n      <td>{'int_id': 1, 'kind': 'interview', 'title': 'D...</td>\n      <td>831b2d09-a60a-42e5-b65c-160668c9221a</td>\n    </tr>\n    <tr>\n      <th>24</th>\n      <td>They're trying to manipulate you. They know th...</td>\n      <td>1</td>\n      <td>interview</td>\n      <td>Derek Gaunt On Hostage Negotiation Tactics For...</td>\n      <td>{'int_id': 1, 'kind': 'interview', 'title': 'D...</td>\n      <td>0918cce4-702d-4ee6-8ca5-1b231125230f</td>\n    </tr>\n    <tr>\n      <th>25</th>\n      <td>You'll capitulate. You'll give away things tha...</td>\n      <td>1</td>\n      <td>interview</td>\n      <td>Derek Gaunt On Hostage Negotiation Tactics For...</td>\n      <td>{'int_id': 1, 'kind': 'interview', 'title': 'D...</td>\n      <td>794fac9d-588c-4a17-9a94-479c4cff0236</td>\n    </tr>\n    <tr>\n      <th>26</th>\n      <td>You have to figure out which one of the three ...</td>\n      <td>1</td>\n      <td>interview</td>\n      <td>Derek Gaunt On Hostage Negotiation Tactics For...</td>\n      <td>{'int_id': 1, 'kind': 'interview', 'title': 'D...</td>\n      <td>0443f045-a421-4791-b043-2262fd1fdca4</td>\n    </tr>\n    <tr>\n      <th>27</th>\n      <td>It's still there and it's going to come back l...</td>\n      <td>1</td>\n      <td>interview</td>\n      <td>Derek Gaunt On Hostage Negotiation Tactics For...</td>\n      <td>{'int_id': 1, 'kind': 'interview', 'title': 'D...</td>\n      <td>7598d280-7618-4c84-91a4-c25f7a4c641a</td>\n    </tr>\n    <tr>\n      <th>28</th>\n      <td>And of course, when we get attacked and what y...</td>\n      <td>1</td>\n      <td>interview</td>\n      <td>Derek Gaunt On Hostage Negotiation Tactics For...</td>\n      <td>{'int_id': 1, 'kind': 'interview', 'title': 'D...</td>\n      <td>e629c9b2-fab2-4124-9e33-8f175e0859d1</td>\n    </tr>\n    <tr>\n      <th>29</th>\n      <td>Yeah, I've been asked by clients and participa...</td>\n      <td>1</td>\n      <td>interview</td>\n      <td>Derek Gaunt On Hostage Negotiation Tactics For...</td>\n      <td>{'int_id': 1, 'kind': 'interview', 'title': 'D...</td>\n      <td>00c54956-e765-4033-b864-95f58bebe3db</td>\n    </tr>\n    <tr>\n      <th>30</th>\n      <td>When that amygdala fires up, you see your amyg...</td>\n      <td>1</td>\n      <td>interview</td>\n      <td>Derek Gaunt On Hostage Negotiation Tactics For...</td>\n      <td>{'int_id': 1, 'kind': 'interview', 'title': 'D...</td>\n      <td>5fccd147-cf02-4988-9cda-b9a2daccf643</td>\n    </tr>\n    <tr>\n      <th>31</th>\n      <td>It'll fire up just the same. It's the prefront...</td>\n      <td>1</td>\n      <td>interview</td>\n      <td>Derek Gaunt On Hostage Negotiation Tactics For...</td>\n      <td>{'int_id': 1, 'kind': 'interview', 'title': 'D...</td>\n      <td>0861fbb3-564a-4883-b5e7-46907b27f8ef</td>\n    </tr>\n    <tr>\n      <th>32</th>\n      <td>But at the end of the day, you need to underst...</td>\n      <td>1</td>\n      <td>interview</td>\n      <td>Derek Gaunt On Hostage Negotiation Tactics For...</td>\n      <td>{'int_id': 1, 'kind': 'interview', 'title': 'D...</td>\n      <td>e0b4e59c-874f-4814-920b-c57a5cd3e87d</td>\n    </tr>\n    <tr>\n      <th>33</th>\n      <td>So they also make better and more balanced dec...</td>\n      <td>1</td>\n      <td>interview</td>\n      <td>Derek Gaunt On Hostage Negotiation Tactics For...</td>\n      <td>{'int_id': 1, 'kind': 'interview', 'title': 'D...</td>\n      <td>f16df1bb-99c8-431a-8b46-d2719aef7bc2</td>\n    </tr>\n    <tr>\n      <th>34</th>\n      <td>This is after I got promoted. And so I was man...</td>\n      <td>1</td>\n      <td>interview</td>\n      <td>Derek Gaunt On Hostage Negotiation Tactics For...</td>\n      <td>{'int_id': 1, 'kind': 'interview', 'title': 'D...</td>\n      <td>5e82b650-c4aa-48eb-9ece-aec127a3f7aa</td>\n    </tr>\n    <tr>\n      <th>35</th>\n      <td>We were using a bullhorn outside of his locati...</td>\n      <td>1</td>\n      <td>interview</td>\n      <td>Derek Gaunt On Hostage Negotiation Tactics For...</td>\n      <td>{'int_id': 1, 'kind': 'interview', 'title': 'D...</td>\n      <td>2a076818-8b2c-44d1-b8a3-6d6810444453</td>\n    </tr>\n    <tr>\n      <th>36</th>\n      <td>He had, in violation of court order, snatched ...</td>\n      <td>1</td>\n      <td>interview</td>\n      <td>Derek Gaunt On Hostage Negotiation Tactics For...</td>\n      <td>{'int_id': 1, 'kind': 'interview', 'title': 'D...</td>\n      <td>1540f8df-c4e9-4008-8f84-7ddf716b388f</td>\n    </tr>\n    <tr>\n      <th>37</th>\n      <td>The length of time, it went for 20 hours, 21 h...</td>\n      <td>1</td>\n      <td>interview</td>\n      <td>Derek Gaunt On Hostage Negotiation Tactics For...</td>\n      <td>{'int_id': 1, 'kind': 'interview', 'title': 'D...</td>\n      <td>03569202-f6c5-4013-932e-f6b192b35029</td>\n    </tr>\n    <tr>\n      <th>38</th>\n      <td>And so what that involved was a negotiation wi...</td>\n      <td>1</td>\n      <td>interview</td>\n      <td>Derek Gaunt On Hostage Negotiation Tactics For...</td>\n      <td>{'int_id': 1, 'kind': 'interview', 'title': 'D...</td>\n      <td>72c06442-bff6-46bd-8bbc-ad9f63ac4b3a</td>\n    </tr>\n    <tr>\n      <th>39</th>\n      <td>And so that's a message that I had to convey t...</td>\n      <td>1</td>\n      <td>interview</td>\n      <td>Derek Gaunt On Hostage Negotiation Tactics For...</td>\n      <td>{'int_id': 1, 'kind': 'interview', 'title': 'D...</td>\n      <td>cb0e18fb-c93b-4f7f-bf60-1955105d701c</td>\n    </tr>\n    <tr>\n      <th>40</th>\n      <td>So that's what was important to me was to conv...</td>\n      <td>1</td>\n      <td>interview</td>\n      <td>Derek Gaunt On Hostage Negotiation Tactics For...</td>\n      <td>{'int_id': 1, 'kind': 'interview', 'title': 'D...</td>\n      <td>f06ac541-322f-47e7-b991-6f00f031eef1</td>\n    </tr>\n    <tr>\n      <th>41</th>\n      <td>Yes, and it seems like that was a negotiation ...</td>\n      <td>1</td>\n      <td>interview</td>\n      <td>Derek Gaunt On Hostage Negotiation Tactics For...</td>\n      <td>{'int_id': 1, 'kind': 'interview', 'title': 'D...</td>\n      <td>1e25b45f-2671-43a9-8e5a-201b5f66f602</td>\n    </tr>\n    <tr>\n      <th>42</th>\n      <td>That's a great point. And the short answer is ...</td>\n      <td>1</td>\n      <td>interview</td>\n      <td>Derek Gaunt On Hostage Negotiation Tactics For...</td>\n      <td>{'int_id': 1, 'kind': 'interview', 'title': 'D...</td>\n      <td>845ad83b-e5fb-4a08-9f7e-9790e9fa7856</td>\n    </tr>\n    <tr>\n      <th>43</th>\n      <td>The skills are awkward, which is the biggest h...</td>\n      <td>1</td>\n      <td>interview</td>\n      <td>Derek Gaunt On Hostage Negotiation Tactics For...</td>\n      <td>{'int_id': 1, 'kind': 'interview', 'title': 'D...</td>\n      <td>643e7ff6-c857-4788-95b4-c914344c41fe</td>\n    </tr>\n    <tr>\n      <th>44</th>\n      <td>Of the type of skill? Okay. So the accusations...</td>\n      <td>1</td>\n      <td>interview</td>\n      <td>Derek Gaunt On Hostage Negotiation Tactics For...</td>\n      <td>{'int_id': 1, 'kind': 'interview', 'title': 'D...</td>\n      <td>3b7d7f0f-5e50-4780-ad6b-3da816ea76de</td>\n    </tr>\n    <tr>\n      <th>45</th>\n      <td>If they were standing on a street corner and t...</td>\n      <td>1</td>\n      <td>interview</td>\n      <td>Derek Gaunt On Hostage Negotiation Tactics For...</td>\n      <td>{'int_id': 1, 'kind': 'interview', 'title': 'D...</td>\n      <td>a1dc74c0-226c-450a-9541-b78e7388ff44</td>\n    </tr>\n    <tr>\n      <th>46</th>\n      <td>You're probably going to wonder why you agreed...</td>\n      <td>1</td>\n      <td>interview</td>\n      <td>Derek Gaunt On Hostage Negotiation Tactics For...</td>\n      <td>{'int_id': 1, 'kind': 'interview', 'title': 'D...</td>\n      <td>933931b6-57c3-4dcc-9515-0460dc58daaa</td>\n    </tr>\n    <tr>\n      <th>47</th>\n      <td>And I let those sit for effect. They may or ma...</td>\n      <td>1</td>\n      <td>interview</td>\n      <td>Derek Gaunt On Hostage Negotiation Tactics For...</td>\n      <td>{'int_id': 1, 'kind': 'interview', 'title': 'D...</td>\n      <td>3a0f1f94-2a99-4fe1-92f2-66f78f9dff40</td>\n    </tr>\n    <tr>\n      <th>48</th>\n      <td>This conversation is about you. And with that,...</td>\n      <td>1</td>\n      <td>interview</td>\n      <td>Derek Gaunt On Hostage Negotiation Tactics For...</td>\n      <td>{'int_id': 1, 'kind': 'interview', 'title': 'D...</td>\n      <td>5ec7d61e-e0ee-4c9d-961a-b3cb9ffb2690</td>\n    </tr>\n    <tr>\n      <th>49</th>\n      <td>You're taking a negative light and you're poin...</td>\n      <td>1</td>\n      <td>interview</td>\n      <td>Derek Gaunt On Hostage Negotiation Tactics For...</td>\n      <td>{'int_id': 1, 'kind': 'interview', 'title': 'D...</td>\n      <td>baad8325-cdcd-4e93-a590-f388372a3cf8</td>\n    </tr>\n  </tbody>\n</table>\n</div>"
     },
     "execution_count": 207,
     "metadata": {},
     "output_type": "execute_result"
    }
   ],
   "source": [
    "test_retrieval_df = pd.read_parquet('util/live_template_eval_autorag.parquet')\n",
    "\n",
    "\n",
    "original_dataset_autorag = pd.read_parquet('util/live_dataset_autorag.parquet')\n",
    "#test_retrieval_df.head(50)\n",
    "original_dataset_autorag.head(50)"
   ],
   "metadata": {
    "collapsed": false,
    "ExecuteTime": {
     "end_time": "2024-06-20T00:46:22.809384Z",
     "start_time": "2024-06-20T00:46:22.763437Z"
    }
   },
   "id": "8d18486692a4084f",
   "execution_count": 207
  },
  {
   "cell_type": "code",
   "outputs": [
    {
     "data": {
      "text/plain": "' Many things in life are based on negotiation and being able to successfully conduct one. Sometimes even our lives and livelihoods depend on it. And my guest today is an expert on all things negotiation.'"
     },
     "execution_count": 200,
     "metadata": {},
     "output_type": "execute_result"
    }
   ],
   "source": [
    "original_dataset_autorag.head(50)\n",
    "original_dataset_autorag['contents'][0]\n"
   ],
   "metadata": {
    "collapsed": false,
    "ExecuteTime": {
     "end_time": "2024-06-19T23:37:55.358444Z",
     "start_time": "2024-06-19T23:37:55.355896Z"
    }
   },
   "id": "69a54b06942c63ae",
   "execution_count": 200
  },
  {
   "cell_type": "code",
   "outputs": [
    {
     "data": {
      "text/plain": "                                            question  \\\n0  What is the importance of client assessment in...   \n1  Why is ridicule considered a powerful factor i...   \n2  What is the difference between listening and h...   \n3  What are some effective communication techniqu...   \n4  What strategies do full fee real estate agents...   \n\n                                            contexts  \\\n0  [\" the ability to utilize the skeleton of that...   \n1  [\" want to have happen, they're the things the...   \n2  [\", among negotiation. What you just said is a...   \n3  [': That’s good, Farley. Now you’re learning. ...   \n4  [\"? Like if you bring two people together and ...   \n\n                                        ground_truth evolution_type  \\\n0  The importance of client assessment in buildin...         simple   \n1  Ridicule is considered a powerful factor in pu...         simple   \n2  Listening is not just being silent; it involve...         simple   \n3  Some effective communication techniques for sa...         simple   \n4  Full fee real estate agents use strategies suc...         simple   \n\n                                            metadata  episode_done  \n0  [{'int_id': '92', 'kind': 'interview', 'row': ...          True  \n1  [{'int_id': '127', 'kind': 'interview', 'row':...          True  \n2  [{'int_id': '107', 'kind': 'interview', 'row':...          True  \n3  [{'int_id': '231', 'kind': 'book', 'row': 230,...          True  \n4  [{'int_id': '84', 'kind': 'interview', 'row': ...          True  ",
      "text/html": "<div>\n<style scoped>\n    .dataframe tbody tr th:only-of-type {\n        vertical-align: middle;\n    }\n\n    .dataframe tbody tr th {\n        vertical-align: top;\n    }\n\n    .dataframe thead th {\n        text-align: right;\n    }\n</style>\n<table border=\"1\" class=\"dataframe\">\n  <thead>\n    <tr style=\"text-align: right;\">\n      <th></th>\n      <th>question</th>\n      <th>contexts</th>\n      <th>ground_truth</th>\n      <th>evolution_type</th>\n      <th>metadata</th>\n      <th>episode_done</th>\n    </tr>\n  </thead>\n  <tbody>\n    <tr>\n      <th>0</th>\n      <td>What is the importance of client assessment in...</td>\n      <td>[\" the ability to utilize the skeleton of that...</td>\n      <td>The importance of client assessment in buildin...</td>\n      <td>simple</td>\n      <td>[{'int_id': '92', 'kind': 'interview', 'row': ...</td>\n      <td>True</td>\n    </tr>\n    <tr>\n      <th>1</th>\n      <td>Why is ridicule considered a powerful factor i...</td>\n      <td>[\" want to have happen, they're the things the...</td>\n      <td>Ridicule is considered a powerful factor in pu...</td>\n      <td>simple</td>\n      <td>[{'int_id': '127', 'kind': 'interview', 'row':...</td>\n      <td>True</td>\n    </tr>\n    <tr>\n      <th>2</th>\n      <td>What is the difference between listening and h...</td>\n      <td>[\", among negotiation. What you just said is a...</td>\n      <td>Listening is not just being silent; it involve...</td>\n      <td>simple</td>\n      <td>[{'int_id': '107', 'kind': 'interview', 'row':...</td>\n      <td>True</td>\n    </tr>\n    <tr>\n      <th>3</th>\n      <td>What are some effective communication techniqu...</td>\n      <td>[': That’s good, Farley. Now you’re learning. ...</td>\n      <td>Some effective communication techniques for sa...</td>\n      <td>simple</td>\n      <td>[{'int_id': '231', 'kind': 'book', 'row': 230,...</td>\n      <td>True</td>\n    </tr>\n    <tr>\n      <th>4</th>\n      <td>What strategies do full fee real estate agents...</td>\n      <td>[\"? Like if you bring two people together and ...</td>\n      <td>Full fee real estate agents use strategies suc...</td>\n      <td>simple</td>\n      <td>[{'int_id': '84', 'kind': 'interview', 'row': ...</td>\n      <td>True</td>\n    </tr>\n  </tbody>\n</table>\n</div>"
     },
     "execution_count": 201,
     "metadata": {},
     "output_type": "execute_result"
    }
   ],
   "source": [
    "\n",
    "test_retrieval_df['contexts'] \n",
    "test_retrieval_df.head()"
   ],
   "metadata": {
    "collapsed": false,
    "ExecuteTime": {
     "end_time": "2024-06-19T23:38:00.086575Z",
     "start_time": "2024-06-19T23:38:00.081328Z"
    }
   },
   "id": "1df6b12dfc407afd",
   "execution_count": 201
  },
  {
   "cell_type": "code",
   "outputs": [],
   "source": [
    "contexts = test_retrieval_df['contexts']\n",
    "\n",
    "matched_contexts = original_dataset_autorag[original_dataset_autorag['contents'].isin(contexts)]\n"
   ],
   "metadata": {
    "collapsed": false,
    "ExecuteTime": {
     "end_time": "2024-06-19T23:32:25.077980Z",
     "start_time": "2024-06-19T23:32:25.072747Z"
    }
   },
   "id": "751d805ffaa92670",
   "execution_count": 188
  },
  {
   "cell_type": "code",
   "outputs": [
    {
     "data": {
      "text/plain": "Empty DataFrame\nColumns: [contents, int_id, kind, title, metadata, doc_id]\nIndex: []",
      "text/html": "<div>\n<style scoped>\n    .dataframe tbody tr th:only-of-type {\n        vertical-align: middle;\n    }\n\n    .dataframe tbody tr th {\n        vertical-align: top;\n    }\n\n    .dataframe thead th {\n        text-align: right;\n    }\n</style>\n<table border=\"1\" class=\"dataframe\">\n  <thead>\n    <tr style=\"text-align: right;\">\n      <th></th>\n      <th>contents</th>\n      <th>int_id</th>\n      <th>kind</th>\n      <th>title</th>\n      <th>metadata</th>\n      <th>doc_id</th>\n    </tr>\n  </thead>\n  <tbody>\n  </tbody>\n</table>\n</div>"
     },
     "execution_count": 189,
     "metadata": {},
     "output_type": "execute_result"
    }
   ],
   "source": [],
   "metadata": {
    "collapsed": false,
    "ExecuteTime": {
     "end_time": "2024-06-19T23:32:27.481145Z",
     "start_time": "2024-06-19T23:32:27.420354Z"
    }
   },
   "id": "445cda83857e9ef4",
   "execution_count": 189
  },
  {
   "cell_type": "code",
   "outputs": [
    {
     "data": {
      "text/plain": "                                            question  \\\n0  What is the importance of client assessment in...   \n1  Why is ridicule considered a powerful factor i...   \n2  What is the difference between listening and h...   \n3  What are some effective communication techniqu...   \n4  What strategies do full fee real estate agents...   \n\n                                      synth_contexts  \\\n0  [\" the ability to utilize the skeleton of that...   \n1  [\" want to have happen, they're the things the...   \n2  [\", among negotiation. What you just said is a...   \n3  [': That’s good, Farley. Now you’re learning. ...   \n4  [\"? Like if you bring two people together and ...   \n\n                                        ground_truth evolution_type  \\\n0  The importance of client assessment in buildin...         simple   \n1  Ridicule is considered a powerful factor in pu...         simple   \n2  Listening is not just being silent; it involve...         simple   \n3  Some effective communication techniques for sa...         simple   \n4  Full fee real estate agents use strategies suc...         simple   \n\n                                      synth_metadata  episode_done  \\\n0  [{'int_id': '92', 'kind': 'interview', 'row': ...          True   \n1  [{'int_id': '127', 'kind': 'interview', 'row':...          True   \n2  [{'int_id': '107', 'kind': 'interview', 'row':...          True   \n3  [{'int_id': '231', 'kind': 'book', 'row': 230,...          True   \n4  [{'int_id': '84', 'kind': 'interview', 'row': ...          True   \n\n                                            contexts  \\\n0  [\"Find out what's really important to your cli...   \n1  ['Ridiculously effective?' 'So why is that so ...   \n2  ['How important is it generally in negotiation...   \n3  ['How do you say no?' 'How can you say no prod...   \n4  [\"What a real estate agent's got to do for you...   \n\n                                            metadata  context_precision  \\\n0  [{'int_id': 83.0, 'kind': 'interview', 'title'...                1.0   \n1  [{'int_id': 96.0, 'kind': 'interview', 'title'...                1.0   \n2  [{'int_id': 96.0, 'kind': 'interview', 'title'...                1.0   \n3  [{'int_id': 99.0, 'kind': 'interview', 'title'...                1.0   \n4  [{'int_id': 101.0, 'kind': 'interview', 'title...                1.0   \n\n   context_recall  \n0             0.0  \n1             1.0  \n2             0.0  \n3             0.0  \n4             0.5  ",
      "text/html": "<div>\n<style scoped>\n    .dataframe tbody tr th:only-of-type {\n        vertical-align: middle;\n    }\n\n    .dataframe tbody tr th {\n        vertical-align: top;\n    }\n\n    .dataframe thead th {\n        text-align: right;\n    }\n</style>\n<table border=\"1\" class=\"dataframe\">\n  <thead>\n    <tr style=\"text-align: right;\">\n      <th></th>\n      <th>question</th>\n      <th>synth_contexts</th>\n      <th>ground_truth</th>\n      <th>evolution_type</th>\n      <th>synth_metadata</th>\n      <th>episode_done</th>\n      <th>contexts</th>\n      <th>metadata</th>\n      <th>context_precision</th>\n      <th>context_recall</th>\n    </tr>\n  </thead>\n  <tbody>\n    <tr>\n      <th>0</th>\n      <td>What is the importance of client assessment in...</td>\n      <td>[\" the ability to utilize the skeleton of that...</td>\n      <td>The importance of client assessment in buildin...</td>\n      <td>simple</td>\n      <td>[{'int_id': '92', 'kind': 'interview', 'row': ...</td>\n      <td>True</td>\n      <td>[\"Find out what's really important to your cli...</td>\n      <td>[{'int_id': 83.0, 'kind': 'interview', 'title'...</td>\n      <td>1.0</td>\n      <td>0.0</td>\n    </tr>\n    <tr>\n      <th>1</th>\n      <td>Why is ridicule considered a powerful factor i...</td>\n      <td>[\" want to have happen, they're the things the...</td>\n      <td>Ridicule is considered a powerful factor in pu...</td>\n      <td>simple</td>\n      <td>[{'int_id': '127', 'kind': 'interview', 'row':...</td>\n      <td>True</td>\n      <td>['Ridiculously effective?' 'So why is that so ...</td>\n      <td>[{'int_id': 96.0, 'kind': 'interview', 'title'...</td>\n      <td>1.0</td>\n      <td>1.0</td>\n    </tr>\n    <tr>\n      <th>2</th>\n      <td>What is the difference between listening and h...</td>\n      <td>[\", among negotiation. What you just said is a...</td>\n      <td>Listening is not just being silent; it involve...</td>\n      <td>simple</td>\n      <td>[{'int_id': '107', 'kind': 'interview', 'row':...</td>\n      <td>True</td>\n      <td>['How important is it generally in negotiation...</td>\n      <td>[{'int_id': 96.0, 'kind': 'interview', 'title'...</td>\n      <td>1.0</td>\n      <td>0.0</td>\n    </tr>\n    <tr>\n      <th>3</th>\n      <td>What are some effective communication techniqu...</td>\n      <td>[': That’s good, Farley. Now you’re learning. ...</td>\n      <td>Some effective communication techniques for sa...</td>\n      <td>simple</td>\n      <td>[{'int_id': '231', 'kind': 'book', 'row': 230,...</td>\n      <td>True</td>\n      <td>['How do you say no?' 'How can you say no prod...</td>\n      <td>[{'int_id': 99.0, 'kind': 'interview', 'title'...</td>\n      <td>1.0</td>\n      <td>0.0</td>\n    </tr>\n    <tr>\n      <th>4</th>\n      <td>What strategies do full fee real estate agents...</td>\n      <td>[\"? Like if you bring two people together and ...</td>\n      <td>Full fee real estate agents use strategies suc...</td>\n      <td>simple</td>\n      <td>[{'int_id': '84', 'kind': 'interview', 'row': ...</td>\n      <td>True</td>\n      <td>[\"What a real estate agent's got to do for you...</td>\n      <td>[{'int_id': 101.0, 'kind': 'interview', 'title...</td>\n      <td>1.0</td>\n      <td>0.5</td>\n    </tr>\n  </tbody>\n</table>\n</div>"
     },
     "execution_count": 206,
     "metadata": {},
     "output_type": "execute_result"
    }
   ],
   "source": [
    "df.to_parquet(f'util/live_dataset_testing.parquet')\n",
    "df.head()"
   ],
   "metadata": {
    "collapsed": false,
    "ExecuteTime": {
     "end_time": "2024-06-20T00:44:06.958608Z",
     "start_time": "2024-06-20T00:44:06.949474Z"
    }
   },
   "id": "25f8c571af414569",
   "execution_count": 206
  },
  {
   "cell_type": "code",
   "outputs": [
    {
     "data": {
      "text/plain": "                                            question  \\\n0  How does ego become a problem for people who a...   \n1  How does amygdala activation affect the prefro...   \n2  What is the almond-sized organ in the brain th...   \n3  How can a leader benefit from putting their di...   \n4  How did Roger Fisher contribute to the field o...   \n\n                                            contexts  \\\n0  [\"That's where ego really becomes a problem wh...   \n1  [\"It'll fire up just the same. It's the prefro...   \n2  ['You know, again, this gets back to sort of h...   \n3  ['So as a leader, why not put your direct repo...   \n4  [\"And actually, I ran across Roger Fisher and ...   \n\n                                        ground_truth evolution_type  \\\n0  Ego becomes a problem for people who are insec...         simple   \n1  When the amygdala is activated, it blocks what...         simple   \n2  The almond-sized organ in the brain that acts ...         simple   \n3                                                NaN         simple   \n4  Roger Fisher contributed to the field of negot...         simple   \n\n                                            metadata  episode_done  \n0  [{'doc_id': '4c59a4be-800a-4eb5-8c2f-66e304cbb...          True  \n1  [{'doc_id': '0861fbb3-564a-4883-b5e7-46907b27f...          True  \n2  [{'doc_id': 'c29fbd74-8550-4e10-b06a-ea35ad84b...          True  \n3  [{'doc_id': 'cf65d747-64e0-45d1-87f2-7486d70c3...          True  \n4  [{'doc_id': '07b9578b-76e2-4b71-97d9-2c5f3512c...          True  ",
      "text/html": "<div>\n<style scoped>\n    .dataframe tbody tr th:only-of-type {\n        vertical-align: middle;\n    }\n\n    .dataframe tbody tr th {\n        vertical-align: top;\n    }\n\n    .dataframe thead th {\n        text-align: right;\n    }\n</style>\n<table border=\"1\" class=\"dataframe\">\n  <thead>\n    <tr style=\"text-align: right;\">\n      <th></th>\n      <th>question</th>\n      <th>contexts</th>\n      <th>ground_truth</th>\n      <th>evolution_type</th>\n      <th>metadata</th>\n      <th>episode_done</th>\n    </tr>\n  </thead>\n  <tbody>\n    <tr>\n      <th>0</th>\n      <td>How does ego become a problem for people who a...</td>\n      <td>[\"That's where ego really becomes a problem wh...</td>\n      <td>Ego becomes a problem for people who are insec...</td>\n      <td>simple</td>\n      <td>[{'doc_id': '4c59a4be-800a-4eb5-8c2f-66e304cbb...</td>\n      <td>True</td>\n    </tr>\n    <tr>\n      <th>1</th>\n      <td>How does amygdala activation affect the prefro...</td>\n      <td>[\"It'll fire up just the same. It's the prefro...</td>\n      <td>When the amygdala is activated, it blocks what...</td>\n      <td>simple</td>\n      <td>[{'doc_id': '0861fbb3-564a-4883-b5e7-46907b27f...</td>\n      <td>True</td>\n    </tr>\n    <tr>\n      <th>2</th>\n      <td>What is the almond-sized organ in the brain th...</td>\n      <td>['You know, again, this gets back to sort of h...</td>\n      <td>The almond-sized organ in the brain that acts ...</td>\n      <td>simple</td>\n      <td>[{'doc_id': 'c29fbd74-8550-4e10-b06a-ea35ad84b...</td>\n      <td>True</td>\n    </tr>\n    <tr>\n      <th>3</th>\n      <td>How can a leader benefit from putting their di...</td>\n      <td>['So as a leader, why not put your direct repo...</td>\n      <td>NaN</td>\n      <td>simple</td>\n      <td>[{'doc_id': 'cf65d747-64e0-45d1-87f2-7486d70c3...</td>\n      <td>True</td>\n    </tr>\n    <tr>\n      <th>4</th>\n      <td>How did Roger Fisher contribute to the field o...</td>\n      <td>[\"And actually, I ran across Roger Fisher and ...</td>\n      <td>Roger Fisher contributed to the field of negot...</td>\n      <td>simple</td>\n      <td>[{'doc_id': '07b9578b-76e2-4b71-97d9-2c5f3512c...</td>\n      <td>True</td>\n    </tr>\n  </tbody>\n</table>\n</div>"
     },
     "execution_count": 246,
     "metadata": {},
     "output_type": "execute_result"
    }
   ],
   "source": [
    "df = pd.read_csv('util/live_template_eval_testing.csv')\n",
    "df.head(5)"
   ],
   "metadata": {
    "collapsed": false,
    "ExecuteTime": {
     "end_time": "2024-06-20T01:54:17.908014Z",
     "start_time": "2024-06-20T01:54:17.902546Z"
    }
   },
   "id": "79335ca3ab1894a9",
   "execution_count": 246
  },
  {
   "cell_type": "code",
   "outputs": [
    {
     "data": {
      "text/plain": "                                            question  \\\n0  How does ego become a problem for people who a...   \n1  How does amygdala activation affect the prefro...   \n2  What is the almond-sized organ in the brain th...   \n3  How can a leader benefit from putting their di...   \n4  How did Roger Fisher contribute to the field o...   \n\n                                            contexts  \\\n0  [\"That's where ego really becomes a problem wh...   \n1  [\"It'll fire up just the same. It's the prefro...   \n2  ['You know, again, this gets back to sort of h...   \n3  ['So as a leader, why not put your direct repo...   \n4  [\"And actually, I ran across Roger Fisher and ...   \n\n                                        ground_truth evolution_type  \\\n0  Ego becomes a problem for people who are insec...         simple   \n1  When the amygdala is activated, it blocks what...         simple   \n2  The almond-sized organ in the brain that acts ...         simple   \n3                                                NaN         simple   \n4  Roger Fisher contributed to the field of negot...         simple   \n\n                                            metadata  episode_done  \n0  [{'doc_id': '4c59a4be-800a-4eb5-8c2f-66e304cbb...          True  \n1  [{'doc_id': '0861fbb3-564a-4883-b5e7-46907b27f...          True  \n2  [{'doc_id': 'c29fbd74-8550-4e10-b06a-ea35ad84b...          True  \n3  [{'doc_id': 'cf65d747-64e0-45d1-87f2-7486d70c3...          True  \n4  [{'doc_id': '07b9578b-76e2-4b71-97d9-2c5f3512c...          True  ",
      "text/html": "<div>\n<style scoped>\n    .dataframe tbody tr th:only-of-type {\n        vertical-align: middle;\n    }\n\n    .dataframe tbody tr th {\n        vertical-align: top;\n    }\n\n    .dataframe thead th {\n        text-align: right;\n    }\n</style>\n<table border=\"1\" class=\"dataframe\">\n  <thead>\n    <tr style=\"text-align: right;\">\n      <th></th>\n      <th>question</th>\n      <th>contexts</th>\n      <th>ground_truth</th>\n      <th>evolution_type</th>\n      <th>metadata</th>\n      <th>episode_done</th>\n    </tr>\n  </thead>\n  <tbody>\n    <tr>\n      <th>0</th>\n      <td>How does ego become a problem for people who a...</td>\n      <td>[\"That's where ego really becomes a problem wh...</td>\n      <td>Ego becomes a problem for people who are insec...</td>\n      <td>simple</td>\n      <td>[{'doc_id': '4c59a4be-800a-4eb5-8c2f-66e304cbb...</td>\n      <td>True</td>\n    </tr>\n    <tr>\n      <th>1</th>\n      <td>How does amygdala activation affect the prefro...</td>\n      <td>[\"It'll fire up just the same. It's the prefro...</td>\n      <td>When the amygdala is activated, it blocks what...</td>\n      <td>simple</td>\n      <td>[{'doc_id': '0861fbb3-564a-4883-b5e7-46907b27f...</td>\n      <td>True</td>\n    </tr>\n    <tr>\n      <th>2</th>\n      <td>What is the almond-sized organ in the brain th...</td>\n      <td>['You know, again, this gets back to sort of h...</td>\n      <td>The almond-sized organ in the brain that acts ...</td>\n      <td>simple</td>\n      <td>[{'doc_id': 'c29fbd74-8550-4e10-b06a-ea35ad84b...</td>\n      <td>True</td>\n    </tr>\n    <tr>\n      <th>3</th>\n      <td>How can a leader benefit from putting their di...</td>\n      <td>['So as a leader, why not put your direct repo...</td>\n      <td>NaN</td>\n      <td>simple</td>\n      <td>[{'doc_id': 'cf65d747-64e0-45d1-87f2-7486d70c3...</td>\n      <td>True</td>\n    </tr>\n    <tr>\n      <th>4</th>\n      <td>How did Roger Fisher contribute to the field o...</td>\n      <td>[\"And actually, I ran across Roger Fisher and ...</td>\n      <td>Roger Fisher contributed to the field of negot...</td>\n      <td>simple</td>\n      <td>[{'doc_id': '07b9578b-76e2-4b71-97d9-2c5f3512c...</td>\n      <td>True</td>\n    </tr>\n  </tbody>\n</table>\n</div>"
     },
     "execution_count": 247,
     "metadata": {},
     "output_type": "execute_result"
    }
   ],
   "source": [
    "import json\n",
    "import re\n",
    "\n",
    "\n",
    "def parse_list_of_dicts(s):\n",
    "      # Replace single quotes with double quotes\n",
    "    s = s.replace(\"'\", '\"')\n",
    "    \n",
    "    # Manually parse the string to convert to list of dictionaries\n",
    "    s = s.strip()[1:-1]  # Remove enclosing square brackets\n",
    "    dicts = []\n",
    "    for match in re.finditer(r'\\{[^}]+\\}', s):\n",
    "        dict_str = match.group(0)\n",
    "        dict_obj = {}\n",
    "        for key, value in re.findall(r'\"(.*?)\"\\s*:\\s*\"(.*?)\"', dict_str):\n",
    "            dict_obj[key] = value\n",
    "        dicts.append(dict_obj)\n",
    "    return dicts\n",
    "\n",
    "\n",
    "df['metadata'] = df['metadata'].apply(parse_list_of_dicts)"
   ],
   "metadata": {
    "collapsed": false,
    "ExecuteTime": {
     "end_time": "2024-06-20T01:54:19.749195Z",
     "start_time": "2024-06-20T01:54:19.744925Z"
    }
   },
   "id": "c4bb00d9bbe84130",
   "execution_count": 247
  },
  {
   "cell_type": "code",
   "outputs": [
    {
     "data": {
      "text/plain": "{'doc_id': '4c59a4be-800a-4eb5-8c2f-66e304cbb2ec',\n 'int_id\": 12, \"kind': 'interview',\n 'title': 'Ego, Negotiation And Emotional Intelligence With Derek Gaunt'}"
     },
     "execution_count": 252,
     "metadata": {},
     "output_type": "execute_result"
    }
   ],
   "source": [
    "df.head()"
   ],
   "metadata": {
    "collapsed": false,
    "ExecuteTime": {
     "end_time": "2024-06-20T01:54:57.582229Z",
     "start_time": "2024-06-20T01:54:57.574262Z"
    }
   },
   "id": "850739c2e79c711a",
   "execution_count": 252
  },
  {
   "cell_type": "code",
   "outputs": [
    {
     "data": {
      "text/plain": "[{'doc_id': '4c59a4be-800a-4eb5-8c2f-66e304cbb2ec',\n  'int_id': 12,\n  'kind': 'interview',\n  'title': 'Ego, Negotiation And Emotional Intelligence With Derek Gaunt'}]"
     },
     "execution_count": 220,
     "metadata": {},
     "output_type": "execute_result"
    }
   ],
   "source": [
    "x = x[0]"
   ],
   "metadata": {
    "collapsed": false,
    "ExecuteTime": {
     "end_time": "2024-06-20T01:37:13.755638Z",
     "start_time": "2024-06-20T01:37:13.731907Z"
    }
   },
   "id": "76576103752bacb7",
   "execution_count": 220
  },
  {
   "cell_type": "code",
   "outputs": [],
   "source": [],
   "metadata": {
    "collapsed": false
   },
   "id": "4821b58377c47792"
  }
 ],
 "metadata": {
  "kernelspec": {
   "display_name": "Python 3",
   "language": "python",
   "name": "python3"
  },
  "language_info": {
   "codemirror_mode": {
    "name": "ipython",
    "version": 2
   },
   "file_extension": ".py",
   "mimetype": "text/x-python",
   "name": "python",
   "nbconvert_exporter": "python",
   "pygments_lexer": "ipython2",
   "version": "2.7.6"
  }
 },
 "nbformat": 4,
 "nbformat_minor": 5
}
